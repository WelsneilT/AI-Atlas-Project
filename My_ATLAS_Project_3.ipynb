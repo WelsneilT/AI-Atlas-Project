{
  "nbformat": 4,
  "nbformat_minor": 0,
  "metadata": {
    "colab": {
      "provenance": []
    },
    "kernelspec": {
      "name": "python3",
      "display_name": "Python 3"
    },
    "language_info": {
      "name": "python"
    }
  },
  "cells": [
    {
      "cell_type": "markdown",
      "source": [
        "## STEP 1: INSTALLATION & IMPORTS"
      ],
      "metadata": {
        "id": "VFLapDYU1i5J"
      }
    },
    {
      "cell_type": "code",
      "execution_count": 2,
      "metadata": {
        "colab": {
          "base_uri": "https://localhost:8080/",
          "height": 0
        },
        "id": "3SoCAXmT0ILc",
        "outputId": "7eb8b993-f324-4110-95bf-9994b3ba8f19"
      },
      "outputs": [
        {
          "output_type": "stream",
          "name": "stdout",
          "text": [
            "Bắt đầu cài đặt các thư viện...\n",
            "\u001b[2K     \u001b[90m━━━━━━━━━━━━━━━━━━━━━━━━━━━━━━━━━━━━━━━━\u001b[0m \u001b[32m43.7/43.7 kB\u001b[0m \u001b[31m4.0 MB/s\u001b[0m eta \u001b[36m0:00:00\u001b[0m\n",
            "\u001b[2K   \u001b[90m━━━━━━━━━━━━━━━━━━━━━━━━━━━━━━━━━━━━━━━━\u001b[0m \u001b[32m153.2/153.2 kB\u001b[0m \u001b[31m9.9 MB/s\u001b[0m eta \u001b[36m0:00:00\u001b[0m\n",
            "\u001b[2K   \u001b[90m━━━━━━━━━━━━━━━━━━━━━━━━━━━━━━━━━━━━━━━━\u001b[0m \u001b[32m443.5/443.5 kB\u001b[0m \u001b[31m30.1 MB/s\u001b[0m eta \u001b[36m0:00:00\u001b[0m\n",
            "\u001b[2K   \u001b[90m━━━━━━━━━━━━━━━━━━━━━━━━━━━━━━━━━━━━━━━━\u001b[0m \u001b[32m2.5/2.5 MB\u001b[0m \u001b[31m91.8 MB/s\u001b[0m eta \u001b[36m0:00:00\u001b[0m\n",
            "\u001b[2K   \u001b[90m━━━━━━━━━━━━━━━━━━━━━━━━━━━━━━━━━━━━━━━━\u001b[0m \u001b[32m131.4/131.4 kB\u001b[0m \u001b[31m12.4 MB/s\u001b[0m eta \u001b[36m0:00:00\u001b[0m\n",
            "\u001b[2K   \u001b[90m━━━━━━━━━━━━━━━━━━━━━━━━━━━━━━━━━━━━━━━━\u001b[0m \u001b[32m243.4/243.4 kB\u001b[0m \u001b[31m21.8 MB/s\u001b[0m eta \u001b[36m0:00:00\u001b[0m\n",
            "\u001b[2K   \u001b[90m━━━━━━━━━━━━━━━━━━━━━━━━━━━━━━━━━━━━━━━━\u001b[0m \u001b[32m43.9/43.9 kB\u001b[0m \u001b[31m3.0 MB/s\u001b[0m eta \u001b[36m0:00:00\u001b[0m\n",
            "\u001b[2K   \u001b[90m━━━━━━━━━━━━━━━━━━━━━━━━━━━━━━━━━━━━━━━━\u001b[0m \u001b[32m50.6/50.6 kB\u001b[0m \u001b[31m4.0 MB/s\u001b[0m eta \u001b[36m0:00:00\u001b[0m\n",
            "\u001b[2K   \u001b[90m━━━━━━━━━━━━━━━━━━━━━━━━━━━━━━━━━━━━━━━━\u001b[0m \u001b[32m45.2/45.2 kB\u001b[0m \u001b[31m3.4 MB/s\u001b[0m eta \u001b[36m0:00:00\u001b[0m\n",
            "\u001b[2K   \u001b[90m━━━━━━━━━━━━━━━━━━━━━━━━━━━━━━━━━━━━━━━━\u001b[0m \u001b[32m50.9/50.9 kB\u001b[0m \u001b[31m4.7 MB/s\u001b[0m eta \u001b[36m0:00:00\u001b[0m\n",
            "\u001b[2K   \u001b[90m━━━━━━━━━━━━━━━━━━━━━━━━━━━━━━━━━━━━━━━━\u001b[0m \u001b[32m216.5/216.5 kB\u001b[0m \u001b[31m21.0 MB/s\u001b[0m eta \u001b[36m0:00:00\u001b[0m\n",
            "\u001b[?25h\u001b[31mERROR: pip's dependency resolver does not currently take into account all the packages that are installed. This behaviour is the source of the following dependency conflicts.\n",
            "bigframes 2.13.0 requires rich<14,>=12.4.4, but you have rich 14.1.0 which is incompatible.\u001b[0m\u001b[31m\n",
            "\u001b[0m"
          ]
        }
      ],
      "source": [
        "# --- 1. Installation ---\n",
        "# Cài đặt tất cả các thư viện cần thiết.\n",
        "# -qU: quiet (im lặng), upgrade (nâng cấp)\n",
        "print(\"Bắt đầu cài đặt các thư viện...\")\n",
        "!pip install -qU langgraph langchain langchain-core langchain-community groq python-dotenv rich"
      ]
    },
    {
      "cell_type": "code",
      "source": [
        "!pip install -qU tavily-python google-api-python-client google-auth-oauthlib\n",
        "print(\"Đã cài đặt các thư viện công cụ cần thiết.\")"
      ],
      "metadata": {
        "colab": {
          "base_uri": "https://localhost:8080/",
          "height": 0
        },
        "id": "x560aMQnUDPo",
        "outputId": "08e5f02a-e67a-471f-fa1e-523111c55566"
      },
      "execution_count": 3,
      "outputs": [
        {
          "output_type": "stream",
          "name": "stdout",
          "text": [
            "\u001b[2K   \u001b[90m━━━━━━━━━━━━━━━━━━━━━━━━━━━━━━━━━━━━━━━━\u001b[0m \u001b[32m13.8/13.8 MB\u001b[0m \u001b[31m84.9 MB/s\u001b[0m eta \u001b[36m0:00:00\u001b[0m\n",
            "\u001b[?25hĐã cài đặt các thư viện công cụ cần thiết.\n"
          ]
        }
      ]
    },
    {
      "cell_type": "code",
      "source": [
        "!pip install google-auth-httplib2 langchain-groq"
      ],
      "metadata": {
        "colab": {
          "base_uri": "https://localhost:8080/",
          "height": 0
        },
        "id": "EOtw7rsObArN",
        "outputId": "7a5db35a-b726-408f-c413-4841dab97572"
      },
      "execution_count": 4,
      "outputs": [
        {
          "output_type": "stream",
          "name": "stdout",
          "text": [
            "Requirement already satisfied: google-auth-httplib2 in /usr/local/lib/python3.11/dist-packages (0.2.0)\n",
            "Collecting langchain-groq\n",
            "  Downloading langchain_groq-0.3.7-py3-none-any.whl.metadata (2.6 kB)\n",
            "Requirement already satisfied: google-auth in /usr/local/lib/python3.11/dist-packages (from google-auth-httplib2) (2.38.0)\n",
            "Requirement already satisfied: httplib2>=0.19.0 in /usr/local/lib/python3.11/dist-packages (from google-auth-httplib2) (0.22.0)\n",
            "Requirement already satisfied: langchain-core<1.0.0,>=0.3.72 in /usr/local/lib/python3.11/dist-packages (from langchain-groq) (0.3.74)\n",
            "Requirement already satisfied: groq<1,>=0.30.0 in /usr/local/lib/python3.11/dist-packages (from langchain-groq) (0.31.0)\n",
            "Requirement already satisfied: anyio<5,>=3.5.0 in /usr/local/lib/python3.11/dist-packages (from groq<1,>=0.30.0->langchain-groq) (4.10.0)\n",
            "Requirement already satisfied: distro<2,>=1.7.0 in /usr/local/lib/python3.11/dist-packages (from groq<1,>=0.30.0->langchain-groq) (1.9.0)\n",
            "Requirement already satisfied: httpx<1,>=0.23.0 in /usr/local/lib/python3.11/dist-packages (from groq<1,>=0.30.0->langchain-groq) (0.28.1)\n",
            "Requirement already satisfied: pydantic<3,>=1.9.0 in /usr/local/lib/python3.11/dist-packages (from groq<1,>=0.30.0->langchain-groq) (2.11.7)\n",
            "Requirement already satisfied: sniffio in /usr/local/lib/python3.11/dist-packages (from groq<1,>=0.30.0->langchain-groq) (1.3.1)\n",
            "Requirement already satisfied: typing-extensions<5,>=4.10 in /usr/local/lib/python3.11/dist-packages (from groq<1,>=0.30.0->langchain-groq) (4.14.1)\n",
            "Requirement already satisfied: pyparsing!=3.0.0,!=3.0.1,!=3.0.2,!=3.0.3,<4,>=2.4.2 in /usr/local/lib/python3.11/dist-packages (from httplib2>=0.19.0->google-auth-httplib2) (3.2.3)\n",
            "Requirement already satisfied: langsmith>=0.3.45 in /usr/local/lib/python3.11/dist-packages (from langchain-core<1.0.0,>=0.3.72->langchain-groq) (0.4.10)\n",
            "Requirement already satisfied: tenacity!=8.4.0,<10.0.0,>=8.1.0 in /usr/local/lib/python3.11/dist-packages (from langchain-core<1.0.0,>=0.3.72->langchain-groq) (8.5.0)\n",
            "Requirement already satisfied: jsonpatch<2.0,>=1.33 in /usr/local/lib/python3.11/dist-packages (from langchain-core<1.0.0,>=0.3.72->langchain-groq) (1.33)\n",
            "Requirement already satisfied: PyYAML>=5.3 in /usr/local/lib/python3.11/dist-packages (from langchain-core<1.0.0,>=0.3.72->langchain-groq) (6.0.2)\n",
            "Requirement already satisfied: packaging>=23.2 in /usr/local/lib/python3.11/dist-packages (from langchain-core<1.0.0,>=0.3.72->langchain-groq) (25.0)\n",
            "Requirement already satisfied: cachetools<6.0,>=2.0.0 in /usr/local/lib/python3.11/dist-packages (from google-auth->google-auth-httplib2) (5.5.2)\n",
            "Requirement already satisfied: pyasn1-modules>=0.2.1 in /usr/local/lib/python3.11/dist-packages (from google-auth->google-auth-httplib2) (0.4.2)\n",
            "Requirement already satisfied: rsa<5,>=3.1.4 in /usr/local/lib/python3.11/dist-packages (from google-auth->google-auth-httplib2) (4.9.1)\n",
            "Requirement already satisfied: idna>=2.8 in /usr/local/lib/python3.11/dist-packages (from anyio<5,>=3.5.0->groq<1,>=0.30.0->langchain-groq) (3.10)\n",
            "Requirement already satisfied: certifi in /usr/local/lib/python3.11/dist-packages (from httpx<1,>=0.23.0->groq<1,>=0.30.0->langchain-groq) (2025.8.3)\n",
            "Requirement already satisfied: httpcore==1.* in /usr/local/lib/python3.11/dist-packages (from httpx<1,>=0.23.0->groq<1,>=0.30.0->langchain-groq) (1.0.9)\n",
            "Requirement already satisfied: h11>=0.16 in /usr/local/lib/python3.11/dist-packages (from httpcore==1.*->httpx<1,>=0.23.0->groq<1,>=0.30.0->langchain-groq) (0.16.0)\n",
            "Requirement already satisfied: jsonpointer>=1.9 in /usr/local/lib/python3.11/dist-packages (from jsonpatch<2.0,>=1.33->langchain-core<1.0.0,>=0.3.72->langchain-groq) (3.0.0)\n",
            "Requirement already satisfied: orjson>=3.9.14 in /usr/local/lib/python3.11/dist-packages (from langsmith>=0.3.45->langchain-core<1.0.0,>=0.3.72->langchain-groq) (3.11.1)\n",
            "Requirement already satisfied: requests-toolbelt>=1.0.0 in /usr/local/lib/python3.11/dist-packages (from langsmith>=0.3.45->langchain-core<1.0.0,>=0.3.72->langchain-groq) (1.0.0)\n",
            "Requirement already satisfied: requests>=2.0.0 in /usr/local/lib/python3.11/dist-packages (from langsmith>=0.3.45->langchain-core<1.0.0,>=0.3.72->langchain-groq) (2.32.3)\n",
            "Requirement already satisfied: zstandard>=0.23.0 in /usr/local/lib/python3.11/dist-packages (from langsmith>=0.3.45->langchain-core<1.0.0,>=0.3.72->langchain-groq) (0.23.0)\n",
            "Requirement already satisfied: pyasn1<0.7.0,>=0.6.1 in /usr/local/lib/python3.11/dist-packages (from pyasn1-modules>=0.2.1->google-auth->google-auth-httplib2) (0.6.1)\n",
            "Requirement already satisfied: annotated-types>=0.6.0 in /usr/local/lib/python3.11/dist-packages (from pydantic<3,>=1.9.0->groq<1,>=0.30.0->langchain-groq) (0.7.0)\n",
            "Requirement already satisfied: pydantic-core==2.33.2 in /usr/local/lib/python3.11/dist-packages (from pydantic<3,>=1.9.0->groq<1,>=0.30.0->langchain-groq) (2.33.2)\n",
            "Requirement already satisfied: typing-inspection>=0.4.0 in /usr/local/lib/python3.11/dist-packages (from pydantic<3,>=1.9.0->groq<1,>=0.30.0->langchain-groq) (0.4.1)\n",
            "Requirement already satisfied: charset-normalizer<4,>=2 in /usr/local/lib/python3.11/dist-packages (from requests>=2.0.0->langsmith>=0.3.45->langchain-core<1.0.0,>=0.3.72->langchain-groq) (3.4.2)\n",
            "Requirement already satisfied: urllib3<3,>=1.21.1 in /usr/local/lib/python3.11/dist-packages (from requests>=2.0.0->langsmith>=0.3.45->langchain-core<1.0.0,>=0.3.72->langchain-groq) (2.5.0)\n",
            "Downloading langchain_groq-0.3.7-py3-none-any.whl (16 kB)\n",
            "Installing collected packages: langchain-groq\n",
            "Successfully installed langchain-groq-0.3.7\n"
          ]
        }
      ]
    },
    {
      "cell_type": "code",
      "source": [
        "# --- 2. Core Imports ---\n",
        "# Import các thư viện và lớp (class) cốt lõi sẽ được sử dụng trong toàn bộ dự án.\n",
        "import os\n",
        "import json\n",
        "from typing import TypedDict, Annotated, List, Dict, Any\n",
        "import operator\n",
        "from google.colab import userdata\n",
        "\n",
        "# LangChain & LangGraph core components\n",
        "from langchain_core.messages import BaseMessage, HumanMessage, SystemMessage\n",
        "from langgraph.graph import StateGraph, END, START\n",
        "\n",
        "# Groq client for LLM interaction\n",
        "from groq import AsyncGroq\n",
        "\n",
        "# Rich library for beautiful printing\n",
        "from rich.console import Console\n",
        "from rich.markdown import Markdown\n",
        "\n",
        "SHOW_DETAILED_LOGS = True\n",
        "\n",
        "print(\"\\nCài đặt và Import hoàn tất. Môi trường đã sẵn sàng!\")"
      ],
      "metadata": {
        "colab": {
          "base_uri": "https://localhost:8080/",
          "height": 0
        },
        "id": "NZ1N7aUM059C",
        "outputId": "037a0df4-f59e-473f-8659-33367bd5a027"
      },
      "execution_count": 5,
      "outputs": [
        {
          "output_type": "stream",
          "name": "stdout",
          "text": [
            "\n",
            "Cài đặt và Import hoàn tất. Môi trường đã sẵn sàng!\n"
          ]
        }
      ]
    },
    {
      "cell_type": "markdown",
      "source": [
        "## STEP 2: STATE DEFINITION & LLM WRAPPER"
      ],
      "metadata": {
        "id": "ZbvO4oTY1r6Q"
      }
    },
    {
      "cell_type": "code",
      "source": [
        "# ==============================================================================\n",
        "# STEP 2: STATE DEFINITION & LANGCHAIN LLM\n",
        "# ==============================================================================\n",
        "from typing import TypedDict, Annotated, List, Dict, Any, Literal, Optional\n",
        "import operator\n",
        "import json\n",
        "import os\n",
        "import tavily\n",
        "from datetime import datetime, timezone, timedelta\n",
        "\n",
        "from langchain_core.messages import BaseMessage, HumanMessage, SystemMessage, AIMessage, ToolMessage\n",
        "from rich.console import Console\n",
        "from rich.markdown import Markdown\n",
        "from google.colab import userdata\n",
        "from langchain_groq import ChatGroq\n",
        "from langchain_core.pydantic_v1 import BaseModel, Field, validator\n",
        "from langchain_core.tools import tool\n",
        "from langgraph.graph import StateGraph, END\n",
        "\n",
        "# --- 1. State Definition (Hoàn chỉnh) ---\n",
        "def merge_dicts(dict1: Dict[str, Any], dict2: Dict[str, Any]) -> Dict[str, Any]:\n",
        "    merged = dict1.copy()\n",
        "    for key, value in dict2.items():\n",
        "        if key in merged and isinstance(merged[key], dict) and isinstance(value, dict):\n",
        "            merged[key] = merge_dicts(merged[key], value)\n",
        "        else: merged[key] = value\n",
        "    return merged\n",
        "\n",
        "class AcademicState(TypedDict):\n",
        "    messages: Annotated[List[BaseMessage], operator.add]\n",
        "    profile: Dict\n",
        "    cross_agent_request: Optional[Dict[str, Any]]\n",
        "    required_agents: List[str]\n",
        "    completed_agents: Annotated[List[str], operator.add]\n",
        "    agent_outputs: Annotated[Dict[str, Any], merge_dicts]\n",
        "    critique: str\n",
        "    revision_needed: bool\n",
        "    revision_count: int\n",
        "    final_report: str\n",
        "    next_steps: str\n",
        "\n",
        "print(\"Đã định nghĩa 'AcademicState' phiên bản cuối cùng thành công.\")\n",
        "\n",
        "# --- 2. Khởi tạo LLM ---\n",
        "try:\n",
        "    GROQ_API_KEY = userdata.get('GROQ_API_KEY')\n",
        "    TAVILY_API_KEY = userdata.get('TAVILY_API_KEY')\n",
        "    llm = ChatGroq(\n",
        "        temperature=0.2, # Giảm độ \"sáng tạo\" để agent tuân thủ hướng dẫn hơn\n",
        "        model=\"llama3-70b-8192\",\n",
        "        api_key=GROQ_API_KEY,\n",
        "        max_tokens=4096\n",
        "    )\n",
        "    print(f\"Khởi tạo ChatGroq thành công với model: {llm.model_name}\")\n",
        "except Exception as e:\n",
        "    print(f\"LỖI: Không thể khởi tạo LLM. {e}\")\n",
        "    llm = None\n",
        "console = Console()\n",
        "if llm: print(\"\\nKhởi tạo 'llm' và 'console' thành công.\")\n",
        "\n",
        "\n",
        "# ==============================================================================\n",
        "# STEP 3: THE TOOLBOX (PHIÊN BẢN SỬA LỖI CUỐI CÙNG)\n",
        "# ==============================================================================\n",
        "from google.oauth2.service_account import Credentials\n",
        "from googleapiclient.discovery import build\n",
        "\n",
        "# --- 1. Khởi tạo các service và dữ liệu ---\n",
        "SERVICE_ACCOUNT_FILE = 'credentials.json'\n",
        "# <-- SỬA ĐỔI QUAN TRỌNG: Thêm ID Lịch của bạn vào đây\n",
        "YOUR_CALENDAR_ID = \"td.tan2711@gmail.com\"\n",
        "\n",
        "def authenticate_google_calendar_service_account():\n",
        "    try:\n",
        "        if not os.path.exists(SERVICE_ACCOUNT_FILE): return None\n",
        "        SCOPES = ['https://www.googleapis.com/auth/calendar.readonly']\n",
        "        creds = Credentials.from_service_account_file(SERVICE_ACCOUNT_FILE, scopes=SCOPES)\n",
        "        service = build('calendar', 'v3', credentials=creds)\n",
        "        print(\"✅ Xác thực Google Calendar thành công.\")\n",
        "        return service\n",
        "    except Exception as e:\n",
        "        print(f\"Lỗi khi xác thực Google Calendar: {e}\")\n",
        "        return None\n",
        "google_calendar_service = authenticate_google_calendar_service_account()\n",
        "\n",
        "try:\n",
        "    with open('tasks.json', 'r', encoding='utf-8') as f: task_data = json.load(f)\n",
        "    print(\"✅ Đã tải dữ liệu tasks.json thành công.\")\n",
        "except Exception as e:\n",
        "    task_data = {}\n",
        "    print(f\"Lỗi khi tải tasks.json: {e}\")\n",
        "\n",
        "try:\n",
        "    with open('profile.json', 'r', encoding='utf-8') as f: profile_data = json.load(f)\n",
        "    print(\"✅ Đã tải dữ liệu profile.json thành công.\")\n",
        "except Exception as e:\n",
        "    profile_data = {}\n",
        "    print(f\"Lỗi khi tải profile.json: {e}\")\n",
        "\n",
        "# --- 2. Định nghĩa các công cụ ---\n",
        "@tool\n",
        "def google_calendar_reader(days_ahead: int = 7) -> str:\n",
        "    \"\"\"Sử dụng công cụ này để đọc lịch và các sự kiện sắp tới của người dùng.\"\"\"\n",
        "    if not google_calendar_service: return \"Lỗi: Dịch vụ Google Calendar không có sẵn.\"\n",
        "    now_utc = datetime.now(timezone.utc).isoformat()\n",
        "    future_limit = (datetime.now(timezone.utc) + timedelta(days=days_ahead)).isoformat()\n",
        "    try:\n",
        "        print(f\"--- [Calendar Tool] Đang đọc lịch: {YOUR_CALENDAR_ID}\")\n",
        "        # <-- SỬA ĐỔI QUAN TRỌNG: Sử dụng ID lịch của bạn thay vì 'primary'\n",
        "        events_result = google_calendar_service.events().list(\n",
        "            calendarId=YOUR_CALENDAR_ID,\n",
        "            timeMin=now_utc,\n",
        "            timeMax=future_limit,\n",
        "            singleEvents=True,\n",
        "            orderBy='startTime'\n",
        "        ).execute()\n",
        "        events = events_result.get('items', [])\n",
        "        if not events:\n",
        "            return f\"Không có sự kiện nào sắp tới trong {days_ahead} ngày tới.\"\n",
        "        print(f\"--- [Calendar Tool] Tìm thấy {len(events)} sự kiện.\")\n",
        "        # Trả về một chuỗi JSON sạch\n",
        "        return json.dumps([{'summary': e.get('summary'), 'start': e.get('start', {}).get('dateTime'), 'end': e.get('end', {}).get('dateTime')} for e in events])\n",
        "    except Exception as e: return f\"Lỗi khi gọi Google Calendar API: {e}\"\n",
        "\n",
        "@tool\n",
        "def active_tasks_reader() -> str:\n",
        "    \"\"\"Sử dụng công cụ này để đọc danh sách các công việc và bài tập còn hoạt động của người dùng.\"\"\"\n",
        "    if not task_data: return \"Không có dữ liệu công việc.\"\n",
        "    now_utc = datetime.now(timezone.utc)\n",
        "    active_tasks = [t for t in task_data.get(\"tasks\", []) if t.get(\"status\") == \"needsAction\" and t.get(\"due\") and datetime.fromisoformat(t['due'].replace('Z', '+00:00')) > now_utc]\n",
        "    return \"Không có công việc nào còn hoạt động.\" if not active_tasks else json.dumps(active_tasks)\n",
        "\n",
        "@tool\n",
        "def tavily_web_search(query: str) -> str:\n",
        "    \"\"\"Sử dụng công cụ này để tìm kiếm thông tin học thuật trên Internet khi người dùng yêu cầu tìm hiểu về một chủ đề cụ thể.\"\"\"\n",
        "    try:\n",
        "        client = tavily.TavilyClient(api_key=TAVILY_API_KEY)\n",
        "        response = client.search(query=query, search_depth=\"advanced\", max_results=5)\n",
        "        return \"\\n\\n\".join([f'Source: {res[\"url\"]}\\nContent: {res[\"content\"]}' for res in response[\"results\"]])\n",
        "    except Exception as e: return f\"Lỗi khi tìm kiếm với Tavily: {e}\"\n",
        "\n",
        "# --- 3. Tạo danh sách và bind các công cụ ---\n",
        "tools = [google_calendar_reader, active_tasks_reader, tavily_web_search]\n",
        "llm_with_tools = llm.bind_tools(tools)\n",
        "print(\"\\n✅ Hộp dụng cụ (Toolbox) đã sẵn sàng và được bind vào LLM.\")"
      ],
      "metadata": {
        "id": "jyk9EUs4sGAq",
        "colab": {
          "base_uri": "https://localhost:8080/",
          "height": 0
        },
        "outputId": "6e8a3ee9-e637-4be2-8b80-c2754609e81b"
      },
      "execution_count": 1,
      "outputs": [
        {
          "output_type": "stream",
          "name": "stderr",
          "text": [
            "/usr/local/lib/python3.11/dist-packages/IPython/core/interactiveshell.py:3553: LangChainDeprecationWarning: As of langchain-core 0.3.0, LangChain uses pydantic v2 internally. The langchain_core.pydantic_v1 module was a compatibility shim for pydantic v1, and should no longer be used. Please update the code to import from Pydantic directly.\n",
            "\n",
            "For example, replace imports like: `from langchain_core.pydantic_v1 import BaseModel`\n",
            "with: `from pydantic import BaseModel`\n",
            "or the v1 compatibility namespace if you are working in a code base that has not been fully upgraded to pydantic 2 yet. \tfrom pydantic.v1 import BaseModel\n",
            "\n",
            "  exec(code_obj, self.user_global_ns, self.user_ns)\n"
          ]
        },
        {
          "output_type": "stream",
          "name": "stdout",
          "text": [
            "Đã định nghĩa 'AcademicState' phiên bản cuối cùng thành công.\n",
            "Khởi tạo ChatGroq thành công với model: llama3-70b-8192\n",
            "\n",
            "Khởi tạo 'llm' và 'console' thành công.\n",
            "✅ Xác thực Google Calendar thành công.\n",
            "✅ Đã tải dữ liệu tasks.json thành công.\n",
            "✅ Đã tải dữ liệu profile.json thành công.\n",
            "\n",
            "✅ Hộp dụng cụ (Toolbox) đã sẵn sàng và được bind vào LLM.\n"
          ]
        }
      ]
    },
    {
      "cell_type": "code",
      "source": [
        "# ==============================================================================\n",
        "# STEP 4: THE FULL INTERACTIVE TEAM OF AGENTS (PHIÊN BẢN CUỐI CÙNG)\n",
        "# ==============================================================================\n",
        "import re\n",
        "import time\n",
        "from langchain_core.pydantic_v1 import BaseModel, Field\n",
        "from typing import Literal, Dict, Any\n",
        "\n",
        "# --- 1. Định nghĩa các cấu trúc dữ liệu cho tương tác ---\n",
        "class FinalAnswer(BaseModel):\n",
        "    \"\"\"Sử dụng để cung cấp câu trả lời cuối cùng.\"\"\"\n",
        "    answer: str = Field(description=\"Nội dung câu trả lời cuối cùng, chi tiết bằng Markdown.\")\n",
        "\n",
        "# --- 2. Xây dựng các Agent ---\n",
        "\n",
        "async def coordinator_agent(state: AcademicState) -> Dict[str, Any]:\n",
        "    print(\"\\n--- [Coordinator] Đang quyết định các chuyên gia cần thiết... ---\")\n",
        "    prompt = f\"Dựa trên yêu cầu: '{state['messages'][0].content}', quyết định các agent cần kích hoạt. Các lựa chọn: PLANNER, NOTEWRITER, ADVISOR. Trả về một danh sách Python.\"\n",
        "    response_message = await llm.ainvoke([HumanMessage(content=prompt)])\n",
        "    try:\n",
        "        required_agents = eval(response_message.content.strip())\n",
        "        if not isinstance(required_agents, list): raise ValueError\n",
        "    except:\n",
        "        required_agents = [\"PLANNER\", \"NOTEWRITER\", \"ADVISOR\"]\n",
        "    print(f\"--- [Coordinator] Quyết định: Cần các agent {required_agents}\")\n",
        "    return {\"required_agents\": required_agents}\n",
        "\n",
        "async def tool_user_agent(state: AcademicState) -> Dict[str, Any]:\n",
        "    print(\"\\n--- [Tool User] Thu thập tất cả thông tin ban đầu... ---\")\n",
        "    request = state['messages'][0].content\n",
        "    search_query = f\"Hướng dẫn học và các tài liệu tốt nhất về '{request}'\"\n",
        "    print(f\"--- [Tool User] Quyết định gọi công cụ: ['google_calendar_reader', 'active_tasks_reader', 'tavily_web_search']\")\n",
        "    calendar_output = google_calendar_reader.invoke({\"days_ahead\": 7})\n",
        "    time.sleep(1)\n",
        "    tasks_output = active_tasks_reader.invoke({})\n",
        "    time.sleep(1)\n",
        "    web_output = tavily_web_search.invoke({\"query\": search_query})\n",
        "    collected_data = f\"\"\"Thông tin ban đầu đã được thu thập:\n",
        "    1. Lịch trình trong 7 ngày tới: {calendar_output}\n",
        "    2. Các nhiệm vụ đang hoạt động: {tasks_output}\n",
        "    3. Kết quả tìm kiếm trên web: {web_output}\"\"\"\n",
        "    context_message = SystemMessage(content=collected_data)\n",
        "    print(\"--- [Tool User] Đã thu thập và định dạng xong thông tin.\")\n",
        "    return {\"messages\": [context_message]}\n",
        "\n",
        "def create_specialist_agent(agent_name: str, agent_description: str, output_key: str):\n",
        "    async def specialist_agent(state: AcademicState) -> Dict[str, Any]:\n",
        "        print(f\"\\n--- [{agent_name}] Bắt đầu làm việc... ---\")\n",
        "        llm_with_tool = llm.bind_tools([FinalAnswer])\n",
        "        prompt = f\"\"\"Bạn là {agent_name}. {agent_description}.\n",
        "        Dựa vào TOÀN BỘ thông tin có sẵn dưới đây, hãy tạo ra sản phẩm tốt nhất có thể của bạn và gọi công cụ `FinalAnswer`.\n",
        "        **Thông tin có sẵn (Yêu cầu gốc, Lịch, Nhiệm vụ, Kết quả tìm kiếm, Sản phẩm của agent khác):**\n",
        "        ```json\n",
        "        {json.dumps({\n",
        "            \"profile\": state['profile'],\n",
        "            \"messages\": [msg.model_dump() for msg in state['messages']],\n",
        "            \"agent_outputs\": state['agent_outputs'],\n",
        "        }, indent=2, ensure_ascii=False)}\n",
        "        ```\n",
        "        Hãy tạo ra câu trả lời cuối cùng của bạn ngay bây giờ.\n",
        "        \"\"\"\n",
        "        try:\n",
        "            ai_response = await llm_with_tool.ainvoke([HumanMessage(content=prompt)])\n",
        "            if not ai_response.tool_calls:\n",
        "                print(f\"--- [{agent_name}] Cảnh báo: Không gọi được tool, trả về nội dung thô.\")\n",
        "                return {\"agent_outputs\": {output_key: ai_response.content}}\n",
        "            tool_call = ai_response.tool_calls[0]\n",
        "            if tool_call['name'] == 'FinalAnswer':\n",
        "                print(f\"--- [{agent_name}] Đã tạo sản phẩm thành công.\")\n",
        "                return {\"agent_outputs\": {output_key: tool_call['args']['answer']}}\n",
        "            else:\n",
        "                raise ValueError(f\"LLM đã gọi một công cụ không xác định: {tool_call['name']}\")\n",
        "        except Exception as e:\n",
        "            # --- LOGIC CỨU KẾT QUẢ TỪ LỖI 400 ---\n",
        "            print(f\"--- [{agent_name}] Gặp lỗi API: {e}\")\n",
        "            error_str = str(e)\n",
        "            match = re.search(r'\"answer\":\\s*\"(.*?)\"', error_str, re.DOTALL)\n",
        "            if match:\n",
        "                extracted_answer = match.group(1).encode().decode('unicode_escape')\n",
        "                print(f\"--- [{agent_name}] Đã cứu được sản phẩm từ lỗi 400!\")\n",
        "                return {\"agent_outputs\": {output_key: extracted_answer}}\n",
        "            else:\n",
        "                print(f\"--- [{agent_name}] Không thể cứu sản phẩm. Trả về thông báo lỗi.\")\n",
        "                return {\"agent_outputs\": {output_key: f\"Agent {agent_name} đã gặp lỗi không thể phục hồi.\"}}\n",
        "    return specialist_agent\n",
        "\n",
        "planner_agent = create_specialist_agent(\"PLANNER\", \"Tạo kế hoạch học tập chi tiết, khả thi.\", \"plan\")\n",
        "notewriter_agent = create_specialist_agent(\"NOTEWRITER\", \"Tạo ghi chú học thuật súc tích.\", \"notes\")\n",
        "advisor_agent = create_specialist_agent(\"ADVISOR\", \"Đưa ra lời khuyên chiến lược.\", \"advice\")\n",
        "\n",
        "async def synthesizer_agent(state: AcademicState) -> Dict[str, Any]:\n",
        "    print(\"\\n--- [Synthesizer] Bắt đầu tổng hợp báo cáo cuối cùng ---\")\n",
        "    prompt = f\"Tổng hợp các sản phẩm từ các chuyên gia sau đây thành MỘT báo cáo tổng hợp duy nhất, mạch lạc và chuyên nghiệp cho người dùng:\\n\\n{json.dumps(state['agent_outputs'], indent=2, ensure_ascii=False)}.\\n\\nYêu cầu ban đầu của người dùng là: '{state['messages'][0].content}'\"\n",
        "    response_message = await llm.ainvoke([HumanMessage(content=prompt)])\n",
        "    return {\"final_report\": response_message.content}\n",
        "\n",
        "async def reflection_agent(state: AcademicState) -> Dict[str, Any]:\n",
        "    print(\"\\n--- [Reflection] Đang suy nghĩ về các bước tiếp theo... ---\")\n",
        "    prompt = f\"Dựa vào báo cáo cuối cùng này, hãy đề xuất 3-4 hành động hoặc câu hỏi tiếp theo mà người dùng có thể muốn thực hiện:\\n\\n{state['final_report']}\"\n",
        "    response_message = await llm.ainvoke([HumanMessage(content=prompt)])\n",
        "    return {\"next_steps\": response_message.content}\n",
        "\n",
        "print(\"✅ Tất cả các agent cho ATLAS 2.0 (Phiên bản hoàn thiện) đã được định nghĩa.\")"
      ],
      "metadata": {
        "id": "mmRYcwIEsF-V",
        "colab": {
          "base_uri": "https://localhost:8080/",
          "height": 0
        },
        "outputId": "fb2b9fde-cc74-4096-a175-046089eccfa1"
      },
      "execution_count": 2,
      "outputs": [
        {
          "output_type": "stream",
          "name": "stdout",
          "text": [
            "✅ Tất cả các agent cho ATLAS 2.0 (Phiên bản hoàn thiện) đã được định nghĩa.\n"
          ]
        }
      ]
    },
    {
      "cell_type": "code",
      "source": [
        "# ==============================================================================\n",
        "# STEP 5 & 6: ASSEMBLY & EXECUTION (KIẾN TRÚC CUỐI CÙNG)\n",
        "# ==============================================================================\n",
        "\n",
        "# Node wrapper để chạy agent và đánh dấu hoàn thành\n",
        "async def specialist_node_wrapper(agent_func, agent_name: str, state: AcademicState) -> Dict[str, Any]:\n",
        "    # Chạy agent\n",
        "    result = await agent_func(state)\n",
        "\n",
        "    # Đánh dấu đã hoàn thành\n",
        "    current_completed = state.get(\"completed_agents\", [])\n",
        "    if agent_name not in current_completed:\n",
        "        # Sử dụng toán tử `add` của `Annotated` bằng cách trả về một danh sách\n",
        "        result[\"completed_agents\"] = [agent_name]\n",
        "\n",
        "    return result\n",
        "\n",
        "# <-- SỬA ĐỔI QUAN TRỌNG: Định nghĩa các node một cách tường minh\n",
        "async def planner_node(state: AcademicState) -> Dict[str, Any]:\n",
        "    return await specialist_node_wrapper(planner_agent, \"PLANNER\", state)\n",
        "\n",
        "async def notewriter_node(state: AcademicState) -> Dict[str, Any]:\n",
        "    return await specialist_node_wrapper(notewriter_agent, \"NOTEWRITER\", state)\n",
        "\n",
        "async def advisor_node(state: AcademicState) -> Dict[str, Any]:\n",
        "    return await specialist_node_wrapper(advisor_agent, \"ADVISOR\", state)\n",
        "\n",
        "# --- Lắp ráp Graph ---\n",
        "workflow = StateGraph(AcademicState)\n",
        "workflow.add_node(\"coordinator\", coordinator_agent)\n",
        "workflow.add_node(\"tool_user\", tool_user_agent)\n",
        "# Sử dụng các hàm async def đã được định nghĩa đúng cách\n",
        "workflow.add_node(\"planner\", planner_node)\n",
        "workflow.add_node(\"notewriter\", notewriter_node)\n",
        "workflow.add_node(\"advisor\", advisor_node)\n",
        "workflow.add_node(\"synthesizer\", synthesizer_agent)\n",
        "workflow.add_node(\"reflection\", reflection_agent)\n",
        "\n",
        "workflow.set_entry_point(\"coordinator\")\n",
        "\n",
        "# Luồng chạy tuần tự, thẳng và đơn giản\n",
        "# Coordinator quyết định các agent cần chạy\n",
        "workflow.add_edge(\"coordinator\", \"tool_user\")\n",
        "# Tool user thu thập tất cả thông tin ban đầu\n",
        "workflow.add_edge(\"tool_user\", \"planner\")\n",
        "\n",
        "# Sau planner, đi đến notewriter\n",
        "workflow.add_edge(\"planner\", \"notewriter\")\n",
        "# Sau notewriter, đi đến advisor\n",
        "workflow.add_edge(\"notewriter\", \"advisor\")\n",
        "# Sau advisor, đi tổng hợp\n",
        "workflow.add_edge(\"advisor\", \"synthesizer\")\n",
        "\n",
        "# Luồng cuối cùng\n",
        "workflow.add_edge(\"synthesizer\", \"reflection\")\n",
        "workflow.add_edge(\"reflection\", END)\n",
        "\n",
        "app = workflow.compile()\n",
        "print(\"\\n✅✅✅ ATLAS 2.0 (Kiến trúc cuối cùng) đã được biên dịch! ✅✅✅\")"
      ],
      "metadata": {
        "colab": {
          "base_uri": "https://localhost:8080/",
          "height": 0
        },
        "id": "Hl0fBZjM9-KX",
        "outputId": "550df232-e705-4bfa-a58f-712339d1d57e"
      },
      "execution_count": 3,
      "outputs": [
        {
          "output_type": "stream",
          "name": "stdout",
          "text": [
            "\n",
            "✅✅✅ ATLAS 2.0 (Kiến trúc cuối cùng) đã được biên dịch! ✅✅✅\n"
          ]
        }
      ]
    },
    {
      "cell_type": "code",
      "source": [
        "# ==============================================================================\n",
        "# STEP 7: EXECUTION (Chạy và hiển thị kết quả đúng)\n",
        "# ==============================================================================\n",
        "\n",
        "async def run_atlas_2_0(profile_data: dict):\n",
        "    request = \"Tuần tới tôi cần học về thuật toán K-Nearest Neighbors (KNN). Lịch của tôi khá bận rộn, hãy tạo một kế hoạch học tập chi tiết, sau đó ghi chú lại các điểm chính và cho tôi một vài lời khuyên học tập.\"\n",
        "\n",
        "    student_profile = next((p for p in profile_data.get(\"profiles\", []) if p.get(\"id\") == \"student_123\"), {})\n",
        "\n",
        "    initial_state = {\n",
        "        \"messages\": [HumanMessage(content=request)],\n",
        "        \"profile\": student_profile,\n",
        "        \"agent_outputs\": {},\n",
        "        \"completed_agents\": [],\n",
        "    }\n",
        "\n",
        "    console.print(f\"\\n🚀 [bold blue]Bắt đầu chạy ATLAS 2.0 với yêu cầu:[/bold blue]\\n{request}\")\n",
        "\n",
        "    # Chạy và xem log của từng bước\n",
        "    async for step in app.astream(initial_state, config={\"recursion_limit\": 15}):\n",
        "        node_name = list(step.keys())[0]\n",
        "        console.print(f\"\\n✅ [bold magenta]Hoàn thành bước:[/] [yellow]{node_name}[/yellow]\")\n",
        "        console.print(step[node_name])\n",
        "\n",
        "    # Sau khi chạy xong, gọi `ainvoke` để lấy trạng thái cuối cùng hoàn chỉnh\n",
        "    print(\"\\n--- [Hệ thống] Đang lấy kết quả cuối cùng... ---\")\n",
        "    final_state = await app.ainvoke(initial_state, config={\"recursion_limit\": 15})\n",
        "\n",
        "    console.print(\"\\n\\n\" + \"=\"*80, style=\"bold green\")\n",
        "    console.print(\" HỆ THỐNG ATLAS 2.0 ĐÃ HOÀN THÀNH TÁC VỤ!\", style=\"bold green\")\n",
        "    console.print(\"=\"*80, style=\"bold green\")\n",
        "\n",
        "    # In kết quả từ trạng thái cuối cùng\n",
        "    if final_state:\n",
        "        console.print(\"\\n--- [bold blue]BÁO CÁO TỔNG HỢP CUỐI CÙNG[/bold blue] ---\")\n",
        "        console.print(Markdown(final_state.get(\"final_report\", \"Không có báo cáo cuối cùng.\")))\n",
        "        console.print(\"\\n--- [bold blue]GỢI Ý CÁC BƯỚC TIẾP THEO[/bold blue] ---\")\n",
        "        console.print(Markdown(final_state.get(\"next_steps\", \"Không có gợi ý.\")))\n",
        "\n",
        "# Chạy hàm chính\n",
        "await run_atlas_2_0(profile_data)"
      ],
      "metadata": {
        "colab": {
          "base_uri": "https://localhost:8080/",
          "height": 4117
        },
        "id": "Ya8QbTnw9-IZ",
        "outputId": "be6d789e-1edb-4ba7-b2ff-1761f585abf8"
      },
      "execution_count": 4,
      "outputs": [
        {
          "output_type": "display_data",
          "data": {
            "text/plain": [
              "\n",
              "🚀 \u001b[1;34mBắt đầu chạy ATLAS \u001b[0m\u001b[1;34m2.0\u001b[0m\u001b[1;34m với yêu cầu:\u001b[0m\n",
              "Tuần tới tôi cần học về thuật toán K-Nearest Neighbors \u001b[1m(\u001b[0mKNN\u001b[1m)\u001b[0m. Lịch của tôi khá bận rộn, hãy tạo một kế hoạch học \n",
              "tập chi tiết, sau đó ghi chú lại các điểm chính và cho tôi một vài lời khuyên học tập.\n"
            ],
            "text/html": [
              "<pre style=\"white-space:pre;overflow-x:auto;line-height:normal;font-family:Menlo,'DejaVu Sans Mono',consolas,'Courier New',monospace\">\n",
              "🚀 <span style=\"color: #000080; text-decoration-color: #000080; font-weight: bold\">Bắt đầu chạy ATLAS </span><span style=\"color: #000080; text-decoration-color: #000080; font-weight: bold\">2.0</span><span style=\"color: #000080; text-decoration-color: #000080; font-weight: bold\"> với yêu cầu:</span>\n",
              "Tuần tới tôi cần học về thuật toán K-Nearest Neighbors <span style=\"font-weight: bold\">(</span>KNN<span style=\"font-weight: bold\">)</span>. Lịch của tôi khá bận rộn, hãy tạo một kế hoạch học \n",
              "tập chi tiết, sau đó ghi chú lại các điểm chính và cho tôi một vài lời khuyên học tập.\n",
              "</pre>\n"
            ]
          },
          "metadata": {}
        },
        {
          "output_type": "stream",
          "name": "stdout",
          "text": [
            "\n",
            "--- [Coordinator] Đang quyết định các chuyên gia cần thiết... ---\n",
            "--- [Coordinator] Quyết định: Cần các agent ['PLANNER', 'NOTEWRITER', 'ADVISOR']\n"
          ]
        },
        {
          "output_type": "display_data",
          "data": {
            "text/plain": [
              "\n",
              "✅ \u001b[1;35mHoàn thành bước:\u001b[0m \u001b[33mcoordinator\u001b[0m\n"
            ],
            "text/html": [
              "<pre style=\"white-space:pre;overflow-x:auto;line-height:normal;font-family:Menlo,'DejaVu Sans Mono',consolas,'Courier New',monospace\">\n",
              "✅ <span style=\"color: #800080; text-decoration-color: #800080; font-weight: bold\">Hoàn thành bước:</span> <span style=\"color: #808000; text-decoration-color: #808000\">coordinator</span>\n",
              "</pre>\n"
            ]
          },
          "metadata": {}
        },
        {
          "output_type": "display_data",
          "data": {
            "text/plain": [
              "\u001b[1m{\u001b[0m\u001b[32m'required_agents'\u001b[0m: \u001b[1m[\u001b[0m\u001b[32m'PLANNER'\u001b[0m, \u001b[32m'NOTEWRITER'\u001b[0m, \u001b[32m'ADVISOR'\u001b[0m\u001b[1m]\u001b[0m\u001b[1m}\u001b[0m\n"
            ],
            "text/html": [
              "<pre style=\"white-space:pre;overflow-x:auto;line-height:normal;font-family:Menlo,'DejaVu Sans Mono',consolas,'Courier New',monospace\"><span style=\"font-weight: bold\">{</span><span style=\"color: #008000; text-decoration-color: #008000\">'required_agents'</span>: <span style=\"font-weight: bold\">[</span><span style=\"color: #008000; text-decoration-color: #008000\">'PLANNER'</span>, <span style=\"color: #008000; text-decoration-color: #008000\">'NOTEWRITER'</span>, <span style=\"color: #008000; text-decoration-color: #008000\">'ADVISOR'</span><span style=\"font-weight: bold\">]}</span>\n",
              "</pre>\n"
            ]
          },
          "metadata": {}
        },
        {
          "output_type": "stream",
          "name": "stdout",
          "text": [
            "\n",
            "--- [Tool User] Thu thập tất cả thông tin ban đầu... ---\n",
            "--- [Tool User] Quyết định gọi công cụ: ['google_calendar_reader', 'active_tasks_reader', 'tavily_web_search']\n",
            "--- [Calendar Tool] Đang đọc lịch: td.tan2711@gmail.com\n",
            "--- [Calendar Tool] Tìm thấy 4 sự kiện.\n",
            "--- [Tool User] Đã thu thập và định dạng xong thông tin.\n"
          ]
        },
        {
          "output_type": "display_data",
          "data": {
            "text/plain": [
              "\n",
              "✅ \u001b[1;35mHoàn thành bước:\u001b[0m \u001b[33mtool_user\u001b[0m\n"
            ],
            "text/html": [
              "<pre style=\"white-space:pre;overflow-x:auto;line-height:normal;font-family:Menlo,'DejaVu Sans Mono',consolas,'Courier New',monospace\">\n",
              "✅ <span style=\"color: #800080; text-decoration-color: #800080; font-weight: bold\">Hoàn thành bước:</span> <span style=\"color: #808000; text-decoration-color: #808000\">tool_user</span>\n",
              "</pre>\n"
            ]
          },
          "metadata": {}
        },
        {
          "output_type": "display_data",
          "data": {
            "text/plain": [
              "\u001b[1m{\u001b[0m\n",
              "    \u001b[32m'messages'\u001b[0m: \u001b[1m[\u001b[0m\n",
              "        \u001b[1;35mSystemMessage\u001b[0m\u001b[1m(\u001b[0m\n",
              "            \u001b[33mcontent\u001b[0m=\u001b[32m'Thông tin ban đầu đã được thu thập:\\n    1. Lịch trình trong 7 ngày tới: \u001b[0m\u001b[32m[\u001b[0m\u001b[32m{\u001b[0m\u001b[32m\"summary\": \"Work \u001b[0m\n",
              "\u001b[32mOnline\", \"start\": \"2025-08-08T19:45:00+07:00\", \"end\": \"2025-08-08T21:15:00+07:00\"\u001b[0m\u001b[32m}\u001b[0m\u001b[32m, \u001b[0m\u001b[32m{\u001b[0m\u001b[32m\"summary\": \"Take a nap\", \u001b[0m\n",
              "\u001b[32m\"start\": \"2025-08-11T08:45:00+07:00\", \"end\": \"2025-08-11T13:00:00+07:00\"\u001b[0m\u001b[32m}\u001b[0m\u001b[32m, \u001b[0m\u001b[32m{\u001b[0m\u001b[32m\"summary\": \"have a trip\", \"start\": \u001b[0m\n",
              "\u001b[32m\"2025-08-12T01:30:00+07:00\", \"end\": \"2025-08-12T05:30:00+07:00\"\u001b[0m\u001b[32m}\u001b[0m\u001b[32m, \u001b[0m\u001b[32m{\u001b[0m\u001b[32m\"summary\": \"go swimming\", \"start\": \u001b[0m\n",
              "\u001b[32m\"2025-08-14T07:15:00+07:00\", \"end\": \"2025-08-14T11:45:00+07:00\"\u001b[0m\u001b[32m}\u001b[0m\u001b[32m]\u001b[0m\u001b[32m\\n    2. Các nhiệm vụ đang hoạt động: \u001b[0m\u001b[32m[\u001b[0m\u001b[32m{\u001b[0m\u001b[32m\"id\": \u001b[0m\n",
              "\u001b[32m\"task_01\", \"title\": \"Submit AI project report\", \"due\": \"2025-08-10T23:59:00Z\", \"status\": \"needsAction\", \"priority\":\u001b[0m\n",
              "\u001b[32m\"high\"\u001b[0m\u001b[32m}\u001b[0m\u001b[32m, \u001b[0m\u001b[32m{\u001b[0m\u001b[32m\"id\": \"task_02\", \"title\": \"Read Chapter 5 - Operating Systems\", \"due\": \"2025-08-08T23:59:00Z\", \"status\": \u001b[0m\n",
              "\u001b[32m\"needsAction\", \"priority\": \"medium\"\u001b[0m\u001b[32m}\u001b[0m\u001b[32m]\u001b[0m\u001b[32m\\n    3. Kết quả tìm kiếm trên web: Source: \u001b[0m\n",
              "\u001b[32mhttps://viblo.asia/p/knn-k-nearest-neighbors-1-djeZ14ejKWz\\nContent: 1.   Thuật toán đơn giản, dễ dàng triển \u001b[0m\n",
              "\u001b[32mkhai.\\n2.   Độ phức tạp tính toán nhỏ.\\n3.   Xử lý tốt với tập dữ liệu nhiễu\\n\\nNhược điểm\\\u001b[0m\u001b[32mn\u001b[0m\u001b[32m==========\\n\\n1.   Với \u001b[0m\n",
              "\u001b[32mK nhỏ dễ gặp nhiễu dẫn tới kết quả đưa ra không chính xác\\n2.   Cần nhiều thời gian để thực hiện do phải tính toán \u001b[0m\n",
              "\u001b[32mkhoảng cách với tất cả các đối tượng trong tập dữ liệu.\\n3.   Cần chuyển đổi kiểu dữ liệu thành các yếu tố định \u001b[0m\n",
              "\u001b[32mtính.\\n\\nTrong bài tiếp theo chúng ta sẽ xây dựng một mã nguồn mô phỏng thuật toán KNN trong thực tế. \u001b[0m\u001b[32m[\u001b[0m\u001b[32m...\u001b[0m\u001b[32m]\u001b[0m\u001b[32m KNN \u001b[0m\n",
              "\u001b[32m(\u001b[0m\u001b[32mK-Nearest Neighbors\u001b[0m\u001b[32m)\u001b[0m\u001b[32m là một trong những thuật toán học có giám sát đơn giản nhất được sử dụng nhiều trong khai phá\u001b[0m\n",
              "\u001b[32mdữ liệu và học máy. Ý tưởng của thuật toán này là nó không học một điều gì từ tập dữ liệu học \u001b[0m\u001b[32m(\u001b[0m\u001b[32mnên KNN được xếp vào\u001b[0m\n",
              "\u001b[32mloại lazy learning\u001b[0m\u001b[32m)\u001b[0m\u001b[32m, mọi tính toán được thực hiện khi nó cần dự đoán nhãn của dữ liệu mới. \\n\\nLớp \u001b[0m\u001b[32m(\u001b[0m\u001b[32mnhãn\u001b[0m\u001b[32m)\u001b[0m\u001b[32m của một \u001b[0m\n",
              "\u001b[32mđối tượng dữ liệu mới có thể dự đoán từ các lớp \u001b[0m\u001b[32m(\u001b[0m\u001b[32mnhãn\u001b[0m\u001b[32m)\u001b[0m\u001b[32m của k hàng xóm gần nó nhất.\\n\\nVí dụ:\\n------ \u001b[0m\u001b[32m[\u001b[0m\u001b[32m...\u001b[0m\u001b[32m]\u001b[0m\u001b[32m 1.   Ta \u001b[0m\n",
              "\u001b[32mcó D là tập các điểm dữ liệu đã được gắn nhãn và A là dữ liệu chưa được phân loại.\\n2.   Đo khoảng cách \u001b[0m\u001b[32m(\u001b[0m\u001b[32mEuclidian,\u001b[0m\n",
              "\u001b[32mManhattan, Minkowski, Minkowski hoặc Trọng số\u001b[0m\u001b[32m)\u001b[0m\u001b[32m từ dữ liệu mới A đến tất cả các dữ liệu khác đã được phân loại trong\u001b[0m\n",
              "\u001b[32mD.\\n3.   Chọn K \u001b[0m\u001b[32m(\u001b[0m\u001b[32mK là tham số mà bạn định nghĩa\u001b[0m\u001b[32m)\u001b[0m\u001b[32m khoảng cách nhỏ nhất.\\n4.   Kiểm tra danh sách các lớp có khoảng \u001b[0m\n",
              "\u001b[32mcách ngắn nhất và đếm số lượng của mỗi lớp xuất hiện.\\n5.   Lấy đúng lớp \u001b[0m\u001b[32m(\u001b[0m\u001b[32mlớp xuất hiện nhiều lần nhất\u001b[0m\u001b[32m)\u001b[0m\u001b[32m.\\n\\nSource:\u001b[0m\n",
              "\u001b[32mhttps://machinelearningcoban.com/2017/01/08/knn/\\nContent: K-nearest neighbor là một trong những thuật toán \u001b[0m\n",
              "\u001b[32msupervised-learning đơn giản nhất \u001b[0m\u001b[32m(\u001b[0m\u001b[32mmà hiệu quả trong một vài trường hợp\u001b[0m\u001b[32m)\u001b[0m\u001b[32m trong Machine Learning. Khi training, \u001b[0m\n",
              "\u001b[32mthuật toán này không học một điều gì từ dữ liệu training \u001b[0m\u001b[32m(\u001b[0m\u001b[32mđây cũng là lý do thuật toán này được xếp vào loại lazy \u001b[0m\n",
              "\u001b[32mlearning\u001b[0m\u001b[32m)\u001b[0m\u001b[32m, mọi tính toán được thực hiện khi nó cần dự đoán kết quả của dữ liệu mới. K-nearest neighbor có thể áp \u001b[0m\n",
              "\u001b[32mdụng được vào cả hai loại của bài toán Supervised learning là Classification và Regression. KNN còn được gọi là \u001b[0m\n",
              "\u001b[32m[\u001b[0m\u001b[32m...\u001b[0m\u001b[32m]\u001b[0m\u001b[32m Một cách ngắn gọn, KNN là thuật toán đi tìm đầu ra của một điểm dữ liệu mới bằng cách chỉ dựa trên thông tin \u001b[0m\n",
              "\u001b[32mcủa K điểm dữ liệu trong training set gần nó nhất \u001b[0m\u001b[32m(\u001b[0m\u001b[32mK-lân cận\u001b[0m\u001b[32m)\u001b[0m\u001b[32m, không quan tâm đến việc có một vài điểm dữ liệu \u001b[0m\n",
              "\u001b[32mtrong những điểm gần nhất này là nhiễu. Hình dưới đây là một ví dụ về KNN trong classification với K = 1. \u001b[0m\u001b[32m[\u001b[0m\u001b[32m...\u001b[0m\u001b[32m]\u001b[0m\u001b[32m đáp\u001b[0m\n",
              "\u001b[32mán đâu - nhiều tài liệu quá cũng mệt!!\\n\\nSource: \u001b[0m\n",
              "\u001b[32mhttps://aicandy.vn/kham-pha-k-nearest-neighbors-cho-phan-loai-va-hoi-quy/\\nContent: 1. Giới thiệu về K-nearest \u001b[0m\n",
              "\u001b[32mneighbors\\n   2. Nguyên lý hoạt động của KNN\\n       2.1. Các bước thực hiện\\n       2.2. Bài toán phân loại\\n     \u001b[0m\n",
              "\u001b[32m2.4. Bài toán hồi quy\\n\\n   3. Chọn giá trị của k\\n       3.1. Tầm quan trọng của việc chọn giá trị k\\n       3.2. \u001b[0m\n",
              "\u001b[32mẢnh hưởng của giá trị k đến hiệu suất mô hình\\n       3.3. Các phương pháp chọn giá trị k\\n       3.4. Các yếu tố \u001b[0m\n",
              "\u001b[32mảnh hưởng đến việc chọn giá trị k\\n       3.5. Tối ưu hóa giá trị k cho từng bài toán cụ thể \u001b[0m\u001b[32m[\u001b[0m\u001b[32m...\u001b[0m\u001b[32m]\u001b[0m\u001b[32m #### Phát hiện \u001b[0m\n",
              "\u001b[32mthư rác \u001b[0m\u001b[32m(\u001b[0m\u001b[32mSpam Detection\u001b[0m\u001b[32m)\u001b[0m\u001b[32m:\\n\\n   KNN cũng được sử dụng rộng rãi trong việc phát hiện thư rác. Thuật toán này có thể \u001b[0m\n",
              "\u001b[32mphân loại email là thư rác hay không dựa trên các đặc trưng của email như tần suất xuất hiện của từ ngữ, tiêu đề \u001b[0m\n",
              "\u001b[32memail, hoặc các từ khóa đặc biệt liên quan đến thư rác.\\n   Khi áp dụng vào phát hiện thư rác, KNN có thể tận dụng \u001b[0m\n",
              "\u001b[32mcác tập dữ liệu lớn từ các email đã được phân loại trước đó, và qua đó học cách nhận diện các mẫu thư rác mới một \u001b[0m\n",
              "\u001b[32mcách hiệu quả. \u001b[0m\u001b[32m[\u001b[0m\u001b[32m...\u001b[0m\u001b[32m]\u001b[0m\u001b[32m K-nearest neighbors \u001b[0m\u001b[32m(\u001b[0m\u001b[32mKNN\u001b[0m\u001b[32m)\u001b[0m\u001b[32m là một trong những thuật toán học máy cơ bản nhất, nhưng vô cùng \u001b[0m\n",
              "\u001b[32mmạnh mẽ trong cả bài toán phân loại và hồi quy.\\n\\nKNN là một thuật toán học máy không tham số \u001b[0m\u001b[32m(\u001b[0m\u001b[32mnon-parametric\u001b[0m\u001b[32m)\u001b[0m\u001b[32m và \u001b[0m\n",
              "\u001b[32mhọc giám sát \u001b[0m\u001b[32m(\u001b[0m\u001b[32msupervised learning\u001b[0m\u001b[32m)\u001b[0m\u001b[32m. Ý tưởng chính là tìm kiếm k điểm dữ liệu gần nhất trong tập huấn luyện, sau đó \u001b[0m\n",
              "\u001b[32msử dụng chúng để dự đoán nhãn hoặc giá trị của điểm dữ liệu mới.\\n\\nImage 75: aicandy.vn\\n\\n2. Nguyên lý hoạt động \u001b[0m\n",
              "\u001b[32mcủa KNN\\n----------------------------------\\n\\nSource: \u001b[0m\n",
              "\u001b[32mhttps://kcntt.duytan.edu.vn/Home/ArticleDetail/vn/168/5961/knearest-neighbor\\nContent: Một cách ngắn gọn, KNN là \u001b[0m\n",
              "\u001b[32mthuật toán đi tìm đầu ra của một điểm dữ liệu mới bằng cách chỉ dựa trên thông tin của K điểm dữ liệu trong \u001b[0m\n",
              "\u001b[32mtraining\\n\\nSource: https://www.youtube.com/watch?\u001b[0m\u001b[32mv\u001b[0m\u001b[32m=\u001b[0m\u001b[32mKarBce2DeVE\u001b[0m\u001b[32m\\nContent: Xin chào các bạn và chào mừng trở lại với\u001b[0m\n",
              "\u001b[32mmột video mới trong series Machine Learning Cơ Bản của kênh Học Lập Trình cùng Phát. Trong video'\u001b[0m,\n",
              "            \u001b[33madditional_kwargs\u001b[0m=\u001b[1m{\u001b[0m\u001b[1m}\u001b[0m,\n",
              "            \u001b[33mresponse_metadata\u001b[0m=\u001b[1m{\u001b[0m\u001b[1m}\u001b[0m\n",
              "        \u001b[1m)\u001b[0m\n",
              "    \u001b[1m]\u001b[0m\n",
              "\u001b[1m}\u001b[0m\n"
            ],
            "text/html": [
              "<pre style=\"white-space:pre;overflow-x:auto;line-height:normal;font-family:Menlo,'DejaVu Sans Mono',consolas,'Courier New',monospace\"><span style=\"font-weight: bold\">{</span>\n",
              "    <span style=\"color: #008000; text-decoration-color: #008000\">'messages'</span>: <span style=\"font-weight: bold\">[</span>\n",
              "        <span style=\"color: #800080; text-decoration-color: #800080; font-weight: bold\">SystemMessage</span><span style=\"font-weight: bold\">(</span>\n",
              "            <span style=\"color: #808000; text-decoration-color: #808000\">content</span>=<span style=\"color: #008000; text-decoration-color: #008000\">'Thông tin ban đầu đã được thu thập:\\n    1. Lịch trình trong 7 ngày tới: [{\"summary\": \"Work </span>\n",
              "<span style=\"color: #008000; text-decoration-color: #008000\">Online\", \"start\": \"2025-08-08T19:45:00+07:00\", \"end\": \"2025-08-08T21:15:00+07:00\"}, {\"summary\": \"Take a nap\", </span>\n",
              "<span style=\"color: #008000; text-decoration-color: #008000\">\"start\": \"2025-08-11T08:45:00+07:00\", \"end\": \"2025-08-11T13:00:00+07:00\"}, {\"summary\": \"have a trip\", \"start\": </span>\n",
              "<span style=\"color: #008000; text-decoration-color: #008000\">\"2025-08-12T01:30:00+07:00\", \"end\": \"2025-08-12T05:30:00+07:00\"}, {\"summary\": \"go swimming\", \"start\": </span>\n",
              "<span style=\"color: #008000; text-decoration-color: #008000\">\"2025-08-14T07:15:00+07:00\", \"end\": \"2025-08-14T11:45:00+07:00\"}]\\n    2. Các nhiệm vụ đang hoạt động: [{\"id\": </span>\n",
              "<span style=\"color: #008000; text-decoration-color: #008000\">\"task_01\", \"title\": \"Submit AI project report\", \"due\": \"2025-08-10T23:59:00Z\", \"status\": \"needsAction\", \"priority\":</span>\n",
              "<span style=\"color: #008000; text-decoration-color: #008000\">\"high\"}, {\"id\": \"task_02\", \"title\": \"Read Chapter 5 - Operating Systems\", \"due\": \"2025-08-08T23:59:00Z\", \"status\": </span>\n",
              "<span style=\"color: #008000; text-decoration-color: #008000\">\"needsAction\", \"priority\": \"medium\"}]\\n    3. Kết quả tìm kiếm trên web: Source: </span>\n",
              "<span style=\"color: #008000; text-decoration-color: #008000\">https://viblo.asia/p/knn-k-nearest-neighbors-1-djeZ14ejKWz\\nContent: 1.   Thuật toán đơn giản, dễ dàng triển </span>\n",
              "<span style=\"color: #008000; text-decoration-color: #008000\">khai.\\n2.   Độ phức tạp tính toán nhỏ.\\n3.   Xử lý tốt với tập dữ liệu nhiễu\\n\\nNhược điểm\\n==========\\n\\n1.   Với </span>\n",
              "<span style=\"color: #008000; text-decoration-color: #008000\">K nhỏ dễ gặp nhiễu dẫn tới kết quả đưa ra không chính xác\\n2.   Cần nhiều thời gian để thực hiện do phải tính toán </span>\n",
              "<span style=\"color: #008000; text-decoration-color: #008000\">khoảng cách với tất cả các đối tượng trong tập dữ liệu.\\n3.   Cần chuyển đổi kiểu dữ liệu thành các yếu tố định </span>\n",
              "<span style=\"color: #008000; text-decoration-color: #008000\">tính.\\n\\nTrong bài tiếp theo chúng ta sẽ xây dựng một mã nguồn mô phỏng thuật toán KNN trong thực tế. [...] KNN </span>\n",
              "<span style=\"color: #008000; text-decoration-color: #008000\">(K-Nearest Neighbors) là một trong những thuật toán học có giám sát đơn giản nhất được sử dụng nhiều trong khai phá</span>\n",
              "<span style=\"color: #008000; text-decoration-color: #008000\">dữ liệu và học máy. Ý tưởng của thuật toán này là nó không học một điều gì từ tập dữ liệu học (nên KNN được xếp vào</span>\n",
              "<span style=\"color: #008000; text-decoration-color: #008000\">loại lazy learning), mọi tính toán được thực hiện khi nó cần dự đoán nhãn của dữ liệu mới. \\n\\nLớp (nhãn) của một </span>\n",
              "<span style=\"color: #008000; text-decoration-color: #008000\">đối tượng dữ liệu mới có thể dự đoán từ các lớp (nhãn) của k hàng xóm gần nó nhất.\\n\\nVí dụ:\\n------ [...] 1.   Ta </span>\n",
              "<span style=\"color: #008000; text-decoration-color: #008000\">có D là tập các điểm dữ liệu đã được gắn nhãn và A là dữ liệu chưa được phân loại.\\n2.   Đo khoảng cách (Euclidian,</span>\n",
              "<span style=\"color: #008000; text-decoration-color: #008000\">Manhattan, Minkowski, Minkowski hoặc Trọng số) từ dữ liệu mới A đến tất cả các dữ liệu khác đã được phân loại trong</span>\n",
              "<span style=\"color: #008000; text-decoration-color: #008000\">D.\\n3.   Chọn K (K là tham số mà bạn định nghĩa) khoảng cách nhỏ nhất.\\n4.   Kiểm tra danh sách các lớp có khoảng </span>\n",
              "<span style=\"color: #008000; text-decoration-color: #008000\">cách ngắn nhất và đếm số lượng của mỗi lớp xuất hiện.\\n5.   Lấy đúng lớp (lớp xuất hiện nhiều lần nhất).\\n\\nSource:</span>\n",
              "<span style=\"color: #008000; text-decoration-color: #008000\">https://machinelearningcoban.com/2017/01/08/knn/\\nContent: K-nearest neighbor là một trong những thuật toán </span>\n",
              "<span style=\"color: #008000; text-decoration-color: #008000\">supervised-learning đơn giản nhất (mà hiệu quả trong một vài trường hợp) trong Machine Learning. Khi training, </span>\n",
              "<span style=\"color: #008000; text-decoration-color: #008000\">thuật toán này không học một điều gì từ dữ liệu training (đây cũng là lý do thuật toán này được xếp vào loại lazy </span>\n",
              "<span style=\"color: #008000; text-decoration-color: #008000\">learning), mọi tính toán được thực hiện khi nó cần dự đoán kết quả của dữ liệu mới. K-nearest neighbor có thể áp </span>\n",
              "<span style=\"color: #008000; text-decoration-color: #008000\">dụng được vào cả hai loại của bài toán Supervised learning là Classification và Regression. KNN còn được gọi là </span>\n",
              "<span style=\"color: #008000; text-decoration-color: #008000\">[...] Một cách ngắn gọn, KNN là thuật toán đi tìm đầu ra của một điểm dữ liệu mới bằng cách chỉ dựa trên thông tin </span>\n",
              "<span style=\"color: #008000; text-decoration-color: #008000\">của K điểm dữ liệu trong training set gần nó nhất (K-lân cận), không quan tâm đến việc có một vài điểm dữ liệu </span>\n",
              "<span style=\"color: #008000; text-decoration-color: #008000\">trong những điểm gần nhất này là nhiễu. Hình dưới đây là một ví dụ về KNN trong classification với K = 1. [...] đáp</span>\n",
              "<span style=\"color: #008000; text-decoration-color: #008000\">án đâu - nhiều tài liệu quá cũng mệt!!\\n\\nSource: </span>\n",
              "<span style=\"color: #008000; text-decoration-color: #008000\">https://aicandy.vn/kham-pha-k-nearest-neighbors-cho-phan-loai-va-hoi-quy/\\nContent: 1. Giới thiệu về K-nearest </span>\n",
              "<span style=\"color: #008000; text-decoration-color: #008000\">neighbors\\n   2. Nguyên lý hoạt động của KNN\\n       2.1. Các bước thực hiện\\n       2.2. Bài toán phân loại\\n     </span>\n",
              "<span style=\"color: #008000; text-decoration-color: #008000\">2.4. Bài toán hồi quy\\n\\n   3. Chọn giá trị của k\\n       3.1. Tầm quan trọng của việc chọn giá trị k\\n       3.2. </span>\n",
              "<span style=\"color: #008000; text-decoration-color: #008000\">Ảnh hưởng của giá trị k đến hiệu suất mô hình\\n       3.3. Các phương pháp chọn giá trị k\\n       3.4. Các yếu tố </span>\n",
              "<span style=\"color: #008000; text-decoration-color: #008000\">ảnh hưởng đến việc chọn giá trị k\\n       3.5. Tối ưu hóa giá trị k cho từng bài toán cụ thể [...] #### Phát hiện </span>\n",
              "<span style=\"color: #008000; text-decoration-color: #008000\">thư rác (Spam Detection):\\n\\n   KNN cũng được sử dụng rộng rãi trong việc phát hiện thư rác. Thuật toán này có thể </span>\n",
              "<span style=\"color: #008000; text-decoration-color: #008000\">phân loại email là thư rác hay không dựa trên các đặc trưng của email như tần suất xuất hiện của từ ngữ, tiêu đề </span>\n",
              "<span style=\"color: #008000; text-decoration-color: #008000\">email, hoặc các từ khóa đặc biệt liên quan đến thư rác.\\n   Khi áp dụng vào phát hiện thư rác, KNN có thể tận dụng </span>\n",
              "<span style=\"color: #008000; text-decoration-color: #008000\">các tập dữ liệu lớn từ các email đã được phân loại trước đó, và qua đó học cách nhận diện các mẫu thư rác mới một </span>\n",
              "<span style=\"color: #008000; text-decoration-color: #008000\">cách hiệu quả. [...] K-nearest neighbors (KNN) là một trong những thuật toán học máy cơ bản nhất, nhưng vô cùng </span>\n",
              "<span style=\"color: #008000; text-decoration-color: #008000\">mạnh mẽ trong cả bài toán phân loại và hồi quy.\\n\\nKNN là một thuật toán học máy không tham số (non-parametric) và </span>\n",
              "<span style=\"color: #008000; text-decoration-color: #008000\">học giám sát (supervised learning). Ý tưởng chính là tìm kiếm k điểm dữ liệu gần nhất trong tập huấn luyện, sau đó </span>\n",
              "<span style=\"color: #008000; text-decoration-color: #008000\">sử dụng chúng để dự đoán nhãn hoặc giá trị của điểm dữ liệu mới.\\n\\nImage 75: aicandy.vn\\n\\n2. Nguyên lý hoạt động </span>\n",
              "<span style=\"color: #008000; text-decoration-color: #008000\">của KNN\\n----------------------------------\\n\\nSource: </span>\n",
              "<span style=\"color: #008000; text-decoration-color: #008000\">https://kcntt.duytan.edu.vn/Home/ArticleDetail/vn/168/5961/knearest-neighbor\\nContent: Một cách ngắn gọn, KNN là </span>\n",
              "<span style=\"color: #008000; text-decoration-color: #008000\">thuật toán đi tìm đầu ra của một điểm dữ liệu mới bằng cách chỉ dựa trên thông tin của K điểm dữ liệu trong </span>\n",
              "<span style=\"color: #008000; text-decoration-color: #008000\">training\\n\\nSource: https://www.youtube.com/watch?v=KarBce2DeVE\\nContent: Xin chào các bạn và chào mừng trở lại với</span>\n",
              "<span style=\"color: #008000; text-decoration-color: #008000\">một video mới trong series Machine Learning Cơ Bản của kênh Học Lập Trình cùng Phát. Trong video'</span>,\n",
              "            <span style=\"color: #808000; text-decoration-color: #808000\">additional_kwargs</span>=<span style=\"font-weight: bold\">{}</span>,\n",
              "            <span style=\"color: #808000; text-decoration-color: #808000\">response_metadata</span>=<span style=\"font-weight: bold\">{}</span>\n",
              "        <span style=\"font-weight: bold\">)</span>\n",
              "    <span style=\"font-weight: bold\">]</span>\n",
              "<span style=\"font-weight: bold\">}</span>\n",
              "</pre>\n"
            ]
          },
          "metadata": {}
        },
        {
          "output_type": "stream",
          "name": "stdout",
          "text": [
            "\n",
            "--- [PLANNER] Bắt đầu làm việc... ---\n",
            "--- [PLANNER] Đã tạo sản phẩm thành công.\n"
          ]
        },
        {
          "output_type": "display_data",
          "data": {
            "text/plain": [
              "\n",
              "✅ \u001b[1;35mHoàn thành bước:\u001b[0m \u001b[33mplanner\u001b[0m\n"
            ],
            "text/html": [
              "<pre style=\"white-space:pre;overflow-x:auto;line-height:normal;font-family:Menlo,'DejaVu Sans Mono',consolas,'Courier New',monospace\">\n",
              "✅ <span style=\"color: #800080; text-decoration-color: #800080; font-weight: bold\">Hoàn thành bước:</span> <span style=\"color: #808000; text-decoration-color: #808000\">planner</span>\n",
              "</pre>\n"
            ]
          },
          "metadata": {}
        },
        {
          "output_type": "display_data",
          "data": {
            "text/plain": [
              "\u001b[1m{\u001b[0m\n",
              "    \u001b[32m'agent_outputs'\u001b[0m: \u001b[1m{\u001b[0m\n",
              "        \u001b[32m'plan'\u001b[0m: \u001b[32m\"Based on the provided information, I will create a detailed learning plan for the student to learn\u001b[0m\n",
              "\u001b[32mabout K-Nearest Neighbors \u001b[0m\u001b[32m(\u001b[0m\u001b[32mKNN\u001b[0m\u001b[32m)\u001b[0m\u001b[32m algorithm. Considering the student's learning preferences and schedule, I recommend\u001b[0m\n",
              "\u001b[32mthe following plan:\\n\\n**Day 1-2:** Review the basics of KNN algorithm, including its advantages and disadvantages,\u001b[0m\n",
              "\u001b[32mand how it works.\\n\\n**Day 3-4:** Study the applications of KNN in real-world scenarios, such as spam detection and\u001b[0m\n",
              "\u001b[32mimage classification.\\n\\n**Day 5-6:** Practice implementing KNN algorithm using Python or other programming \u001b[0m\n",
              "\u001b[32mlanguages.\\n\\n**Day 7:** Review and summarize the key concepts learned throughout the week.\\n\\nAdditionally, I \u001b[0m\n",
              "\u001b[32msuggest the student to take breaks and prioritize their tasks according to their schedule. It's also important to \u001b[0m\n",
              "\u001b[32mreview and practice regularly to reinforce their understanding of the concept.\"\u001b[0m\n",
              "    \u001b[1m}\u001b[0m,\n",
              "    \u001b[32m'completed_agents'\u001b[0m: \u001b[1m[\u001b[0m\u001b[32m'PLANNER'\u001b[0m\u001b[1m]\u001b[0m\n",
              "\u001b[1m}\u001b[0m\n"
            ],
            "text/html": [
              "<pre style=\"white-space:pre;overflow-x:auto;line-height:normal;font-family:Menlo,'DejaVu Sans Mono',consolas,'Courier New',monospace\"><span style=\"font-weight: bold\">{</span>\n",
              "    <span style=\"color: #008000; text-decoration-color: #008000\">'agent_outputs'</span>: <span style=\"font-weight: bold\">{</span>\n",
              "        <span style=\"color: #008000; text-decoration-color: #008000\">'plan'</span>: <span style=\"color: #008000; text-decoration-color: #008000\">\"Based on the provided information, I will create a detailed learning plan for the student to learn</span>\n",
              "<span style=\"color: #008000; text-decoration-color: #008000\">about K-Nearest Neighbors (KNN) algorithm. Considering the student's learning preferences and schedule, I recommend</span>\n",
              "<span style=\"color: #008000; text-decoration-color: #008000\">the following plan:\\n\\n**Day 1-2:** Review the basics of KNN algorithm, including its advantages and disadvantages,</span>\n",
              "<span style=\"color: #008000; text-decoration-color: #008000\">and how it works.\\n\\n**Day 3-4:** Study the applications of KNN in real-world scenarios, such as spam detection and</span>\n",
              "<span style=\"color: #008000; text-decoration-color: #008000\">image classification.\\n\\n**Day 5-6:** Practice implementing KNN algorithm using Python or other programming </span>\n",
              "<span style=\"color: #008000; text-decoration-color: #008000\">languages.\\n\\n**Day 7:** Review and summarize the key concepts learned throughout the week.\\n\\nAdditionally, I </span>\n",
              "<span style=\"color: #008000; text-decoration-color: #008000\">suggest the student to take breaks and prioritize their tasks according to their schedule. It's also important to </span>\n",
              "<span style=\"color: #008000; text-decoration-color: #008000\">review and practice regularly to reinforce their understanding of the concept.\"</span>\n",
              "    <span style=\"font-weight: bold\">}</span>,\n",
              "    <span style=\"color: #008000; text-decoration-color: #008000\">'completed_agents'</span>: <span style=\"font-weight: bold\">[</span><span style=\"color: #008000; text-decoration-color: #008000\">'PLANNER'</span><span style=\"font-weight: bold\">]</span>\n",
              "<span style=\"font-weight: bold\">}</span>\n",
              "</pre>\n"
            ]
          },
          "metadata": {}
        },
        {
          "output_type": "stream",
          "name": "stdout",
          "text": [
            "\n",
            "--- [NOTEWRITER] Bắt đầu làm việc... ---\n",
            "--- [NOTEWRITER] Đã tạo sản phẩm thành công.\n"
          ]
        },
        {
          "output_type": "display_data",
          "data": {
            "text/plain": [
              "\n",
              "✅ \u001b[1;35mHoàn thành bước:\u001b[0m \u001b[33mnotewriter\u001b[0m\n"
            ],
            "text/html": [
              "<pre style=\"white-space:pre;overflow-x:auto;line-height:normal;font-family:Menlo,'DejaVu Sans Mono',consolas,'Courier New',monospace\">\n",
              "✅ <span style=\"color: #800080; text-decoration-color: #800080; font-weight: bold\">Hoàn thành bước:</span> <span style=\"color: #808000; text-decoration-color: #808000\">notewriter</span>\n",
              "</pre>\n"
            ]
          },
          "metadata": {}
        },
        {
          "output_type": "display_data",
          "data": {
            "text/plain": [
              "\u001b[1m{\u001b[0m\n",
              "    \u001b[32m'agent_outputs'\u001b[0m: \u001b[1m{\u001b[0m\n",
              "        \u001b[32m'notes'\u001b[0m: \u001b[32m\"Based on the provided information, I will create a detailed learning plan for the student to \u001b[0m\n",
              "\u001b[32mlearn about K-Nearest Neighbors \u001b[0m\u001b[32m(\u001b[0m\u001b[32mKNN\u001b[0m\u001b[32m)\u001b[0m\u001b[32m algorithm. Considering the student's learning preferences and schedule, I \u001b[0m\n",
              "\u001b[32mrecommend the following plan:\\n\\n**Day 1-2:** Review the basics of KNN algorithm, including its advantages and \u001b[0m\n",
              "\u001b[32mdisadvantages, and how it works.\\n\\n**Day 3-4:** Study the applications of KNN in real-world scenarios, such as \u001b[0m\n",
              "\u001b[32mspam detection and image classification.\\n\\n**Day 5-6:** Practice implementing KNN algorithm using Python or other \u001b[0m\n",
              "\u001b[32mprogramming languages.\\n\\n**Day 7:** Review and summarize the key concepts learned throughout the \u001b[0m\n",
              "\u001b[32mweek.\\n\\nAdditionally, I suggest the student to take breaks and prioritize their tasks according to their schedule.\u001b[0m\n",
              "\u001b[32mIt's also important to review and practice regularly to reinforce their understanding of the concept.\"\u001b[0m\n",
              "    \u001b[1m}\u001b[0m,\n",
              "    \u001b[32m'completed_agents'\u001b[0m: \u001b[1m[\u001b[0m\u001b[32m'NOTEWRITER'\u001b[0m\u001b[1m]\u001b[0m\n",
              "\u001b[1m}\u001b[0m\n"
            ],
            "text/html": [
              "<pre style=\"white-space:pre;overflow-x:auto;line-height:normal;font-family:Menlo,'DejaVu Sans Mono',consolas,'Courier New',monospace\"><span style=\"font-weight: bold\">{</span>\n",
              "    <span style=\"color: #008000; text-decoration-color: #008000\">'agent_outputs'</span>: <span style=\"font-weight: bold\">{</span>\n",
              "        <span style=\"color: #008000; text-decoration-color: #008000\">'notes'</span>: <span style=\"color: #008000; text-decoration-color: #008000\">\"Based on the provided information, I will create a detailed learning plan for the student to </span>\n",
              "<span style=\"color: #008000; text-decoration-color: #008000\">learn about K-Nearest Neighbors (KNN) algorithm. Considering the student's learning preferences and schedule, I </span>\n",
              "<span style=\"color: #008000; text-decoration-color: #008000\">recommend the following plan:\\n\\n**Day 1-2:** Review the basics of KNN algorithm, including its advantages and </span>\n",
              "<span style=\"color: #008000; text-decoration-color: #008000\">disadvantages, and how it works.\\n\\n**Day 3-4:** Study the applications of KNN in real-world scenarios, such as </span>\n",
              "<span style=\"color: #008000; text-decoration-color: #008000\">spam detection and image classification.\\n\\n**Day 5-6:** Practice implementing KNN algorithm using Python or other </span>\n",
              "<span style=\"color: #008000; text-decoration-color: #008000\">programming languages.\\n\\n**Day 7:** Review and summarize the key concepts learned throughout the </span>\n",
              "<span style=\"color: #008000; text-decoration-color: #008000\">week.\\n\\nAdditionally, I suggest the student to take breaks and prioritize their tasks according to their schedule.</span>\n",
              "<span style=\"color: #008000; text-decoration-color: #008000\">It's also important to review and practice regularly to reinforce their understanding of the concept.\"</span>\n",
              "    <span style=\"font-weight: bold\">}</span>,\n",
              "    <span style=\"color: #008000; text-decoration-color: #008000\">'completed_agents'</span>: <span style=\"font-weight: bold\">[</span><span style=\"color: #008000; text-decoration-color: #008000\">'NOTEWRITER'</span><span style=\"font-weight: bold\">]</span>\n",
              "<span style=\"font-weight: bold\">}</span>\n",
              "</pre>\n"
            ]
          },
          "metadata": {}
        },
        {
          "output_type": "stream",
          "name": "stdout",
          "text": [
            "\n",
            "--- [ADVISOR] Bắt đầu làm việc... ---\n",
            "--- [ADVISOR] Đã tạo sản phẩm thành công.\n"
          ]
        },
        {
          "output_type": "display_data",
          "data": {
            "text/plain": [
              "\n",
              "✅ \u001b[1;35mHoàn thành bước:\u001b[0m \u001b[33madvisor\u001b[0m\n"
            ],
            "text/html": [
              "<pre style=\"white-space:pre;overflow-x:auto;line-height:normal;font-family:Menlo,'DejaVu Sans Mono',consolas,'Courier New',monospace\">\n",
              "✅ <span style=\"color: #800080; text-decoration-color: #800080; font-weight: bold\">Hoàn thành bước:</span> <span style=\"color: #808000; text-decoration-color: #808000\">advisor</span>\n",
              "</pre>\n"
            ]
          },
          "metadata": {}
        },
        {
          "output_type": "display_data",
          "data": {
            "text/plain": [
              "\u001b[1m{\u001b[0m\n",
              "    \u001b[32m'agent_outputs'\u001b[0m: \u001b[1m{\u001b[0m\n",
              "        \u001b[32m'advice'\u001b[0m: \u001b[32m\"Based on the provided information, I recommend a detailed learning plan for the student to learn\u001b[0m\n",
              "\u001b[32mabout K-Nearest Neighbors \u001b[0m\u001b[32m(\u001b[0m\u001b[32mKNN\u001b[0m\u001b[32m)\u001b[0m\u001b[32m algorithm. Considering the student's learning preferences and schedule, I suggest \u001b[0m\n",
              "\u001b[32mthe following plan:\\n\\n**Day 1-2:** Review the basics of KNN algorithm, including its advantages and disadvantages,\u001b[0m\n",
              "\u001b[32mand how it works.\\n\\n**Day 3-4:** Study the applications of KNN in real-world scenarios, such as spam detection and\u001b[0m\n",
              "\u001b[32mimage classification.\\n\\n**Day 5-6:** Practice implementing KNN algorithm using Python or other programming \u001b[0m\n",
              "\u001b[32mlanguages.\\n\\n**Day 7:** Review and summarize the key concepts learned throughout the week.\\n\\nAdditionally, I \u001b[0m\n",
              "\u001b[32msuggest the student to take breaks and prioritize their tasks according to their schedule. It's also important to \u001b[0m\n",
              "\u001b[32mreview and practice regularly to reinforce their understanding of the concept.\"\u001b[0m\n",
              "    \u001b[1m}\u001b[0m,\n",
              "    \u001b[32m'completed_agents'\u001b[0m: \u001b[1m[\u001b[0m\u001b[32m'ADVISOR'\u001b[0m\u001b[1m]\u001b[0m\n",
              "\u001b[1m}\u001b[0m\n"
            ],
            "text/html": [
              "<pre style=\"white-space:pre;overflow-x:auto;line-height:normal;font-family:Menlo,'DejaVu Sans Mono',consolas,'Courier New',monospace\"><span style=\"font-weight: bold\">{</span>\n",
              "    <span style=\"color: #008000; text-decoration-color: #008000\">'agent_outputs'</span>: <span style=\"font-weight: bold\">{</span>\n",
              "        <span style=\"color: #008000; text-decoration-color: #008000\">'advice'</span>: <span style=\"color: #008000; text-decoration-color: #008000\">\"Based on the provided information, I recommend a detailed learning plan for the student to learn</span>\n",
              "<span style=\"color: #008000; text-decoration-color: #008000\">about K-Nearest Neighbors (KNN) algorithm. Considering the student's learning preferences and schedule, I suggest </span>\n",
              "<span style=\"color: #008000; text-decoration-color: #008000\">the following plan:\\n\\n**Day 1-2:** Review the basics of KNN algorithm, including its advantages and disadvantages,</span>\n",
              "<span style=\"color: #008000; text-decoration-color: #008000\">and how it works.\\n\\n**Day 3-4:** Study the applications of KNN in real-world scenarios, such as spam detection and</span>\n",
              "<span style=\"color: #008000; text-decoration-color: #008000\">image classification.\\n\\n**Day 5-6:** Practice implementing KNN algorithm using Python or other programming </span>\n",
              "<span style=\"color: #008000; text-decoration-color: #008000\">languages.\\n\\n**Day 7:** Review and summarize the key concepts learned throughout the week.\\n\\nAdditionally, I </span>\n",
              "<span style=\"color: #008000; text-decoration-color: #008000\">suggest the student to take breaks and prioritize their tasks according to their schedule. It's also important to </span>\n",
              "<span style=\"color: #008000; text-decoration-color: #008000\">review and practice regularly to reinforce their understanding of the concept.\"</span>\n",
              "    <span style=\"font-weight: bold\">}</span>,\n",
              "    <span style=\"color: #008000; text-decoration-color: #008000\">'completed_agents'</span>: <span style=\"font-weight: bold\">[</span><span style=\"color: #008000; text-decoration-color: #008000\">'ADVISOR'</span><span style=\"font-weight: bold\">]</span>\n",
              "<span style=\"font-weight: bold\">}</span>\n",
              "</pre>\n"
            ]
          },
          "metadata": {}
        },
        {
          "output_type": "stream",
          "name": "stdout",
          "text": [
            "\n",
            "--- [Synthesizer] Bắt đầu tổng hợp báo cáo cuối cùng ---\n"
          ]
        },
        {
          "output_type": "display_data",
          "data": {
            "text/plain": [
              "\n",
              "✅ \u001b[1;35mHoàn thành bước:\u001b[0m \u001b[33msynthesizer\u001b[0m\n"
            ],
            "text/html": [
              "<pre style=\"white-space:pre;overflow-x:auto;line-height:normal;font-family:Menlo,'DejaVu Sans Mono',consolas,'Courier New',monospace\">\n",
              "✅ <span style=\"color: #800080; text-decoration-color: #800080; font-weight: bold\">Hoàn thành bước:</span> <span style=\"color: #808000; text-decoration-color: #808000\">synthesizer</span>\n",
              "</pre>\n"
            ]
          },
          "metadata": {}
        },
        {
          "output_type": "display_data",
          "data": {
            "text/plain": [
              "\u001b[1m{\u001b[0m\n",
              "    \u001b[32m'final_report'\u001b[0m: \u001b[32m'Here is a comprehensive report that combines the three products from the \u001b[0m\n",
              "\u001b[32mexperts:\\n\\n**Comprehensive Learning Plan for K-Nearest Neighbors \u001b[0m\u001b[32m(\u001b[0m\u001b[32mKNN\u001b[0m\u001b[32m)\u001b[0m\u001b[32m Algorithm**\\n\\n**Introduction**\\n\\nBased on\u001b[0m\n",
              "\u001b[32myour request, I have created a detailed learning plan for you to learn about the K-Nearest Neighbors \u001b[0m\u001b[32m(\u001b[0m\u001b[32mKNN\u001b[0m\u001b[32m)\u001b[0m\u001b[32m \u001b[0m\n",
              "\u001b[32malgorithm, considering your busy schedule and learning preferences.\\n\\n**Learning Plan**\\n\\nTo ensure effective \u001b[0m\n",
              "\u001b[32mlearning, I recommend the following plan:\\n\\n**Day 1-2:** Review the basics of KNN algorithm, including its \u001b[0m\n",
              "\u001b[32madvantages and disadvantages, and how it works.\\n\\n**Day 3-4:** Study the applications of KNN in real-world \u001b[0m\n",
              "\u001b[32mscenarios, such as spam detection and image classification.\\n\\n**Day 5-6:** Practice implementing KNN algorithm \u001b[0m\n",
              "\u001b[32musing Python or other programming languages.\\n\\n**Day 7:** Review and summarize the key concepts learned throughout\u001b[0m\n",
              "\u001b[32mthe week.\\n\\n**Additional Tips**\\n\\n* Take breaks and prioritize your tasks according to your schedule.\\n* Review \u001b[0m\n",
              "\u001b[32mand practice regularly to reinforce your understanding of the concept.\\n\\n**Key Notes**\\n\\n* Review the basics of \u001b[0m\n",
              "\u001b[32mKNN algorithm, including its advantages and disadvantages, and how it works.\\n* Study the applications of KNN in \u001b[0m\n",
              "\u001b[32mreal-world scenarios, such as spam detection and image classification.\\n* Practice implementing KNN algorithm using\u001b[0m\n",
              "\u001b[32mPython or other programming languages.\\n* Review and summarize the key concepts learned throughout the \u001b[0m\n",
              "\u001b[32mweek.\\n\\n**Advice**\\n\\nTo ensure successful learning, I suggest that you:\\n\\n* Follow the recommended learning plan\u001b[0m\n",
              "\u001b[32mto stay on track.\\n* Take breaks and prioritize your tasks according to your schedule.\\n* Review and practice \u001b[0m\n",
              "\u001b[32mregularly to reinforce your understanding of the concept.\\n\\nBy following this comprehensive learning plan, you \u001b[0m\n",
              "\u001b[32mwill be able to gain a thorough understanding of the K-Nearest Neighbors \u001b[0m\u001b[32m(\u001b[0m\u001b[32mKNN\u001b[0m\u001b[32m)\u001b[0m\u001b[32m algorithm and its applications. Good\u001b[0m\n",
              "\u001b[32mluck with your learning!'\u001b[0m\n",
              "\u001b[1m}\u001b[0m\n"
            ],
            "text/html": [
              "<pre style=\"white-space:pre;overflow-x:auto;line-height:normal;font-family:Menlo,'DejaVu Sans Mono',consolas,'Courier New',monospace\"><span style=\"font-weight: bold\">{</span>\n",
              "    <span style=\"color: #008000; text-decoration-color: #008000\">'final_report'</span>: <span style=\"color: #008000; text-decoration-color: #008000\">'Here is a comprehensive report that combines the three products from the </span>\n",
              "<span style=\"color: #008000; text-decoration-color: #008000\">experts:\\n\\n**Comprehensive Learning Plan for K-Nearest Neighbors (KNN) Algorithm**\\n\\n**Introduction**\\n\\nBased on</span>\n",
              "<span style=\"color: #008000; text-decoration-color: #008000\">your request, I have created a detailed learning plan for you to learn about the K-Nearest Neighbors (KNN) </span>\n",
              "<span style=\"color: #008000; text-decoration-color: #008000\">algorithm, considering your busy schedule and learning preferences.\\n\\n**Learning Plan**\\n\\nTo ensure effective </span>\n",
              "<span style=\"color: #008000; text-decoration-color: #008000\">learning, I recommend the following plan:\\n\\n**Day 1-2:** Review the basics of KNN algorithm, including its </span>\n",
              "<span style=\"color: #008000; text-decoration-color: #008000\">advantages and disadvantages, and how it works.\\n\\n**Day 3-4:** Study the applications of KNN in real-world </span>\n",
              "<span style=\"color: #008000; text-decoration-color: #008000\">scenarios, such as spam detection and image classification.\\n\\n**Day 5-6:** Practice implementing KNN algorithm </span>\n",
              "<span style=\"color: #008000; text-decoration-color: #008000\">using Python or other programming languages.\\n\\n**Day 7:** Review and summarize the key concepts learned throughout</span>\n",
              "<span style=\"color: #008000; text-decoration-color: #008000\">the week.\\n\\n**Additional Tips**\\n\\n* Take breaks and prioritize your tasks according to your schedule.\\n* Review </span>\n",
              "<span style=\"color: #008000; text-decoration-color: #008000\">and practice regularly to reinforce your understanding of the concept.\\n\\n**Key Notes**\\n\\n* Review the basics of </span>\n",
              "<span style=\"color: #008000; text-decoration-color: #008000\">KNN algorithm, including its advantages and disadvantages, and how it works.\\n* Study the applications of KNN in </span>\n",
              "<span style=\"color: #008000; text-decoration-color: #008000\">real-world scenarios, such as spam detection and image classification.\\n* Practice implementing KNN algorithm using</span>\n",
              "<span style=\"color: #008000; text-decoration-color: #008000\">Python or other programming languages.\\n* Review and summarize the key concepts learned throughout the </span>\n",
              "<span style=\"color: #008000; text-decoration-color: #008000\">week.\\n\\n**Advice**\\n\\nTo ensure successful learning, I suggest that you:\\n\\n* Follow the recommended learning plan</span>\n",
              "<span style=\"color: #008000; text-decoration-color: #008000\">to stay on track.\\n* Take breaks and prioritize your tasks according to your schedule.\\n* Review and practice </span>\n",
              "<span style=\"color: #008000; text-decoration-color: #008000\">regularly to reinforce your understanding of the concept.\\n\\nBy following this comprehensive learning plan, you </span>\n",
              "<span style=\"color: #008000; text-decoration-color: #008000\">will be able to gain a thorough understanding of the K-Nearest Neighbors (KNN) algorithm and its applications. Good</span>\n",
              "<span style=\"color: #008000; text-decoration-color: #008000\">luck with your learning!'</span>\n",
              "<span style=\"font-weight: bold\">}</span>\n",
              "</pre>\n"
            ]
          },
          "metadata": {}
        },
        {
          "output_type": "stream",
          "name": "stdout",
          "text": [
            "\n",
            "--- [Reflection] Đang suy nghĩ về các bước tiếp theo... ---\n"
          ]
        },
        {
          "output_type": "display_data",
          "data": {
            "text/plain": [
              "\n",
              "✅ \u001b[1;35mHoàn thành bước:\u001b[0m \u001b[33mreflection\u001b[0m\n"
            ],
            "text/html": [
              "<pre style=\"white-space:pre;overflow-x:auto;line-height:normal;font-family:Menlo,'DejaVu Sans Mono',consolas,'Courier New',monospace\">\n",
              "✅ <span style=\"color: #800080; text-decoration-color: #800080; font-weight: bold\">Hoàn thành bước:</span> <span style=\"color: #808000; text-decoration-color: #808000\">reflection</span>\n",
              "</pre>\n"
            ]
          },
          "metadata": {}
        },
        {
          "output_type": "display_data",
          "data": {
            "text/plain": [
              "\u001b[1m{\u001b[0m\n",
              "    \u001b[32m'next_steps'\u001b[0m: \u001b[32m'Based on this comprehensive report, here are 3-4 potential next actions or questions that the \u001b[0m\n",
              "\u001b[32muser may want to take:\\n\\n1. **Start implementing the learning plan**: The user may want to begin following the \u001b[0m\n",
              "\u001b[32mrecommended learning plan, starting with reviewing the basics of the KNN algorithm on Day 1-2.\\n2. **Explore \u001b[0m\n",
              "\u001b[32madditional resources for practice**: The user may want to ask for additional resources or recommendations for \u001b[0m\n",
              "\u001b[32mpracticing the implementation of the KNN algorithm using Python or other programming languages.\\n3. **Seek \u001b[0m\n",
              "\u001b[32mclarification on specific concepts**: The user may have questions or need further clarification on certain \u001b[0m\n",
              "\u001b[32mconcepts, such as the advantages and disadvantages of the KNN algorithm or its applications in real-world \u001b[0m\n",
              "\u001b[32mscenarios.\\n4. **Request a progress tracking mechanism**: The user may want to ask for a way to track their \u001b[0m\n",
              "\u001b[32mprogress or receive feedback on their learning, such as a quiz or a checklist to ensure they are staying on track \u001b[0m\n",
              "\u001b[32mwith the learning plan.'\u001b[0m\n",
              "\u001b[1m}\u001b[0m\n"
            ],
            "text/html": [
              "<pre style=\"white-space:pre;overflow-x:auto;line-height:normal;font-family:Menlo,'DejaVu Sans Mono',consolas,'Courier New',monospace\"><span style=\"font-weight: bold\">{</span>\n",
              "    <span style=\"color: #008000; text-decoration-color: #008000\">'next_steps'</span>: <span style=\"color: #008000; text-decoration-color: #008000\">'Based on this comprehensive report, here are 3-4 potential next actions or questions that the </span>\n",
              "<span style=\"color: #008000; text-decoration-color: #008000\">user may want to take:\\n\\n1. **Start implementing the learning plan**: The user may want to begin following the </span>\n",
              "<span style=\"color: #008000; text-decoration-color: #008000\">recommended learning plan, starting with reviewing the basics of the KNN algorithm on Day 1-2.\\n2. **Explore </span>\n",
              "<span style=\"color: #008000; text-decoration-color: #008000\">additional resources for practice**: The user may want to ask for additional resources or recommendations for </span>\n",
              "<span style=\"color: #008000; text-decoration-color: #008000\">practicing the implementation of the KNN algorithm using Python or other programming languages.\\n3. **Seek </span>\n",
              "<span style=\"color: #008000; text-decoration-color: #008000\">clarification on specific concepts**: The user may have questions or need further clarification on certain </span>\n",
              "<span style=\"color: #008000; text-decoration-color: #008000\">concepts, such as the advantages and disadvantages of the KNN algorithm or its applications in real-world </span>\n",
              "<span style=\"color: #008000; text-decoration-color: #008000\">scenarios.\\n4. **Request a progress tracking mechanism**: The user may want to ask for a way to track their </span>\n",
              "<span style=\"color: #008000; text-decoration-color: #008000\">progress or receive feedback on their learning, such as a quiz or a checklist to ensure they are staying on track </span>\n",
              "<span style=\"color: #008000; text-decoration-color: #008000\">with the learning plan.'</span>\n",
              "<span style=\"font-weight: bold\">}</span>\n",
              "</pre>\n"
            ]
          },
          "metadata": {}
        },
        {
          "output_type": "stream",
          "name": "stdout",
          "text": [
            "\n",
            "--- [Hệ thống] Đang lấy kết quả cuối cùng... ---\n",
            "\n",
            "--- [Coordinator] Đang quyết định các chuyên gia cần thiết... ---\n",
            "--- [Coordinator] Quyết định: Cần các agent ['PLANNER', 'NOTEWRITER', 'ADVISOR']\n",
            "\n",
            "--- [Tool User] Thu thập tất cả thông tin ban đầu... ---\n",
            "--- [Tool User] Quyết định gọi công cụ: ['google_calendar_reader', 'active_tasks_reader', 'tavily_web_search']\n",
            "--- [Calendar Tool] Đang đọc lịch: td.tan2711@gmail.com\n",
            "--- [Calendar Tool] Tìm thấy 4 sự kiện.\n",
            "--- [Tool User] Đã thu thập và định dạng xong thông tin.\n",
            "\n",
            "--- [PLANNER] Bắt đầu làm việc... ---\n",
            "--- [PLANNER] Đã tạo sản phẩm thành công.\n",
            "\n",
            "--- [NOTEWRITER] Bắt đầu làm việc... ---\n",
            "--- [NOTEWRITER] Đã tạo sản phẩm thành công.\n",
            "\n",
            "--- [ADVISOR] Bắt đầu làm việc... ---\n",
            "--- [ADVISOR] Đã tạo sản phẩm thành công.\n",
            "\n",
            "--- [Synthesizer] Bắt đầu tổng hợp báo cáo cuối cùng ---\n",
            "\n",
            "--- [Reflection] Đang suy nghĩ về các bước tiếp theo... ---\n"
          ]
        },
        {
          "output_type": "display_data",
          "data": {
            "text/plain": [
              "\n",
              "\n",
              "\u001b[1;32m================================================================================\u001b[0m\n"
            ],
            "text/html": [
              "<pre style=\"white-space:pre;overflow-x:auto;line-height:normal;font-family:Menlo,'DejaVu Sans Mono',consolas,'Courier New',monospace\">\n",
              "\n",
              "<span style=\"color: #008000; text-decoration-color: #008000; font-weight: bold\">================================================================================</span>\n",
              "</pre>\n"
            ]
          },
          "metadata": {}
        },
        {
          "output_type": "display_data",
          "data": {
            "text/plain": [
              "\u001b[1;32m HỆ THỐNG ATLAS \u001b[0m\u001b[1;36m2.0\u001b[0m\u001b[1;32m ĐÃ HOÀN THÀNH TÁC VỤ!\u001b[0m\n"
            ],
            "text/html": [
              "<pre style=\"white-space:pre;overflow-x:auto;line-height:normal;font-family:Menlo,'DejaVu Sans Mono',consolas,'Courier New',monospace\"><span style=\"color: #008000; text-decoration-color: #008000; font-weight: bold\"> HỆ THỐNG ATLAS </span><span style=\"color: #008080; text-decoration-color: #008080; font-weight: bold\">2.0</span><span style=\"color: #008000; text-decoration-color: #008000; font-weight: bold\"> ĐÃ HOÀN THÀNH TÁC VỤ!</span>\n",
              "</pre>\n"
            ]
          },
          "metadata": {}
        },
        {
          "output_type": "display_data",
          "data": {
            "text/plain": [
              "\u001b[1;32m================================================================================\u001b[0m\n"
            ],
            "text/html": [
              "<pre style=\"white-space:pre;overflow-x:auto;line-height:normal;font-family:Menlo,'DejaVu Sans Mono',consolas,'Courier New',monospace\"><span style=\"color: #008000; text-decoration-color: #008000; font-weight: bold\">================================================================================</span>\n",
              "</pre>\n"
            ]
          },
          "metadata": {}
        },
        {
          "output_type": "display_data",
          "data": {
            "text/plain": [
              "\n",
              "--- \u001b[1;34mBÁO CÁO TỔNG HỢP CUỐI CÙNG\u001b[0m ---\n"
            ],
            "text/html": [
              "<pre style=\"white-space:pre;overflow-x:auto;line-height:normal;font-family:Menlo,'DejaVu Sans Mono',consolas,'Courier New',monospace\">\n",
              "--- <span style=\"color: #000080; text-decoration-color: #000080; font-weight: bold\">BÁO CÁO TỔNG HỢP CUỐI CÙNG</span> ---\n",
              "</pre>\n"
            ]
          },
          "metadata": {}
        },
        {
          "output_type": "display_data",
          "data": {
            "text/plain": [
              "Here is the consolidated report:                                                                                   \n",
              "\n",
              "\u001b[1mDetailed Study Plan for Learning K-Nearest Neighbors (KNN) Algorithm\u001b[0m                                               \n",
              "\n",
              "Based on your request, I have created a tailored study plan to help you learn the K-Nearest Neighbors (KNN)        \n",
              "algorithm effectively, considering your busy schedule and learning preferences.                                    \n",
              "\n",
              "\u001b[1mStudy Plan:\u001b[0m                                                                                                        \n",
              "\n",
              "\u001b[1;33m 1 \u001b[0mDay 1-2: Review the basics of KNN algorithm, its advantages, and disadvantages.                                 \n",
              "\u001b[1;33m 2 \u001b[0mDay 3-4: Watch video lectures and read articles on KNN to understand its implementation and applications.       \n",
              "\u001b[1;33m 3 \u001b[0mDay 5-6: Practice coding exercises and implement KNN algorithm using a programming language of choice.          \n",
              "\u001b[1;33m 4 \u001b[0mDay 7: Review and revise the learned concepts, and take a practice quiz to assess understanding.                \n",
              "\n",
              "\u001b[1mTips and Recommendations:\u001b[0m                                                                                          \n",
              "\n",
              "\u001b[1;33m • \u001b[0mCreate a schedule and stick to it to ensure consistent learning.                                                \n",
              "\u001b[1;33m • \u001b[0mUse visual aids like diagrams and mind maps to understand complex concepts.                                     \n",
              "\u001b[1;33m • \u001b[0mTake regular breaks to avoid burnout and maintain focus.                                                        \n",
              "\u001b[1;33m • \u001b[0mPractice coding exercises to reinforce learning.                                                                \n",
              "\u001b[1;33m • \u001b[0mReview and revise learned concepts regularly to retain information.                                             \n",
              "\n",
              "By following this study plan, you can effectively learn the KNN algorithm and its applications. Remember to stay   \n",
              "committed to your schedule, take breaks, and practice regularly to achieve your learning goals.                    \n",
              "\n",
              "\u001b[1mKey Takeaways:\u001b[0m                                                                                                     \n",
              "\n",
              "\u001b[1;33m • \u001b[0mReview the basics of KNN algorithm, its advantages, and disadvantages.                                          \n",
              "\u001b[1;33m • \u001b[0mWatch video lectures and read articles on KNN to understand its implementation and applications.                \n",
              "\u001b[1;33m • \u001b[0mPractice coding exercises and implement KNN algorithm using a programming language of choice.                   \n",
              "\u001b[1;33m • \u001b[0mReview and revise learned concepts regularly to retain information.                                             \n",
              "\n",
              "\u001b[1mAdditional Advice:\u001b[0m                                                                                                 \n",
              "\n",
              "To ensure consistent learning and retention of information, it is essential to stick to your schedule, take regular\n",
              "breaks, and practice regularly. By following this study plan, you will be able to learn the KNN algorithm          \n",
              "effectively and apply it in real-world scenarios.                                                                  \n"
            ],
            "text/html": [
              "<pre style=\"white-space:pre;overflow-x:auto;line-height:normal;font-family:Menlo,'DejaVu Sans Mono',consolas,'Courier New',monospace\">Here is the consolidated report:                                                                                   \n",
              "\n",
              "<span style=\"font-weight: bold\">Detailed Study Plan for Learning K-Nearest Neighbors (KNN) Algorithm</span>                                               \n",
              "\n",
              "Based on your request, I have created a tailored study plan to help you learn the K-Nearest Neighbors (KNN)        \n",
              "algorithm effectively, considering your busy schedule and learning preferences.                                    \n",
              "\n",
              "<span style=\"font-weight: bold\">Study Plan:</span>                                                                                                        \n",
              "\n",
              "<span style=\"color: #808000; text-decoration-color: #808000; font-weight: bold\"> 1 </span>Day 1-2: Review the basics of KNN algorithm, its advantages, and disadvantages.                                 \n",
              "<span style=\"color: #808000; text-decoration-color: #808000; font-weight: bold\"> 2 </span>Day 3-4: Watch video lectures and read articles on KNN to understand its implementation and applications.       \n",
              "<span style=\"color: #808000; text-decoration-color: #808000; font-weight: bold\"> 3 </span>Day 5-6: Practice coding exercises and implement KNN algorithm using a programming language of choice.          \n",
              "<span style=\"color: #808000; text-decoration-color: #808000; font-weight: bold\"> 4 </span>Day 7: Review and revise the learned concepts, and take a practice quiz to assess understanding.                \n",
              "\n",
              "<span style=\"font-weight: bold\">Tips and Recommendations:</span>                                                                                          \n",
              "\n",
              "<span style=\"color: #808000; text-decoration-color: #808000; font-weight: bold\"> • </span>Create a schedule and stick to it to ensure consistent learning.                                                \n",
              "<span style=\"color: #808000; text-decoration-color: #808000; font-weight: bold\"> • </span>Use visual aids like diagrams and mind maps to understand complex concepts.                                     \n",
              "<span style=\"color: #808000; text-decoration-color: #808000; font-weight: bold\"> • </span>Take regular breaks to avoid burnout and maintain focus.                                                        \n",
              "<span style=\"color: #808000; text-decoration-color: #808000; font-weight: bold\"> • </span>Practice coding exercises to reinforce learning.                                                                \n",
              "<span style=\"color: #808000; text-decoration-color: #808000; font-weight: bold\"> • </span>Review and revise learned concepts regularly to retain information.                                             \n",
              "\n",
              "By following this study plan, you can effectively learn the KNN algorithm and its applications. Remember to stay   \n",
              "committed to your schedule, take breaks, and practice regularly to achieve your learning goals.                    \n",
              "\n",
              "<span style=\"font-weight: bold\">Key Takeaways:</span>                                                                                                     \n",
              "\n",
              "<span style=\"color: #808000; text-decoration-color: #808000; font-weight: bold\"> • </span>Review the basics of KNN algorithm, its advantages, and disadvantages.                                          \n",
              "<span style=\"color: #808000; text-decoration-color: #808000; font-weight: bold\"> • </span>Watch video lectures and read articles on KNN to understand its implementation and applications.                \n",
              "<span style=\"color: #808000; text-decoration-color: #808000; font-weight: bold\"> • </span>Practice coding exercises and implement KNN algorithm using a programming language of choice.                   \n",
              "<span style=\"color: #808000; text-decoration-color: #808000; font-weight: bold\"> • </span>Review and revise learned concepts regularly to retain information.                                             \n",
              "\n",
              "<span style=\"font-weight: bold\">Additional Advice:</span>                                                                                                 \n",
              "\n",
              "To ensure consistent learning and retention of information, it is essential to stick to your schedule, take regular\n",
              "breaks, and practice regularly. By following this study plan, you will be able to learn the KNN algorithm          \n",
              "effectively and apply it in real-world scenarios.                                                                  \n",
              "</pre>\n"
            ]
          },
          "metadata": {}
        },
        {
          "output_type": "display_data",
          "data": {
            "text/plain": [
              "\n",
              "--- \u001b[1;34mGỢI Ý CÁC BƯỚC TIẾP THEO\u001b[0m ---\n"
            ],
            "text/html": [
              "<pre style=\"white-space:pre;overflow-x:auto;line-height:normal;font-family:Menlo,'DejaVu Sans Mono',consolas,'Courier New',monospace\">\n",
              "--- <span style=\"color: #000080; text-decoration-color: #000080; font-weight: bold\">GỢI Ý CÁC BƯỚC TIẾP THEO</span> ---\n",
              "</pre>\n"
            ]
          },
          "metadata": {}
        },
        {
          "output_type": "display_data",
          "data": {
            "text/plain": [
              "Based on this consolidated report, here are 3-4 potential next actions or questions that the user may want to take:\n",
              "\n",
              "\u001b[1;33m 1 \u001b[0m\u001b[1mStart implementing the study plan\u001b[0m: The user may want to begin following the study plan, starting with reviewing \n",
              "\u001b[1;33m   \u001b[0mthe basics of the KNN algorithm, its advantages, and disadvantages on Day 1-2.                                  \n",
              "\u001b[1;33m 2 \u001b[0m\u001b[1mChoose a programming language for implementation\u001b[0m: The user may want to decide on a programming language to use  \n",
              "\u001b[1;33m   \u001b[0mfor implementing the KNN algorithm, such as Python, R, or MATLAB, and start setting up the necessary environment\n",
              "\u001b[1;33m   \u001b[0mand tools.                                                                                                      \n",
              "\u001b[1;33m 3 \u001b[0m\u001b[1mFind additional resources for video lectures and articles\u001b[0m: The user may want to search for video lectures and   \n",
              "\u001b[1;33m   \u001b[0marticles on KNN to supplement their learning, and potentially explore online courses or tutorials that can      \n",
              "\u001b[1;33m   \u001b[0mprovide more in-depth instruction.                                                                              \n",
              "\u001b[1;33m 4 \u001b[0m\u001b[1mCreate a schedule and track progress\u001b[0m: The user may want to create a schedule to stick to, and set up a system to\n",
              "\u001b[1;33m   \u001b[0mtrack their progress, such as a habit tracker or a learning journal, to ensure they stay committed to their     \n",
              "\u001b[1;33m   \u001b[0mlearning goals.                                                                                                 \n"
            ],
            "text/html": [
              "<pre style=\"white-space:pre;overflow-x:auto;line-height:normal;font-family:Menlo,'DejaVu Sans Mono',consolas,'Courier New',monospace\">Based on this consolidated report, here are 3-4 potential next actions or questions that the user may want to take:\n",
              "\n",
              "<span style=\"color: #808000; text-decoration-color: #808000; font-weight: bold\"> 1 </span><span style=\"font-weight: bold\">Start implementing the study plan</span>: The user may want to begin following the study plan, starting with reviewing \n",
              "<span style=\"color: #808000; text-decoration-color: #808000; font-weight: bold\">   </span>the basics of the KNN algorithm, its advantages, and disadvantages on Day 1-2.                                  \n",
              "<span style=\"color: #808000; text-decoration-color: #808000; font-weight: bold\"> 2 </span><span style=\"font-weight: bold\">Choose a programming language for implementation</span>: The user may want to decide on a programming language to use  \n",
              "<span style=\"color: #808000; text-decoration-color: #808000; font-weight: bold\">   </span>for implementing the KNN algorithm, such as Python, R, or MATLAB, and start setting up the necessary environment\n",
              "<span style=\"color: #808000; text-decoration-color: #808000; font-weight: bold\">   </span>and tools.                                                                                                      \n",
              "<span style=\"color: #808000; text-decoration-color: #808000; font-weight: bold\"> 3 </span><span style=\"font-weight: bold\">Find additional resources for video lectures and articles</span>: The user may want to search for video lectures and   \n",
              "<span style=\"color: #808000; text-decoration-color: #808000; font-weight: bold\">   </span>articles on KNN to supplement their learning, and potentially explore online courses or tutorials that can      \n",
              "<span style=\"color: #808000; text-decoration-color: #808000; font-weight: bold\">   </span>provide more in-depth instruction.                                                                              \n",
              "<span style=\"color: #808000; text-decoration-color: #808000; font-weight: bold\"> 4 </span><span style=\"font-weight: bold\">Create a schedule and track progress</span>: The user may want to create a schedule to stick to, and set up a system to\n",
              "<span style=\"color: #808000; text-decoration-color: #808000; font-weight: bold\">   </span>track their progress, such as a habit tracker or a learning journal, to ensure they stay committed to their     \n",
              "<span style=\"color: #808000; text-decoration-color: #808000; font-weight: bold\">   </span>learning goals.                                                                                                 \n",
              "</pre>\n"
            ]
          },
          "metadata": {}
        }
      ]
    },
    {
      "cell_type": "code",
      "source": [
        "from IPython.display import Image, display\n",
        "\n",
        "try:\n",
        "    # Lấy ra đối tượng graph từ app đã biên dịch\n",
        "    graph = app.get_graph()\n",
        "\n",
        "    # Vẽ graph ra dưới dạng dữ liệu file PNG\n",
        "    png_data = graph.draw_mermaid_png()\n",
        "\n",
        "    # Hiển thị hình ảnh trực tiếp trong notebook\n",
        "    display(Image(png_data))\n",
        "\n",
        "except Exception as e:\n",
        "    print(f\"Lỗi khi vẽ graph: {e}\")"
      ],
      "metadata": {
        "id": "bN9kMMGE9-Fz",
        "colab": {
          "base_uri": "https://localhost:8080/",
          "height": 846
        },
        "outputId": "264955d7-7469-45a7-e2e4-5ed4ebea1e23"
      },
      "execution_count": 5,
      "outputs": [
        {
          "output_type": "display_data",
          "data": {
            "image/png": "[encoded data removed]",
            "text/plain": [
              "<IPython.core.display.Image object>"
            ]
          },
          "metadata": {}
        }
      ]
    }
  ]
}