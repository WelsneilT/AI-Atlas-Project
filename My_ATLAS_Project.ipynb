{
  "nbformat": 4,
  "nbformat_minor": 0,
  "metadata": {
    "colab": {
      "provenance": []
    },
    "kernelspec": {
      "name": "python3",
      "display_name": "Python 3"
    },
    "language_info": {
      "name": "python"
    }
  },
  "cells": [
    {
      "cell_type": "markdown",
      "source": [
        "## STEP 1: INSTALLATION & IMPORTS"
      ],
      "metadata": {
        "id": "VFLapDYU1i5J"
      }
    },
    {
      "cell_type": "code",
      "execution_count": null,
      "metadata": {
        "colab": {
          "base_uri": "https://localhost:8080/"
        },
        "id": "3SoCAXmT0ILc",
        "outputId": "7eb8b993-f324-4110-95bf-9994b3ba8f19"
      },
      "outputs": [
        {
          "output_type": "stream",
          "name": "stdout",
          "text": [
            "Bắt đầu cài đặt các thư viện...\n",
            "\u001b[2K     \u001b[90m━━━━━━━━━━━━━━━━━━━━━━━━━━━━━━━━━━━━━━━━\u001b[0m \u001b[32m43.7/43.7 kB\u001b[0m \u001b[31m4.0 MB/s\u001b[0m eta \u001b[36m0:00:00\u001b[0m\n",
            "\u001b[2K   \u001b[90m━━━━━━━━━━━━━━━━━━━━━━━━━━━━━━━━━━━━━━━━\u001b[0m \u001b[32m153.2/153.2 kB\u001b[0m \u001b[31m9.9 MB/s\u001b[0m eta \u001b[36m0:00:00\u001b[0m\n",
            "\u001b[2K   \u001b[90m━━━━━━━━━━━━━━━━━━━━━━━━━━━━━━━━━━━━━━━━\u001b[0m \u001b[32m443.5/443.5 kB\u001b[0m \u001b[31m30.1 MB/s\u001b[0m eta \u001b[36m0:00:00\u001b[0m\n",
            "\u001b[2K   \u001b[90m━━━━━━━━━━━━━━━━━━━━━━━━━━━━━━━━━━━━━━━━\u001b[0m \u001b[32m2.5/2.5 MB\u001b[0m \u001b[31m91.8 MB/s\u001b[0m eta \u001b[36m0:00:00\u001b[0m\n",
            "\u001b[2K   \u001b[90m━━━━━━━━━━━━━━━━━━━━━━━━━━━━━━━━━━━━━━━━\u001b[0m \u001b[32m131.4/131.4 kB\u001b[0m \u001b[31m12.4 MB/s\u001b[0m eta \u001b[36m0:00:00\u001b[0m\n",
            "\u001b[2K   \u001b[90m━━━━━━━━━━━━━━━━━━━━━━━━━━━━━━━━━━━━━━━━\u001b[0m \u001b[32m243.4/243.4 kB\u001b[0m \u001b[31m21.8 MB/s\u001b[0m eta \u001b[36m0:00:00\u001b[0m\n",
            "\u001b[2K   \u001b[90m━━━━━━━━━━━━━━━━━━━━━━━━━━━━━━━━━━━━━━━━\u001b[0m \u001b[32m43.9/43.9 kB\u001b[0m \u001b[31m3.0 MB/s\u001b[0m eta \u001b[36m0:00:00\u001b[0m\n",
            "\u001b[2K   \u001b[90m━━━━━━━━━━━━━━━━━━━━━━━━━━━━━━━━━━━━━━━━\u001b[0m \u001b[32m50.6/50.6 kB\u001b[0m \u001b[31m4.0 MB/s\u001b[0m eta \u001b[36m0:00:00\u001b[0m\n",
            "\u001b[2K   \u001b[90m━━━━━━━━━━━━━━━━━━━━━━━━━━━━━━━━━━━━━━━━\u001b[0m \u001b[32m45.2/45.2 kB\u001b[0m \u001b[31m3.4 MB/s\u001b[0m eta \u001b[36m0:00:00\u001b[0m\n",
            "\u001b[2K   \u001b[90m━━━━━━━━━━━━━━━━━━━━━━━━━━━━━━━━━━━━━━━━\u001b[0m \u001b[32m50.9/50.9 kB\u001b[0m \u001b[31m4.7 MB/s\u001b[0m eta \u001b[36m0:00:00\u001b[0m\n",
            "\u001b[2K   \u001b[90m━━━━━━━━━━━━━━━━━━━━━━━━━━━━━━━━━━━━━━━━\u001b[0m \u001b[32m216.5/216.5 kB\u001b[0m \u001b[31m21.0 MB/s\u001b[0m eta \u001b[36m0:00:00\u001b[0m\n",
            "\u001b[?25h\u001b[31mERROR: pip's dependency resolver does not currently take into account all the packages that are installed. This behaviour is the source of the following dependency conflicts.\n",
            "bigframes 2.13.0 requires rich<14,>=12.4.4, but you have rich 14.1.0 which is incompatible.\u001b[0m\u001b[31m\n",
            "\u001b[0m"
          ]
        }
      ],
      "source": [
        "# --- 1. Installation ---\n",
        "# Cài đặt tất cả các thư viện cần thiết.\n",
        "# -qU: quiet (im lặng), upgrade (nâng cấp)\n",
        "print(\"Bắt đầu cài đặt các thư viện...\")\n",
        "!pip install -qU langgraph langchain langchain-core langchain-community groq python-dotenv rich"
      ]
    },
    {
      "cell_type": "code",
      "source": [
        "!pip install -qU tavily-python google-api-python-client google-auth-oauthlib\n",
        "print(\"Đã cài đặt các thư viện công cụ cần thiết.\")"
      ],
      "metadata": {
        "colab": {
          "base_uri": "https://localhost:8080/"
        },
        "id": "x560aMQnUDPo",
        "outputId": "08e5f02a-e67a-471f-fa1e-523111c55566"
      },
      "execution_count": null,
      "outputs": [
        {
          "output_type": "stream",
          "name": "stdout",
          "text": [
            "\u001b[2K   \u001b[90m━━━━━━━━━━━━━━━━━━━━━━━━━━━━━━━━━━━━━━━━\u001b[0m \u001b[32m13.8/13.8 MB\u001b[0m \u001b[31m84.9 MB/s\u001b[0m eta \u001b[36m0:00:00\u001b[0m\n",
            "\u001b[?25hĐã cài đặt các thư viện công cụ cần thiết.\n"
          ]
        }
      ]
    },
    {
      "cell_type": "code",
      "source": [
        "!pip install google-auth-httplib2 langchain-groq"
      ],
      "metadata": {
        "colab": {
          "base_uri": "https://localhost:8080/"
        },
        "id": "EOtw7rsObArN",
        "outputId": "7a5db35a-b726-408f-c413-4841dab97572"
      },
      "execution_count": null,
      "outputs": [
        {
          "output_type": "stream",
          "name": "stdout",
          "text": [
            "Requirement already satisfied: google-auth-httplib2 in /usr/local/lib/python3.11/dist-packages (0.2.0)\n",
            "Collecting langchain-groq\n",
            "  Downloading langchain_groq-0.3.7-py3-none-any.whl.metadata (2.6 kB)\n",
            "Requirement already satisfied: google-auth in /usr/local/lib/python3.11/dist-packages (from google-auth-httplib2) (2.38.0)\n",
            "Requirement already satisfied: httplib2>=0.19.0 in /usr/local/lib/python3.11/dist-packages (from google-auth-httplib2) (0.22.0)\n",
            "Requirement already satisfied: langchain-core<1.0.0,>=0.3.72 in /usr/local/lib/python3.11/dist-packages (from langchain-groq) (0.3.74)\n",
            "Requirement already satisfied: groq<1,>=0.30.0 in /usr/local/lib/python3.11/dist-packages (from langchain-groq) (0.31.0)\n",
            "Requirement already satisfied: anyio<5,>=3.5.0 in /usr/local/lib/python3.11/dist-packages (from groq<1,>=0.30.0->langchain-groq) (4.10.0)\n",
            "Requirement already satisfied: distro<2,>=1.7.0 in /usr/local/lib/python3.11/dist-packages (from groq<1,>=0.30.0->langchain-groq) (1.9.0)\n",
            "Requirement already satisfied: httpx<1,>=0.23.0 in /usr/local/lib/python3.11/dist-packages (from groq<1,>=0.30.0->langchain-groq) (0.28.1)\n",
            "Requirement already satisfied: pydantic<3,>=1.9.0 in /usr/local/lib/python3.11/dist-packages (from groq<1,>=0.30.0->langchain-groq) (2.11.7)\n",
            "Requirement already satisfied: sniffio in /usr/local/lib/python3.11/dist-packages (from groq<1,>=0.30.0->langchain-groq) (1.3.1)\n",
            "Requirement already satisfied: typing-extensions<5,>=4.10 in /usr/local/lib/python3.11/dist-packages (from groq<1,>=0.30.0->langchain-groq) (4.14.1)\n",
            "Requirement already satisfied: pyparsing!=3.0.0,!=3.0.1,!=3.0.2,!=3.0.3,<4,>=2.4.2 in /usr/local/lib/python3.11/dist-packages (from httplib2>=0.19.0->google-auth-httplib2) (3.2.3)\n",
            "Requirement already satisfied: langsmith>=0.3.45 in /usr/local/lib/python3.11/dist-packages (from langchain-core<1.0.0,>=0.3.72->langchain-groq) (0.4.10)\n",
            "Requirement already satisfied: tenacity!=8.4.0,<10.0.0,>=8.1.0 in /usr/local/lib/python3.11/dist-packages (from langchain-core<1.0.0,>=0.3.72->langchain-groq) (8.5.0)\n",
            "Requirement already satisfied: jsonpatch<2.0,>=1.33 in /usr/local/lib/python3.11/dist-packages (from langchain-core<1.0.0,>=0.3.72->langchain-groq) (1.33)\n",
            "Requirement already satisfied: PyYAML>=5.3 in /usr/local/lib/python3.11/dist-packages (from langchain-core<1.0.0,>=0.3.72->langchain-groq) (6.0.2)\n",
            "Requirement already satisfied: packaging>=23.2 in /usr/local/lib/python3.11/dist-packages (from langchain-core<1.0.0,>=0.3.72->langchain-groq) (25.0)\n",
            "Requirement already satisfied: cachetools<6.0,>=2.0.0 in /usr/local/lib/python3.11/dist-packages (from google-auth->google-auth-httplib2) (5.5.2)\n",
            "Requirement already satisfied: pyasn1-modules>=0.2.1 in /usr/local/lib/python3.11/dist-packages (from google-auth->google-auth-httplib2) (0.4.2)\n",
            "Requirement already satisfied: rsa<5,>=3.1.4 in /usr/local/lib/python3.11/dist-packages (from google-auth->google-auth-httplib2) (4.9.1)\n",
            "Requirement already satisfied: idna>=2.8 in /usr/local/lib/python3.11/dist-packages (from anyio<5,>=3.5.0->groq<1,>=0.30.0->langchain-groq) (3.10)\n",
            "Requirement already satisfied: certifi in /usr/local/lib/python3.11/dist-packages (from httpx<1,>=0.23.0->groq<1,>=0.30.0->langchain-groq) (2025.8.3)\n",
            "Requirement already satisfied: httpcore==1.* in /usr/local/lib/python3.11/dist-packages (from httpx<1,>=0.23.0->groq<1,>=0.30.0->langchain-groq) (1.0.9)\n",
            "Requirement already satisfied: h11>=0.16 in /usr/local/lib/python3.11/dist-packages (from httpcore==1.*->httpx<1,>=0.23.0->groq<1,>=0.30.0->langchain-groq) (0.16.0)\n",
            "Requirement already satisfied: jsonpointer>=1.9 in /usr/local/lib/python3.11/dist-packages (from jsonpatch<2.0,>=1.33->langchain-core<1.0.0,>=0.3.72->langchain-groq) (3.0.0)\n",
            "Requirement already satisfied: orjson>=3.9.14 in /usr/local/lib/python3.11/dist-packages (from langsmith>=0.3.45->langchain-core<1.0.0,>=0.3.72->langchain-groq) (3.11.1)\n",
            "Requirement already satisfied: requests-toolbelt>=1.0.0 in /usr/local/lib/python3.11/dist-packages (from langsmith>=0.3.45->langchain-core<1.0.0,>=0.3.72->langchain-groq) (1.0.0)\n",
            "Requirement already satisfied: requests>=2.0.0 in /usr/local/lib/python3.11/dist-packages (from langsmith>=0.3.45->langchain-core<1.0.0,>=0.3.72->langchain-groq) (2.32.3)\n",
            "Requirement already satisfied: zstandard>=0.23.0 in /usr/local/lib/python3.11/dist-packages (from langsmith>=0.3.45->langchain-core<1.0.0,>=0.3.72->langchain-groq) (0.23.0)\n",
            "Requirement already satisfied: pyasn1<0.7.0,>=0.6.1 in /usr/local/lib/python3.11/dist-packages (from pyasn1-modules>=0.2.1->google-auth->google-auth-httplib2) (0.6.1)\n",
            "Requirement already satisfied: annotated-types>=0.6.0 in /usr/local/lib/python3.11/dist-packages (from pydantic<3,>=1.9.0->groq<1,>=0.30.0->langchain-groq) (0.7.0)\n",
            "Requirement already satisfied: pydantic-core==2.33.2 in /usr/local/lib/python3.11/dist-packages (from pydantic<3,>=1.9.0->groq<1,>=0.30.0->langchain-groq) (2.33.2)\n",
            "Requirement already satisfied: typing-inspection>=0.4.0 in /usr/local/lib/python3.11/dist-packages (from pydantic<3,>=1.9.0->groq<1,>=0.30.0->langchain-groq) (0.4.1)\n",
            "Requirement already satisfied: charset-normalizer<4,>=2 in /usr/local/lib/python3.11/dist-packages (from requests>=2.0.0->langsmith>=0.3.45->langchain-core<1.0.0,>=0.3.72->langchain-groq) (3.4.2)\n",
            "Requirement already satisfied: urllib3<3,>=1.21.1 in /usr/local/lib/python3.11/dist-packages (from requests>=2.0.0->langsmith>=0.3.45->langchain-core<1.0.0,>=0.3.72->langchain-groq) (2.5.0)\n",
            "Downloading langchain_groq-0.3.7-py3-none-any.whl (16 kB)\n",
            "Installing collected packages: langchain-groq\n",
            "Successfully installed langchain-groq-0.3.7\n"
          ]
        }
      ]
    },
    {
      "cell_type": "code",
      "source": [
        "# --- 2. Core Imports ---\n",
        "# Import các thư viện và lớp (class) cốt lõi sẽ được sử dụng trong toàn bộ dự án.\n",
        "import os\n",
        "import json\n",
        "from typing import TypedDict, Annotated, List, Dict, Any\n",
        "import operator\n",
        "from google.colab import userdata\n",
        "\n",
        "# LangChain & LangGraph core components\n",
        "from langchain_core.messages import BaseMessage, HumanMessage, SystemMessage\n",
        "from langgraph.graph import StateGraph, END, START\n",
        "\n",
        "# Groq client for LLM interaction\n",
        "from groq import AsyncGroq\n",
        "\n",
        "# Rich library for beautiful printing\n",
        "from rich.console import Console\n",
        "from rich.markdown import Markdown\n",
        "\n",
        "SHOW_DETAILED_LOGS = True\n",
        "SHOW_DETAILED_LOGS = False\n",
        "print(\"\\nCài đặt và Import hoàn tất. Môi trường đã sẵn sàng!\")\n"
      ],
      "metadata": {
        "colab": {
          "base_uri": "https://localhost:8080/"
        },
        "id": "NZ1N7aUM059C",
        "outputId": "cefc51c9-5963-45da-ec07-1179c5f53a82"
      },
      "execution_count": null,
      "outputs": [
        {
          "output_type": "stream",
          "name": "stdout",
          "text": [
            "\n",
            "Cài đặt và Import hoàn tất. Môi trường đã sẵn sàng!\n"
          ]
        }
      ]
    },
    {
      "cell_type": "markdown",
      "source": [
        "## STEP 2: STATE DEFINITION & LLM WRAPPER"
      ],
      "metadata": {
        "id": "ZbvO4oTY1r6Q"
      }
    },
    {
      "cell_type": "code",
      "source": [
        "# ==============================================================================\n",
        "# STEP 2: STATE DEFINITION & LANGCHAIN LLM\n",
        "# ==============================================================================\n",
        "from typing import TypedDict, Annotated, List, Dict, Any, Literal, Optional\n",
        "import operator\n",
        "import json\n",
        "import os\n",
        "import tavily\n",
        "from datetime import datetime, timezone, timedelta\n",
        "\n",
        "from langchain_core.messages import BaseMessage, HumanMessage, SystemMessage, AIMessage, ToolMessage\n",
        "from rich.console import Console\n",
        "from rich.markdown import Markdown\n",
        "from google.colab import userdata\n",
        "from langchain_groq import ChatGroq\n",
        "from langchain_core.pydantic_v1 import BaseModel, Field, validator\n",
        "from langchain_core.tools import tool\n",
        "from langgraph.graph import StateGraph, END\n",
        "\n",
        "# --- 1. State Definition (Hoàn chỉnh) ---\n",
        "def merge_dicts(dict1: Dict[str, Any], dict2: Dict[str, Any]) -> Dict[str, Any]:\n",
        "    merged = dict1.copy()\n",
        "    for key, value in dict2.items():\n",
        "        if key in merged and isinstance(merged[key], dict) and isinstance(value, dict):\n",
        "            merged[key] = merge_dicts(merged[key], value)\n",
        "        else: merged[key] = value\n",
        "    return merged\n",
        "\n",
        "class AcademicState(TypedDict):\n",
        "    messages: Annotated[List[BaseMessage], operator.add]\n",
        "    profile: Dict\n",
        "    cross_agent_request: Optional[Dict[str, Any]]\n",
        "    required_agents: List[str]\n",
        "    completed_agents: Annotated[List[str], operator.add]\n",
        "    agent_outputs: Annotated[Dict[str, Any], merge_dicts]\n",
        "    critique: str\n",
        "    revision_needed: bool\n",
        "    revision_count: int\n",
        "    final_report: str\n",
        "    next_steps: str\n",
        "\n",
        "print(\"Đã định nghĩa 'AcademicState' phiên bản cuối cùng thành công.\")\n",
        "\n",
        "# --- 2. Khởi tạo LLM ---\n",
        "try:\n",
        "    GROQ_API_KEY = userdata.get('GROQ_API_KEY')\n",
        "    TAVILY_API_KEY = userdata.get('TAVILY_API_KEY')\n",
        "    llm = ChatGroq(\n",
        "        temperature=0.2, # Giảm độ \"sáng tạo\" để agent tuân thủ hướng dẫn hơn\n",
        "        model=\"llama3-70b-8192\",\n",
        "        api_key=GROQ_API_KEY,\n",
        "        max_tokens=4096\n",
        "    )\n",
        "    print(f\"Khởi tạo ChatGroq thành công với model: {llm.model_name}\")\n",
        "except Exception as e:\n",
        "    print(f\"LỖI: Không thể khởi tạo LLM. {e}\")\n",
        "    llm = None\n",
        "console = Console()\n",
        "if llm: print(\"\\nKhởi tạo 'llm' và 'console' thành công.\")\n",
        "\n"
      ],
      "metadata": {
        "id": "jyk9EUs4sGAq",
        "colab": {
          "base_uri": "https://localhost:8080/"
        },
        "outputId": "948d19a7-e6ab-4d5c-a545-1435a02b053e"
      },
      "execution_count": null,
      "outputs": [
        {
          "output_type": "stream",
          "name": "stdout",
          "text": [
            "Đã định nghĩa 'AcademicState' phiên bản cuối cùng thành công.\n",
            "Khởi tạo ChatGroq thành công với model: llama3-70b-8192\n",
            "\n",
            "Khởi tạo 'llm' và 'console' thành công.\n"
          ]
        }
      ]
    },
    {
      "cell_type": "code",
      "source": [
        "# ==============================================================================\n",
        "# STEP 3: THE TOOLBOX\n",
        "# ==============================================================================\n",
        "from google.oauth2.service_account import Credentials\n",
        "from googleapiclient.discovery import build\n",
        "\n",
        "# --- 1. Khởi tạo các service và dữ liệu ---\n",
        "SERVICE_ACCOUNT_FILE = 'credentials.json'\n",
        "YOUR_CALENDAR_ID = \"td.tan2711@gmail.com\"\n",
        "\n",
        "def authenticate_google_calendar_service_account():\n",
        "    try:\n",
        "        if not os.path.exists(SERVICE_ACCOUNT_FILE): return None\n",
        "        SCOPES = ['https://www.googleapis.com/auth/calendar.readonly']\n",
        "        creds = Credentials.from_service_account_file(SERVICE_ACCOUNT_FILE, scopes=SCOPES)\n",
        "        service = build('calendar', 'v3', credentials=creds)\n",
        "        print(\"✅ Xác thực Google Calendar thành công.\")\n",
        "        return service\n",
        "    except Exception as e:\n",
        "        print(f\"Lỗi khi xác thực Google Calendar: {e}\")\n",
        "        return None\n",
        "google_calendar_service = authenticate_google_calendar_service_account()\n",
        "\n",
        "# <-- ĐÃ XÓA PHẦN ĐỌC TASKS.JSON\n",
        "\n",
        "try:\n",
        "    with open('profile.json', 'r', encoding='utf-8') as f: profile_data = json.load(f)\n",
        "    print(\"✅ Đã tải dữ liệu profile.json thành công.\")\n",
        "except Exception as e:\n",
        "    profile_data = {}\n",
        "    print(f\"Lỗi khi tải profile.json: {e}\")\n",
        "\n",
        "# --- 2. Định nghĩa các công cụ ---\n",
        "@tool\n",
        "def google_calendar_reader(days_ahead: int = 7) -> str:\n",
        "    \"\"\"Đọc lịch và các sự kiện sắp tới của người dùng.\"\"\"\n",
        "    if not google_calendar_service: return \"Lỗi: Dịch vụ Google Calendar không có sẵn.\"\n",
        "    now_utc = datetime.now(timezone.utc).isoformat()\n",
        "    future_limit = (datetime.now(timezone.utc) + timedelta(days=days_ahead)).isoformat()\n",
        "    try:\n",
        "        print(f\"--- [Calendar Tool] Đang đọc lịch: {YOUR_CALENDAR_ID}\")\n",
        "        events_result = google_calendar_service.events().list(\n",
        "            calendarId=YOUR_CALENDAR_ID, timeMin=now_utc, timeMax=future_limit,\n",
        "            singleEvents=True, orderBy='startTime'\n",
        "        ).execute()\n",
        "        events = events_result.get('items', [])\n",
        "        if not events: return f\"Không có sự kiện nào sắp tới trong {days_ahead} ngày tới.\"\n",
        "        print(f\"--- [Calendar Tool] Tìm thấy {len(events)} sự kiện.\")\n",
        "        return json.dumps([{'summary': e.get('summary'), 'start': e.get('start', {}).get('dateTime'), 'end': e.get('end', {}).get('dateTime')} for e in events])\n",
        "    except Exception as e: return f\"Lỗi khi gọi Google Calendar API: {e}\"\n",
        "\n",
        "\n",
        "@tool\n",
        "def tavily_web_search(query: str) -> str:\n",
        "    \"\"\"Tìm kiếm thông tin học thuật trên Internet.\"\"\"\n",
        "    try:\n",
        "        client = tavily.TavilyClient(api_key=TAVILY_API_KEY)\n",
        "        response = client.search(query=query, search_depth=\"advanced\", max_results=3)\n",
        "        return \"\\n\\n\".join([f'Source: {res[\"url\"]}\\nContent: {res[\"content\"]}' for res in response[\"results\"]])\n",
        "    except Exception as e: return f\"Lỗi khi tìm kiếm với Tavily: {e}\"\n",
        "\n",
        "# --- 3. Tạo danh sách và bind các công cụ ---\n",
        "# <-- ĐÃ XÓA `active_tasks_reader` KHỎI DANH SÁCH\n",
        "tools = [google_calendar_reader, tavily_web_search]\n",
        "llm_with_tools = llm.bind_tools(tools)\n",
        "print(\"\\n✅ Hộp dụng cụ (Toolbox) đã sẵn sàng và được bind vào LLM.\")"
      ],
      "metadata": {
        "colab": {
          "base_uri": "https://localhost:8080/"
        },
        "id": "I6Yi4o7KNQ6J",
        "outputId": "141bbf99-a039-4e9b-b81b-10a8f4266ffe"
      },
      "execution_count": null,
      "outputs": [
        {
          "output_type": "stream",
          "name": "stdout",
          "text": [
            "✅ Xác thực Google Calendar thành công.\n",
            "✅ Đã tải dữ liệu profile.json thành công.\n",
            "\n",
            "✅ Hộp dụng cụ (Toolbox) đã sẵn sàng và được bind vào LLM.\n"
          ]
        }
      ]
    },
    {
      "cell_type": "code",
      "source": [
        "# ==============================================================================\n",
        "# STEP 4: THE FULL INTERACTIVE TEAM OF AGENTS\n",
        "# ==============================================================================\n",
        "import re\n",
        "import time\n",
        "from langchain_core.pydantic_v1 import BaseModel, Field\n",
        "from typing import Literal, Dict, Any\n",
        "\n",
        "# --- 1. Định nghĩa các cấu trúc dữ liệu cho tương tác ---\n",
        "class FinalAnswer(BaseModel):\n",
        "    \"\"\"Sử dụng để cung cấp câu trả lời cuối cùng.\"\"\"\n",
        "    answer: str = Field(description=\"Nội dung câu trả lời cuối cùng, chi tiết bằng Markdown.\")\n",
        "\n",
        "# --- 2. Xây dựng các Agent ---\n",
        "\n",
        "async def coordinator_agent(state: AcademicState) -> Dict[str, Any]:\n",
        "    print(\"\\n--- [Coordinator] Đang quyết định các chuyên gia cần thiết... ---\")\n",
        "\n",
        "    # <-- NÂNG CẤP: Thêm logic phân tích từ khóa\n",
        "    prompt = f\"\"\"Bạn là một Coordinator Agent bậc thầy. Nhiệm vụ của bạn là phân tích yêu cầu của người dùng để quyết định chính xác agent nào cần được kích hoạt.\n",
        "\n",
        "    **CÁC AGENT CÓ SẴN VÀ KHI NÀO NÊN DÙNG:**\n",
        "    - `PLANNER`: CHỈ kích hoạt khi yêu cầu có các từ khóa rõ ràng liên quan đến **lập kế hoạch, lịch trình, sắp xếp thời gian, tuần tới, deadline**.\n",
        "    - `NOTEWRITER`: Kích hoạt khi yêu cầu liên quan đến **tìm hiểu, tóm tắt, ghi chú, giải thích một chủ đề**.\n",
        "    - `ADVISOR`: Kích hoạt khi yêu cầu có các từ khóa liên quan đến **lời khuyên, phương pháp, cách học, mẹo**.\n",
        "\n",
        "    **YÊU CẦU CỦA NGƯỜI DÙNG:**\n",
        "    \"{state['messages'][0].content}\"\n",
        "\n",
        "    Dựa vào các quy tắc trên, hãy phân tích yêu cầu và trả về một danh sách Python chứa tên các agent cần thiết.\n",
        "\n",
        "    Ví dụ:\n",
        "    - Yêu cầu: \"lập kế hoạch học về RAG cho tuần tới\" -> [\"PLANNER\", \"NOTEWRITER\"]\n",
        "    - Yêu cầu: \"giải thích cho tôi về RAG\" -> [\"NOTEWRITER\"]\n",
        "    - Yêu cầu: \"cho tôi vài mẹo để học RAG hiệu quả\" -> [\"ADVISOR\", \"NOTEWRITER\"]\n",
        "    \"\"\"\n",
        "\n",
        "    response_message = await llm.ainvoke([HumanMessage(content=prompt)])\n",
        "    try:\n",
        "        # Cố gắng tìm danh sách Python trong phản hồi\n",
        "        # Regex này tìm một chuỗi trông giống như một danh sách Python\n",
        "        match = re.search(r'\\[\\s*([^\\]]*?)\\s*\\]', response_message.content)\n",
        "        if match:\n",
        "            # Lấy nội dung bên trong dấu ngoặc vuông và chuyển thành danh sách\n",
        "            agent_list_str = f\"[{match.group(1)}]\"\n",
        "            required_agents = eval(agent_list_str)\n",
        "        else:\n",
        "            raise ValueError(\"Không tìm thấy danh sách trong phản hồi\")\n",
        "\n",
        "        if not isinstance(required_agents, list): raise ValueError\n",
        "    except:\n",
        "        # Nếu có lỗi, kích hoạt tất cả như một giải pháp an toàn\n",
        "        required_agents = [\"PLANNER\", \"NOTEWRITER\", \"ADVISOR\"]\n",
        "\n",
        "    print(f\"--- [Coordinator] Quyết định: Cần các agent {required_agents}\")\n",
        "    return {\"required_agents\": required_agents}\n",
        "\n",
        "async def tool_user_agent(state: AcademicState) -> Dict[str, Any]:\n",
        "    print(\"\\n--- [Tool User] Thu thập tất cả thông tin ban đầu... ---\")\n",
        "    request = state['messages'][0].content\n",
        "    search_query = f\"Hướng dẫn học và các tài liệu tốt nhất về '{request}'\"\n",
        "    print(f\"--- [Tool User] Quyết định gọi công cụ: ['google_calendar_reader', 'tavily_web_search']\")\n",
        "    calendar_output = google_calendar_reader.invoke({\"days_ahead\": 7})\n",
        "    time.sleep(1)\n",
        "    web_output = tavily_web_search.invoke({\"query\": search_query})\n",
        "    collected_data = f\"\"\"Thông tin ban đầu đã được thu thập:\n",
        "    1. Lịch trình trong 7 ngày tới: {calendar_output}\n",
        "    2. Kết quả tìm kiếm trên web: {web_output}\"\"\"\n",
        "    context_message = SystemMessage(content=collected_data)\n",
        "    print(\"--- [Tool User] Đã thu thập và định dạng xong thông tin.\")\n",
        "    return {\"messages\": [context_message]}\n",
        "\n",
        "def create_specialist_agent(agent_name: str, agent_description: str, output_key: str):\n",
        "    async def specialist_agent(state: AcademicState) -> Dict[str, Any]:\n",
        "        print(f\"\\n--- [{agent_name}] Bắt đầu làm việc... ---\")\n",
        "        llm_with_tool = llm.bind_tools([FinalAnswer])\n",
        "\n",
        "        if agent_name == \"PLANNER\":\n",
        "            prompt_content = f\"\"\"Bạn là {agent_name}. {agent_description}.\n",
        "            Dựa vào thông tin ban đầu (lịch trình, kết quả tìm kiếm), hãy tạo ra một kế hoạch học tập chi tiết, khả thi.\n",
        "            **Thông tin có sẵn:**\n",
        "            ```json\n",
        "            {json.dumps({\n",
        "                \"profile\": state['profile'],\n",
        "                \"messages\": [msg.model_dump() for msg in state['messages']],\n",
        "            }, indent=2, ensure_ascii=False)}\n",
        "            ```\n",
        "            \"\"\"\n",
        "        else:\n",
        "            prompt_content = f\"\"\"Bạn là {agent_name}. {agent_description}.\n",
        "            Dựa vào KẾ HOẠCH HỌC TẬP đã được tạo ra dưới đây và thông tin ban đầu, hãy tạo ra sản phẩm chuyên môn của bạn.\n",
        "            **Đừng lặp lại kế hoạch**, hãy tạo ra một nội dung mới dựa trên nó.\n",
        "            **Thông tin để tham khảo:**\n",
        "            ```json\n",
        "            {json.dumps({\n",
        "                \"profile\": state['profile'],\n",
        "                \"messages\": [msg.model_dump() for msg in state['messages']],\n",
        "                \"agent_outputs\": state['agent_outputs'],\n",
        "            }, indent=2, ensure_ascii=False)}\n",
        "            ```\n",
        "            \"\"\"\n",
        "\n",
        "        prompt = f\"{prompt_content}\\nHãy tạo ra câu trả lời cuối cùng của bạn và gọi công cụ `FinalAnswer`.\"\n",
        "\n",
        "        try:\n",
        "            ai_response = await llm_with_tool.ainvoke([HumanMessage(content=prompt)])\n",
        "            if not ai_response.tool_calls:\n",
        "                print(f\"--- [{agent_name}] Cảnh báo: Không gọi được tool, trả về nội dung thô.\")\n",
        "                return {\"agent_outputs\": {output_key: ai_response.content}}\n",
        "            tool_call = ai_response.tool_calls[0]\n",
        "            if tool_call['name'] == 'FinalAnswer':\n",
        "                print(f\"--- [{agent_name}] Đã tạo sản phẩm thành công.\")\n",
        "                return {\"agent_outputs\": {output_key: tool_call['args']['answer']}}\n",
        "            else:\n",
        "                raise ValueError(f\"LLM đã gọi một công cụ không xác định: {tool_call['name']}\")\n",
        "        except Exception as e:\n",
        "            # --- LOGIC NÂNG CẤP ---\n",
        "            # Chỉ in lỗi chi tiết nếu đang ở chế độ debug\n",
        "            if SHOW_DETAILED_LOGS:\n",
        "                print(f\"--- [{agent_name}] Gặp lỗi API: {e}\")\n",
        "\n",
        "            error_str = str(e)\n",
        "            match = re.search(r'\"answer\":\\s*\"(.*?)\"', error_str, re.DOTALL)\n",
        "            if match:\n",
        "                extracted_answer = match.group(1).encode().decode('unicode_escape')\n",
        "                print(f\"--- [{agent_name}] Gặp lỗi API nhỏ, đã tự động phục hồi sản phẩm.\")\n",
        "                return {\"agent_outputs\": {output_key: extracted_answer}}\n",
        "            else:\n",
        "                print(f\"--- [{agent_name}] Không thể cứu sản phẩm. Trả về thông báo lỗi.\")\n",
        "                return {\"agent_outputs\": {output_key: f\"Agent {agent_name} đã gặp lỗi không thể phục hồi.\"}}\n",
        "    return specialist_agent\n",
        "\n",
        "planner_agent = create_specialist_agent(\"PLANNER\", \"Tạo kế hoạch học tập chi tiết, khả thi.\", \"plan\")\n",
        "notewriter_agent = create_specialist_agent(\"NOTEWRITER\", \"Tạo ghi chú học thuật súc tích.\", \"notes\")\n",
        "advisor_agent = create_specialist_agent(\"ADVISOR\", \"Đưa ra lời khuyên chiến lược.\", \"advice\")\n",
        "\n",
        "async def synthesizer_agent(state: AcademicState) -> Dict[str, Any]:\n",
        "    print(\"\\n--- [Synthesizer] Bắt đầu tổng hợp báo cáo cuối cùng ---\")\n",
        "    prompt = f\"Tổng hợp các sản phẩm từ các chuyên gia (Kế hoạch, Ghi chú, Lời khuyên) sau đây thành MỘT báo cáo tổng hợp duy nhất, mạch lạc và chuyên nghiệp cho người dùng:\\n\\n{json.dumps(state['agent_outputs'], indent=2, ensure_ascii=False)}.\\n\\nYêu cầu ban đầu của người dùng là: '{state['messages'][0].content}'\"\n",
        "    response_message = await llm.ainvoke([HumanMessage(content=prompt)])\n",
        "    return {\"final_report\": response_message.content}\n",
        "\n",
        "async def reflection_agent(state: AcademicState) -> Dict[str, Any]:\n",
        "    print(\"\\n--- [Reflection] Đang suy nghĩ về các bước tiếp theo... ---\")\n",
        "    prompt = f\"Dựa vào báo cáo cuối cùng này, hãy đề xuất 3-4 hành động hoặc câu hỏi tiếp theo mà người dùng có thể muốn thực hiện:\\n\\n{state['final_report']}\"\n",
        "    response_message = await llm.ainvoke([HumanMessage(content=prompt)])\n",
        "    return {\"next_steps\": response_message.content}\n",
        "\n",
        "print(\"✅ Tất cả các agent cho ATLAS 2.0 (Phiên bản chuyên môn hóa) đã được định nghĩa.\")"
      ],
      "metadata": {
        "id": "mmRYcwIEsF-V",
        "colab": {
          "base_uri": "https://localhost:8080/"
        },
        "outputId": "df105f39-4515-49ec-9512-a9bfc538af0c"
      },
      "execution_count": null,
      "outputs": [
        {
          "output_type": "stream",
          "name": "stdout",
          "text": [
            "✅ Tất cả các agent cho ATLAS 2.0 (Phiên bản chuyên môn hóa) đã được định nghĩa.\n"
          ]
        }
      ]
    },
    {
      "cell_type": "code",
      "source": [
        "# ==============================================================================\n",
        "# STEP 5 & 6: ASSEMBLY & EXECUTION (KIẾN TRÚC ĐỘNG - ĐÃ SỬA LỖI)\n",
        "# ==============================================================================\n",
        "\n",
        "# --- 1. Master Router ---\n",
        "def master_router(state: AcademicState) -> Literal[\"planner\", \"notewriter\", \"advisor\", \"synthesizer\"]:\n",
        "    \"\"\"Router này kiểm tra trạng thái và quyết định agent nào sẽ chạy tiếp theo.\"\"\"\n",
        "    required = state.get(\"required_agents\", [])\n",
        "    completed = state.get(\"completed_agents\", [])\n",
        "    next_agent = next((agent for agent in required if agent not in completed), None)\n",
        "\n",
        "    if next_agent:\n",
        "        print(f\"\\n--- [Master Router] Quyết định: Chuyển đến agent tiếp theo là '{next_agent}' ---\")\n",
        "        return next_agent.lower()\n",
        "    else:\n",
        "        print(\"\\n--- [Master Router] Tất cả các chuyên gia đã hoàn thành. Chuyển đến Synthesizer. ---\")\n",
        "        return \"synthesizer\"\n",
        "\n",
        "# --- 2. Node Wrapper và các Node chuyên biệt ---\n",
        "# Hàm wrapper vẫn giữ vai trò quan trọng: chạy agent và đánh dấu nó đã hoàn thành.\n",
        "async def specialist_node_wrapper(agent_func, agent_name: str, state: AcademicState) -> Dict[str, Any]:\n",
        "    result = await agent_func(state)\n",
        "    current_completed = state.get(\"completed_agents\", [])\n",
        "    if agent_name not in current_completed:\n",
        "        result[\"completed_agents\"] = current_completed + [agent_name]\n",
        "    return result\n",
        "\n",
        "# <-- SỬA ĐỔI QUAN TRỌNG: Định nghĩa các node một cách tường minh, không dùng lambda\n",
        "async def planner_node(state: AcademicState) -> Dict[str, Any]:\n",
        "    \"\"\"Chạy Planner agent và cập nhật trạng thái.\"\"\"\n",
        "    return await specialist_node_wrapper(planner_agent, \"PLANNER\", state)\n",
        "\n",
        "async def notewriter_node(state: AcademicState) -> Dict[str, Any]:\n",
        "    \"\"\"Chạy Notewriter agent và cập nhật trạng thái.\"\"\"\n",
        "    return await specialist_node_wrapper(notewriter_agent, \"NOTEWRITER\", state)\n",
        "\n",
        "async def advisor_node(state: AcademicState) -> Dict[str, Any]:\n",
        "    \"\"\"Chạy Advisor agent và cập nhật trạng thái.\"\"\"\n",
        "    return await specialist_node_wrapper(advisor_agent, \"ADVISOR\", state)\n",
        "\n",
        "# --- 3. Lắp ráp Graph với Cạnh Điều Kiện ---\n",
        "workflow = StateGraph(AcademicState)\n",
        "\n",
        "# Thêm tất cả các node như bình thường\n",
        "workflow.add_node(\"coordinator\", coordinator_agent)\n",
        "workflow.add_node(\"tool_user\", tool_user_agent)\n",
        "# Sử dụng các hàm async def đã được định nghĩa đúng cách\n",
        "workflow.add_node(\"planner\", planner_node)\n",
        "workflow.add_node(\"notewriter\", notewriter_node)\n",
        "workflow.add_node(\"advisor\", advisor_node)\n",
        "workflow.add_node(\"synthesizer\", synthesizer_agent)\n",
        "workflow.add_node(\"reflection\", reflection_agent)\n",
        "\n",
        "workflow.set_entry_point(\"coordinator\")\n",
        "\n",
        "# Định nghĩa các cạnh cố định\n",
        "workflow.add_edge(\"coordinator\", \"tool_user\")\n",
        "workflow.add_edge(\"synthesizer\", \"reflection\")\n",
        "workflow.add_edge(\"reflection\", END)\n",
        "\n",
        "# Sử dụng Cạnh Điều Kiện để tạo luồng đi động\n",
        "# Sau khi Tool User hoặc bất kỳ agent chuyên môn nào chạy xong, nó sẽ đi đến Master Router\n",
        "# để router quyết định bước tiếp theo.\n",
        "possible_routes = {\n",
        "    \"planner\": \"planner\",\n",
        "    \"notewriter\": \"notewriter\",\n",
        "    \"advisor\": \"advisor\",\n",
        "    \"synthesizer\": \"synthesizer\"\n",
        "}\n",
        "\n",
        "###\n",
        "workflow.add_conditional_edges(\"tool_user\", master_router, possible_routes)\n",
        "workflow.add_conditional_edges(\"planner\", master_router, possible_routes)\n",
        "workflow.add_conditional_edges(\"notewriter\", master_router, possible_routes)\n",
        "workflow.add_conditional_edges(\"advisor\", master_router, possible_routes)\n",
        "\n",
        "\n",
        "# Biên dịch Graph\n",
        "app = workflow.compile()\n",
        "print(\"\\n✅✅✅ ATLAS 3.0 (Kiến trúc động với Router) đã được biên dịch! ✅✅✅\")"
      ],
      "metadata": {
        "colab": {
          "base_uri": "https://localhost:8080/"
        },
        "id": "Hl0fBZjM9-KX",
        "outputId": "279a6b90-c97e-4ae0-a2b8-a02d0405b7b8"
      },
      "execution_count": null,
      "outputs": [
        {
          "output_type": "stream",
          "name": "stdout",
          "text": [
            "\n",
            "✅✅✅ ATLAS 3.0 (Kiến trúc động với Router) đã được biên dịch! ✅✅✅\n"
          ]
        }
      ]
    },
    {
      "cell_type": "code",
      "source": [
        "# ==============================================================================\n",
        "# STEP 7: EXECUTION\n",
        "# ==============================================================================\n",
        "\n",
        "async def run_atlas_2_0(profile_data: dict):\n",
        "    request = \"Tuần tới tôi cần học về thuật toán K-Nearest Neighbors (KNN). Lịch của tôi khá bận rộn, hãy tạo một kế hoạch học tập chi tiết, sau đó ghi chú lại các điểm chính và cho tôi một vài lời khuyên học tập.\"\n",
        "\n",
        "    student_profile = next((p for p in profile_data.get(\"profiles\", []) if p.get(\"id\") == \"student_123\"), {})\n",
        "\n",
        "    initial_state = {\n",
        "        \"messages\": [HumanMessage(content=request)],\n",
        "        \"profile\": student_profile,\n",
        "        \"agent_outputs\": {},\n",
        "        \"completed_agents\": [],\n",
        "    }\n",
        "\n",
        "    console.print(f\"\\n🚀 [bold blue]Bắt đầu chạy ATLAS 2.0 với yêu cầu:[/bold blue]\\n{request}\")\n",
        "\n",
        "    # Chạy và xem log của từng bước\n",
        "    async for step in app.astream(initial_state, config={\"recursion_limit\": 15}):\n",
        "        node_name = list(step.keys())[0]\n",
        "        console.print(f\"\\n✅ [bold magenta]Hoàn thành bước:[/] [yellow]{node_name}[/yellow]\")\n",
        "        console.print(step[node_name])\n",
        "\n",
        "# Chạy hàm chính\n",
        "await run_atlas_2_0(profile_data)"
      ],
      "metadata": {
        "colab": {
          "base_uri": "https://localhost:8080/",
          "height": 1000
        },
        "id": "Ya8QbTnw9-IZ",
        "outputId": "a82ecd38-4f3a-4ed7-9efb-4025d4d07c1e"
      },
      "execution_count": null,
      "outputs": [
        {
          "output_type": "display_data",
          "data": {
            "text/plain": [
              "\n",
              "🚀 \u001b[1;34mBắt đầu chạy ATLAS \u001b[0m\u001b[1;34m2.0\u001b[0m\u001b[1;34m với yêu cầu:\u001b[0m\n",
              "Tuần tới tôi cần học về thuật toán K-Nearest Neighbors \u001b[1m(\u001b[0mKNN\u001b[1m)\u001b[0m. Lịch của tôi khá bận rộn, hãy tạo một kế hoạch học \n",
              "tập chi tiết, sau đó ghi chú lại các điểm chính và cho tôi một vài lời khuyên học tập.\n"
            ],
            "text/html": [
              "<pre style=\"white-space:pre;overflow-x:auto;line-height:normal;font-family:Menlo,'DejaVu Sans Mono',consolas,'Courier New',monospace\">\n",
              "🚀 <span style=\"color: #000080; text-decoration-color: #000080; font-weight: bold\">Bắt đầu chạy ATLAS </span><span style=\"color: #000080; text-decoration-color: #000080; font-weight: bold\">2.0</span><span style=\"color: #000080; text-decoration-color: #000080; font-weight: bold\"> với yêu cầu:</span>\n",
              "Tuần tới tôi cần học về thuật toán K-Nearest Neighbors <span style=\"font-weight: bold\">(</span>KNN<span style=\"font-weight: bold\">)</span>. Lịch của tôi khá bận rộn, hãy tạo một kế hoạch học \n",
              "tập chi tiết, sau đó ghi chú lại các điểm chính và cho tôi một vài lời khuyên học tập.\n",
              "</pre>\n"
            ]
          },
          "metadata": {}
        },
        {
          "output_type": "stream",
          "name": "stdout",
          "text": [
            "\n",
            "--- [Coordinator] Đang quyết định các chuyên gia cần thiết... ---\n",
            "--- [Coordinator] Quyết định: Cần các agent ['PLANNER', 'NOTEWRITER', 'ADVISOR']\n"
          ]
        },
        {
          "output_type": "display_data",
          "data": {
            "text/plain": [
              "\n",
              "✅ \u001b[1;35mHoàn thành bước:\u001b[0m \u001b[33mcoordinator\u001b[0m\n"
            ],
            "text/html": [
              "<pre style=\"white-space:pre;overflow-x:auto;line-height:normal;font-family:Menlo,'DejaVu Sans Mono',consolas,'Courier New',monospace\">\n",
              "✅ <span style=\"color: #800080; text-decoration-color: #800080; font-weight: bold\">Hoàn thành bước:</span> <span style=\"color: #808000; text-decoration-color: #808000\">coordinator</span>\n",
              "</pre>\n"
            ]
          },
          "metadata": {}
        },
        {
          "output_type": "display_data",
          "data": {
            "text/plain": [
              "\u001b[1m{\u001b[0m\u001b[32m'required_agents'\u001b[0m: \u001b[1m[\u001b[0m\u001b[32m'PLANNER'\u001b[0m, \u001b[32m'NOTEWRITER'\u001b[0m, \u001b[32m'ADVISOR'\u001b[0m\u001b[1m]\u001b[0m\u001b[1m}\u001b[0m\n"
            ],
            "text/html": [
              "<pre style=\"white-space:pre;overflow-x:auto;line-height:normal;font-family:Menlo,'DejaVu Sans Mono',consolas,'Courier New',monospace\"><span style=\"font-weight: bold\">{</span><span style=\"color: #008000; text-decoration-color: #008000\">'required_agents'</span>: <span style=\"font-weight: bold\">[</span><span style=\"color: #008000; text-decoration-color: #008000\">'PLANNER'</span>, <span style=\"color: #008000; text-decoration-color: #008000\">'NOTEWRITER'</span>, <span style=\"color: #008000; text-decoration-color: #008000\">'ADVISOR'</span><span style=\"font-weight: bold\">]}</span>\n",
              "</pre>\n"
            ]
          },
          "metadata": {}
        },
        {
          "output_type": "stream",
          "name": "stdout",
          "text": [
            "\n",
            "--- [Tool User] Thu thập tất cả thông tin ban đầu... ---\n",
            "--- [Tool User] Quyết định gọi công cụ: ['google_calendar_reader', 'tavily_web_search']\n",
            "--- [Calendar Tool] Đang đọc lịch: td.tan2711@gmail.com\n",
            "--- [Calendar Tool] Tìm thấy 4 sự kiện.\n",
            "--- [Tool User] Đã thu thập và định dạng xong thông tin.\n",
            "\n",
            "--- [Master Router] Quyết định: Chuyển đến agent tiếp theo là 'PLANNER' ---\n"
          ]
        },
        {
          "output_type": "display_data",
          "data": {
            "text/plain": [
              "\n",
              "✅ \u001b[1;35mHoàn thành bước:\u001b[0m \u001b[33mtool_user\u001b[0m\n"
            ],
            "text/html": [
              "<pre style=\"white-space:pre;overflow-x:auto;line-height:normal;font-family:Menlo,'DejaVu Sans Mono',consolas,'Courier New',monospace\">\n",
              "✅ <span style=\"color: #800080; text-decoration-color: #800080; font-weight: bold\">Hoàn thành bước:</span> <span style=\"color: #808000; text-decoration-color: #808000\">tool_user</span>\n",
              "</pre>\n"
            ]
          },
          "metadata": {}
        },
        {
          "output_type": "display_data",
          "data": {
            "text/plain": [
              "\u001b[1m{\u001b[0m\n",
              "    \u001b[32m'messages'\u001b[0m: \u001b[1m[\u001b[0m\n",
              "        \u001b[1;35mSystemMessage\u001b[0m\u001b[1m(\u001b[0m\n",
              "            \u001b[33mcontent\u001b[0m=\u001b[32m'Thông tin ban đầu đã được thu thập:\\n    1. Lịch trình trong 7 ngày tới: \u001b[0m\u001b[32m[\u001b[0m\u001b[32m{\u001b[0m\u001b[32m\"summary\": \"Work \u001b[0m\n",
              "\u001b[32mOnline\", \"start\": \"2025-08-08T19:45:00+07:00\", \"end\": \"2025-08-08T21:15:00+07:00\"\u001b[0m\u001b[32m}\u001b[0m\u001b[32m, \u001b[0m\u001b[32m{\u001b[0m\u001b[32m\"summary\": \"Take a nap\", \u001b[0m\n",
              "\u001b[32m\"start\": \"2025-08-11T08:45:00+07:00\", \"end\": \"2025-08-11T13:00:00+07:00\"\u001b[0m\u001b[32m}\u001b[0m\u001b[32m, \u001b[0m\u001b[32m{\u001b[0m\u001b[32m\"summary\": \"have a trip\", \"start\": \u001b[0m\n",
              "\u001b[32m\"2025-08-12T01:30:00+07:00\", \"end\": \"2025-08-12T05:30:00+07:00\"\u001b[0m\u001b[32m}\u001b[0m\u001b[32m, \u001b[0m\u001b[32m{\u001b[0m\u001b[32m\"summary\": \"go swimming\", \"start\": \u001b[0m\n",
              "\u001b[32m\"2025-08-14T07:15:00+07:00\", \"end\": \"2025-08-14T11:45:00+07:00\"\u001b[0m\u001b[32m}\u001b[0m\u001b[32m]\u001b[0m\u001b[32m\\n    2. Kết quả tìm kiếm trên web: Source: \u001b[0m\n",
              "\u001b[32mhttps://machinelearningcoban.com/2017/01/08/knn/\\nContent: K-nearest neighbor là một trong những thuật toán \u001b[0m\n",
              "\u001b[32msupervised-learning đơn giản nhất \u001b[0m\u001b[32m(\u001b[0m\u001b[32mmà hiệu quả trong một vài trường hợp\u001b[0m\u001b[32m)\u001b[0m\u001b[32m trong Machine Learning\\n\\nSource: \u001b[0m\n",
              "\u001b[32mhttps://aicandy.vn/kham-pha-k-nearest-neighbors-cho-phan-loai-va-hoi-quy/\\nContent: *   KNN có thể sử dụng thông \u001b[0m\n",
              "\u001b[32mtin từ các ngày giao dịch trước để dự đoán giá cổ phiếu vào ngày hiện tại hoặc tương lai gần bằng cách tìm kiếm các\u001b[0m\n",
              "\u001b[32mngày có các đặc điểm tương tự \u001b[0m\u001b[32m(\u001b[0m\u001b[32mnhư giá mở cửa, giá đóng cửa, khối lượng giao dịch\u001b[0m\u001b[32m)\u001b[0m\u001b[32m và dự đoán dựa trên các ngày đó.\u001b[0m\n",
              "\u001b[32m*   Trong ứng dụng này, KNN cần một tập dữ liệu lớn và đa dạng để đảm bảo rằng các dự đoán có độ chính xác cao, đặc\u001b[0m\n",
              "\u001b[32mbiệt khi phân tích trên các nhóm dân số khác nhau. Để triển khai KNN hiệu quả, cần phải lựa chọn giá trị `k` một \u001b[0m\n",
              "\u001b[32mcách cẩn thận và đảm bảo rằng dữ liệu đã được tiền xử lý tốt để loại bỏ các đặc trưng không liên quan hoặc \u001b[0m\n",
              "\u001b[32mnhiễu.\\n\\nSource: https://viblo.asia/p/knn-k-nearest-neighbors-1-djeZ14ejKWz\\nContent: Có thể thấy cách đơn giản \u001b[0m\n",
              "\u001b[32mnhất là so sánh tất cả các đặc điểm của dữ liệu A với tất cả tập dữ liệu học đã được gắn nhãn và xem nó giống cái \u001b[0m\n",
              "\u001b[32mnào nhất, nếu dữ liệu \u001b[0m\u001b[32m(\u001b[0m\u001b[32mđặc điểm\u001b[0m\u001b[32m)\u001b[0m\u001b[32m của A giống với dữ liệu của điểm mang nhãn \u001b[0m\u001b[32m(\u001b[0m\u001b[32m+\u001b[0m\u001b[32m)\u001b[0m\u001b[32m thì điểm A mang nhãn \u001b[0m\u001b[32m(\u001b[0m\u001b[32m+\u001b[0m\u001b[32m)\u001b[0m\u001b[32m, nếu dữ \u001b[0m\n",
              "\u001b[32mliệu A giống với dữ liệu nhãn \u001b[0m\u001b[32m(\u001b[0m\u001b[32m-\u001b[0m\u001b[32m)\u001b[0m\u001b[32m hơn thì nó mang nhãn \u001b[0m\u001b[32m(\u001b[0m\u001b[32m-\u001b[0m\u001b[32m)\u001b[0m\u001b[32m, trông có vẻ rất đơn giản nhưng đó là những gì mà KNN \u001b[0m\n",
              "\u001b[32mlàm. Trong trường hợp của KNN, thực tế nó không so sánh dữ liệu mới \u001b[0m\u001b[32m(\u001b[0m\u001b[32mkhông được phân lớp\u001b[0m\u001b[32m)\u001b[0m\u001b[32m với tất cả các dữ liệu \u001b[0m\n",
              "\u001b[32mkhác, thực tế nó thực hiện một phép tính toán học để đo khoảng cách giữa dữ liệu mới với tất cả các điểm trong tập \u001b[0m\n",
              "\u001b[32mdữ liệu học D để thực hiện phân lớp.'\u001b[0m,\n",
              "            \u001b[33madditional_kwargs\u001b[0m=\u001b[1m{\u001b[0m\u001b[1m}\u001b[0m,\n",
              "            \u001b[33mresponse_metadata\u001b[0m=\u001b[1m{\u001b[0m\u001b[1m}\u001b[0m\n",
              "        \u001b[1m)\u001b[0m\n",
              "    \u001b[1m]\u001b[0m\n",
              "\u001b[1m}\u001b[0m\n"
            ],
            "text/html": [
              "<pre style=\"white-space:pre;overflow-x:auto;line-height:normal;font-family:Menlo,'DejaVu Sans Mono',consolas,'Courier New',monospace\"><span style=\"font-weight: bold\">{</span>\n",
              "    <span style=\"color: #008000; text-decoration-color: #008000\">'messages'</span>: <span style=\"font-weight: bold\">[</span>\n",
              "        <span style=\"color: #800080; text-decoration-color: #800080; font-weight: bold\">SystemMessage</span><span style=\"font-weight: bold\">(</span>\n",
              "            <span style=\"color: #808000; text-decoration-color: #808000\">content</span>=<span style=\"color: #008000; text-decoration-color: #008000\">'Thông tin ban đầu đã được thu thập:\\n    1. Lịch trình trong 7 ngày tới: [{\"summary\": \"Work </span>\n",
              "<span style=\"color: #008000; text-decoration-color: #008000\">Online\", \"start\": \"2025-08-08T19:45:00+07:00\", \"end\": \"2025-08-08T21:15:00+07:00\"}, {\"summary\": \"Take a nap\", </span>\n",
              "<span style=\"color: #008000; text-decoration-color: #008000\">\"start\": \"2025-08-11T08:45:00+07:00\", \"end\": \"2025-08-11T13:00:00+07:00\"}, {\"summary\": \"have a trip\", \"start\": </span>\n",
              "<span style=\"color: #008000; text-decoration-color: #008000\">\"2025-08-12T01:30:00+07:00\", \"end\": \"2025-08-12T05:30:00+07:00\"}, {\"summary\": \"go swimming\", \"start\": </span>\n",
              "<span style=\"color: #008000; text-decoration-color: #008000\">\"2025-08-14T07:15:00+07:00\", \"end\": \"2025-08-14T11:45:00+07:00\"}]\\n    2. Kết quả tìm kiếm trên web: Source: </span>\n",
              "<span style=\"color: #008000; text-decoration-color: #008000\">https://machinelearningcoban.com/2017/01/08/knn/\\nContent: K-nearest neighbor là một trong những thuật toán </span>\n",
              "<span style=\"color: #008000; text-decoration-color: #008000\">supervised-learning đơn giản nhất (mà hiệu quả trong một vài trường hợp) trong Machine Learning\\n\\nSource: </span>\n",
              "<span style=\"color: #008000; text-decoration-color: #008000\">https://aicandy.vn/kham-pha-k-nearest-neighbors-cho-phan-loai-va-hoi-quy/\\nContent: *   KNN có thể sử dụng thông </span>\n",
              "<span style=\"color: #008000; text-decoration-color: #008000\">tin từ các ngày giao dịch trước để dự đoán giá cổ phiếu vào ngày hiện tại hoặc tương lai gần bằng cách tìm kiếm các</span>\n",
              "<span style=\"color: #008000; text-decoration-color: #008000\">ngày có các đặc điểm tương tự (như giá mở cửa, giá đóng cửa, khối lượng giao dịch) và dự đoán dựa trên các ngày đó.</span>\n",
              "<span style=\"color: #008000; text-decoration-color: #008000\">*   Trong ứng dụng này, KNN cần một tập dữ liệu lớn và đa dạng để đảm bảo rằng các dự đoán có độ chính xác cao, đặc</span>\n",
              "<span style=\"color: #008000; text-decoration-color: #008000\">biệt khi phân tích trên các nhóm dân số khác nhau. Để triển khai KNN hiệu quả, cần phải lựa chọn giá trị `k` một </span>\n",
              "<span style=\"color: #008000; text-decoration-color: #008000\">cách cẩn thận và đảm bảo rằng dữ liệu đã được tiền xử lý tốt để loại bỏ các đặc trưng không liên quan hoặc </span>\n",
              "<span style=\"color: #008000; text-decoration-color: #008000\">nhiễu.\\n\\nSource: https://viblo.asia/p/knn-k-nearest-neighbors-1-djeZ14ejKWz\\nContent: Có thể thấy cách đơn giản </span>\n",
              "<span style=\"color: #008000; text-decoration-color: #008000\">nhất là so sánh tất cả các đặc điểm của dữ liệu A với tất cả tập dữ liệu học đã được gắn nhãn và xem nó giống cái </span>\n",
              "<span style=\"color: #008000; text-decoration-color: #008000\">nào nhất, nếu dữ liệu (đặc điểm) của A giống với dữ liệu của điểm mang nhãn (+) thì điểm A mang nhãn (+), nếu dữ </span>\n",
              "<span style=\"color: #008000; text-decoration-color: #008000\">liệu A giống với dữ liệu nhãn (-) hơn thì nó mang nhãn (-), trông có vẻ rất đơn giản nhưng đó là những gì mà KNN </span>\n",
              "<span style=\"color: #008000; text-decoration-color: #008000\">làm. Trong trường hợp của KNN, thực tế nó không so sánh dữ liệu mới (không được phân lớp) với tất cả các dữ liệu </span>\n",
              "<span style=\"color: #008000; text-decoration-color: #008000\">khác, thực tế nó thực hiện một phép tính toán học để đo khoảng cách giữa dữ liệu mới với tất cả các điểm trong tập </span>\n",
              "<span style=\"color: #008000; text-decoration-color: #008000\">dữ liệu học D để thực hiện phân lớp.'</span>,\n",
              "            <span style=\"color: #808000; text-decoration-color: #808000\">additional_kwargs</span>=<span style=\"font-weight: bold\">{}</span>,\n",
              "            <span style=\"color: #808000; text-decoration-color: #808000\">response_metadata</span>=<span style=\"font-weight: bold\">{}</span>\n",
              "        <span style=\"font-weight: bold\">)</span>\n",
              "    <span style=\"font-weight: bold\">]</span>\n",
              "<span style=\"font-weight: bold\">}</span>\n",
              "</pre>\n"
            ]
          },
          "metadata": {}
        },
        {
          "output_type": "stream",
          "name": "stdout",
          "text": [
            "\n",
            "--- [PLANNER] Bắt đầu làm việc... ---\n",
            "--- [PLANNER] Gặp lỗi API nhỏ, đã tự động phục hồi sản phẩm.\n",
            "\n",
            "--- [Master Router] Quyết định: Chuyển đến agent tiếp theo là 'NOTEWRITER' ---\n"
          ]
        },
        {
          "output_type": "display_data",
          "data": {
            "text/plain": [
              "\n",
              "✅ \u001b[1;35mHoàn thành bước:\u001b[0m \u001b[33mplanner\u001b[0m\n"
            ],
            "text/html": [
              "<pre style=\"white-space:pre;overflow-x:auto;line-height:normal;font-family:Menlo,'DejaVu Sans Mono',consolas,'Courier New',monospace\">\n",
              "✅ <span style=\"color: #800080; text-decoration-color: #800080; font-weight: bold\">Hoàn thành bước:</span> <span style=\"color: #808000; text-decoration-color: #808000\">planner</span>\n",
              "</pre>\n"
            ]
          },
          "metadata": {}
        },
        {
          "output_type": "display_data",
          "data": {
            "text/plain": [
              "\u001b[1m{\u001b[0m\n",
              "    \u001b[32m'agent_outputs'\u001b[0m: \u001b[1m{\u001b[0m\n",
              "        \u001b[32m'plan'\u001b[0m: \u001b[32m'Here is a detailed learning plan for you to learn about K-Nearest Neighbors \u001b[0m\u001b[32m(\u001b[0m\u001b[32mKNN\u001b[0m\u001b[32m)\u001b[0m\u001b[32m \u001b[0m\n",
              "\u001b[32malgorithm:\\n\\n**Day 1-2:**\\n- Morning \u001b[0m\u001b[32m(\u001b[0m\u001b[32m9 AM - 12 PM\u001b[0m\u001b[32m)\u001b[0m\u001b[32m: Study the basics of KNN algorithm, its applications, and \u001b[0m\n",
              "\u001b[32mimportance in Machine Learning.\\n- Review the collected information from the web, focusing on the simplicity and \u001b[0m\n",
              "\u001b[32meffectiveness of KNN.\\n- Take notes and create a mind map to visualize the concept.\\n\\n**Day 3-4:**\\n- Morning \u001b[0m\u001b[32m(\u001b[0m\u001b[32m9 \u001b[0m\n",
              "\u001b[32mAM - 12 PM\u001b[0m\u001b[32m)\u001b[0m\u001b[32m: Dive deeper into the implementation of KNN, including the selection of the value of k and data \u001b[0m\n",
              "\u001b[32mpreprocessing.\\n- Watch videos and diagrams to understand the calculation of distances and the classification \u001b[0m\n",
              "\u001b[32mprocess.\\n- Take a 15-minute break every 45 minutes to refresh your mind.\\n\\n**Day 5-6:**\\n- Morning \u001b[0m\u001b[32m(\u001b[0m\u001b[32m9 AM - 12 \u001b[0m\n",
              "\u001b[32mPM\u001b[0m\u001b[32m)\u001b[0m\u001b[32m: Practice implementing KNN using a dataset and evaluating its performance.\\n- Review the importance of having a\u001b[0m\n",
              "\u001b[32mlarge and diverse dataset for accurate predictions.\\n- Take breaks to relax and recharge.\\n\\n**Day 7:**\\n- Morning \u001b[0m\n",
              "\u001b[32m(\u001b[0m\u001b[32m9 AM - 12 PM\u001b[0m\u001b[32m)\u001b[0m\u001b[32m: Review the entire concept of KNN, its applications, and limitations.\\n- Create a summary of the key\u001b[0m\n",
              "\u001b[32mpoints and takeaways from the learning process.\\n- Feel confident and prepared to apply KNN in real-world \u001b[0m\n",
              "\u001b[32mscenarios.\\n\\nSome additional tips for you:\\n- Make sure to take breaks and not overwork yourself.\\n- Use diagrams \u001b[0m\n",
              "\u001b[32mand mind maps to visualize the concept and make it easier to understand.\\n- Practice implementing KNN to reinforce \u001b[0m\n",
              "\u001b[32myour learning.'\u001b[0m\n",
              "    \u001b[1m}\u001b[0m,\n",
              "    \u001b[32m'completed_agents'\u001b[0m: \u001b[1m[\u001b[0m\u001b[32m'PLANNER'\u001b[0m\u001b[1m]\u001b[0m\n",
              "\u001b[1m}\u001b[0m\n"
            ],
            "text/html": [
              "<pre style=\"white-space:pre;overflow-x:auto;line-height:normal;font-family:Menlo,'DejaVu Sans Mono',consolas,'Courier New',monospace\"><span style=\"font-weight: bold\">{</span>\n",
              "    <span style=\"color: #008000; text-decoration-color: #008000\">'agent_outputs'</span>: <span style=\"font-weight: bold\">{</span>\n",
              "        <span style=\"color: #008000; text-decoration-color: #008000\">'plan'</span>: <span style=\"color: #008000; text-decoration-color: #008000\">'Here is a detailed learning plan for you to learn about K-Nearest Neighbors (KNN) </span>\n",
              "<span style=\"color: #008000; text-decoration-color: #008000\">algorithm:\\n\\n**Day 1-2:**\\n- Morning (9 AM - 12 PM): Study the basics of KNN algorithm, its applications, and </span>\n",
              "<span style=\"color: #008000; text-decoration-color: #008000\">importance in Machine Learning.\\n- Review the collected information from the web, focusing on the simplicity and </span>\n",
              "<span style=\"color: #008000; text-decoration-color: #008000\">effectiveness of KNN.\\n- Take notes and create a mind map to visualize the concept.\\n\\n**Day 3-4:**\\n- Morning (9 </span>\n",
              "<span style=\"color: #008000; text-decoration-color: #008000\">AM - 12 PM): Dive deeper into the implementation of KNN, including the selection of the value of k and data </span>\n",
              "<span style=\"color: #008000; text-decoration-color: #008000\">preprocessing.\\n- Watch videos and diagrams to understand the calculation of distances and the classification </span>\n",
              "<span style=\"color: #008000; text-decoration-color: #008000\">process.\\n- Take a 15-minute break every 45 minutes to refresh your mind.\\n\\n**Day 5-6:**\\n- Morning (9 AM - 12 </span>\n",
              "<span style=\"color: #008000; text-decoration-color: #008000\">PM): Practice implementing KNN using a dataset and evaluating its performance.\\n- Review the importance of having a</span>\n",
              "<span style=\"color: #008000; text-decoration-color: #008000\">large and diverse dataset for accurate predictions.\\n- Take breaks to relax and recharge.\\n\\n**Day 7:**\\n- Morning </span>\n",
              "<span style=\"color: #008000; text-decoration-color: #008000\">(9 AM - 12 PM): Review the entire concept of KNN, its applications, and limitations.\\n- Create a summary of the key</span>\n",
              "<span style=\"color: #008000; text-decoration-color: #008000\">points and takeaways from the learning process.\\n- Feel confident and prepared to apply KNN in real-world </span>\n",
              "<span style=\"color: #008000; text-decoration-color: #008000\">scenarios.\\n\\nSome additional tips for you:\\n- Make sure to take breaks and not overwork yourself.\\n- Use diagrams </span>\n",
              "<span style=\"color: #008000; text-decoration-color: #008000\">and mind maps to visualize the concept and make it easier to understand.\\n- Practice implementing KNN to reinforce </span>\n",
              "<span style=\"color: #008000; text-decoration-color: #008000\">your learning.'</span>\n",
              "    <span style=\"font-weight: bold\">}</span>,\n",
              "    <span style=\"color: #008000; text-decoration-color: #008000\">'completed_agents'</span>: <span style=\"font-weight: bold\">[</span><span style=\"color: #008000; text-decoration-color: #008000\">'PLANNER'</span><span style=\"font-weight: bold\">]</span>\n",
              "<span style=\"font-weight: bold\">}</span>\n",
              "</pre>\n"
            ]
          },
          "metadata": {}
        },
        {
          "output_type": "stream",
          "name": "stdout",
          "text": [
            "\n",
            "--- [NOTEWRITER] Bắt đầu làm việc... ---\n",
            "--- [NOTEWRITER] Gặp lỗi API nhỏ, đã tự động phục hồi sản phẩm.\n",
            "\n",
            "--- [Master Router] Quyết định: Chuyển đến agent tiếp theo là 'ADVISOR' ---\n"
          ]
        },
        {
          "output_type": "display_data",
          "data": {
            "text/plain": [
              "\n",
              "✅ \u001b[1;35mHoàn thành bước:\u001b[0m \u001b[33mnotewriter\u001b[0m\n"
            ],
            "text/html": [
              "<pre style=\"white-space:pre;overflow-x:auto;line-height:normal;font-family:Menlo,'DejaVu Sans Mono',consolas,'Courier New',monospace\">\n",
              "✅ <span style=\"color: #800080; text-decoration-color: #800080; font-weight: bold\">Hoàn thành bước:</span> <span style=\"color: #808000; text-decoration-color: #808000\">notewriter</span>\n",
              "</pre>\n"
            ]
          },
          "metadata": {}
        },
        {
          "output_type": "display_data",
          "data": {
            "text/plain": [
              "\u001b[1m{\u001b[0m\n",
              "    \u001b[32m'agent_outputs'\u001b[0m: \u001b[1m{\u001b[0m\n",
              "        \u001b[32m'notes'\u001b[0m: \u001b[32m'Here is a concise academic note based on the provided learning plan and \u001b[0m\n",
              "\u001b[32minformation:\\n\\n**K-Nearest Neighbors \u001b[0m\u001b[32m(\u001b[0m\u001b[32mKNN\u001b[0m\u001b[32m)\u001b[0m\u001b[32m Algorithm**\\n\\n*   KNN is a simple yet effective supervised learning \u001b[0m\n",
              "\u001b[32malgorithm in Machine Learning.\\n*   It can be used to predict stock prices by finding similar patterns in \u001b[0m\n",
              "\u001b[32mhistorical data.\\n*   To implement KNN effectively, a large and diverse dataset is required, and the value of k \u001b[0m\n",
              "\u001b[32mmust be carefully selected.\\n*   Data preprocessing is crucial to remove irrelevant features and noise.\\n*   The \u001b[0m\n",
              "\u001b[32malgorithm calculates distances between the new data and the labeled data to make predictions.\\n\\n**Learning \u001b[0m\n",
              "\u001b[32mTips**\\n\\n*   Use diagrams and mind maps to visualize the concept and make it easier to understand.\\n*   Practice \u001b[0m\n",
              "\u001b[32mimplementing KNN to reinforce your learning.\\n*   Take breaks and not overwork yourself to maintain focus and \u001b[0m\n",
              "\u001b[32mproductivity.'\u001b[0m\n",
              "    \u001b[1m}\u001b[0m,\n",
              "    \u001b[32m'completed_agents'\u001b[0m: \u001b[1m[\u001b[0m\u001b[32m'PLANNER'\u001b[0m, \u001b[32m'NOTEWRITER'\u001b[0m\u001b[1m]\u001b[0m\n",
              "\u001b[1m}\u001b[0m\n"
            ],
            "text/html": [
              "<pre style=\"white-space:pre;overflow-x:auto;line-height:normal;font-family:Menlo,'DejaVu Sans Mono',consolas,'Courier New',monospace\"><span style=\"font-weight: bold\">{</span>\n",
              "    <span style=\"color: #008000; text-decoration-color: #008000\">'agent_outputs'</span>: <span style=\"font-weight: bold\">{</span>\n",
              "        <span style=\"color: #008000; text-decoration-color: #008000\">'notes'</span>: <span style=\"color: #008000; text-decoration-color: #008000\">'Here is a concise academic note based on the provided learning plan and </span>\n",
              "<span style=\"color: #008000; text-decoration-color: #008000\">information:\\n\\n**K-Nearest Neighbors (KNN) Algorithm**\\n\\n*   KNN is a simple yet effective supervised learning </span>\n",
              "<span style=\"color: #008000; text-decoration-color: #008000\">algorithm in Machine Learning.\\n*   It can be used to predict stock prices by finding similar patterns in </span>\n",
              "<span style=\"color: #008000; text-decoration-color: #008000\">historical data.\\n*   To implement KNN effectively, a large and diverse dataset is required, and the value of k </span>\n",
              "<span style=\"color: #008000; text-decoration-color: #008000\">must be carefully selected.\\n*   Data preprocessing is crucial to remove irrelevant features and noise.\\n*   The </span>\n",
              "<span style=\"color: #008000; text-decoration-color: #008000\">algorithm calculates distances between the new data and the labeled data to make predictions.\\n\\n**Learning </span>\n",
              "<span style=\"color: #008000; text-decoration-color: #008000\">Tips**\\n\\n*   Use diagrams and mind maps to visualize the concept and make it easier to understand.\\n*   Practice </span>\n",
              "<span style=\"color: #008000; text-decoration-color: #008000\">implementing KNN to reinforce your learning.\\n*   Take breaks and not overwork yourself to maintain focus and </span>\n",
              "<span style=\"color: #008000; text-decoration-color: #008000\">productivity.'</span>\n",
              "    <span style=\"font-weight: bold\">}</span>,\n",
              "    <span style=\"color: #008000; text-decoration-color: #008000\">'completed_agents'</span>: <span style=\"font-weight: bold\">[</span><span style=\"color: #008000; text-decoration-color: #008000\">'PLANNER'</span>, <span style=\"color: #008000; text-decoration-color: #008000\">'NOTEWRITER'</span><span style=\"font-weight: bold\">]</span>\n",
              "<span style=\"font-weight: bold\">}</span>\n",
              "</pre>\n"
            ]
          },
          "metadata": {}
        },
        {
          "output_type": "stream",
          "name": "stdout",
          "text": [
            "\n",
            "--- [ADVISOR] Bắt đầu làm việc... ---\n",
            "--- [ADVISOR] Đã tạo sản phẩm thành công.\n",
            "\n",
            "--- [Master Router] Tất cả các chuyên gia đã hoàn thành. Chuyển đến Synthesizer. ---\n"
          ]
        },
        {
          "output_type": "display_data",
          "data": {
            "text/plain": [
              "\n",
              "✅ \u001b[1;35mHoàn thành bước:\u001b[0m \u001b[33madvisor\u001b[0m\n"
            ],
            "text/html": [
              "<pre style=\"white-space:pre;overflow-x:auto;line-height:normal;font-family:Menlo,'DejaVu Sans Mono',consolas,'Courier New',monospace\">\n",
              "✅ <span style=\"color: #800080; text-decoration-color: #800080; font-weight: bold\">Hoàn thành bước:</span> <span style=\"color: #808000; text-decoration-color: #808000\">advisor</span>\n",
              "</pre>\n"
            ]
          },
          "metadata": {}
        },
        {
          "output_type": "display_data",
          "data": {
            "text/plain": [
              "\u001b[1m{\u001b[0m\n",
              "    \u001b[32m'agent_outputs'\u001b[0m: \u001b[1m{\u001b[0m\n",
              "        \u001b[32m'advice'\u001b[0m: \u001b[32m'Here is a concise academic note based on the provided learning plan and \u001b[0m\n",
              "\u001b[32minformation:\\n\\n**K-Nearest Neighbors \u001b[0m\u001b[32m(\u001b[0m\u001b[32mKNN\u001b[0m\u001b[32m)\u001b[0m\u001b[32m Algorithm**\\n\\n*   KNN is a simple yet effective supervised learning \u001b[0m\n",
              "\u001b[32malgorithm in Machine Learning.\\n*   It can be used to predict stock prices by finding similar patterns in \u001b[0m\n",
              "\u001b[32mhistorical data.\\n*   To implement KNN effectively, a large and diverse dataset is required, and the value of k \u001b[0m\n",
              "\u001b[32mmust be carefully selected.\\n*   Data preprocessing is crucial to remove irrelevant features and noise.\\n*   The \u001b[0m\n",
              "\u001b[32malgorithm calculates distances between the new data and the labeled data to make predictions.\\n\\n**Learning \u001b[0m\n",
              "\u001b[32mTips**\\n\\n*   Use diagrams and mind maps to visualize the concept and make it easier to understand.\\n*   Practice \u001b[0m\n",
              "\u001b[32mimplementing KNN to reinforce your learning.\\n*   Take breaks and not overwork yourself to maintain focus and \u001b[0m\n",
              "\u001b[32mproductivity.'\u001b[0m\n",
              "    \u001b[1m}\u001b[0m,\n",
              "    \u001b[32m'completed_agents'\u001b[0m: \u001b[1m[\u001b[0m\u001b[32m'PLANNER'\u001b[0m, \u001b[32m'PLANNER'\u001b[0m, \u001b[32m'NOTEWRITER'\u001b[0m, \u001b[32m'ADVISOR'\u001b[0m\u001b[1m]\u001b[0m\n",
              "\u001b[1m}\u001b[0m\n"
            ],
            "text/html": [
              "<pre style=\"white-space:pre;overflow-x:auto;line-height:normal;font-family:Menlo,'DejaVu Sans Mono',consolas,'Courier New',monospace\"><span style=\"font-weight: bold\">{</span>\n",
              "    <span style=\"color: #008000; text-decoration-color: #008000\">'agent_outputs'</span>: <span style=\"font-weight: bold\">{</span>\n",
              "        <span style=\"color: #008000; text-decoration-color: #008000\">'advice'</span>: <span style=\"color: #008000; text-decoration-color: #008000\">'Here is a concise academic note based on the provided learning plan and </span>\n",
              "<span style=\"color: #008000; text-decoration-color: #008000\">information:\\n\\n**K-Nearest Neighbors (KNN) Algorithm**\\n\\n*   KNN is a simple yet effective supervised learning </span>\n",
              "<span style=\"color: #008000; text-decoration-color: #008000\">algorithm in Machine Learning.\\n*   It can be used to predict stock prices by finding similar patterns in </span>\n",
              "<span style=\"color: #008000; text-decoration-color: #008000\">historical data.\\n*   To implement KNN effectively, a large and diverse dataset is required, and the value of k </span>\n",
              "<span style=\"color: #008000; text-decoration-color: #008000\">must be carefully selected.\\n*   Data preprocessing is crucial to remove irrelevant features and noise.\\n*   The </span>\n",
              "<span style=\"color: #008000; text-decoration-color: #008000\">algorithm calculates distances between the new data and the labeled data to make predictions.\\n\\n**Learning </span>\n",
              "<span style=\"color: #008000; text-decoration-color: #008000\">Tips**\\n\\n*   Use diagrams and mind maps to visualize the concept and make it easier to understand.\\n*   Practice </span>\n",
              "<span style=\"color: #008000; text-decoration-color: #008000\">implementing KNN to reinforce your learning.\\n*   Take breaks and not overwork yourself to maintain focus and </span>\n",
              "<span style=\"color: #008000; text-decoration-color: #008000\">productivity.'</span>\n",
              "    <span style=\"font-weight: bold\">}</span>,\n",
              "    <span style=\"color: #008000; text-decoration-color: #008000\">'completed_agents'</span>: <span style=\"font-weight: bold\">[</span><span style=\"color: #008000; text-decoration-color: #008000\">'PLANNER'</span>, <span style=\"color: #008000; text-decoration-color: #008000\">'PLANNER'</span>, <span style=\"color: #008000; text-decoration-color: #008000\">'NOTEWRITER'</span>, <span style=\"color: #008000; text-decoration-color: #008000\">'ADVISOR'</span><span style=\"font-weight: bold\">]</span>\n",
              "<span style=\"font-weight: bold\">}</span>\n",
              "</pre>\n"
            ]
          },
          "metadata": {}
        },
        {
          "output_type": "stream",
          "name": "stdout",
          "text": [
            "\n",
            "--- [Synthesizer] Bắt đầu tổng hợp báo cáo cuối cùng ---\n"
          ]
        },
        {
          "output_type": "display_data",
          "data": {
            "text/plain": [
              "\n",
              "✅ \u001b[1;35mHoàn thành bước:\u001b[0m \u001b[33msynthesizer\u001b[0m\n"
            ],
            "text/html": [
              "<pre style=\"white-space:pre;overflow-x:auto;line-height:normal;font-family:Menlo,'DejaVu Sans Mono',consolas,'Courier New',monospace\">\n",
              "✅ <span style=\"color: #800080; text-decoration-color: #800080; font-weight: bold\">Hoàn thành bước:</span> <span style=\"color: #808000; text-decoration-color: #808000\">synthesizer</span>\n",
              "</pre>\n"
            ]
          },
          "metadata": {}
        },
        {
          "output_type": "display_data",
          "data": {
            "text/plain": [
              "\u001b[1m{\u001b[0m\n",
              "    \u001b[32m'final_report'\u001b[0m: \u001b[32m'Here is a comprehensive report that combines the plan, notes, and advice into a single, \u001b[0m\n",
              "\u001b[32mcohesive, and professional document:\\n\\n**Learning Report: K-Nearest Neighbors \u001b[0m\u001b[32m(\u001b[0m\u001b[32mKNN\u001b[0m\u001b[32m)\u001b[0m\u001b[32m Algorithm**\\n\\n**Learning \u001b[0m\n",
              "\u001b[32mPlan**\\n\\nTo help you learn about the K-Nearest Neighbors \u001b[0m\u001b[32m(\u001b[0m\u001b[32mKNN\u001b[0m\u001b[32m)\u001b[0m\u001b[32m algorithm, we have created a detailed learning plan\u001b[0m\n",
              "\u001b[32mfor you to follow over the next week.\\n\\n**Day 1-2:**\\n\\n* Morning \u001b[0m\u001b[32m(\u001b[0m\u001b[32m9 AM - 12 PM\u001b[0m\u001b[32m)\u001b[0m\u001b[32m: Study the basics of KNN \u001b[0m\n",
              "\u001b[32malgorithm, its applications, and importance in Machine Learning.\\n* Review the collected information from the web, \u001b[0m\n",
              "\u001b[32mfocusing on the simplicity and effectiveness of KNN.\\n* Take notes and create a mind map to visualize the \u001b[0m\n",
              "\u001b[32mconcept.\\n\\n**Day 3-4:**\\n\\n* Morning \u001b[0m\u001b[32m(\u001b[0m\u001b[32m9 AM - 12 PM\u001b[0m\u001b[32m)\u001b[0m\u001b[32m: Dive deeper into the implementation of KNN, including the \u001b[0m\n",
              "\u001b[32mselection of the value of k and data preprocessing.\\n* Watch videos and diagrams to understand the calculation of \u001b[0m\n",
              "\u001b[32mdistances and the classification process.\\n* Take a 15-minute break every 45 minutes to refresh your mind.\\n\\n**Day\u001b[0m\n",
              "\u001b[32m5-6:**\\n\\n* Morning \u001b[0m\u001b[32m(\u001b[0m\u001b[32m9 AM - 12 PM\u001b[0m\u001b[32m)\u001b[0m\u001b[32m: Practice implementing KNN using a dataset and evaluating its performance.\\n* \u001b[0m\n",
              "\u001b[32mReview the importance of having a large and diverse dataset for accurate predictions.\\n* Take breaks to relax and \u001b[0m\n",
              "\u001b[32mrecharge.\\n\\n**Day 7:**\\n\\n* Morning \u001b[0m\u001b[32m(\u001b[0m\u001b[32m9 AM - 12 PM\u001b[0m\u001b[32m)\u001b[0m\u001b[32m: Review the entire concept of KNN, its applications, and \u001b[0m\n",
              "\u001b[32mlimitations.\\n* Create a summary of the key points and takeaways from the learning process.\\n* Feel confident and \u001b[0m\n",
              "\u001b[32mprepared to apply KNN in real-world scenarios.\\n\\n**Additional Tips:**\\n\\n* Make sure to take breaks and not \u001b[0m\n",
              "\u001b[32moverwork yourself.\\n* Use diagrams and mind maps to visualize the concept and make it easier to understand.\\n* \u001b[0m\n",
              "\u001b[32mPractice implementing KNN to reinforce your learning.\\n\\n**Key Notes**\\n\\nHere are the key points to remember about\u001b[0m\n",
              "\u001b[32mthe K-Nearest Neighbors \u001b[0m\u001b[32m(\u001b[0m\u001b[32mKNN\u001b[0m\u001b[32m)\u001b[0m\u001b[32m algorithm:\\n\\n* KNN is a simple yet effective supervised learning algorithm in \u001b[0m\n",
              "\u001b[32mMachine Learning.\\n* It can be used to predict stock prices by finding similar patterns in historical data.\\n* To \u001b[0m\n",
              "\u001b[32mimplement KNN effectively, a large and diverse dataset is required, and the value of k must be carefully \u001b[0m\n",
              "\u001b[32mselected.\\n* Data preprocessing is crucial to remove irrelevant features and noise.\\n* The algorithm calculates \u001b[0m\n",
              "\u001b[32mdistances between the new data and the labeled data to make predictions.\\n\\n**Learning Tips**\\n\\nHere are some \u001b[0m\n",
              "\u001b[32madditional tips to help you learn effectively:\\n\\n* Use diagrams and mind maps to visualize the concept and make it\u001b[0m\n",
              "\u001b[32measier to understand.\\n* Practice implementing KNN to reinforce your learning.\\n* Take breaks and not overwork \u001b[0m\n",
              "\u001b[32myourself to maintain focus and productivity.\\n\\nBy following this learning plan and taking note of the key points \u001b[0m\n",
              "\u001b[32mand tips, you will be well on your way to mastering the K-Nearest Neighbors \u001b[0m\u001b[32m(\u001b[0m\u001b[32mKNN\u001b[0m\u001b[32m)\u001b[0m\u001b[32m algorithm. Good luck!'\u001b[0m\n",
              "\u001b[1m}\u001b[0m\n"
            ],
            "text/html": [
              "<pre style=\"white-space:pre;overflow-x:auto;line-height:normal;font-family:Menlo,'DejaVu Sans Mono',consolas,'Courier New',monospace\"><span style=\"font-weight: bold\">{</span>\n",
              "    <span style=\"color: #008000; text-decoration-color: #008000\">'final_report'</span>: <span style=\"color: #008000; text-decoration-color: #008000\">'Here is a comprehensive report that combines the plan, notes, and advice into a single, </span>\n",
              "<span style=\"color: #008000; text-decoration-color: #008000\">cohesive, and professional document:\\n\\n**Learning Report: K-Nearest Neighbors (KNN) Algorithm**\\n\\n**Learning </span>\n",
              "<span style=\"color: #008000; text-decoration-color: #008000\">Plan**\\n\\nTo help you learn about the K-Nearest Neighbors (KNN) algorithm, we have created a detailed learning plan</span>\n",
              "<span style=\"color: #008000; text-decoration-color: #008000\">for you to follow over the next week.\\n\\n**Day 1-2:**\\n\\n* Morning (9 AM - 12 PM): Study the basics of KNN </span>\n",
              "<span style=\"color: #008000; text-decoration-color: #008000\">algorithm, its applications, and importance in Machine Learning.\\n* Review the collected information from the web, </span>\n",
              "<span style=\"color: #008000; text-decoration-color: #008000\">focusing on the simplicity and effectiveness of KNN.\\n* Take notes and create a mind map to visualize the </span>\n",
              "<span style=\"color: #008000; text-decoration-color: #008000\">concept.\\n\\n**Day 3-4:**\\n\\n* Morning (9 AM - 12 PM): Dive deeper into the implementation of KNN, including the </span>\n",
              "<span style=\"color: #008000; text-decoration-color: #008000\">selection of the value of k and data preprocessing.\\n* Watch videos and diagrams to understand the calculation of </span>\n",
              "<span style=\"color: #008000; text-decoration-color: #008000\">distances and the classification process.\\n* Take a 15-minute break every 45 minutes to refresh your mind.\\n\\n**Day</span>\n",
              "<span style=\"color: #008000; text-decoration-color: #008000\">5-6:**\\n\\n* Morning (9 AM - 12 PM): Practice implementing KNN using a dataset and evaluating its performance.\\n* </span>\n",
              "<span style=\"color: #008000; text-decoration-color: #008000\">Review the importance of having a large and diverse dataset for accurate predictions.\\n* Take breaks to relax and </span>\n",
              "<span style=\"color: #008000; text-decoration-color: #008000\">recharge.\\n\\n**Day 7:**\\n\\n* Morning (9 AM - 12 PM): Review the entire concept of KNN, its applications, and </span>\n",
              "<span style=\"color: #008000; text-decoration-color: #008000\">limitations.\\n* Create a summary of the key points and takeaways from the learning process.\\n* Feel confident and </span>\n",
              "<span style=\"color: #008000; text-decoration-color: #008000\">prepared to apply KNN in real-world scenarios.\\n\\n**Additional Tips:**\\n\\n* Make sure to take breaks and not </span>\n",
              "<span style=\"color: #008000; text-decoration-color: #008000\">overwork yourself.\\n* Use diagrams and mind maps to visualize the concept and make it easier to understand.\\n* </span>\n",
              "<span style=\"color: #008000; text-decoration-color: #008000\">Practice implementing KNN to reinforce your learning.\\n\\n**Key Notes**\\n\\nHere are the key points to remember about</span>\n",
              "<span style=\"color: #008000; text-decoration-color: #008000\">the K-Nearest Neighbors (KNN) algorithm:\\n\\n* KNN is a simple yet effective supervised learning algorithm in </span>\n",
              "<span style=\"color: #008000; text-decoration-color: #008000\">Machine Learning.\\n* It can be used to predict stock prices by finding similar patterns in historical data.\\n* To </span>\n",
              "<span style=\"color: #008000; text-decoration-color: #008000\">implement KNN effectively, a large and diverse dataset is required, and the value of k must be carefully </span>\n",
              "<span style=\"color: #008000; text-decoration-color: #008000\">selected.\\n* Data preprocessing is crucial to remove irrelevant features and noise.\\n* The algorithm calculates </span>\n",
              "<span style=\"color: #008000; text-decoration-color: #008000\">distances between the new data and the labeled data to make predictions.\\n\\n**Learning Tips**\\n\\nHere are some </span>\n",
              "<span style=\"color: #008000; text-decoration-color: #008000\">additional tips to help you learn effectively:\\n\\n* Use diagrams and mind maps to visualize the concept and make it</span>\n",
              "<span style=\"color: #008000; text-decoration-color: #008000\">easier to understand.\\n* Practice implementing KNN to reinforce your learning.\\n* Take breaks and not overwork </span>\n",
              "<span style=\"color: #008000; text-decoration-color: #008000\">yourself to maintain focus and productivity.\\n\\nBy following this learning plan and taking note of the key points </span>\n",
              "<span style=\"color: #008000; text-decoration-color: #008000\">and tips, you will be well on your way to mastering the K-Nearest Neighbors (KNN) algorithm. Good luck!'</span>\n",
              "<span style=\"font-weight: bold\">}</span>\n",
              "</pre>\n"
            ]
          },
          "metadata": {}
        },
        {
          "output_type": "stream",
          "name": "stdout",
          "text": [
            "\n",
            "--- [Reflection] Đang suy nghĩ về các bước tiếp theo... ---\n"
          ]
        },
        {
          "output_type": "display_data",
          "data": {
            "text/plain": [
              "\n",
              "✅ \u001b[1;35mHoàn thành bước:\u001b[0m \u001b[33mreflection\u001b[0m\n"
            ],
            "text/html": [
              "<pre style=\"white-space:pre;overflow-x:auto;line-height:normal;font-family:Menlo,'DejaVu Sans Mono',consolas,'Courier New',monospace\">\n",
              "✅ <span style=\"color: #800080; text-decoration-color: #800080; font-weight: bold\">Hoàn thành bước:</span> <span style=\"color: #808000; text-decoration-color: #808000\">reflection</span>\n",
              "</pre>\n"
            ]
          },
          "metadata": {}
        },
        {
          "output_type": "display_data",
          "data": {
            "text/plain": [
              "\u001b[1m{\u001b[0m\n",
              "    \u001b[32m'next_steps'\u001b[0m: \u001b[32m'Based on this comprehensive report, here are 3-4 potential next actions or questions that the \u001b[0m\n",
              "\u001b[32muser may want to take:\\n\\n1. **Implement KNN on a real-world dataset**: Now that the user has a solid understanding\u001b[0m\n",
              "\u001b[32mof the KNN algorithm, they may want to apply it to a real-world dataset to practice and reinforce their learning. \u001b[0m\n",
              "\u001b[32mThey could choose a dataset from a platform like Kaggle or UCI Machine Learning Repository and try to implement KNN\u001b[0m\n",
              "\u001b[32mto solve a problem or make predictions.\\n\\n2. **Explore other supervised learning algorithms**: Having learned \u001b[0m\n",
              "\u001b[32mabout KNN, the user may be interested in exploring other supervised learning algorithms, such as decision trees, \u001b[0m\n",
              "\u001b[32mrandom forests, or support vector machines. They could create a new learning plan to learn about these algorithms \u001b[0m\n",
              "\u001b[32mand compare their strengths and weaknesses with KNN.\\n\\n3. **Apply KNN to a specific domain or industry**: The user\u001b[0m\n",
              "\u001b[32mmay want to explore how KNN can be applied to a specific domain or industry, such as finance, healthcare, or \u001b[0m\n",
              "\u001b[32mmarketing. They could research how KNN is being used in these areas and think about how they can apply their \u001b[0m\n",
              "\u001b[32mknowledge to solve real-world problems.\\n\\n4. **How can I improve the performance of KNN?**: The user may want to \u001b[0m\n",
              "\u001b[32minvestigate ways to improve the performance of KNN, such as handling imbalanced datasets, dealing with noisy data, \u001b[0m\n",
              "\u001b[32mor using techniques like cross-validation and grid search to optimize hyperparameters. They could research these \u001b[0m\n",
              "\u001b[32mtopics and experiment with different approaches to improve the accuracy of their KNN models.'\u001b[0m\n",
              "\u001b[1m}\u001b[0m\n"
            ],
            "text/html": [
              "<pre style=\"white-space:pre;overflow-x:auto;line-height:normal;font-family:Menlo,'DejaVu Sans Mono',consolas,'Courier New',monospace\"><span style=\"font-weight: bold\">{</span>\n",
              "    <span style=\"color: #008000; text-decoration-color: #008000\">'next_steps'</span>: <span style=\"color: #008000; text-decoration-color: #008000\">'Based on this comprehensive report, here are 3-4 potential next actions or questions that the </span>\n",
              "<span style=\"color: #008000; text-decoration-color: #008000\">user may want to take:\\n\\n1. **Implement KNN on a real-world dataset**: Now that the user has a solid understanding</span>\n",
              "<span style=\"color: #008000; text-decoration-color: #008000\">of the KNN algorithm, they may want to apply it to a real-world dataset to practice and reinforce their learning. </span>\n",
              "<span style=\"color: #008000; text-decoration-color: #008000\">They could choose a dataset from a platform like Kaggle or UCI Machine Learning Repository and try to implement KNN</span>\n",
              "<span style=\"color: #008000; text-decoration-color: #008000\">to solve a problem or make predictions.\\n\\n2. **Explore other supervised learning algorithms**: Having learned </span>\n",
              "<span style=\"color: #008000; text-decoration-color: #008000\">about KNN, the user may be interested in exploring other supervised learning algorithms, such as decision trees, </span>\n",
              "<span style=\"color: #008000; text-decoration-color: #008000\">random forests, or support vector machines. They could create a new learning plan to learn about these algorithms </span>\n",
              "<span style=\"color: #008000; text-decoration-color: #008000\">and compare their strengths and weaknesses with KNN.\\n\\n3. **Apply KNN to a specific domain or industry**: The user</span>\n",
              "<span style=\"color: #008000; text-decoration-color: #008000\">may want to explore how KNN can be applied to a specific domain or industry, such as finance, healthcare, or </span>\n",
              "<span style=\"color: #008000; text-decoration-color: #008000\">marketing. They could research how KNN is being used in these areas and think about how they can apply their </span>\n",
              "<span style=\"color: #008000; text-decoration-color: #008000\">knowledge to solve real-world problems.\\n\\n4. **How can I improve the performance of KNN?**: The user may want to </span>\n",
              "<span style=\"color: #008000; text-decoration-color: #008000\">investigate ways to improve the performance of KNN, such as handling imbalanced datasets, dealing with noisy data, </span>\n",
              "<span style=\"color: #008000; text-decoration-color: #008000\">or using techniques like cross-validation and grid search to optimize hyperparameters. They could research these </span>\n",
              "<span style=\"color: #008000; text-decoration-color: #008000\">topics and experiment with different approaches to improve the accuracy of their KNN models.'</span>\n",
              "<span style=\"font-weight: bold\">}</span>\n",
              "</pre>\n"
            ]
          },
          "metadata": {}
        }
      ]
    },
    {
      "cell_type": "code",
      "source": [
        "from rich.panel import Panel\n",
        "\n",
        "SHOW_STEP_BY_STEP_LOGS = False\n",
        "\n",
        "async def run_atlas_2_0(profile_data: dict):\n",
        "    request = \"Tuần tới tôi cần học về thuật toán K-Nearest Neighbors (KNN). Lịch của tôi khá bận rộn, hãy tạo một kế hoạch học tập chi tiết, sau đó ghi chú lại các điểm chính và cho tôi một vài lời khuyên học tập.\"\n",
        "\n",
        "    student_profile = next((p for p in profile_data.get(\"profiles\", []) if p.get(\"id\") == \"student_123\"), {})\n",
        "\n",
        "    initial_state = {\n",
        "        \"messages\": [HumanMessage(content=request)],\n",
        "        \"profile\": student_profile,\n",
        "        \"agent_outputs\": {},\n",
        "        \"completed_agents\": [],\n",
        "    }\n",
        "\n",
        "    console.print(Panel(f\"[bold]Yêu cầu:[/bold]\\n{request}\", title=\"🚀 [bold green]BẮT ĐẦU CHẠY HỆ THỐNG ATLAS 2.0[/bold green]\", border_style=\"green\"))\n",
        "\n",
        "    final_state = None\n",
        "\n",
        "    if SHOW_STEP_BY_STEP_LOGS:\n",
        "        print(\"\\n--- [Hệ thống] Chạy ở chế độ log chi tiết... ---\")\n",
        "        async for step in app.astream(initial_state, config={\"recursion_limit\": 15}):\n",
        "            node_name = list(step.keys())[0]\n",
        "            console.print(f\"\\n✅ [bold magenta]Hoàn thành bước:[/] [yellow]{node_name}[/yellow]\")\n",
        "            console.print(step[node_name])\n",
        "        final_state = await app.ainvoke(initial_state, config={\"recursion_limit\": 15})\n",
        "    else:\n",
        "        # Nếu không bật log, chạy ngầm bằng ainvoke để có kết quả nhanh nhất\n",
        "        print(\"\\n--- [Hệ thống] Đang chạy, vui lòng chờ... ---\")\n",
        "        final_state = await app.ainvoke(initial_state, config={\"recursion_limit\": 15})\n",
        "\n",
        "    console.print(\"\\n\\n\" + \"=\"*80, style=\"bold green\")\n",
        "    console.print(\" HỆ THỐNG ATLAS 2.0 ĐÃ HOÀN THÀNH TÁC VỤ!\", style=\"bold green\")\n",
        "    console.print(\"=\"*80, style=\"bold green\")\n",
        "\n",
        "    if final_state:\n",
        "        # In Báo cáo tổng hợp trong một Panel\n",
        "        report_panel = Panel(\n",
        "            Markdown(final_state.get(\"final_report\", \"Không có báo cáo cuối cùng.\")),\n",
        "            title=\"📑 [bold blue]BÁO CÁO TỔNG HỢP[/bold blue]\",\n",
        "            border_style=\"blue\",\n",
        "            padding=(1, 2)\n",
        "        )\n",
        "        console.print(report_panel)\n",
        "\n",
        "        next_steps_panel = Panel(\n",
        "            Markdown(final_state.get(\"next_steps\", \"Không có gợi ý.\")),\n",
        "            title=\"💡 [bold yellow]GỢI Ý CÁC BƯỚC TIẾP THEO[/bold yellow]\",\n",
        "            border_style=\"yellow\",\n",
        "            padding=(1, 2)\n",
        "        )\n",
        "        console.print(next_steps_panel)\n",
        "\n",
        "await run_atlas_2_0(profile_data)"
      ],
      "metadata": {
        "colab": {
          "base_uri": "https://localhost:8080/",
          "height": 1000
        },
        "id": "P00JjVb6TMEU",
        "outputId": "c4740f2f-7ff0-4c1a-9004-3a255422fd65"
      },
      "execution_count": null,
      "outputs": [
        {
          "output_type": "display_data",
          "data": {
            "text/plain": [
              "\u001b[32m╭─\u001b[0m\u001b[32m─────────────────────────────────────\u001b[0m\u001b[32m 🚀 \u001b[0m\u001b[1;32mBẮT ĐẦU CHẠY HỆ THỐNG ATLAS 2.0\u001b[0m\u001b[32m \u001b[0m\u001b[32m──────────────────────────────────────\u001b[0m\u001b[32m─╮\u001b[0m\n",
              "\u001b[32m│\u001b[0m \u001b[1mYêu cầu:\u001b[0m                                                                                                        \u001b[32m│\u001b[0m\n",
              "\u001b[32m│\u001b[0m Tuần tới tôi cần học về thuật toán K-Nearest Neighbors (KNN). Lịch của tôi khá bận rộn, hãy tạo một kế hoạch    \u001b[32m│\u001b[0m\n",
              "\u001b[32m│\u001b[0m học tập chi tiết, sau đó ghi chú lại các điểm chính và cho tôi một vài lời khuyên học tập.                      \u001b[32m│\u001b[0m\n",
              "\u001b[32m╰─────────────────────────────────────────────────────────────────────────────────────────────────────────────────╯\u001b[0m\n"
            ],
            "text/html": [
              "<pre style=\"white-space:pre;overflow-x:auto;line-height:normal;font-family:Menlo,'DejaVu Sans Mono',consolas,'Courier New',monospace\"><span style=\"color: #008000; text-decoration-color: #008000\">╭────────────────────────────────────── 🚀 </span><span style=\"color: #008000; text-decoration-color: #008000; font-weight: bold\">BẮT ĐẦU CHẠY HỆ THỐNG ATLAS 2.0</span><span style=\"color: #008000; text-decoration-color: #008000\"> ───────────────────────────────────────╮</span>\n",
              "<span style=\"color: #008000; text-decoration-color: #008000\">│</span> <span style=\"font-weight: bold\">Yêu cầu:</span>                                                                                                        <span style=\"color: #008000; text-decoration-color: #008000\">│</span>\n",
              "<span style=\"color: #008000; text-decoration-color: #008000\">│</span> Tuần tới tôi cần học về thuật toán K-Nearest Neighbors (KNN). Lịch của tôi khá bận rộn, hãy tạo một kế hoạch    <span style=\"color: #008000; text-decoration-color: #008000\">│</span>\n",
              "<span style=\"color: #008000; text-decoration-color: #008000\">│</span> học tập chi tiết, sau đó ghi chú lại các điểm chính và cho tôi một vài lời khuyên học tập.                      <span style=\"color: #008000; text-decoration-color: #008000\">│</span>\n",
              "<span style=\"color: #008000; text-decoration-color: #008000\">╰─────────────────────────────────────────────────────────────────────────────────────────────────────────────────╯</span>\n",
              "</pre>\n"
            ]
          },
          "metadata": {}
        },
        {
          "output_type": "stream",
          "name": "stdout",
          "text": [
            "\n",
            "--- [Hệ thống] Đang chạy, vui lòng chờ... ---\n",
            "\n",
            "--- [Coordinator] Đang quyết định các chuyên gia cần thiết... ---\n",
            "--- [Coordinator] Quyết định: Cần các agent ['PLANNER', 'NOTEWRITER', 'ADVISOR']\n",
            "\n",
            "--- [Tool User] Thu thập tất cả thông tin ban đầu... ---\n",
            "--- [Tool User] Quyết định gọi công cụ: ['google_calendar_reader', 'tavily_web_search']\n",
            "--- [Calendar Tool] Đang đọc lịch: td.tan2711@gmail.com\n",
            "--- [Calendar Tool] Tìm thấy 4 sự kiện.\n",
            "--- [Tool User] Đã thu thập và định dạng xong thông tin.\n",
            "\n",
            "--- [Master Router] Quyết định: Chuyển đến agent tiếp theo là 'PLANNER' ---\n",
            "\n",
            "--- [PLANNER] Bắt đầu làm việc... ---\n",
            "--- [PLANNER] Gặp lỗi API nhỏ, đã tự động phục hồi sản phẩm.\n",
            "\n",
            "--- [Master Router] Quyết định: Chuyển đến agent tiếp theo là 'NOTEWRITER' ---\n",
            "\n",
            "--- [NOTEWRITER] Bắt đầu làm việc... ---\n",
            "--- [NOTEWRITER] Đã tạo sản phẩm thành công.\n",
            "\n",
            "--- [Master Router] Quyết định: Chuyển đến agent tiếp theo là 'ADVISOR' ---\n",
            "\n",
            "--- [ADVISOR] Bắt đầu làm việc... ---\n",
            "--- [ADVISOR] Đã tạo sản phẩm thành công.\n",
            "\n",
            "--- [Master Router] Tất cả các chuyên gia đã hoàn thành. Chuyển đến Synthesizer. ---\n",
            "\n",
            "--- [Synthesizer] Bắt đầu tổng hợp báo cáo cuối cùng ---\n",
            "\n",
            "--- [Reflection] Đang suy nghĩ về các bước tiếp theo... ---\n"
          ]
        },
        {
          "output_type": "display_data",
          "data": {
            "text/plain": [
              "\n",
              "\n",
              "\u001b[1;32m================================================================================\u001b[0m\n"
            ],
            "text/html": [
              "<pre style=\"white-space:pre;overflow-x:auto;line-height:normal;font-family:Menlo,'DejaVu Sans Mono',consolas,'Courier New',monospace\">\n",
              "\n",
              "<span style=\"color: #008000; text-decoration-color: #008000; font-weight: bold\">================================================================================</span>\n",
              "</pre>\n"
            ]
          },
          "metadata": {}
        },
        {
          "output_type": "display_data",
          "data": {
            "text/plain": [
              "\u001b[1;32m HỆ THỐNG ATLAS \u001b[0m\u001b[1;36m2.0\u001b[0m\u001b[1;32m ĐÃ HOÀN THÀNH TÁC VỤ!\u001b[0m\n"
            ],
            "text/html": [
              "<pre style=\"white-space:pre;overflow-x:auto;line-height:normal;font-family:Menlo,'DejaVu Sans Mono',consolas,'Courier New',monospace\"><span style=\"color: #008000; text-decoration-color: #008000; font-weight: bold\"> HỆ THỐNG ATLAS </span><span style=\"color: #008080; text-decoration-color: #008080; font-weight: bold\">2.0</span><span style=\"color: #008000; text-decoration-color: #008000; font-weight: bold\"> ĐÃ HOÀN THÀNH TÁC VỤ!</span>\n",
              "</pre>\n"
            ]
          },
          "metadata": {}
        },
        {
          "output_type": "display_data",
          "data": {
            "text/plain": [
              "\u001b[1;32m================================================================================\u001b[0m\n"
            ],
            "text/html": [
              "<pre style=\"white-space:pre;overflow-x:auto;line-height:normal;font-family:Menlo,'DejaVu Sans Mono',consolas,'Courier New',monospace\"><span style=\"color: #008000; text-decoration-color: #008000; font-weight: bold\">================================================================================</span>\n",
              "</pre>\n"
            ]
          },
          "metadata": {}
        },
        {
          "output_type": "display_data",
          "data": {
            "text/plain": [
              "\u001b[34m╭─\u001b[0m\u001b[34m─────────────────────────────────────────────\u001b[0m\u001b[34m 📑 \u001b[0m\u001b[1;34mBÁO CÁO TỔNG HỢP\u001b[0m\u001b[34m \u001b[0m\u001b[34m─────────────────────────────────────────────\u001b[0m\u001b[34m─╮\u001b[0m\n",
              "\u001b[34m│\u001b[0m                                                                                                                 \u001b[34m│\u001b[0m\n",
              "\u001b[34m│\u001b[0m  Here is a comprehensive report that combines the plan, notes, and advice into a single, cohesive, and          \u001b[34m│\u001b[0m\n",
              "\u001b[34m│\u001b[0m  professional document:                                                                                         \u001b[34m│\u001b[0m\n",
              "\u001b[34m│\u001b[0m                                                                                                                 \u001b[34m│\u001b[0m\n",
              "\u001b[34m│\u001b[0m  \u001b[1mLearning Report: K-Nearest Neighbors (KNN) Algorithm\u001b[0m                                                           \u001b[34m│\u001b[0m\n",
              "\u001b[34m│\u001b[0m                                                                                                                 \u001b[34m│\u001b[0m\n",
              "\u001b[34m│\u001b[0m  \u001b[1mIntroduction\u001b[0m                                                                                                   \u001b[34m│\u001b[0m\n",
              "\u001b[34m│\u001b[0m                                                                                                                 \u001b[34m│\u001b[0m\n",
              "\u001b[34m│\u001b[0m  As per your request, we have created a detailed learning plan to help you learn about the K-Nearest Neighbors  \u001b[34m│\u001b[0m\n",
              "\u001b[34m│\u001b[0m  (KNN) algorithm. This report provides a comprehensive overview of the plan, key notes, and valuable advice to  \u001b[34m│\u001b[0m\n",
              "\u001b[34m│\u001b[0m  ensure you grasp the concept effectively.                                                                      \u001b[34m│\u001b[0m\n",
              "\u001b[34m│\u001b[0m                                                                                                                 \u001b[34m│\u001b[0m\n",
              "\u001b[34m│\u001b[0m  \u001b[1mLearning Plan\u001b[0m                                                                                                  \u001b[34m│\u001b[0m\n",
              "\u001b[34m│\u001b[0m                                                                                                                 \u001b[34m│\u001b[0m\n",
              "\u001b[34m│\u001b[0m  To learn about KNN algorithm, we recommend the following 7-day plan:                                           \u001b[34m│\u001b[0m\n",
              "\u001b[34m│\u001b[0m                                                                                                                 \u001b[34m│\u001b[0m\n",
              "\u001b[34m│\u001b[0m  \u001b[1mDay 1-2\u001b[0m                                                                                                        \u001b[34m│\u001b[0m\n",
              "\u001b[34m│\u001b[0m                                                                                                                 \u001b[34m│\u001b[0m\n",
              "\u001b[34m│\u001b[0m  \u001b[1;33m • \u001b[0mMorning (9 AM - 12 PM): Study the basics of KNN algorithm, including its definition, types, and             \u001b[34m│\u001b[0m\n",
              "\u001b[34m│\u001b[0m  \u001b[1;33m   \u001b[0mapplications. Use visual aids like diagrams and mind maps to help you understand the concept better.        \u001b[34m│\u001b[0m\n",
              "\u001b[34m│\u001b[0m  \u001b[1;33m • \u001b[0mBreak: Take a 15-minute break to refresh your mind.                                                         \u001b[34m│\u001b[0m\n",
              "\u001b[34m│\u001b[0m  \u001b[1;33m • \u001b[0mSession 2: Study the advantages and disadvantages of KNN algorithm.                                         \u001b[34m│\u001b[0m\n",
              "\u001b[34m│\u001b[0m                                                                                                                 \u001b[34m│\u001b[0m\n",
              "\u001b[34m│\u001b[0m  \u001b[1mDay 3-4\u001b[0m                                                                                                        \u001b[34m│\u001b[0m\n",
              "\u001b[34m│\u001b[0m                                                                                                                 \u001b[34m│\u001b[0m\n",
              "\u001b[34m│\u001b[0m  \u001b[1;33m • \u001b[0mMorning (9 AM - 12 PM): Learn about the implementation of KNN algorithm in real-world scenarios, such as    \u001b[34m│\u001b[0m\n",
              "\u001b[34m│\u001b[0m  \u001b[1;33m   \u001b[0mstock market prediction and customer segmentation. Watch videos and read articles to get a deeper           \u001b[34m│\u001b[0m\n",
              "\u001b[34m│\u001b[0m  \u001b[1;33m   \u001b[0munderstanding of the topic.                                                                                 \u001b[34m│\u001b[0m\n",
              "\u001b[34m│\u001b[0m  \u001b[1;33m • \u001b[0mBreak: Take a 15-minute break to refresh your mind.                                                         \u001b[34m│\u001b[0m\n",
              "\u001b[34m│\u001b[0m  \u001b[1;33m • \u001b[0mSession 2: Practice implementing KNN algorithm using a programming language of your choice.                 \u001b[34m│\u001b[0m\n",
              "\u001b[34m│\u001b[0m                                                                                                                 \u001b[34m│\u001b[0m\n",
              "\u001b[34m│\u001b[0m  \u001b[1mDay 5-6\u001b[0m                                                                                                        \u001b[34m│\u001b[0m\n",
              "\u001b[34m│\u001b[0m                                                                                                                 \u001b[34m│\u001b[0m\n",
              "\u001b[34m│\u001b[0m  \u001b[1;33m • \u001b[0mMorning (9 AM - 12 PM): Study the importance of choosing the right value of 'k' in KNN algorithm and how    \u001b[34m│\u001b[0m\n",
              "\u001b[34m│\u001b[0m  \u001b[1;33m   \u001b[0mto preprocess data for better results. Read articles and research papers to get a deeper understanding of   \u001b[34m│\u001b[0m\n",
              "\u001b[34m│\u001b[0m  \u001b[1;33m   \u001b[0mthe topic.                                                                                                  \u001b[34m│\u001b[0m\n",
              "\u001b[34m│\u001b[0m  \u001b[1;33m • \u001b[0mBreak: Take a 15-minute break to refresh your mind.                                                         \u001b[34m│\u001b[0m\n",
              "\u001b[34m│\u001b[0m  \u001b[1;33m • \u001b[0mSession 2: Review what you have learned so far and make notes on the key points.                            \u001b[34m│\u001b[0m\n",
              "\u001b[34m│\u001b[0m                                                                                                                 \u001b[34m│\u001b[0m\n",
              "\u001b[34m│\u001b[0m  \u001b[1mDay 7\u001b[0m                                                                                                          \u001b[34m│\u001b[0m\n",
              "\u001b[34m│\u001b[0m                                                                                                                 \u001b[34m│\u001b[0m\n",
              "\u001b[34m│\u001b[0m  \u001b[1;33m • \u001b[0mMorning (9 AM - 12 PM): Review the entire concept of KNN algorithm and practice solving problems related    \u001b[34m│\u001b[0m\n",
              "\u001b[34m│\u001b[0m  \u001b[1;33m   \u001b[0mto it. Use online resources and practice platforms to test your knowledge.                                  \u001b[34m│\u001b[0m\n",
              "\u001b[34m│\u001b[0m                                                                                                                 \u001b[34m│\u001b[0m\n",
              "\u001b[34m│\u001b[0m  \u001b[1mKey Notes\u001b[0m                                                                                                      \u001b[34m│\u001b[0m\n",
              "\u001b[34m│\u001b[0m                                                                                                                 \u001b[34m│\u001b[0m\n",
              "\u001b[34m│\u001b[0m  Here are the key points to remember about KNN algorithm:                                                       \u001b[34m│\u001b[0m\n",
              "\u001b[34m│\u001b[0m                                                                                                                 \u001b[34m│\u001b[0m\n",
              "\u001b[34m│\u001b[0m  \u001b[1;33m • \u001b[0m\u001b[1mDefinition:\u001b[0m KNN is a supervised learning algorithm used for classification and regression tasks.            \u001b[34m│\u001b[0m\n",
              "\u001b[34m│\u001b[0m  \u001b[1;33m • \u001b[0m\u001b[1mHow it works:\u001b[0m KNN finds the k most similar instances to a new instance and uses their labels to predict     \u001b[34m│\u001b[0m\n",
              "\u001b[34m│\u001b[0m  \u001b[1;33m   \u001b[0mthe label of the new instance.                                                                              \u001b[34m│\u001b[0m\n",
              "\u001b[34m│\u001b[0m  \u001b[1;33m • \u001b[0m\u001b[1mAdvantages:\u001b[0m Simple to implement, effective in certain cases, and can handle high-dimensional data.          \u001b[34m│\u001b[0m\n",
              "\u001b[34m│\u001b[0m  \u001b[1;33m • \u001b[0m\u001b[1mDisadvantages:\u001b[0m Computationally expensive, sensitive to the choice of k, and requires a large and diverse    \u001b[34m│\u001b[0m\n",
              "\u001b[34m│\u001b[0m  \u001b[1;33m   \u001b[0mdataset.                                                                                                    \u001b[34m│\u001b[0m\n",
              "\u001b[34m│\u001b[0m  \u001b[1;33m • \u001b[0m\u001b[1mApplications:\u001b[0m Stock market prediction, customer segmentation, and image classification.                     \u001b[34m│\u001b[0m\n",
              "\u001b[34m│\u001b[0m                                                                                                                 \u001b[34m│\u001b[0m\n",
              "\u001b[34m│\u001b[0m  \u001b[1mAdvice\u001b[0m                                                                                                         \u001b[34m│\u001b[0m\n",
              "\u001b[34m│\u001b[0m                                                                                                                 \u001b[34m│\u001b[0m\n",
              "\u001b[34m│\u001b[0m  To ensure effective learning, we recommend the following:                                                      \u001b[34m│\u001b[0m\n",
              "\u001b[34m│\u001b[0m                                                                                                                 \u001b[34m│\u001b[0m\n",
              "\u001b[34m│\u001b[0m  \u001b[1;33m • \u001b[0mMake sure to take breaks in between study sessions to avoid burnout.                                        \u001b[34m│\u001b[0m\n",
              "\u001b[34m│\u001b[0m  \u001b[1;33m • \u001b[0mUse visual aids like diagrams and mind maps to help you understand the concept better.                      \u001b[34m│\u001b[0m\n",
              "\u001b[34m│\u001b[0m  \u001b[1;33m • \u001b[0mPractice implementing KNN algorithm using a programming language of your choice.                            \u001b[34m│\u001b[0m\n",
              "\u001b[34m│\u001b[0m  \u001b[1;33m • \u001b[0mReview what you have learned regularly to reinforce your understanding.                                     \u001b[34m│\u001b[0m\n",
              "\u001b[34m│\u001b[0m                                                                                                                 \u001b[34m│\u001b[0m\n",
              "\u001b[34m│\u001b[0m  By following this learning plan, taking notes, and adhering to the advice provided, you will be well on your   \u001b[34m│\u001b[0m\n",
              "\u001b[34m│\u001b[0m  way to mastering the K-Nearest Neighbors (KNN) algorithm. Good luck!                                           \u001b[34m│\u001b[0m\n",
              "\u001b[34m│\u001b[0m                                                                                                                 \u001b[34m│\u001b[0m\n",
              "\u001b[34m╰─────────────────────────────────────────────────────────────────────────────────────────────────────────────────╯\u001b[0m\n"
            ],
            "text/html": [
              "<pre style=\"white-space:pre;overflow-x:auto;line-height:normal;font-family:Menlo,'DejaVu Sans Mono',consolas,'Courier New',monospace\"><span style=\"color: #000080; text-decoration-color: #000080\">╭────────────────────────────────────────────── 📑 </span><span style=\"color: #000080; text-decoration-color: #000080; font-weight: bold\">BÁO CÁO TỔNG HỢP</span><span style=\"color: #000080; text-decoration-color: #000080\"> ──────────────────────────────────────────────╮</span>\n",
              "<span style=\"color: #000080; text-decoration-color: #000080\">│</span>                                                                                                                 <span style=\"color: #000080; text-decoration-color: #000080\">│</span>\n",
              "<span style=\"color: #000080; text-decoration-color: #000080\">│</span>  Here is a comprehensive report that combines the plan, notes, and advice into a single, cohesive, and          <span style=\"color: #000080; text-decoration-color: #000080\">│</span>\n",
              "<span style=\"color: #000080; text-decoration-color: #000080\">│</span>  professional document:                                                                                         <span style=\"color: #000080; text-decoration-color: #000080\">│</span>\n",
              "<span style=\"color: #000080; text-decoration-color: #000080\">│</span>                                                                                                                 <span style=\"color: #000080; text-decoration-color: #000080\">│</span>\n",
              "<span style=\"color: #000080; text-decoration-color: #000080\">│</span>  <span style=\"font-weight: bold\">Learning Report: K-Nearest Neighbors (KNN) Algorithm</span>                                                           <span style=\"color: #000080; text-decoration-color: #000080\">│</span>\n",
              "<span style=\"color: #000080; text-decoration-color: #000080\">│</span>                                                                                                                 <span style=\"color: #000080; text-decoration-color: #000080\">│</span>\n",
              "<span style=\"color: #000080; text-decoration-color: #000080\">│</span>  <span style=\"font-weight: bold\">Introduction</span>                                                                                                   <span style=\"color: #000080; text-decoration-color: #000080\">│</span>\n",
              "<span style=\"color: #000080; text-decoration-color: #000080\">│</span>                                                                                                                 <span style=\"color: #000080; text-decoration-color: #000080\">│</span>\n",
              "<span style=\"color: #000080; text-decoration-color: #000080\">│</span>  As per your request, we have created a detailed learning plan to help you learn about the K-Nearest Neighbors  <span style=\"color: #000080; text-decoration-color: #000080\">│</span>\n",
              "<span style=\"color: #000080; text-decoration-color: #000080\">│</span>  (KNN) algorithm. This report provides a comprehensive overview of the plan, key notes, and valuable advice to  <span style=\"color: #000080; text-decoration-color: #000080\">│</span>\n",
              "<span style=\"color: #000080; text-decoration-color: #000080\">│</span>  ensure you grasp the concept effectively.                                                                      <span style=\"color: #000080; text-decoration-color: #000080\">│</span>\n",
              "<span style=\"color: #000080; text-decoration-color: #000080\">│</span>                                                                                                                 <span style=\"color: #000080; text-decoration-color: #000080\">│</span>\n",
              "<span style=\"color: #000080; text-decoration-color: #000080\">│</span>  <span style=\"font-weight: bold\">Learning Plan</span>                                                                                                  <span style=\"color: #000080; text-decoration-color: #000080\">│</span>\n",
              "<span style=\"color: #000080; text-decoration-color: #000080\">│</span>                                                                                                                 <span style=\"color: #000080; text-decoration-color: #000080\">│</span>\n",
              "<span style=\"color: #000080; text-decoration-color: #000080\">│</span>  To learn about KNN algorithm, we recommend the following 7-day plan:                                           <span style=\"color: #000080; text-decoration-color: #000080\">│</span>\n",
              "<span style=\"color: #000080; text-decoration-color: #000080\">│</span>                                                                                                                 <span style=\"color: #000080; text-decoration-color: #000080\">│</span>\n",
              "<span style=\"color: #000080; text-decoration-color: #000080\">│</span>  <span style=\"font-weight: bold\">Day 1-2</span>                                                                                                        <span style=\"color: #000080; text-decoration-color: #000080\">│</span>\n",
              "<span style=\"color: #000080; text-decoration-color: #000080\">│</span>                                                                                                                 <span style=\"color: #000080; text-decoration-color: #000080\">│</span>\n",
              "<span style=\"color: #000080; text-decoration-color: #000080\">│</span>  <span style=\"color: #808000; text-decoration-color: #808000; font-weight: bold\"> • </span>Morning (9 AM - 12 PM): Study the basics of KNN algorithm, including its definition, types, and             <span style=\"color: #000080; text-decoration-color: #000080\">│</span>\n",
              "<span style=\"color: #000080; text-decoration-color: #000080\">│</span>  <span style=\"color: #808000; text-decoration-color: #808000; font-weight: bold\">   </span>applications. Use visual aids like diagrams and mind maps to help you understand the concept better.        <span style=\"color: #000080; text-decoration-color: #000080\">│</span>\n",
              "<span style=\"color: #000080; text-decoration-color: #000080\">│</span>  <span style=\"color: #808000; text-decoration-color: #808000; font-weight: bold\"> • </span>Break: Take a 15-minute break to refresh your mind.                                                         <span style=\"color: #000080; text-decoration-color: #000080\">│</span>\n",
              "<span style=\"color: #000080; text-decoration-color: #000080\">│</span>  <span style=\"color: #808000; text-decoration-color: #808000; font-weight: bold\"> • </span>Session 2: Study the advantages and disadvantages of KNN algorithm.                                         <span style=\"color: #000080; text-decoration-color: #000080\">│</span>\n",
              "<span style=\"color: #000080; text-decoration-color: #000080\">│</span>                                                                                                                 <span style=\"color: #000080; text-decoration-color: #000080\">│</span>\n",
              "<span style=\"color: #000080; text-decoration-color: #000080\">│</span>  <span style=\"font-weight: bold\">Day 3-4</span>                                                                                                        <span style=\"color: #000080; text-decoration-color: #000080\">│</span>\n",
              "<span style=\"color: #000080; text-decoration-color: #000080\">│</span>                                                                                                                 <span style=\"color: #000080; text-decoration-color: #000080\">│</span>\n",
              "<span style=\"color: #000080; text-decoration-color: #000080\">│</span>  <span style=\"color: #808000; text-decoration-color: #808000; font-weight: bold\"> • </span>Morning (9 AM - 12 PM): Learn about the implementation of KNN algorithm in real-world scenarios, such as    <span style=\"color: #000080; text-decoration-color: #000080\">│</span>\n",
              "<span style=\"color: #000080; text-decoration-color: #000080\">│</span>  <span style=\"color: #808000; text-decoration-color: #808000; font-weight: bold\">   </span>stock market prediction and customer segmentation. Watch videos and read articles to get a deeper           <span style=\"color: #000080; text-decoration-color: #000080\">│</span>\n",
              "<span style=\"color: #000080; text-decoration-color: #000080\">│</span>  <span style=\"color: #808000; text-decoration-color: #808000; font-weight: bold\">   </span>understanding of the topic.                                                                                 <span style=\"color: #000080; text-decoration-color: #000080\">│</span>\n",
              "<span style=\"color: #000080; text-decoration-color: #000080\">│</span>  <span style=\"color: #808000; text-decoration-color: #808000; font-weight: bold\"> • </span>Break: Take a 15-minute break to refresh your mind.                                                         <span style=\"color: #000080; text-decoration-color: #000080\">│</span>\n",
              "<span style=\"color: #000080; text-decoration-color: #000080\">│</span>  <span style=\"color: #808000; text-decoration-color: #808000; font-weight: bold\"> • </span>Session 2: Practice implementing KNN algorithm using a programming language of your choice.                 <span style=\"color: #000080; text-decoration-color: #000080\">│</span>\n",
              "<span style=\"color: #000080; text-decoration-color: #000080\">│</span>                                                                                                                 <span style=\"color: #000080; text-decoration-color: #000080\">│</span>\n",
              "<span style=\"color: #000080; text-decoration-color: #000080\">│</span>  <span style=\"font-weight: bold\">Day 5-6</span>                                                                                                        <span style=\"color: #000080; text-decoration-color: #000080\">│</span>\n",
              "<span style=\"color: #000080; text-decoration-color: #000080\">│</span>                                                                                                                 <span style=\"color: #000080; text-decoration-color: #000080\">│</span>\n",
              "<span style=\"color: #000080; text-decoration-color: #000080\">│</span>  <span style=\"color: #808000; text-decoration-color: #808000; font-weight: bold\"> • </span>Morning (9 AM - 12 PM): Study the importance of choosing the right value of 'k' in KNN algorithm and how    <span style=\"color: #000080; text-decoration-color: #000080\">│</span>\n",
              "<span style=\"color: #000080; text-decoration-color: #000080\">│</span>  <span style=\"color: #808000; text-decoration-color: #808000; font-weight: bold\">   </span>to preprocess data for better results. Read articles and research papers to get a deeper understanding of   <span style=\"color: #000080; text-decoration-color: #000080\">│</span>\n",
              "<span style=\"color: #000080; text-decoration-color: #000080\">│</span>  <span style=\"color: #808000; text-decoration-color: #808000; font-weight: bold\">   </span>the topic.                                                                                                  <span style=\"color: #000080; text-decoration-color: #000080\">│</span>\n",
              "<span style=\"color: #000080; text-decoration-color: #000080\">│</span>  <span style=\"color: #808000; text-decoration-color: #808000; font-weight: bold\"> • </span>Break: Take a 15-minute break to refresh your mind.                                                         <span style=\"color: #000080; text-decoration-color: #000080\">│</span>\n",
              "<span style=\"color: #000080; text-decoration-color: #000080\">│</span>  <span style=\"color: #808000; text-decoration-color: #808000; font-weight: bold\"> • </span>Session 2: Review what you have learned so far and make notes on the key points.                            <span style=\"color: #000080; text-decoration-color: #000080\">│</span>\n",
              "<span style=\"color: #000080; text-decoration-color: #000080\">│</span>                                                                                                                 <span style=\"color: #000080; text-decoration-color: #000080\">│</span>\n",
              "<span style=\"color: #000080; text-decoration-color: #000080\">│</span>  <span style=\"font-weight: bold\">Day 7</span>                                                                                                          <span style=\"color: #000080; text-decoration-color: #000080\">│</span>\n",
              "<span style=\"color: #000080; text-decoration-color: #000080\">│</span>                                                                                                                 <span style=\"color: #000080; text-decoration-color: #000080\">│</span>\n",
              "<span style=\"color: #000080; text-decoration-color: #000080\">│</span>  <span style=\"color: #808000; text-decoration-color: #808000; font-weight: bold\"> • </span>Morning (9 AM - 12 PM): Review the entire concept of KNN algorithm and practice solving problems related    <span style=\"color: #000080; text-decoration-color: #000080\">│</span>\n",
              "<span style=\"color: #000080; text-decoration-color: #000080\">│</span>  <span style=\"color: #808000; text-decoration-color: #808000; font-weight: bold\">   </span>to it. Use online resources and practice platforms to test your knowledge.                                  <span style=\"color: #000080; text-decoration-color: #000080\">│</span>\n",
              "<span style=\"color: #000080; text-decoration-color: #000080\">│</span>                                                                                                                 <span style=\"color: #000080; text-decoration-color: #000080\">│</span>\n",
              "<span style=\"color: #000080; text-decoration-color: #000080\">│</span>  <span style=\"font-weight: bold\">Key Notes</span>                                                                                                      <span style=\"color: #000080; text-decoration-color: #000080\">│</span>\n",
              "<span style=\"color: #000080; text-decoration-color: #000080\">│</span>                                                                                                                 <span style=\"color: #000080; text-decoration-color: #000080\">│</span>\n",
              "<span style=\"color: #000080; text-decoration-color: #000080\">│</span>  Here are the key points to remember about KNN algorithm:                                                       <span style=\"color: #000080; text-decoration-color: #000080\">│</span>\n",
              "<span style=\"color: #000080; text-decoration-color: #000080\">│</span>                                                                                                                 <span style=\"color: #000080; text-decoration-color: #000080\">│</span>\n",
              "<span style=\"color: #000080; text-decoration-color: #000080\">│</span>  <span style=\"color: #808000; text-decoration-color: #808000; font-weight: bold\"> • </span><span style=\"font-weight: bold\">Definition:</span> KNN is a supervised learning algorithm used for classification and regression tasks.            <span style=\"color: #000080; text-decoration-color: #000080\">│</span>\n",
              "<span style=\"color: #000080; text-decoration-color: #000080\">│</span>  <span style=\"color: #808000; text-decoration-color: #808000; font-weight: bold\"> • </span><span style=\"font-weight: bold\">How it works:</span> KNN finds the k most similar instances to a new instance and uses their labels to predict     <span style=\"color: #000080; text-decoration-color: #000080\">│</span>\n",
              "<span style=\"color: #000080; text-decoration-color: #000080\">│</span>  <span style=\"color: #808000; text-decoration-color: #808000; font-weight: bold\">   </span>the label of the new instance.                                                                              <span style=\"color: #000080; text-decoration-color: #000080\">│</span>\n",
              "<span style=\"color: #000080; text-decoration-color: #000080\">│</span>  <span style=\"color: #808000; text-decoration-color: #808000; font-weight: bold\"> • </span><span style=\"font-weight: bold\">Advantages:</span> Simple to implement, effective in certain cases, and can handle high-dimensional data.          <span style=\"color: #000080; text-decoration-color: #000080\">│</span>\n",
              "<span style=\"color: #000080; text-decoration-color: #000080\">│</span>  <span style=\"color: #808000; text-decoration-color: #808000; font-weight: bold\"> • </span><span style=\"font-weight: bold\">Disadvantages:</span> Computationally expensive, sensitive to the choice of k, and requires a large and diverse    <span style=\"color: #000080; text-decoration-color: #000080\">│</span>\n",
              "<span style=\"color: #000080; text-decoration-color: #000080\">│</span>  <span style=\"color: #808000; text-decoration-color: #808000; font-weight: bold\">   </span>dataset.                                                                                                    <span style=\"color: #000080; text-decoration-color: #000080\">│</span>\n",
              "<span style=\"color: #000080; text-decoration-color: #000080\">│</span>  <span style=\"color: #808000; text-decoration-color: #808000; font-weight: bold\"> • </span><span style=\"font-weight: bold\">Applications:</span> Stock market prediction, customer segmentation, and image classification.                     <span style=\"color: #000080; text-decoration-color: #000080\">│</span>\n",
              "<span style=\"color: #000080; text-decoration-color: #000080\">│</span>                                                                                                                 <span style=\"color: #000080; text-decoration-color: #000080\">│</span>\n",
              "<span style=\"color: #000080; text-decoration-color: #000080\">│</span>  <span style=\"font-weight: bold\">Advice</span>                                                                                                         <span style=\"color: #000080; text-decoration-color: #000080\">│</span>\n",
              "<span style=\"color: #000080; text-decoration-color: #000080\">│</span>                                                                                                                 <span style=\"color: #000080; text-decoration-color: #000080\">│</span>\n",
              "<span style=\"color: #000080; text-decoration-color: #000080\">│</span>  To ensure effective learning, we recommend the following:                                                      <span style=\"color: #000080; text-decoration-color: #000080\">│</span>\n",
              "<span style=\"color: #000080; text-decoration-color: #000080\">│</span>                                                                                                                 <span style=\"color: #000080; text-decoration-color: #000080\">│</span>\n",
              "<span style=\"color: #000080; text-decoration-color: #000080\">│</span>  <span style=\"color: #808000; text-decoration-color: #808000; font-weight: bold\"> • </span>Make sure to take breaks in between study sessions to avoid burnout.                                        <span style=\"color: #000080; text-decoration-color: #000080\">│</span>\n",
              "<span style=\"color: #000080; text-decoration-color: #000080\">│</span>  <span style=\"color: #808000; text-decoration-color: #808000; font-weight: bold\"> • </span>Use visual aids like diagrams and mind maps to help you understand the concept better.                      <span style=\"color: #000080; text-decoration-color: #000080\">│</span>\n",
              "<span style=\"color: #000080; text-decoration-color: #000080\">│</span>  <span style=\"color: #808000; text-decoration-color: #808000; font-weight: bold\"> • </span>Practice implementing KNN algorithm using a programming language of your choice.                            <span style=\"color: #000080; text-decoration-color: #000080\">│</span>\n",
              "<span style=\"color: #000080; text-decoration-color: #000080\">│</span>  <span style=\"color: #808000; text-decoration-color: #808000; font-weight: bold\"> • </span>Review what you have learned regularly to reinforce your understanding.                                     <span style=\"color: #000080; text-decoration-color: #000080\">│</span>\n",
              "<span style=\"color: #000080; text-decoration-color: #000080\">│</span>                                                                                                                 <span style=\"color: #000080; text-decoration-color: #000080\">│</span>\n",
              "<span style=\"color: #000080; text-decoration-color: #000080\">│</span>  By following this learning plan, taking notes, and adhering to the advice provided, you will be well on your   <span style=\"color: #000080; text-decoration-color: #000080\">│</span>\n",
              "<span style=\"color: #000080; text-decoration-color: #000080\">│</span>  way to mastering the K-Nearest Neighbors (KNN) algorithm. Good luck!                                           <span style=\"color: #000080; text-decoration-color: #000080\">│</span>\n",
              "<span style=\"color: #000080; text-decoration-color: #000080\">│</span>                                                                                                                 <span style=\"color: #000080; text-decoration-color: #000080\">│</span>\n",
              "<span style=\"color: #000080; text-decoration-color: #000080\">╰─────────────────────────────────────────────────────────────────────────────────────────────────────────────────╯</span>\n",
              "</pre>\n"
            ]
          },
          "metadata": {}
        },
        {
          "output_type": "display_data",
          "data": {
            "text/plain": [
              "\u001b[33m╭─\u001b[0m\u001b[33m─────────────────────────────────────────\u001b[0m\u001b[33m 💡 \u001b[0m\u001b[1;33mGỢI Ý CÁC BƯỚC TIẾP THEO\u001b[0m\u001b[33m \u001b[0m\u001b[33m─────────────────────────────────────────\u001b[0m\u001b[33m─╮\u001b[0m\n",
              "\u001b[33m│\u001b[0m                                                                                                                 \u001b[33m│\u001b[0m\n",
              "\u001b[33m│\u001b[0m  Based on this comprehensive report, here are 3-4 potential next actions or questions that the user may want    \u001b[33m│\u001b[0m\n",
              "\u001b[33m│\u001b[0m  to take:                                                                                                       \u001b[33m│\u001b[0m\n",
              "\u001b[33m│\u001b[0m                                                                                                                 \u001b[33m│\u001b[0m\n",
              "\u001b[33m│\u001b[0m  \u001b[1;33m 1 \u001b[0m\u001b[1mImplement KNN algorithm in a real-world project\u001b[0m: Now that the user has a solid understanding of the KNN     \u001b[33m│\u001b[0m\n",
              "\u001b[33m│\u001b[0m  \u001b[1;33m   \u001b[0malgorithm, they may want to apply it to a real-world project or scenario to reinforce their learning. This  \u001b[33m│\u001b[0m\n",
              "\u001b[33m│\u001b[0m  \u001b[1;33m   \u001b[0mcould involve using a programming language like Python or R to implement KNN for a specific task, such as   \u001b[33m│\u001b[0m\n",
              "\u001b[33m│\u001b[0m  \u001b[1;33m   \u001b[0mcustomer segmentation or image classification.                                                              \u001b[33m│\u001b[0m\n",
              "\u001b[33m│\u001b[0m  \u001b[1;33m 2 \u001b[0m\u001b[1mExplore other machine learning algorithms\u001b[0m: Having learned about KNN, the user may be interested in          \u001b[33m│\u001b[0m\n",
              "\u001b[33m│\u001b[0m  \u001b[1;33m   \u001b[0mexploring other machine learning algorithms, such as decision trees, random forests, or support vector      \u001b[33m│\u001b[0m\n",
              "\u001b[33m│\u001b[0m  \u001b[1;33m   \u001b[0mmachines. They may want to create a learning plan for these algorithms and start studying them.             \u001b[33m│\u001b[0m\n",
              "\u001b[33m│\u001b[0m  \u001b[1;33m 3 \u001b[0m\u001b[1mPractice solving KNN-related problems\u001b[0m: To further solidify their understanding of KNN, the user may want    \u001b[33m│\u001b[0m\n",
              "\u001b[33m│\u001b[0m  \u001b[1;33m   \u001b[0mto practice solving problems related to the algorithm. This could involve using online resources, such as   \u001b[33m│\u001b[0m\n",
              "\u001b[33m│\u001b[0m  \u001b[1;33m   \u001b[0mKaggle or LeetCode, to find KNN-related problems and practice solving them.                                 \u001b[33m│\u001b[0m\n",
              "\u001b[33m│\u001b[0m  \u001b[1;33m 4 \u001b[0m\u001b[1mHow to improve the performance of KNN algorithm?\u001b[0m: The user may want to explore ways to improve the          \u001b[33m│\u001b[0m\n",
              "\u001b[33m│\u001b[0m  \u001b[1;33m   \u001b[0mperformance of the KNN algorithm, such as handling high-dimensional data, dealing with noisy data, or       \u001b[33m│\u001b[0m\n",
              "\u001b[33m│\u001b[0m  \u001b[1;33m   \u001b[0moptimizing the choice of k. They may want to research and learn about techniques such as feature            \u001b[33m│\u001b[0m\n",
              "\u001b[33m│\u001b[0m  \u001b[1;33m   \u001b[0mselection, data preprocessing, or ensemble methods to improve the accuracy of KNN.                          \u001b[33m│\u001b[0m\n",
              "\u001b[33m│\u001b[0m                                                                                                                 \u001b[33m│\u001b[0m\n",
              "\u001b[33m╰─────────────────────────────────────────────────────────────────────────────────────────────────────────────────╯\u001b[0m\n"
            ],
            "text/html": [
              "<pre style=\"white-space:pre;overflow-x:auto;line-height:normal;font-family:Menlo,'DejaVu Sans Mono',consolas,'Courier New',monospace\"><span style=\"color: #808000; text-decoration-color: #808000\">╭────────────────────────────────────────── 💡 </span><span style=\"color: #808000; text-decoration-color: #808000; font-weight: bold\">GỢI Ý CÁC BƯỚC TIẾP THEO</span><span style=\"color: #808000; text-decoration-color: #808000\"> ──────────────────────────────────────────╮</span>\n",
              "<span style=\"color: #808000; text-decoration-color: #808000\">│</span>                                                                                                                 <span style=\"color: #808000; text-decoration-color: #808000\">│</span>\n",
              "<span style=\"color: #808000; text-decoration-color: #808000\">│</span>  Based on this comprehensive report, here are 3-4 potential next actions or questions that the user may want    <span style=\"color: #808000; text-decoration-color: #808000\">│</span>\n",
              "<span style=\"color: #808000; text-decoration-color: #808000\">│</span>  to take:                                                                                                       <span style=\"color: #808000; text-decoration-color: #808000\">│</span>\n",
              "<span style=\"color: #808000; text-decoration-color: #808000\">│</span>                                                                                                                 <span style=\"color: #808000; text-decoration-color: #808000\">│</span>\n",
              "<span style=\"color: #808000; text-decoration-color: #808000\">│</span>  <span style=\"color: #808000; text-decoration-color: #808000; font-weight: bold\"> 1 </span><span style=\"font-weight: bold\">Implement KNN algorithm in a real-world project</span>: Now that the user has a solid understanding of the KNN     <span style=\"color: #808000; text-decoration-color: #808000\">│</span>\n",
              "<span style=\"color: #808000; text-decoration-color: #808000\">│</span>  <span style=\"color: #808000; text-decoration-color: #808000; font-weight: bold\">   </span>algorithm, they may want to apply it to a real-world project or scenario to reinforce their learning. This  <span style=\"color: #808000; text-decoration-color: #808000\">│</span>\n",
              "<span style=\"color: #808000; text-decoration-color: #808000\">│</span>  <span style=\"color: #808000; text-decoration-color: #808000; font-weight: bold\">   </span>could involve using a programming language like Python or R to implement KNN for a specific task, such as   <span style=\"color: #808000; text-decoration-color: #808000\">│</span>\n",
              "<span style=\"color: #808000; text-decoration-color: #808000\">│</span>  <span style=\"color: #808000; text-decoration-color: #808000; font-weight: bold\">   </span>customer segmentation or image classification.                                                              <span style=\"color: #808000; text-decoration-color: #808000\">│</span>\n",
              "<span style=\"color: #808000; text-decoration-color: #808000\">│</span>  <span style=\"color: #808000; text-decoration-color: #808000; font-weight: bold\"> 2 </span><span style=\"font-weight: bold\">Explore other machine learning algorithms</span>: Having learned about KNN, the user may be interested in          <span style=\"color: #808000; text-decoration-color: #808000\">│</span>\n",
              "<span style=\"color: #808000; text-decoration-color: #808000\">│</span>  <span style=\"color: #808000; text-decoration-color: #808000; font-weight: bold\">   </span>exploring other machine learning algorithms, such as decision trees, random forests, or support vector      <span style=\"color: #808000; text-decoration-color: #808000\">│</span>\n",
              "<span style=\"color: #808000; text-decoration-color: #808000\">│</span>  <span style=\"color: #808000; text-decoration-color: #808000; font-weight: bold\">   </span>machines. They may want to create a learning plan for these algorithms and start studying them.             <span style=\"color: #808000; text-decoration-color: #808000\">│</span>\n",
              "<span style=\"color: #808000; text-decoration-color: #808000\">│</span>  <span style=\"color: #808000; text-decoration-color: #808000; font-weight: bold\"> 3 </span><span style=\"font-weight: bold\">Practice solving KNN-related problems</span>: To further solidify their understanding of KNN, the user may want    <span style=\"color: #808000; text-decoration-color: #808000\">│</span>\n",
              "<span style=\"color: #808000; text-decoration-color: #808000\">│</span>  <span style=\"color: #808000; text-decoration-color: #808000; font-weight: bold\">   </span>to practice solving problems related to the algorithm. This could involve using online resources, such as   <span style=\"color: #808000; text-decoration-color: #808000\">│</span>\n",
              "<span style=\"color: #808000; text-decoration-color: #808000\">│</span>  <span style=\"color: #808000; text-decoration-color: #808000; font-weight: bold\">   </span>Kaggle or LeetCode, to find KNN-related problems and practice solving them.                                 <span style=\"color: #808000; text-decoration-color: #808000\">│</span>\n",
              "<span style=\"color: #808000; text-decoration-color: #808000\">│</span>  <span style=\"color: #808000; text-decoration-color: #808000; font-weight: bold\"> 4 </span><span style=\"font-weight: bold\">How to improve the performance of KNN algorithm?</span>: The user may want to explore ways to improve the          <span style=\"color: #808000; text-decoration-color: #808000\">│</span>\n",
              "<span style=\"color: #808000; text-decoration-color: #808000\">│</span>  <span style=\"color: #808000; text-decoration-color: #808000; font-weight: bold\">   </span>performance of the KNN algorithm, such as handling high-dimensional data, dealing with noisy data, or       <span style=\"color: #808000; text-decoration-color: #808000\">│</span>\n",
              "<span style=\"color: #808000; text-decoration-color: #808000\">│</span>  <span style=\"color: #808000; text-decoration-color: #808000; font-weight: bold\">   </span>optimizing the choice of k. They may want to research and learn about techniques such as feature            <span style=\"color: #808000; text-decoration-color: #808000\">│</span>\n",
              "<span style=\"color: #808000; text-decoration-color: #808000\">│</span>  <span style=\"color: #808000; text-decoration-color: #808000; font-weight: bold\">   </span>selection, data preprocessing, or ensemble methods to improve the accuracy of KNN.                          <span style=\"color: #808000; text-decoration-color: #808000\">│</span>\n",
              "<span style=\"color: #808000; text-decoration-color: #808000\">│</span>                                                                                                                 <span style=\"color: #808000; text-decoration-color: #808000\">│</span>\n",
              "<span style=\"color: #808000; text-decoration-color: #808000\">╰─────────────────────────────────────────────────────────────────────────────────────────────────────────────────╯</span>\n",
              "</pre>\n"
            ]
          },
          "metadata": {}
        }
      ]
    },
    {
      "cell_type": "code",
      "source": [
        "from IPython.display import Image, display\n",
        "\n",
        "try:\n",
        "\n",
        "    graph = app.get_graph()\n",
        "\n",
        "\n",
        "    png_data = graph.draw_mermaid_png()\n",
        "\n",
        "\n",
        "    display(Image(png_data))\n",
        "\n",
        "except Exception as e:\n",
        "    print(f\"Lỗi khi vẽ graph: {e}\")"
      ],
      "metadata": {
        "id": "bN9kMMGE9-Fz",
        "colab": {
          "base_uri": "https://localhost:8080/",
          "height": 846
        },
        "outputId": "fc35b9b1-bbe4-4e96-9be2-c3c41367fa6b"
      },
      "execution_count": null,
      "outputs": [
        {
          "output_type": "display_data",
          "data": {
            "image/png": "[encoded data removed]",
            "text/plain": [
              "<IPython.core.display.Image object>"
            ]
          },
          "metadata": {}
        }
      ]
    }
  ]
}