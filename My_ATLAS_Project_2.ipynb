{
  "nbformat": 4,
  "nbformat_minor": 0,
  "metadata": {
    "colab": {
      "provenance": []
    },
    "kernelspec": {
      "name": "python3",
      "display_name": "Python 3"
    },
    "language_info": {
      "name": "python"
    }
  },
  "cells": [
    {
      "cell_type": "markdown",
      "source": [
        "## STEP 1: INSTALLATION & IMPORTS"
      ],
      "metadata": {
        "id": "VFLapDYU1i5J"
      }
    },
    {
      "cell_type": "code",
      "execution_count": null,
      "metadata": {
        "colab": {
          "base_uri": "https://localhost:8080/"
        },
        "id": "3SoCAXmT0ILc",
        "outputId": "9944106e-e8a0-4e10-8552-a3c477d0d8a1"
      },
      "outputs": [
        {
          "output_type": "stream",
          "name": "stdout",
          "text": [
            "Bắt đầu cài đặt các thư viện...\n",
            "\u001b[2K     \u001b[90m━━━━━━━━━━━━━━━━━━━━━━━━━━━━━━━━━━━━━━━━\u001b[0m \u001b[32m43.7/43.7 kB\u001b[0m \u001b[31m3.7 MB/s\u001b[0m eta \u001b[36m0:00:00\u001b[0m\n",
            "\u001b[2K   \u001b[90m━━━━━━━━━━━━━━━━━━━━━━━━━━━━━━━━━━━━━━━━\u001b[0m \u001b[32m152.5/152.5 kB\u001b[0m \u001b[31m9.9 MB/s\u001b[0m eta \u001b[36m0:00:00\u001b[0m\n",
            "\u001b[2K   \u001b[90m━━━━━━━━━━━━━━━━━━━━━━━━━━━━━━━━━━━━━━━━\u001b[0m \u001b[32m2.5/2.5 MB\u001b[0m \u001b[31m63.6 MB/s\u001b[0m eta \u001b[36m0:00:00\u001b[0m\n",
            "\u001b[2K   \u001b[90m━━━━━━━━━━━━━━━━━━━━━━━━━━━━━━━━━━━━━━━━\u001b[0m \u001b[32m131.4/131.4 kB\u001b[0m \u001b[31m12.1 MB/s\u001b[0m eta \u001b[36m0:00:00\u001b[0m\n",
            "\u001b[2K   \u001b[90m━━━━━━━━━━━━━━━━━━━━━━━━━━━━━━━━━━━━━━━━\u001b[0m \u001b[32m243.4/243.4 kB\u001b[0m \u001b[31m19.6 MB/s\u001b[0m eta \u001b[36m0:00:00\u001b[0m\n",
            "\u001b[2K   \u001b[90m━━━━━━━━━━━━━━━━━━━━━━━━━━━━━━━━━━━━━━━━\u001b[0m \u001b[32m43.9/43.9 kB\u001b[0m \u001b[31m3.5 MB/s\u001b[0m eta \u001b[36m0:00:00\u001b[0m\n",
            "\u001b[2K   \u001b[90m━━━━━━━━━━━━━━━━━━━━━━━━━━━━━━━━━━━━━━━━\u001b[0m \u001b[32m50.6/50.6 kB\u001b[0m \u001b[31m4.2 MB/s\u001b[0m eta \u001b[36m0:00:00\u001b[0m\n",
            "\u001b[2K   \u001b[90m━━━━━━━━━━━━━━━━━━━━━━━━━━━━━━━━━━━━━━━━\u001b[0m \u001b[32m45.2/45.2 kB\u001b[0m \u001b[31m3.6 MB/s\u001b[0m eta \u001b[36m0:00:00\u001b[0m\n",
            "\u001b[2K   \u001b[90m━━━━━━━━━━━━━━━━━━━━━━━━━━━━━━━━━━━━━━━━\u001b[0m \u001b[32m50.9/50.9 kB\u001b[0m \u001b[31m4.0 MB/s\u001b[0m eta \u001b[36m0:00:00\u001b[0m\n",
            "\u001b[2K   \u001b[90m━━━━━━━━━━━━━━━━━━━━━━━━━━━━━━━━━━━━━━━━\u001b[0m \u001b[32m216.5/216.5 kB\u001b[0m \u001b[31m13.1 MB/s\u001b[0m eta \u001b[36m0:00:00\u001b[0m\n",
            "\u001b[?25h\u001b[31mERROR: pip's dependency resolver does not currently take into account all the packages that are installed. This behaviour is the source of the following dependency conflicts.\n",
            "bigframes 2.13.0 requires rich<14,>=12.4.4, but you have rich 14.1.0 which is incompatible.\u001b[0m\u001b[31m\n",
            "\u001b[0m"
          ]
        }
      ],
      "source": [
        "# --- 1. Installation ---\n",
        "# Cài đặt tất cả các thư viện cần thiết.\n",
        "# -qU: quiet (im lặng), upgrade (nâng cấp)\n",
        "print(\"Bắt đầu cài đặt các thư viện...\")\n",
        "!pip install -qU langgraph langchain langchain-core langchain-community groq python-dotenv rich"
      ]
    },
    {
      "cell_type": "code",
      "source": [
        "!pip install -qU tavily-python google-api-python-client google-auth-oauthlib\n",
        "print(\"Đã cài đặt các thư viện công cụ cần thiết.\")"
      ],
      "metadata": {
        "colab": {
          "base_uri": "https://localhost:8080/"
        },
        "id": "x560aMQnUDPo",
        "outputId": "1e3867c2-2b41-459c-dac9-939eab966574"
      },
      "execution_count": null,
      "outputs": [
        {
          "output_type": "stream",
          "name": "stdout",
          "text": [
            "\u001b[2K   \u001b[90m━━━━━━━━━━━━━━━━━━━━━━━━━━━━━━━━━━━━━━━━\u001b[0m \u001b[32m13.8/13.8 MB\u001b[0m \u001b[31m70.6 MB/s\u001b[0m eta \u001b[36m0:00:00\u001b[0m\n",
            "\u001b[?25hĐã cài đặt các thư viện công cụ cần thiết.\n"
          ]
        }
      ]
    },
    {
      "cell_type": "code",
      "source": [
        "!pip install google-auth-httplib2 langchain-groq"
      ],
      "metadata": {
        "colab": {
          "base_uri": "https://localhost:8080/"
        },
        "id": "EOtw7rsObArN",
        "outputId": "084a341d-9d74-445a-c915-d57a7cbc45bc"
      },
      "execution_count": null,
      "outputs": [
        {
          "output_type": "stream",
          "name": "stdout",
          "text": [
            "Requirement already satisfied: google-auth-httplib2 in /usr/local/lib/python3.11/dist-packages (0.2.0)\n",
            "Collecting langchain-groq\n",
            "  Downloading langchain_groq-0.3.7-py3-none-any.whl.metadata (2.6 kB)\n",
            "Requirement already satisfied: google-auth in /usr/local/lib/python3.11/dist-packages (from google-auth-httplib2) (2.38.0)\n",
            "Requirement already satisfied: httplib2>=0.19.0 in /usr/local/lib/python3.11/dist-packages (from google-auth-httplib2) (0.22.0)\n",
            "Requirement already satisfied: langchain-core<1.0.0,>=0.3.72 in /usr/local/lib/python3.11/dist-packages (from langchain-groq) (0.3.72)\n",
            "Requirement already satisfied: groq<1,>=0.30.0 in /usr/local/lib/python3.11/dist-packages (from langchain-groq) (0.31.0)\n",
            "Requirement already satisfied: anyio<5,>=3.5.0 in /usr/local/lib/python3.11/dist-packages (from groq<1,>=0.30.0->langchain-groq) (4.9.0)\n",
            "Requirement already satisfied: distro<2,>=1.7.0 in /usr/local/lib/python3.11/dist-packages (from groq<1,>=0.30.0->langchain-groq) (1.9.0)\n",
            "Requirement already satisfied: httpx<1,>=0.23.0 in /usr/local/lib/python3.11/dist-packages (from groq<1,>=0.30.0->langchain-groq) (0.28.1)\n",
            "Requirement already satisfied: pydantic<3,>=1.9.0 in /usr/local/lib/python3.11/dist-packages (from groq<1,>=0.30.0->langchain-groq) (2.11.7)\n",
            "Requirement already satisfied: sniffio in /usr/local/lib/python3.11/dist-packages (from groq<1,>=0.30.0->langchain-groq) (1.3.1)\n",
            "Requirement already satisfied: typing-extensions<5,>=4.10 in /usr/local/lib/python3.11/dist-packages (from groq<1,>=0.30.0->langchain-groq) (4.14.1)\n",
            "Requirement already satisfied: pyparsing!=3.0.0,!=3.0.1,!=3.0.2,!=3.0.3,<4,>=2.4.2 in /usr/local/lib/python3.11/dist-packages (from httplib2>=0.19.0->google-auth-httplib2) (3.2.3)\n",
            "Requirement already satisfied: langsmith>=0.3.45 in /usr/local/lib/python3.11/dist-packages (from langchain-core<1.0.0,>=0.3.72->langchain-groq) (0.4.9)\n",
            "Requirement already satisfied: tenacity!=8.4.0,<10.0.0,>=8.1.0 in /usr/local/lib/python3.11/dist-packages (from langchain-core<1.0.0,>=0.3.72->langchain-groq) (8.5.0)\n",
            "Requirement already satisfied: jsonpatch<2.0,>=1.33 in /usr/local/lib/python3.11/dist-packages (from langchain-core<1.0.0,>=0.3.72->langchain-groq) (1.33)\n",
            "Requirement already satisfied: PyYAML>=5.3 in /usr/local/lib/python3.11/dist-packages (from langchain-core<1.0.0,>=0.3.72->langchain-groq) (6.0.2)\n",
            "Requirement already satisfied: packaging>=23.2 in /usr/local/lib/python3.11/dist-packages (from langchain-core<1.0.0,>=0.3.72->langchain-groq) (25.0)\n",
            "Requirement already satisfied: cachetools<6.0,>=2.0.0 in /usr/local/lib/python3.11/dist-packages (from google-auth->google-auth-httplib2) (5.5.2)\n",
            "Requirement already satisfied: pyasn1-modules>=0.2.1 in /usr/local/lib/python3.11/dist-packages (from google-auth->google-auth-httplib2) (0.4.2)\n",
            "Requirement already satisfied: rsa<5,>=3.1.4 in /usr/local/lib/python3.11/dist-packages (from google-auth->google-auth-httplib2) (4.9.1)\n",
            "Requirement already satisfied: idna>=2.8 in /usr/local/lib/python3.11/dist-packages (from anyio<5,>=3.5.0->groq<1,>=0.30.0->langchain-groq) (3.10)\n",
            "Requirement already satisfied: certifi in /usr/local/lib/python3.11/dist-packages (from httpx<1,>=0.23.0->groq<1,>=0.30.0->langchain-groq) (2025.7.14)\n",
            "Requirement already satisfied: httpcore==1.* in /usr/local/lib/python3.11/dist-packages (from httpx<1,>=0.23.0->groq<1,>=0.30.0->langchain-groq) (1.0.9)\n",
            "Requirement already satisfied: h11>=0.16 in /usr/local/lib/python3.11/dist-packages (from httpcore==1.*->httpx<1,>=0.23.0->groq<1,>=0.30.0->langchain-groq) (0.16.0)\n",
            "Requirement already satisfied: jsonpointer>=1.9 in /usr/local/lib/python3.11/dist-packages (from jsonpatch<2.0,>=1.33->langchain-core<1.0.0,>=0.3.72->langchain-groq) (3.0.0)\n",
            "Requirement already satisfied: orjson<4.0.0,>=3.9.14 in /usr/local/lib/python3.11/dist-packages (from langsmith>=0.3.45->langchain-core<1.0.0,>=0.3.72->langchain-groq) (3.11.1)\n",
            "Requirement already satisfied: requests<3,>=2 in /usr/local/lib/python3.11/dist-packages (from langsmith>=0.3.45->langchain-core<1.0.0,>=0.3.72->langchain-groq) (2.32.3)\n",
            "Requirement already satisfied: requests-toolbelt<2.0.0,>=1.0.0 in /usr/local/lib/python3.11/dist-packages (from langsmith>=0.3.45->langchain-core<1.0.0,>=0.3.72->langchain-groq) (1.0.0)\n",
            "Requirement already satisfied: zstandard<0.24.0,>=0.23.0 in /usr/local/lib/python3.11/dist-packages (from langsmith>=0.3.45->langchain-core<1.0.0,>=0.3.72->langchain-groq) (0.23.0)\n",
            "Requirement already satisfied: pyasn1<0.7.0,>=0.6.1 in /usr/local/lib/python3.11/dist-packages (from pyasn1-modules>=0.2.1->google-auth->google-auth-httplib2) (0.6.1)\n",
            "Requirement already satisfied: annotated-types>=0.6.0 in /usr/local/lib/python3.11/dist-packages (from pydantic<3,>=1.9.0->groq<1,>=0.30.0->langchain-groq) (0.7.0)\n",
            "Requirement already satisfied: pydantic-core==2.33.2 in /usr/local/lib/python3.11/dist-packages (from pydantic<3,>=1.9.0->groq<1,>=0.30.0->langchain-groq) (2.33.2)\n",
            "Requirement already satisfied: typing-inspection>=0.4.0 in /usr/local/lib/python3.11/dist-packages (from pydantic<3,>=1.9.0->groq<1,>=0.30.0->langchain-groq) (0.4.1)\n",
            "Requirement already satisfied: charset-normalizer<4,>=2 in /usr/local/lib/python3.11/dist-packages (from requests<3,>=2->langsmith>=0.3.45->langchain-core<1.0.0,>=0.3.72->langchain-groq) (3.4.2)\n",
            "Requirement already satisfied: urllib3<3,>=1.21.1 in /usr/local/lib/python3.11/dist-packages (from requests<3,>=2->langsmith>=0.3.45->langchain-core<1.0.0,>=0.3.72->langchain-groq) (2.5.0)\n",
            "Downloading langchain_groq-0.3.7-py3-none-any.whl (16 kB)\n",
            "Installing collected packages: langchain-groq\n",
            "Successfully installed langchain-groq-0.3.7\n"
          ]
        }
      ]
    },
    {
      "cell_type": "code",
      "source": [
        "# --- 2. Core Imports ---\n",
        "# Import các thư viện và lớp (class) cốt lõi sẽ được sử dụng trong toàn bộ dự án.\n",
        "import os\n",
        "import json\n",
        "from typing import TypedDict, Annotated, List, Dict, Any\n",
        "import operator\n",
        "from google.colab import userdata\n",
        "\n",
        "# LangChain & LangGraph core components\n",
        "from langchain_core.messages import BaseMessage, HumanMessage, SystemMessage\n",
        "from langgraph.graph import StateGraph, END, START\n",
        "\n",
        "# Groq client for LLM interaction\n",
        "from groq import AsyncGroq\n",
        "\n",
        "# Rich library for beautiful printing\n",
        "from rich.console import Console\n",
        "from rich.markdown import Markdown\n",
        "\n",
        "SHOW_DETAILED_LOGS = True\n",
        "\n",
        "print(\"\\nCài đặt và Import hoàn tất. Môi trường đã sẵn sàng!\")"
      ],
      "metadata": {
        "colab": {
          "base_uri": "https://localhost:8080/"
        },
        "id": "NZ1N7aUM059C",
        "outputId": "5222f0d3-c9aa-446f-ab9c-8649e682d930"
      },
      "execution_count": 1,
      "outputs": [
        {
          "output_type": "stream",
          "name": "stdout",
          "text": [
            "\n",
            "Cài đặt và Import hoàn tất. Môi trường đã sẵn sàng!\n"
          ]
        }
      ]
    },
    {
      "cell_type": "markdown",
      "source": [
        "## STEP 2: STATE DEFINITION & LLM WRAPPER"
      ],
      "metadata": {
        "id": "ZbvO4oTY1r6Q"
      }
    },
    {
      "cell_type": "code",
      "source": [
        "# ==============================================================================\n",
        "# STEP 2: STATE DEFINITION & LANGCHAIN LLM\n",
        "# ==============================================================================\n",
        "from typing import TypedDict, Annotated, List, Dict, Any, Literal, Optional\n",
        "import operator\n",
        "import json\n",
        "import os\n",
        "import tavily\n",
        "from datetime import datetime, timezone, timedelta\n",
        "\n",
        "from langchain_core.messages import BaseMessage, HumanMessage, SystemMessage, AIMessage, ToolMessage\n",
        "from rich.console import Console\n",
        "from rich.markdown import Markdown\n",
        "from google.colab import userdata\n",
        "from langchain_groq import ChatGroq\n",
        "from langchain_core.pydantic_v1 import BaseModel, Field, validator\n",
        "from langchain_core.tools import tool\n",
        "from langgraph.graph import StateGraph, END\n",
        "\n",
        "# --- 1. State Definition (Hoàn chỉnh) ---\n",
        "def merge_dicts(dict1: Dict[str, Any], dict2: Dict[str, Any]) -> Dict[str, Any]:\n",
        "    merged = dict1.copy()\n",
        "    for key, value in dict2.items():\n",
        "        if key in merged and isinstance(merged[key], dict) and isinstance(value, dict):\n",
        "            merged[key] = merge_dicts(merged[key], value)\n",
        "        else: merged[key] = value\n",
        "    return merged\n",
        "\n",
        "class AcademicState(TypedDict):\n",
        "    messages: Annotated[List[BaseMessage], operator.add]\n",
        "    profile: Dict\n",
        "    cross_agent_request: Optional[Dict[str, Any]]\n",
        "    required_agents: List[str]\n",
        "    completed_agents: Annotated[List[str], operator.add]\n",
        "    agent_outputs: Annotated[Dict[str, Any], merge_dicts]\n",
        "    critique: str\n",
        "    revision_needed: bool\n",
        "    revision_count: int\n",
        "    final_report: str\n",
        "    next_steps: str\n",
        "\n",
        "print(\"Đã định nghĩa 'AcademicState' phiên bản cuối cùng thành công.\")\n",
        "\n",
        "# --- 2. Khởi tạo LLM ---\n",
        "try:\n",
        "    GROQ_API_KEY = userdata.get('GROQ_API_KEY')\n",
        "    TAVILY_API_KEY = userdata.get('TAVILY_API_KEY')\n",
        "    llm = ChatGroq(\n",
        "        temperature=0.2, # Giảm độ \"sáng tạo\" để agent tuân thủ hướng dẫn hơn\n",
        "        model=\"llama3-70b-8192\",\n",
        "        api_key=GROQ_API_KEY,\n",
        "        max_tokens=4096\n",
        "    )\n",
        "    print(f\"Khởi tạo ChatGroq thành công với model: {llm.model_name}\")\n",
        "except Exception as e:\n",
        "    print(f\"LỖI: Không thể khởi tạo LLM. {e}\")\n",
        "    llm = None\n",
        "console = Console()\n",
        "if llm: print(\"\\nKhởi tạo 'llm' và 'console' thành công.\")\n",
        "\n",
        "\n",
        "# ==============================================================================\n",
        "# STEP 3: THE TOOLBOX (PHIÊN BẢN SỬA LỖI CUỐI CÙNG)\n",
        "# ==============================================================================\n",
        "from google.oauth2.service_account import Credentials\n",
        "from googleapiclient.discovery import build\n",
        "\n",
        "# --- 1. Khởi tạo các service và dữ liệu ---\n",
        "SERVICE_ACCOUNT_FILE = 'credentials.json'\n",
        "# <-- SỬA ĐỔI QUAN TRỌNG: Thêm ID Lịch của bạn vào đây\n",
        "YOUR_CALENDAR_ID = \"td.tan2711@gmail.com\" # <--- THAY BẰNG EMAIL CỦA BẠN\n",
        "\n",
        "def authenticate_google_calendar_service_account():\n",
        "    try:\n",
        "        if not os.path.exists(SERVICE_ACCOUNT_FILE): return None\n",
        "        SCOPES = ['https://www.googleapis.com/auth/calendar.readonly']\n",
        "        creds = Credentials.from_service_account_file(SERVICE_ACCOUNT_FILE, scopes=SCOPES)\n",
        "        service = build('calendar', 'v3', credentials=creds)\n",
        "        print(\"✅ Xác thực Google Calendar thành công.\")\n",
        "        return service\n",
        "    except Exception as e:\n",
        "        print(f\"Lỗi khi xác thực Google Calendar: {e}\")\n",
        "        return None\n",
        "google_calendar_service = authenticate_google_calendar_service_account()\n",
        "\n",
        "try:\n",
        "    with open('tasks.json', 'r', encoding='utf-8') as f: task_data = json.load(f)\n",
        "    print(\"✅ Đã tải dữ liệu tasks.json thành công.\")\n",
        "except Exception as e:\n",
        "    task_data = {}\n",
        "    print(f\"Lỗi khi tải tasks.json: {e}\")\n",
        "\n",
        "try:\n",
        "    with open('profile.json', 'r', encoding='utf-8') as f: profile_data = json.load(f)\n",
        "    print(\"✅ Đã tải dữ liệu profile.json thành công.\")\n",
        "except Exception as e:\n",
        "    profile_data = {}\n",
        "    print(f\"Lỗi khi tải profile.json: {e}\")\n",
        "\n",
        "# --- 2. Định nghĩa các công cụ ---\n",
        "@tool\n",
        "def google_calendar_reader(days_ahead: int = 7) -> str:\n",
        "    \"\"\"Sử dụng công cụ này để đọc lịch và các sự kiện sắp tới của người dùng.\"\"\"\n",
        "    if not google_calendar_service: return \"Lỗi: Dịch vụ Google Calendar không có sẵn.\"\n",
        "    now_utc = datetime.now(timezone.utc).isoformat()\n",
        "    future_limit = (datetime.now(timezone.utc) + timedelta(days=days_ahead)).isoformat()\n",
        "    try:\n",
        "        print(f\"--- [Calendar Tool] Đang đọc lịch: {YOUR_CALENDAR_ID}\")\n",
        "        # <-- SỬA ĐỔI QUAN TRỌNG: Sử dụng ID lịch của bạn thay vì 'primary'\n",
        "        events_result = google_calendar_service.events().list(\n",
        "            calendarId=YOUR_CALENDAR_ID,\n",
        "            timeMin=now_utc,\n",
        "            timeMax=future_limit,\n",
        "            singleEvents=True,\n",
        "            orderBy='startTime'\n",
        "        ).execute()\n",
        "        events = events_result.get('items', [])\n",
        "        if not events:\n",
        "            return f\"Không có sự kiện nào sắp tới trong {days_ahead} ngày tới.\"\n",
        "        print(f\"--- [Calendar Tool] Tìm thấy {len(events)} sự kiện.\")\n",
        "        # Trả về một chuỗi JSON sạch\n",
        "        return json.dumps([{'summary': e.get('summary'), 'start': e.get('start', {}).get('dateTime'), 'end': e.get('end', {}).get('dateTime')} for e in events])\n",
        "    except Exception as e: return f\"Lỗi khi gọi Google Calendar API: {e}\"\n",
        "\n",
        "@tool\n",
        "def active_tasks_reader() -> str:\n",
        "    \"\"\"Sử dụng công cụ này để đọc danh sách các công việc và bài tập còn hoạt động của người dùng.\"\"\"\n",
        "    if not task_data: return \"Không có dữ liệu công việc.\"\n",
        "    now_utc = datetime.now(timezone.utc)\n",
        "    active_tasks = [t for t in task_data.get(\"tasks\", []) if t.get(\"status\") == \"needsAction\" and t.get(\"due\") and datetime.fromisoformat(t['due'].replace('Z', '+00:00')) > now_utc]\n",
        "    return \"Không có công việc nào còn hoạt động.\" if not active_tasks else json.dumps(active_tasks)\n",
        "\n",
        "@tool\n",
        "def tavily_web_search(query: str) -> str:\n",
        "    \"\"\"Sử dụng công cụ này để tìm kiếm thông tin học thuật trên Internet khi người dùng yêu cầu tìm hiểu về một chủ đề cụ thể.\"\"\"\n",
        "    try:\n",
        "        client = tavily.TavilyClient(api_key=TAVILY_API_KEY)\n",
        "        response = client.search(query=query, search_depth=\"advanced\", max_results=5)\n",
        "        return \"\\n\\n\".join([f'Source: {res[\"url\"]}\\nContent: {res[\"content\"]}' for res in response[\"results\"]])\n",
        "    except Exception as e: return f\"Lỗi khi tìm kiếm với Tavily: {e}\"\n",
        "\n",
        "# --- 3. Tạo danh sách và bind các công cụ ---\n",
        "tools = [google_calendar_reader, active_tasks_reader, tavily_web_search]\n",
        "llm_with_tools = llm.bind_tools(tools)\n",
        "print(\"\\n✅ Hộp dụng cụ (Toolbox) đã sẵn sàng và được bind vào LLM.\")"
      ],
      "metadata": {
        "id": "jyk9EUs4sGAq",
        "colab": {
          "base_uri": "https://localhost:8080/"
        },
        "outputId": "c8b6728d-e624-4961-d031-bf7698034b0b"
      },
      "execution_count": 2,
      "outputs": [
        {
          "output_type": "stream",
          "name": "stderr",
          "text": [
            "/usr/local/lib/python3.11/dist-packages/IPython/core/interactiveshell.py:3553: LangChainDeprecationWarning: As of langchain-core 0.3.0, LangChain uses pydantic v2 internally. The langchain_core.pydantic_v1 module was a compatibility shim for pydantic v1, and should no longer be used. Please update the code to import from Pydantic directly.\n",
            "\n",
            "For example, replace imports like: `from langchain_core.pydantic_v1 import BaseModel`\n",
            "with: `from pydantic import BaseModel`\n",
            "or the v1 compatibility namespace if you are working in a code base that has not been fully upgraded to pydantic 2 yet. \tfrom pydantic.v1 import BaseModel\n",
            "\n",
            "  exec(code_obj, self.user_global_ns, self.user_ns)\n"
          ]
        },
        {
          "output_type": "stream",
          "name": "stdout",
          "text": [
            "Đã định nghĩa 'AcademicState' phiên bản cuối cùng thành công.\n",
            "Khởi tạo ChatGroq thành công với model: llama3-70b-8192\n",
            "\n",
            "Khởi tạo 'llm' và 'console' thành công.\n",
            "✅ Xác thực Google Calendar thành công.\n",
            "✅ Đã tải dữ liệu tasks.json thành công.\n",
            "✅ Đã tải dữ liệu profile.json thành công.\n",
            "\n",
            "✅ Hộp dụng cụ (Toolbox) đã sẵn sàng và được bind vào LLM.\n"
          ]
        }
      ]
    },
    {
      "cell_type": "code",
      "source": [
        "# ==============================================================================\n",
        "# STEP 4: THE FULL INTERACTIVE TEAM OF AGENTS (PHIÊN BẢN HOÀN THIỆN)\n",
        "# ==============================================================================\n",
        "import re\n",
        "\n",
        "# (Các class FinalAnswer, RequestForHelp, Critique giữ nguyên)\n",
        "class FinalAnswer(BaseModel):\n",
        "    answer: str = Field(description=\"Nội dung câu trả lời cuối cùng, chi tiết bằng Markdown.\")\n",
        "\n",
        "# (Các agent coordinator_agent, tool_user_agent giữ nguyên)\n",
        "async def coordinator_agent(state: AcademicState) -> Dict[str, Any]:\n",
        "    print(\"\\n--- [Coordinator] Đang quyết định các chuyên gia cần thiết... ---\")\n",
        "    prompt = f\"Dựa trên yêu cầu: '{state['messages'][0].content}', quyết định các agent cần kích hoạt. Các lựa chọn: PLANNER, NOTEWRITER, ADVISOR. Trả về một danh sách Python.\"\n",
        "    response_message = await llm.ainvoke([HumanMessage(content=prompt)])\n",
        "    try:\n",
        "        required_agents = eval(response_message.content.strip())\n",
        "    except:\n",
        "        required_agents = [\"PLANNER\", \"NOTEWRITER\", \"ADVISOR\"]\n",
        "    print(f\"--- [Coordinator] Quyết định: Cần các agent {required_agents}\")\n",
        "    return {\"required_agents\": required_agents}\n",
        "\n",
        "async def tool_user_agent(state: AcademicState) -> Dict[str, Any]:\n",
        "    print(\"\\n--- [Tool User] Thu thập tất cả thông tin ban đầu... ---\")\n",
        "    request = state['messages'][0].content\n",
        "    search_query = f\"Hướng dẫn học và các tài liệu tốt nhất về '{request}'\"\n",
        "    print(f\"--- [Tool User] Quyết định gọi công cụ: ['google_calendar_reader', 'active_tasks_reader', 'tavily_web_search']\")\n",
        "    calendar_output = google_calendar_reader.invoke({\"days_ahead\": 7})\n",
        "    time.sleep(1)\n",
        "    tasks_output = active_tasks_reader.invoke({})\n",
        "    time.sleep(1)\n",
        "    web_output = tavily_web_search.invoke({\"query\": search_query})\n",
        "    collected_data = f\"\"\"Thông tin ban đầu đã được thu thập:\n",
        "    1. Lịch trình trong 7 ngày tới: {calendar_output}\n",
        "    2. Các nhiệm vụ đang hoạt động: {tasks_output}\n",
        "    3. Kết quả tìm kiếm trên web: {web_output}\"\"\"\n",
        "    context_message = SystemMessage(content=collected_data)\n",
        "    print(\"--- [Tool User] Đã thu thập và định dạng xong thông tin.\")\n",
        "    return {\"messages\": [context_message]}\n",
        "\n",
        "# <-- SỬA ĐỔI QUAN TRỌNG: Nâng cấp `create_specialist_agent` để xử lý lỗi 400\n",
        "def create_specialist_agent(agent_name: str, agent_description: str, output_key: str):\n",
        "    async def specialist_agent(state: AcademicState) -> Dict[str, Any]:\n",
        "        print(f\"\\n--- [{agent_name}] Bắt đầu làm việc... ---\")\n",
        "        llm_with_tool = llm.bind_tools([FinalAnswer])\n",
        "        prompt = f\"\"\"Bạn là {agent_name}. {agent_description}.\n",
        "        Dựa vào TOÀN BỘ thông tin có sẵn dưới đây, hãy tạo ra sản phẩm tốt nhất có thể của bạn và gọi công cụ `FinalAnswer`.\n",
        "        **Thông tin có sẵn:**\n",
        "        ```json\n",
        "        {json.dumps({\n",
        "            \"profile\": state['profile'],\n",
        "            \"messages\": [msg.model_dump() for msg in state['messages']],\n",
        "            \"agent_outputs\": state['agent_outputs'],\n",
        "        }, indent=2, ensure_ascii=False)}\n",
        "        ```\n",
        "        Hãy tạo ra câu trả lời cuối cùng của bạn ngay bây giờ.\n",
        "        \"\"\"\n",
        "        try:\n",
        "            ai_response = await llm_with_tool.ainvoke([HumanMessage(content=prompt)])\n",
        "            if not ai_response.tool_calls:\n",
        "                print(f\"--- [{agent_name}] Cảnh báo: Không gọi được tool, trả về nội dung thô.\")\n",
        "                return {\"agent_outputs\": {output_key: ai_response.content}}\n",
        "\n",
        "            tool_call = ai_response.tool_calls[0]\n",
        "            if tool_call['name'] == 'FinalAnswer':\n",
        "                print(f\"--- [{agent_name}] Đã tạo sản phẩm thành công.\")\n",
        "                return {\"agent_outputs\": {output_key: tool_call['args']['answer']}}\n",
        "            else:\n",
        "                raise ValueError(f\"LLM đã gọi một công cụ không xác định: {tool_call['name']}\")\n",
        "        except Exception as e:\n",
        "            # --- LOGIC CỨU KẾT QUẢ ---\n",
        "            print(f\"--- [{agent_name}] Gặp lỗi API: {e}\")\n",
        "            # Cố gắng trích xuất nội dung tốt từ 'failed_generation'\n",
        "            error_str = str(e)\n",
        "            match = re.search(r'\"answer\":\\s*\"(.*?)\"', error_str, re.DOTALL)\n",
        "            if match:\n",
        "                extracted_answer = match.group(1).encode().decode('unicode_escape')\n",
        "                print(f\"--- [{agent_name}] Đã cứu được sản phẩm từ lỗi 400!\")\n",
        "                return {\"agent_outputs\": {output_key: extracted_answer}}\n",
        "            else:\n",
        "                print(f\"--- [{agent_name}] Không thể cứu sản phẩm. Trả về thông báo lỗi.\")\n",
        "                return {\"agent_outputs\": {output_key: f\"Agent {agent_name} đã gặp lỗi không thể phục hồi.\"}}\n",
        "    return specialist_agent\n",
        "\n",
        "planner_agent = create_specialist_agent(\"PLANNER\", \"Tạo kế hoạch học tập chi tiết, khả thi.\", \"plan\")\n",
        "notewriter_agent = create_specialist_agent(\"NOTEWRITER\", \"Tạo ghi chú học thuật súc tích.\", \"notes\")\n",
        "advisor_agent = create_specialist_agent(\"ADVISOR\", \"Đưa ra lời khuyên chiến lược.\", \"advice\")\n",
        "\n",
        "# Các agent cuối giữ nguyên\n",
        "async def synthesizer_agent(state: AcademicState) -> Dict[str, Any]:\n",
        "    print(\"\\n--- [Synthesizer] Bắt đầu tổng hợp báo cáo cuối cùng ---\")\n",
        "    prompt = f\"Tổng hợp các sản phẩm từ các chuyên gia sau đây thành MỘT báo cáo tổng hợp duy nhất, mạch lạc và chuyên nghiệp cho người dùng:\\n\\n{json.dumps(state['agent_outputs'], indent=2, ensure_ascii=False)}.\\n\\nYêu cầu ban đầu của người dùng là: '{state['messages'][0].content}'\"\n",
        "    response_message = await llm.ainvoke([HumanMessage(content=prompt)])\n",
        "    return {\"final_report\": response_message.content}\n",
        "\n",
        "async def reflection_agent(state: AcademicState) -> Dict[str, Any]:\n",
        "    print(\"\\n--- [Reflection] Đang suy nghĩ về các bước tiếp theo... ---\")\n",
        "    prompt = f\"Dựa vào báo cáo cuối cùng này, hãy đề xuất 3-4 hành động hoặc câu hỏi tiếp theo mà người dùng có thể muốn thực hiện:\\n\\n{state['final_report']}\"\n",
        "    response_message = await llm.ainvoke([HumanMessage(content=prompt)])\n",
        "    return {\"next_steps\": response_message.content}\n",
        "\n",
        "print(\"✅ Tất cả các agent cho ATLAS 2.0 (Phiên bản hoàn thiện) đã được định nghĩa.\")"
      ],
      "metadata": {
        "id": "mmRYcwIEsF-V",
        "colab": {
          "base_uri": "https://localhost:8080/"
        },
        "outputId": "756f8234-b02b-4fa2-936b-5ed3572b9159"
      },
      "execution_count": 21,
      "outputs": [
        {
          "output_type": "stream",
          "name": "stdout",
          "text": [
            "✅ Tất cả các agent cho ATLAS 2.0 (Phiên bản hoàn thiện) đã được định nghĩa.\n"
          ]
        }
      ]
    },
    {
      "cell_type": "code",
      "source": [
        "# ==============================================================================\n",
        "# STEP 5 & 6: ASSEMBLY & EXECUTION (KIẾN TRÚC CUỐI CÙNG)\n",
        "# ==============================================================================\n",
        "\n",
        "# Node wrapper để chạy agent và đánh dấu hoàn thành\n",
        "async def specialist_node_wrapper(agent_func, agent_name: str, state: AcademicState) -> Dict[str, Any]:\n",
        "    # Chạy agent\n",
        "    result = await agent_func(state)\n",
        "\n",
        "    # Đánh dấu đã hoàn thành\n",
        "    current_completed = state.get(\"completed_agents\", [])\n",
        "    if agent_name not in current_completed:\n",
        "        # Sử dụng toán tử `add` của `Annotated` bằng cách trả về một danh sách\n",
        "        result[\"completed_agents\"] = [agent_name]\n",
        "\n",
        "    return result\n",
        "\n",
        "# <-- SỬA ĐỔI QUAN TRỌNG: Định nghĩa các node một cách tường minh\n",
        "async def planner_node(state: AcademicState) -> Dict[str, Any]:\n",
        "    return await specialist_node_wrapper(planner_agent, \"PLANNER\", state)\n",
        "\n",
        "async def notewriter_node(state: AcademicState) -> Dict[str, Any]:\n",
        "    return await specialist_node_wrapper(notewriter_agent, \"NOTEWRITER\", state)\n",
        "\n",
        "async def advisor_node(state: AcademicState) -> Dict[str, Any]:\n",
        "    return await specialist_node_wrapper(advisor_agent, \"ADVISOR\", state)\n",
        "\n",
        "# --- Lắp ráp Graph ---\n",
        "workflow = StateGraph(AcademicState)\n",
        "workflow.add_node(\"coordinator\", coordinator_agent)\n",
        "workflow.add_node(\"tool_user\", tool_user_agent)\n",
        "# Sử dụng các hàm async def đã được định nghĩa đúng cách\n",
        "workflow.add_node(\"planner\", planner_node)\n",
        "workflow.add_node(\"notewriter\", notewriter_node)\n",
        "workflow.add_node(\"advisor\", advisor_node)\n",
        "workflow.add_node(\"synthesizer\", synthesizer_agent)\n",
        "workflow.add_node(\"reflection\", reflection_agent)\n",
        "\n",
        "workflow.set_entry_point(\"coordinator\")\n",
        "\n",
        "# Luồng chạy tuần tự, thẳng và đơn giản\n",
        "# Coordinator quyết định các agent cần chạy\n",
        "workflow.add_edge(\"coordinator\", \"tool_user\")\n",
        "# Tool user thu thập tất cả thông tin ban đầu\n",
        "workflow.add_edge(\"tool_user\", \"planner\")\n",
        "\n",
        "# Sau planner, đi đến notewriter\n",
        "workflow.add_edge(\"planner\", \"notewriter\")\n",
        "# Sau notewriter, đi đến advisor\n",
        "workflow.add_edge(\"notewriter\", \"advisor\")\n",
        "# Sau advisor, đi tổng hợp\n",
        "workflow.add_edge(\"advisor\", \"synthesizer\")\n",
        "\n",
        "# Luồng cuối cùng\n",
        "workflow.add_edge(\"synthesizer\", \"reflection\")\n",
        "workflow.add_edge(\"reflection\", END)\n",
        "\n",
        "app = workflow.compile()\n",
        "print(\"\\n✅✅✅ ATLAS 2.0 (Kiến trúc cuối cùng) đã được biên dịch! ✅✅✅\")"
      ],
      "metadata": {
        "colab": {
          "base_uri": "https://localhost:8080/"
        },
        "id": "Hl0fBZjM9-KX",
        "outputId": "28292922-c779-43d8-e2c5-68c74db1153a"
      },
      "execution_count": 22,
      "outputs": [
        {
          "output_type": "stream",
          "name": "stdout",
          "text": [
            "\n",
            "✅✅✅ ATLAS 2.0 (Kiến trúc cuối cùng) đã được biên dịch! ✅✅✅\n"
          ]
        }
      ]
    },
    {
      "cell_type": "code",
      "source": [
        "# ==============================================================================\n",
        "# STEP 7: EXECUTION (Chạy và hiển thị kết quả đúng)\n",
        "# ==============================================================================\n",
        "\n",
        "async def run_atlas_2_0(profile_data: dict):\n",
        "    request = \"Tuần tới tôi cần học về thuật toán K-Nearest Neighbors (KNN). Lịch của tôi khá bận rộn, hãy tạo một kế hoạch học tập chi tiết, sau đó ghi chú lại các điểm chính và cho tôi một vài lời khuyên học tập.\"\n",
        "\n",
        "    student_profile = next((p for p in profile_data.get(\"profiles\", []) if p.get(\"id\") == \"student_123\"), {})\n",
        "\n",
        "    initial_state = {\n",
        "        \"messages\": [HumanMessage(content=request)],\n",
        "        \"profile\": student_profile,\n",
        "        \"agent_outputs\": {},\n",
        "        \"completed_agents\": [],\n",
        "    }\n",
        "\n",
        "    console.print(f\"\\n🚀 [bold blue]Bắt đầu chạy ATLAS 2.0 với yêu cầu:[/bold blue]\\n{request}\")\n",
        "\n",
        "    # <-- SỬA ĐỔI QUAN TRỌNG: Chạy và lấy về trạng thái cuối cùng hoàn chỉnh\n",
        "    final_state = await app.ainvoke(initial_state, config={\"recursion_limit\": 15})\n",
        "\n",
        "    console.print(\"\\n\\n\" + \"=\"*80, style=\"bold green\")\n",
        "    console.print(\" HỆ THỐNG ATLAS 2.0 ĐÃ HOÀN THÀNH TÁC VỤ!\", style=\"bold green\")\n",
        "    console.print(\"=\"*80, style=\"bold green\")\n",
        "\n",
        "    # In kết quả từ trạng thái cuối cùng\n",
        "    if final_state:\n",
        "        console.print(\"\\n--- [bold blue]BÁO CÁO TỔNG HỢP CUỐI CÙNG[/bold blue] ---\")\n",
        "        console.print(Markdown(final_state.get(\"final_report\", \"Không có báo cáo cuối cùng.\")))\n",
        "        console.print(\"\\n--- [bold blue]GỢI Ý CÁC BƯỚC TIẾP THEO[/bold blue] ---\")\n",
        "        console.print(Markdown(final_state.get(\"next_steps\", \"Không có gợi ý.\")))\n",
        "\n",
        "# Chạy hàm chính\n",
        "await run_atlas_2_0(profile_data)"
      ],
      "metadata": {
        "colab": {
          "base_uri": "https://localhost:8080/",
          "height": 1000
        },
        "id": "Ya8QbTnw9-IZ",
        "outputId": "c28159be-a3ca-4cad-ba9c-49e8e76e2d15"
      },
      "execution_count": 23,
      "outputs": [
        {
          "output_type": "display_data",
          "data": {
            "text/plain": [
              "\n",
              "🚀 \u001b[1;34mBắt đầu chạy ATLAS \u001b[0m\u001b[1;34m2.0\u001b[0m\u001b[1;34m với yêu cầu:\u001b[0m\n",
              "Tuần tới tôi cần học về thuật toán K-Nearest Neighbors \u001b[1m(\u001b[0mKNN\u001b[1m)\u001b[0m. Lịch của tôi khá bận rộn, hãy tạo một kế hoạch học \n",
              "tập chi tiết, sau đó ghi chú lại các điểm chính và cho tôi một vài lời khuyên học tập.\n"
            ],
            "text/html": [
              "<pre style=\"white-space:pre;overflow-x:auto;line-height:normal;font-family:Menlo,'DejaVu Sans Mono',consolas,'Courier New',monospace\">\n",
              "🚀 <span style=\"color: #000080; text-decoration-color: #000080; font-weight: bold\">Bắt đầu chạy ATLAS </span><span style=\"color: #000080; text-decoration-color: #000080; font-weight: bold\">2.0</span><span style=\"color: #000080; text-decoration-color: #000080; font-weight: bold\"> với yêu cầu:</span>\n",
              "Tuần tới tôi cần học về thuật toán K-Nearest Neighbors <span style=\"font-weight: bold\">(</span>KNN<span style=\"font-weight: bold\">)</span>. Lịch của tôi khá bận rộn, hãy tạo một kế hoạch học \n",
              "tập chi tiết, sau đó ghi chú lại các điểm chính và cho tôi một vài lời khuyên học tập.\n",
              "</pre>\n"
            ]
          },
          "metadata": {}
        },
        {
          "output_type": "stream",
          "name": "stdout",
          "text": [
            "\n",
            "--- [Coordinator] Đang quyết định các chuyên gia cần thiết... ---\n",
            "--- [Coordinator] Quyết định: Cần các agent ['PLANNER', 'NOTEWRITER', 'ADVISOR']\n",
            "\n",
            "--- [Tool User] Thu thập tất cả thông tin ban đầu... ---\n",
            "--- [Tool User] Quyết định gọi công cụ: ['google_calendar_reader', 'active_tasks_reader', 'tavily_web_search']\n",
            "--- [Calendar Tool] Đang đọc lịch: td.tan2711@gmail.com\n",
            "--- [Calendar Tool] Tìm thấy 4 sự kiện.\n",
            "--- [Tool User] Đã thu thập và định dạng xong thông tin.\n",
            "\n",
            "--- [PLANNER] Bắt đầu làm việc... ---\n",
            "--- [PLANNER] Gặp lỗi API: Error code: 400 - {'error': {'message': \"Failed to call a function. Please adjust your prompt. See 'failed_generation' for more details.\", 'type': 'invalid_request_error', 'code': 'tool_use_failed', 'failed_generation': '<tool-use>\\n{\\n  \"tool_calls\": [\\n    {\\n      \"id\": \"pending\",\\n      \"type\": \"function\",\\n      \"function\": {\\n        \"name\": \"FinalAnswer\"\\n      },\\n      \"parameters\": {\\n        \"answer\": \"Based on the provided information, I will create a detailed learning plan for you to learn about the K-Nearest Neighbors (KNN) algorithm. Considering your learning preferences, I will provide a visual and structured plan.\\n\\nFirst, let\\'s break down the topic into smaller chunks:\\n\\n1. Introduction to KNN\\n2. How KNN works\\n3. Applications of KNN\\n4. Advantages and disadvantages of KNN\\n\\nGiven your busy schedule, I recommend dedicating 45-minute focus sessions with 15-minute breaks in between. Here\\'s a suggested plan for the next 7 days:\\n\\nDay 1: Morning (9 AM - 12 PM) - Introduction to KNN\\n* Watch video lectures on KNN (e.g., https://www.youtube.com/watch?v=KarBce2DeVE)\\n* Take notes and summarize the key points\\n\\nDay 2: Morning (9 AM - 12 PM) - How KNN works\\n* Read articles on KNN (e.g., https://machinelearningcoban.com/2017/01/08/knn/)\\n* Create a mind map or diagram to illustrate the algorithm\\n\\nDay 3: Morning (9 AM - 12 PM) - Applications of KNN\\n* Research and list down the applications of KNN\\n* Create a table or chart to compare the advantages and disadvantages of KNN\\n\\nDay 4: Morning (9 AM - 12 PM) - Advantages and disadvantages of KNN\\n* Read research papers on KNN (e.g., https://www.slideshare.net/slideshow/luan-van-nghien-cuu-thuat-toan-knearest-neighbor-haym-9d/202621575)\\n* Take notes and summarize the key points\\n\\nDay 5-7: Review and practice\\n* Review the notes and mind maps created earlier\\n* Practice solving problems or exercises related to KNN\\n\\nRemember to take breaks and adjust the plan according to your schedule and preferences. Good luck with your learning!\"\\n      }\\n    }\\n  ]\\n}\\n</tool-use>'}}\n",
            "--- [PLANNER] Đã cứu được sản phẩm từ lỗi 400!\n",
            "\n",
            "--- [NOTEWRITER] Bắt đầu làm việc... ---\n",
            "--- [NOTEWRITER] Đã tạo sản phẩm thành công.\n",
            "\n",
            "--- [ADVISOR] Bắt đầu làm việc... ---\n",
            "--- [ADVISOR] Đã tạo sản phẩm thành công.\n",
            "\n",
            "--- [Synthesizer] Bắt đầu tổng hợp báo cáo cuối cùng ---\n",
            "\n",
            "--- [Reflection] Đang suy nghĩ về các bước tiếp theo... ---\n"
          ]
        },
        {
          "output_type": "display_data",
          "data": {
            "text/plain": [
              "\n",
              "\n",
              "\u001b[1;32m================================================================================\u001b[0m\n"
            ],
            "text/html": [
              "<pre style=\"white-space:pre;overflow-x:auto;line-height:normal;font-family:Menlo,'DejaVu Sans Mono',consolas,'Courier New',monospace\">\n",
              "\n",
              "<span style=\"color: #008000; text-decoration-color: #008000; font-weight: bold\">================================================================================</span>\n",
              "</pre>\n"
            ]
          },
          "metadata": {}
        },
        {
          "output_type": "display_data",
          "data": {
            "text/plain": [
              "\u001b[1;32m HỆ THỐNG ATLAS \u001b[0m\u001b[1;36m2.0\u001b[0m\u001b[1;32m ĐÃ HOÀN THÀNH TÁC VỤ!\u001b[0m\n"
            ],
            "text/html": [
              "<pre style=\"white-space:pre;overflow-x:auto;line-height:normal;font-family:Menlo,'DejaVu Sans Mono',consolas,'Courier New',monospace\"><span style=\"color: #008000; text-decoration-color: #008000; font-weight: bold\"> HỆ THỐNG ATLAS </span><span style=\"color: #008080; text-decoration-color: #008080; font-weight: bold\">2.0</span><span style=\"color: #008000; text-decoration-color: #008000; font-weight: bold\"> ĐÃ HOÀN THÀNH TÁC VỤ!</span>\n",
              "</pre>\n"
            ]
          },
          "metadata": {}
        },
        {
          "output_type": "display_data",
          "data": {
            "text/plain": [
              "\u001b[1;32m================================================================================\u001b[0m\n"
            ],
            "text/html": [
              "<pre style=\"white-space:pre;overflow-x:auto;line-height:normal;font-family:Menlo,'DejaVu Sans Mono',consolas,'Courier New',monospace\"><span style=\"color: #008000; text-decoration-color: #008000; font-weight: bold\">================================================================================</span>\n",
              "</pre>\n"
            ]
          },
          "metadata": {}
        },
        {
          "output_type": "display_data",
          "data": {
            "text/plain": [
              "\n",
              "--- \u001b[1;34mBÁO CÁO TỔNG HỢP CUỐI CÙNG\u001b[0m ---\n"
            ],
            "text/html": [
              "<pre style=\"white-space:pre;overflow-x:auto;line-height:normal;font-family:Menlo,'DejaVu Sans Mono',consolas,'Courier New',monospace\">\n",
              "--- <span style=\"color: #000080; text-decoration-color: #000080; font-weight: bold\">BÁO CÁO TỔNG HỢP CUỐI CÙNG</span> ---\n",
              "</pre>\n"
            ]
          },
          "metadata": {}
        },
        {
          "output_type": "display_data",
          "data": {
            "text/plain": [
              "Here is the consolidated report:                                                                                   \n",
              "\n",
              "\u001b[1mLearning Plan for K-Nearest Neighbors (KNN) Algorithm\u001b[0m                                                              \n",
              "\n",
              "\u001b[1mIntroduction\u001b[0m                                                                                                       \n",
              "\n",
              "Based on your request, I have created a detailed learning plan for you to learn about the K-Nearest Neighbors (KNN)\n",
              "algorithm, considering your busy schedule and learning preferences.                                                \n",
              "\n",
              "\u001b[1mBreakdown of the Topic\u001b[0m                                                                                             \n",
              "\n",
              "To make learning more manageable, I have broken down the topic into smaller chunks:                                \n",
              "\n",
              "\u001b[1;33m 1 \u001b[0mIntroduction to KNN                                                                                             \n",
              "\u001b[1;33m 2 \u001b[0mHow KNN works                                                                                                   \n",
              "\u001b[1;33m 3 \u001b[0mApplications of KNN                                                                                             \n",
              "\u001b[1;33m 4 \u001b[0mAdvantages and disadvantages of KNN                                                                             \n",
              "\n",
              "\u001b[1m7-Day Learning Plan\u001b[0m                                                                                                \n",
              "\n",
              "To accommodate your busy schedule, I recommend dedicating 45-minute focus sessions with 15-minute breaks in        \n",
              "between. Here's a suggested plan for the next 7 days:                                                              \n",
              "\n",
              "\u001b[1mDay 1: Introduction to KNN\u001b[0m                                                                                         \n",
              "\n",
              "\u001b[1;33m • \u001b[0mMorning (9 AM - 12 PM): Watch video lectures on KNN (e.g., https://www.youtube.com/watch?v=KarBce2DeVE)         \n",
              "\u001b[1;33m • \u001b[0mTake notes and summarize the key points                                                                         \n",
              "\n",
              "\u001b[1mDay 2: How KNN works\u001b[0m                                                                                               \n",
              "\n",
              "\u001b[1;33m • \u001b[0mMorning (9 AM - 12 PM): Read articles on KNN (e.g., https://machinelearningcoban.com/2017/01/08/knn/)           \n",
              "\u001b[1;33m • \u001b[0mCreate a mind map or diagram to illustrate the algorithm                                                        \n",
              "\n",
              "\u001b[1mDay 3: Applications of KNN\u001b[0m                                                                                         \n",
              "\n",
              "\u001b[1;33m • \u001b[0mMorning (9 AM - 12 PM): Research and list down the applications of KNN                                          \n",
              "\u001b[1;33m • \u001b[0mCreate a table or chart to compare the advantages and disadvantages of KNN                                      \n",
              "\n",
              "\u001b[1mDay 4: Advantages and disadvantages of KNN\u001b[0m                                                                         \n",
              "\n",
              "\u001b[1;33m • \u001b[0mMorning (9 AM - 12 PM): Read research papers on KNN (e.g.,                                                      \n",
              "\u001b[1;33m   \u001b[0mhttps://www.slideshare.net/slideshow/luan-van-nghien-cuu-thuat-toan-knearest-neighbor-haym-9d/202621575)        \n",
              "\u001b[1;33m • \u001b[0mTake notes and summarize the key points                                                                         \n",
              "\n",
              "\u001b[1mDay 5-7: Review and Practice\u001b[0m                                                                                       \n",
              "\n",
              "\u001b[1;33m • \u001b[0mReview the notes and mind maps created earlier                                                                  \n",
              "\u001b[1;33m • \u001b[0mPractice solving problems or exercises related to KNN                                                           \n",
              "\n",
              "\u001b[1mNotes and Advice\u001b[0m                                                                                                   \n",
              "\n",
              "Remember to take breaks and adjust the plan according to your schedule and preferences. Good luck with your        \n",
              "learning!                                                                                                          \n"
            ],
            "text/html": [
              "<pre style=\"white-space:pre;overflow-x:auto;line-height:normal;font-family:Menlo,'DejaVu Sans Mono',consolas,'Courier New',monospace\">Here is the consolidated report:                                                                                   \n",
              "\n",
              "<span style=\"font-weight: bold\">Learning Plan for K-Nearest Neighbors (KNN) Algorithm</span>                                                              \n",
              "\n",
              "<span style=\"font-weight: bold\">Introduction</span>                                                                                                       \n",
              "\n",
              "Based on your request, I have created a detailed learning plan for you to learn about the K-Nearest Neighbors (KNN)\n",
              "algorithm, considering your busy schedule and learning preferences.                                                \n",
              "\n",
              "<span style=\"font-weight: bold\">Breakdown of the Topic</span>                                                                                             \n",
              "\n",
              "To make learning more manageable, I have broken down the topic into smaller chunks:                                \n",
              "\n",
              "<span style=\"color: #808000; text-decoration-color: #808000; font-weight: bold\"> 1 </span>Introduction to KNN                                                                                             \n",
              "<span style=\"color: #808000; text-decoration-color: #808000; font-weight: bold\"> 2 </span>How KNN works                                                                                                   \n",
              "<span style=\"color: #808000; text-decoration-color: #808000; font-weight: bold\"> 3 </span>Applications of KNN                                                                                             \n",
              "<span style=\"color: #808000; text-decoration-color: #808000; font-weight: bold\"> 4 </span>Advantages and disadvantages of KNN                                                                             \n",
              "\n",
              "<span style=\"font-weight: bold\">7-Day Learning Plan</span>                                                                                                \n",
              "\n",
              "To accommodate your busy schedule, I recommend dedicating 45-minute focus sessions with 15-minute breaks in        \n",
              "between. Here's a suggested plan for the next 7 days:                                                              \n",
              "\n",
              "<span style=\"font-weight: bold\">Day 1: Introduction to KNN</span>                                                                                         \n",
              "\n",
              "<span style=\"color: #808000; text-decoration-color: #808000; font-weight: bold\"> • </span>Morning (9 AM - 12 PM): Watch video lectures on KNN (e.g., https://www.youtube.com/watch?v=KarBce2DeVE)         \n",
              "<span style=\"color: #808000; text-decoration-color: #808000; font-weight: bold\"> • </span>Take notes and summarize the key points                                                                         \n",
              "\n",
              "<span style=\"font-weight: bold\">Day 2: How KNN works</span>                                                                                               \n",
              "\n",
              "<span style=\"color: #808000; text-decoration-color: #808000; font-weight: bold\"> • </span>Morning (9 AM - 12 PM): Read articles on KNN (e.g., https://machinelearningcoban.com/2017/01/08/knn/)           \n",
              "<span style=\"color: #808000; text-decoration-color: #808000; font-weight: bold\"> • </span>Create a mind map or diagram to illustrate the algorithm                                                        \n",
              "\n",
              "<span style=\"font-weight: bold\">Day 3: Applications of KNN</span>                                                                                         \n",
              "\n",
              "<span style=\"color: #808000; text-decoration-color: #808000; font-weight: bold\"> • </span>Morning (9 AM - 12 PM): Research and list down the applications of KNN                                          \n",
              "<span style=\"color: #808000; text-decoration-color: #808000; font-weight: bold\"> • </span>Create a table or chart to compare the advantages and disadvantages of KNN                                      \n",
              "\n",
              "<span style=\"font-weight: bold\">Day 4: Advantages and disadvantages of KNN</span>                                                                         \n",
              "\n",
              "<span style=\"color: #808000; text-decoration-color: #808000; font-weight: bold\"> • </span>Morning (9 AM - 12 PM): Read research papers on KNN (e.g.,                                                      \n",
              "<span style=\"color: #808000; text-decoration-color: #808000; font-weight: bold\">   </span>https://www.slideshare.net/slideshow/luan-van-nghien-cuu-thuat-toan-knearest-neighbor-haym-9d/202621575)        \n",
              "<span style=\"color: #808000; text-decoration-color: #808000; font-weight: bold\"> • </span>Take notes and summarize the key points                                                                         \n",
              "\n",
              "<span style=\"font-weight: bold\">Day 5-7: Review and Practice</span>                                                                                       \n",
              "\n",
              "<span style=\"color: #808000; text-decoration-color: #808000; font-weight: bold\"> • </span>Review the notes and mind maps created earlier                                                                  \n",
              "<span style=\"color: #808000; text-decoration-color: #808000; font-weight: bold\"> • </span>Practice solving problems or exercises related to KNN                                                           \n",
              "\n",
              "<span style=\"font-weight: bold\">Notes and Advice</span>                                                                                                   \n",
              "\n",
              "Remember to take breaks and adjust the plan according to your schedule and preferences. Good luck with your        \n",
              "learning!                                                                                                          \n",
              "</pre>\n"
            ]
          },
          "metadata": {}
        },
        {
          "output_type": "display_data",
          "data": {
            "text/plain": [
              "\n",
              "--- \u001b[1;34mGỢI Ý CÁC BƯỚC TIẾP THEO\u001b[0m ---\n"
            ],
            "text/html": [
              "<pre style=\"white-space:pre;overflow-x:auto;line-height:normal;font-family:Menlo,'DejaVu Sans Mono',consolas,'Courier New',monospace\">\n",
              "--- <span style=\"color: #000080; text-decoration-color: #000080; font-weight: bold\">GỢI Ý CÁC BƯỚC TIẾP THEO</span> ---\n",
              "</pre>\n"
            ]
          },
          "metadata": {}
        },
        {
          "output_type": "display_data",
          "data": {
            "text/plain": [
              "Based on this consolidated report, here are 3-4 potential next actions or questions that the user may want to      \n",
              "consider:                                                                                                          \n",
              "\n",
              "\u001b[1;33m 1 \u001b[0m\u001b[1mStart implementing the 7-Day Learning Plan\u001b[0m: Now that the user has a structured plan, they can begin executing   \n",
              "\u001b[1;33m   \u001b[0mit, starting with Day 1: Introduction to KNN. They can watch video lectures, take notes, and summarize key      \n",
              "\u001b[1;33m   \u001b[0mpoints.                                                                                                         \n",
              "\u001b[1;33m 2 \u001b[0m\u001b[1mGather additional resources or materials\u001b[0m: The user may want to explore more resources beyond the ones provided  \n",
              "\u001b[1;33m   \u001b[0min the report, such as textbooks, online courses, or tutorials, to supplement their learning.                   \n",
              "\u001b[1;33m 3 \u001b[0m\u001b[1mCreate a schedule adjustment plan\u001b[0m: Depending on their busy schedule, the user may need to adjust the 7-Day      \n",
              "\u001b[1;33m   \u001b[0mLearning Plan to fit their availability. They can identify potential roadblocks and create a contingency plan to\n",
              "\u001b[1;33m   \u001b[0mstay on track.                                                                                                  \n",
              "\u001b[1;33m 4 \u001b[0m\u001b[1mHow to apply KNN to a real-world problem?\u001b[0m: After completing the learning plan, the user may want to explore how \n",
              "\u001b[1;33m   \u001b[0mto apply the KNN algorithm to a real-world problem or project. They can start thinking about potential use cases\n",
              "\u001b[1;33m   \u001b[0mor scenarios where KNN can be applied.                                                                          \n"
            ],
            "text/html": [
              "<pre style=\"white-space:pre;overflow-x:auto;line-height:normal;font-family:Menlo,'DejaVu Sans Mono',consolas,'Courier New',monospace\">Based on this consolidated report, here are 3-4 potential next actions or questions that the user may want to      \n",
              "consider:                                                                                                          \n",
              "\n",
              "<span style=\"color: #808000; text-decoration-color: #808000; font-weight: bold\"> 1 </span><span style=\"font-weight: bold\">Start implementing the 7-Day Learning Plan</span>: Now that the user has a structured plan, they can begin executing   \n",
              "<span style=\"color: #808000; text-decoration-color: #808000; font-weight: bold\">   </span>it, starting with Day 1: Introduction to KNN. They can watch video lectures, take notes, and summarize key      \n",
              "<span style=\"color: #808000; text-decoration-color: #808000; font-weight: bold\">   </span>points.                                                                                                         \n",
              "<span style=\"color: #808000; text-decoration-color: #808000; font-weight: bold\"> 2 </span><span style=\"font-weight: bold\">Gather additional resources or materials</span>: The user may want to explore more resources beyond the ones provided  \n",
              "<span style=\"color: #808000; text-decoration-color: #808000; font-weight: bold\">   </span>in the report, such as textbooks, online courses, or tutorials, to supplement their learning.                   \n",
              "<span style=\"color: #808000; text-decoration-color: #808000; font-weight: bold\"> 3 </span><span style=\"font-weight: bold\">Create a schedule adjustment plan</span>: Depending on their busy schedule, the user may need to adjust the 7-Day      \n",
              "<span style=\"color: #808000; text-decoration-color: #808000; font-weight: bold\">   </span>Learning Plan to fit their availability. They can identify potential roadblocks and create a contingency plan to\n",
              "<span style=\"color: #808000; text-decoration-color: #808000; font-weight: bold\">   </span>stay on track.                                                                                                  \n",
              "<span style=\"color: #808000; text-decoration-color: #808000; font-weight: bold\"> 4 </span><span style=\"font-weight: bold\">How to apply KNN to a real-world problem?</span>: After completing the learning plan, the user may want to explore how \n",
              "<span style=\"color: #808000; text-decoration-color: #808000; font-weight: bold\">   </span>to apply the KNN algorithm to a real-world problem or project. They can start thinking about potential use cases\n",
              "<span style=\"color: #808000; text-decoration-color: #808000; font-weight: bold\">   </span>or scenarios where KNN can be applied.                                                                          \n",
              "</pre>\n"
            ]
          },
          "metadata": {}
        }
      ]
    },
    {
      "cell_type": "code",
      "source": [],
      "metadata": {
        "id": "bN9kMMGE9-Fz"
      },
      "execution_count": null,
      "outputs": []
    }
  ]
}