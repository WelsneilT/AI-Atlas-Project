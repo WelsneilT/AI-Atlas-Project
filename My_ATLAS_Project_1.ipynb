{
  "nbformat": 4,
  "nbformat_minor": 0,
  "metadata": {
    "colab": {
      "provenance": []
    },
    "kernelspec": {
      "name": "python3",
      "display_name": "Python 3"
    },
    "language_info": {
      "name": "python"
    }
  },
  "cells": [
    {
      "cell_type": "markdown",
      "source": [
        "## STEP 1: INSTALLATION & IMPORTS"
      ],
      "metadata": {
        "id": "VFLapDYU1i5J"
      }
    },
    {
      "cell_type": "code",
      "execution_count": null,
      "metadata": {
        "colab": {
          "base_uri": "https://localhost:8080/"
        },
        "id": "3SoCAXmT0ILc",
        "outputId": "9944106e-e8a0-4e10-8552-a3c477d0d8a1"
      },
      "outputs": [
        {
          "output_type": "stream",
          "name": "stdout",
          "text": [
            "Bắt đầu cài đặt các thư viện...\n",
            "\u001b[2K     \u001b[90m━━━━━━━━━━━━━━━━━━━━━━━━━━━━━━━━━━━━━━━━\u001b[0m \u001b[32m43.7/43.7 kB\u001b[0m \u001b[31m3.7 MB/s\u001b[0m eta \u001b[36m0:00:00\u001b[0m\n",
            "\u001b[2K   \u001b[90m━━━━━━━━━━━━━━━━━━━━━━━━━━━━━━━━━━━━━━━━\u001b[0m \u001b[32m152.5/152.5 kB\u001b[0m \u001b[31m9.9 MB/s\u001b[0m eta \u001b[36m0:00:00\u001b[0m\n",
            "\u001b[2K   \u001b[90m━━━━━━━━━━━━━━━━━━━━━━━━━━━━━━━━━━━━━━━━\u001b[0m \u001b[32m2.5/2.5 MB\u001b[0m \u001b[31m63.6 MB/s\u001b[0m eta \u001b[36m0:00:00\u001b[0m\n",
            "\u001b[2K   \u001b[90m━━━━━━━━━━━━━━━━━━━━━━━━━━━━━━━━━━━━━━━━\u001b[0m \u001b[32m131.4/131.4 kB\u001b[0m \u001b[31m12.1 MB/s\u001b[0m eta \u001b[36m0:00:00\u001b[0m\n",
            "\u001b[2K   \u001b[90m━━━━━━━━━━━━━━━━━━━━━━━━━━━━━━━━━━━━━━━━\u001b[0m \u001b[32m243.4/243.4 kB\u001b[0m \u001b[31m19.6 MB/s\u001b[0m eta \u001b[36m0:00:00\u001b[0m\n",
            "\u001b[2K   \u001b[90m━━━━━━━━━━━━━━━━━━━━━━━━━━━━━━━━━━━━━━━━\u001b[0m \u001b[32m43.9/43.9 kB\u001b[0m \u001b[31m3.5 MB/s\u001b[0m eta \u001b[36m0:00:00\u001b[0m\n",
            "\u001b[2K   \u001b[90m━━━━━━━━━━━━━━━━━━━━━━━━━━━━━━━━━━━━━━━━\u001b[0m \u001b[32m50.6/50.6 kB\u001b[0m \u001b[31m4.2 MB/s\u001b[0m eta \u001b[36m0:00:00\u001b[0m\n",
            "\u001b[2K   \u001b[90m━━━━━━━━━━━━━━━━━━━━━━━━━━━━━━━━━━━━━━━━\u001b[0m \u001b[32m45.2/45.2 kB\u001b[0m \u001b[31m3.6 MB/s\u001b[0m eta \u001b[36m0:00:00\u001b[0m\n",
            "\u001b[2K   \u001b[90m━━━━━━━━━━━━━━━━━━━━━━━━━━━━━━━━━━━━━━━━\u001b[0m \u001b[32m50.9/50.9 kB\u001b[0m \u001b[31m4.0 MB/s\u001b[0m eta \u001b[36m0:00:00\u001b[0m\n",
            "\u001b[2K   \u001b[90m━━━━━━━━━━━━━━━━━━━━━━━━━━━━━━━━━━━━━━━━\u001b[0m \u001b[32m216.5/216.5 kB\u001b[0m \u001b[31m13.1 MB/s\u001b[0m eta \u001b[36m0:00:00\u001b[0m\n",
            "\u001b[?25h\u001b[31mERROR: pip's dependency resolver does not currently take into account all the packages that are installed. This behaviour is the source of the following dependency conflicts.\n",
            "bigframes 2.13.0 requires rich<14,>=12.4.4, but you have rich 14.1.0 which is incompatible.\u001b[0m\u001b[31m\n",
            "\u001b[0m"
          ]
        }
      ],
      "source": [
        "# --- 1. Installation ---\n",
        "# Cài đặt tất cả các thư viện cần thiết.\n",
        "# -qU: quiet (im lặng), upgrade (nâng cấp)\n",
        "print(\"Bắt đầu cài đặt các thư viện...\")\n",
        "!pip install -qU langgraph langchain langchain-core langchain-community groq python-dotenv rich"
      ]
    },
    {
      "cell_type": "code",
      "source": [
        "!pip install -qU tavily-python google-api-python-client google-auth-oauthlib\n",
        "print(\"Đã cài đặt các thư viện công cụ cần thiết.\")"
      ],
      "metadata": {
        "colab": {
          "base_uri": "https://localhost:8080/"
        },
        "id": "x560aMQnUDPo",
        "outputId": "1e3867c2-2b41-459c-dac9-939eab966574"
      },
      "execution_count": null,
      "outputs": [
        {
          "output_type": "stream",
          "name": "stdout",
          "text": [
            "\u001b[2K   \u001b[90m━━━━━━━━━━━━━━━━━━━━━━━━━━━━━━━━━━━━━━━━\u001b[0m \u001b[32m13.8/13.8 MB\u001b[0m \u001b[31m70.6 MB/s\u001b[0m eta \u001b[36m0:00:00\u001b[0m\n",
            "\u001b[?25hĐã cài đặt các thư viện công cụ cần thiết.\n"
          ]
        }
      ]
    },
    {
      "cell_type": "code",
      "source": [
        "!pip install google-auth-httplib2 langchain-groq"
      ],
      "metadata": {
        "colab": {
          "base_uri": "https://localhost:8080/"
        },
        "id": "EOtw7rsObArN",
        "outputId": "084a341d-9d74-445a-c915-d57a7cbc45bc"
      },
      "execution_count": null,
      "outputs": [
        {
          "output_type": "stream",
          "name": "stdout",
          "text": [
            "Requirement already satisfied: google-auth-httplib2 in /usr/local/lib/python3.11/dist-packages (0.2.0)\n",
            "Collecting langchain-groq\n",
            "  Downloading langchain_groq-0.3.7-py3-none-any.whl.metadata (2.6 kB)\n",
            "Requirement already satisfied: google-auth in /usr/local/lib/python3.11/dist-packages (from google-auth-httplib2) (2.38.0)\n",
            "Requirement already satisfied: httplib2>=0.19.0 in /usr/local/lib/python3.11/dist-packages (from google-auth-httplib2) (0.22.0)\n",
            "Requirement already satisfied: langchain-core<1.0.0,>=0.3.72 in /usr/local/lib/python3.11/dist-packages (from langchain-groq) (0.3.72)\n",
            "Requirement already satisfied: groq<1,>=0.30.0 in /usr/local/lib/python3.11/dist-packages (from langchain-groq) (0.31.0)\n",
            "Requirement already satisfied: anyio<5,>=3.5.0 in /usr/local/lib/python3.11/dist-packages (from groq<1,>=0.30.0->langchain-groq) (4.9.0)\n",
            "Requirement already satisfied: distro<2,>=1.7.0 in /usr/local/lib/python3.11/dist-packages (from groq<1,>=0.30.0->langchain-groq) (1.9.0)\n",
            "Requirement already satisfied: httpx<1,>=0.23.0 in /usr/local/lib/python3.11/dist-packages (from groq<1,>=0.30.0->langchain-groq) (0.28.1)\n",
            "Requirement already satisfied: pydantic<3,>=1.9.0 in /usr/local/lib/python3.11/dist-packages (from groq<1,>=0.30.0->langchain-groq) (2.11.7)\n",
            "Requirement already satisfied: sniffio in /usr/local/lib/python3.11/dist-packages (from groq<1,>=0.30.0->langchain-groq) (1.3.1)\n",
            "Requirement already satisfied: typing-extensions<5,>=4.10 in /usr/local/lib/python3.11/dist-packages (from groq<1,>=0.30.0->langchain-groq) (4.14.1)\n",
            "Requirement already satisfied: pyparsing!=3.0.0,!=3.0.1,!=3.0.2,!=3.0.3,<4,>=2.4.2 in /usr/local/lib/python3.11/dist-packages (from httplib2>=0.19.0->google-auth-httplib2) (3.2.3)\n",
            "Requirement already satisfied: langsmith>=0.3.45 in /usr/local/lib/python3.11/dist-packages (from langchain-core<1.0.0,>=0.3.72->langchain-groq) (0.4.9)\n",
            "Requirement already satisfied: tenacity!=8.4.0,<10.0.0,>=8.1.0 in /usr/local/lib/python3.11/dist-packages (from langchain-core<1.0.0,>=0.3.72->langchain-groq) (8.5.0)\n",
            "Requirement already satisfied: jsonpatch<2.0,>=1.33 in /usr/local/lib/python3.11/dist-packages (from langchain-core<1.0.0,>=0.3.72->langchain-groq) (1.33)\n",
            "Requirement already satisfied: PyYAML>=5.3 in /usr/local/lib/python3.11/dist-packages (from langchain-core<1.0.0,>=0.3.72->langchain-groq) (6.0.2)\n",
            "Requirement already satisfied: packaging>=23.2 in /usr/local/lib/python3.11/dist-packages (from langchain-core<1.0.0,>=0.3.72->langchain-groq) (25.0)\n",
            "Requirement already satisfied: cachetools<6.0,>=2.0.0 in /usr/local/lib/python3.11/dist-packages (from google-auth->google-auth-httplib2) (5.5.2)\n",
            "Requirement already satisfied: pyasn1-modules>=0.2.1 in /usr/local/lib/python3.11/dist-packages (from google-auth->google-auth-httplib2) (0.4.2)\n",
            "Requirement already satisfied: rsa<5,>=3.1.4 in /usr/local/lib/python3.11/dist-packages (from google-auth->google-auth-httplib2) (4.9.1)\n",
            "Requirement already satisfied: idna>=2.8 in /usr/local/lib/python3.11/dist-packages (from anyio<5,>=3.5.0->groq<1,>=0.30.0->langchain-groq) (3.10)\n",
            "Requirement already satisfied: certifi in /usr/local/lib/python3.11/dist-packages (from httpx<1,>=0.23.0->groq<1,>=0.30.0->langchain-groq) (2025.7.14)\n",
            "Requirement already satisfied: httpcore==1.* in /usr/local/lib/python3.11/dist-packages (from httpx<1,>=0.23.0->groq<1,>=0.30.0->langchain-groq) (1.0.9)\n",
            "Requirement already satisfied: h11>=0.16 in /usr/local/lib/python3.11/dist-packages (from httpcore==1.*->httpx<1,>=0.23.0->groq<1,>=0.30.0->langchain-groq) (0.16.0)\n",
            "Requirement already satisfied: jsonpointer>=1.9 in /usr/local/lib/python3.11/dist-packages (from jsonpatch<2.0,>=1.33->langchain-core<1.0.0,>=0.3.72->langchain-groq) (3.0.0)\n",
            "Requirement already satisfied: orjson<4.0.0,>=3.9.14 in /usr/local/lib/python3.11/dist-packages (from langsmith>=0.3.45->langchain-core<1.0.0,>=0.3.72->langchain-groq) (3.11.1)\n",
            "Requirement already satisfied: requests<3,>=2 in /usr/local/lib/python3.11/dist-packages (from langsmith>=0.3.45->langchain-core<1.0.0,>=0.3.72->langchain-groq) (2.32.3)\n",
            "Requirement already satisfied: requests-toolbelt<2.0.0,>=1.0.0 in /usr/local/lib/python3.11/dist-packages (from langsmith>=0.3.45->langchain-core<1.0.0,>=0.3.72->langchain-groq) (1.0.0)\n",
            "Requirement already satisfied: zstandard<0.24.0,>=0.23.0 in /usr/local/lib/python3.11/dist-packages (from langsmith>=0.3.45->langchain-core<1.0.0,>=0.3.72->langchain-groq) (0.23.0)\n",
            "Requirement already satisfied: pyasn1<0.7.0,>=0.6.1 in /usr/local/lib/python3.11/dist-packages (from pyasn1-modules>=0.2.1->google-auth->google-auth-httplib2) (0.6.1)\n",
            "Requirement already satisfied: annotated-types>=0.6.0 in /usr/local/lib/python3.11/dist-packages (from pydantic<3,>=1.9.0->groq<1,>=0.30.0->langchain-groq) (0.7.0)\n",
            "Requirement already satisfied: pydantic-core==2.33.2 in /usr/local/lib/python3.11/dist-packages (from pydantic<3,>=1.9.0->groq<1,>=0.30.0->langchain-groq) (2.33.2)\n",
            "Requirement already satisfied: typing-inspection>=0.4.0 in /usr/local/lib/python3.11/dist-packages (from pydantic<3,>=1.9.0->groq<1,>=0.30.0->langchain-groq) (0.4.1)\n",
            "Requirement already satisfied: charset-normalizer<4,>=2 in /usr/local/lib/python3.11/dist-packages (from requests<3,>=2->langsmith>=0.3.45->langchain-core<1.0.0,>=0.3.72->langchain-groq) (3.4.2)\n",
            "Requirement already satisfied: urllib3<3,>=1.21.1 in /usr/local/lib/python3.11/dist-packages (from requests<3,>=2->langsmith>=0.3.45->langchain-core<1.0.0,>=0.3.72->langchain-groq) (2.5.0)\n",
            "Downloading langchain_groq-0.3.7-py3-none-any.whl (16 kB)\n",
            "Installing collected packages: langchain-groq\n",
            "Successfully installed langchain-groq-0.3.7\n"
          ]
        }
      ]
    },
    {
      "cell_type": "code",
      "source": [
        "# --- 2. Core Imports ---\n",
        "# Import các thư viện và lớp (class) cốt lõi sẽ được sử dụng trong toàn bộ dự án.\n",
        "import os\n",
        "import json\n",
        "from typing import TypedDict, Annotated, List, Dict, Any\n",
        "import operator\n",
        "from google.colab import userdata\n",
        "\n",
        "# LangChain & LangGraph core components\n",
        "from langchain_core.messages import BaseMessage, HumanMessage, SystemMessage\n",
        "from langgraph.graph import StateGraph, END, START\n",
        "\n",
        "# Groq client for LLM interaction\n",
        "from groq import AsyncGroq\n",
        "\n",
        "# Rich library for beautiful printing\n",
        "from rich.console import Console\n",
        "from rich.markdown import Markdown\n",
        "\n",
        "SHOW_DETAILED_LOGS = True\n",
        "\n",
        "print(\"\\nCài đặt và Import hoàn tất. Môi trường đã sẵn sàng!\")"
      ],
      "metadata": {
        "colab": {
          "base_uri": "https://localhost:8080/"
        },
        "id": "NZ1N7aUM059C",
        "outputId": "5222f0d3-c9aa-446f-ab9c-8649e682d930"
      },
      "execution_count": 1,
      "outputs": [
        {
          "output_type": "stream",
          "name": "stdout",
          "text": [
            "\n",
            "Cài đặt và Import hoàn tất. Môi trường đã sẵn sàng!\n"
          ]
        }
      ]
    },
    {
      "cell_type": "markdown",
      "source": [
        "## STEP 2: STATE DEFINITION & LLM WRAPPER"
      ],
      "metadata": {
        "id": "ZbvO4oTY1r6Q"
      }
    },
    {
      "cell_type": "code",
      "source": [
        "# ==============================================================================\n",
        "# STEP 2: STATE DEFINITION & LANGCHAIN LLM\n",
        "# ==============================================================================\n",
        "from typing import TypedDict, Annotated, List, Dict, Any, Literal, Optional\n",
        "import operator\n",
        "import json\n",
        "import os\n",
        "import tavily\n",
        "from datetime import datetime, timezone, timedelta\n",
        "\n",
        "from langchain_core.messages import BaseMessage, HumanMessage, SystemMessage, AIMessage, ToolMessage\n",
        "from rich.console import Console\n",
        "from rich.markdown import Markdown\n",
        "from google.colab import userdata\n",
        "from langchain_groq import ChatGroq\n",
        "from langchain_core.pydantic_v1 import BaseModel, Field, validator\n",
        "from langchain_core.tools import tool\n",
        "from langgraph.graph import StateGraph, END\n",
        "\n",
        "# --- 1. State Definition (Hoàn chỉnh) ---\n",
        "def merge_dicts(dict1: Dict[str, Any], dict2: Dict[str, Any]) -> Dict[str, Any]:\n",
        "    merged = dict1.copy()\n",
        "    for key, value in dict2.items():\n",
        "        if key in merged and isinstance(merged[key], dict) and isinstance(value, dict):\n",
        "            merged[key] = merge_dicts(merged[key], value)\n",
        "        else: merged[key] = value\n",
        "    return merged\n",
        "\n",
        "class AcademicState(TypedDict):\n",
        "    messages: Annotated[List[BaseMessage], operator.add]\n",
        "    profile: Dict\n",
        "    cross_agent_request: Optional[Dict[str, Any]]\n",
        "    required_agents: List[str]\n",
        "    completed_agents: Annotated[List[str], operator.add]\n",
        "    agent_outputs: Annotated[Dict[str, Any], merge_dicts]\n",
        "    critique: str\n",
        "    revision_needed: bool\n",
        "    revision_count: int\n",
        "    final_report: str\n",
        "    next_steps: str\n",
        "\n",
        "print(\"Đã định nghĩa 'AcademicState' phiên bản cuối cùng thành công.\")\n",
        "\n",
        "# --- 2. Khởi tạo LLM ---\n",
        "try:\n",
        "    GROQ_API_KEY = userdata.get('GROQ_API_KEY')\n",
        "    TAVILY_API_KEY = userdata.get('TAVILY_API_KEY')\n",
        "    llm = ChatGroq(\n",
        "        temperature=0.2, # Giảm độ \"sáng tạo\" để agent tuân thủ hướng dẫn hơn\n",
        "        model=\"llama3-70b-8192\",\n",
        "        api_key=GROQ_API_KEY,\n",
        "        max_tokens=4096\n",
        "    )\n",
        "    print(f\"Khởi tạo ChatGroq thành công với model: {llm.model_name}\")\n",
        "except Exception as e:\n",
        "    print(f\"LỖI: Không thể khởi tạo LLM. {e}\")\n",
        "    llm = None\n",
        "console = Console()\n",
        "if llm: print(\"\\nKhởi tạo 'llm' và 'console' thành công.\")\n",
        "\n",
        "\n",
        "# ==============================================================================\n",
        "# STEP 3: THE TOOLBOX (PHIÊN BẢN SỬA LỖI CUỐI CÙNG)\n",
        "# ==============================================================================\n",
        "from google.oauth2.service_account import Credentials\n",
        "from googleapiclient.discovery import build\n",
        "\n",
        "# --- 1. Khởi tạo các service và dữ liệu ---\n",
        "SERVICE_ACCOUNT_FILE = 'credentials.json'\n",
        "# <-- SỬA ĐỔI QUAN TRỌNG: Thêm ID Lịch của bạn vào đây\n",
        "YOUR_CALENDAR_ID = \"td.tan2711@gmail.com\" # <--- THAY BẰNG EMAIL CỦA BẠN\n",
        "\n",
        "def authenticate_google_calendar_service_account():\n",
        "    try:\n",
        "        if not os.path.exists(SERVICE_ACCOUNT_FILE): return None\n",
        "        SCOPES = ['https://www.googleapis.com/auth/calendar.readonly']\n",
        "        creds = Credentials.from_service_account_file(SERVICE_ACCOUNT_FILE, scopes=SCOPES)\n",
        "        service = build('calendar', 'v3', credentials=creds)\n",
        "        print(\"✅ Xác thực Google Calendar thành công.\")\n",
        "        return service\n",
        "    except Exception as e:\n",
        "        print(f\"Lỗi khi xác thực Google Calendar: {e}\")\n",
        "        return None\n",
        "google_calendar_service = authenticate_google_calendar_service_account()\n",
        "\n",
        "try:\n",
        "    with open('tasks.json', 'r', encoding='utf-8') as f: task_data = json.load(f)\n",
        "    print(\"✅ Đã tải dữ liệu tasks.json thành công.\")\n",
        "except Exception as e:\n",
        "    task_data = {}\n",
        "    print(f\"Lỗi khi tải tasks.json: {e}\")\n",
        "\n",
        "try:\n",
        "    with open('profile.json', 'r', encoding='utf-8') as f: profile_data = json.load(f)\n",
        "    print(\"✅ Đã tải dữ liệu profile.json thành công.\")\n",
        "except Exception as e:\n",
        "    profile_data = {}\n",
        "    print(f\"Lỗi khi tải profile.json: {e}\")\n",
        "\n",
        "# --- 2. Định nghĩa các công cụ ---\n",
        "@tool\n",
        "def google_calendar_reader(days_ahead: int = 7) -> str:\n",
        "    \"\"\"Sử dụng công cụ này để đọc lịch và các sự kiện sắp tới của người dùng.\"\"\"\n",
        "    if not google_calendar_service: return \"Lỗi: Dịch vụ Google Calendar không có sẵn.\"\n",
        "    now_utc = datetime.now(timezone.utc).isoformat()\n",
        "    future_limit = (datetime.now(timezone.utc) + timedelta(days=days_ahead)).isoformat()\n",
        "    try:\n",
        "        print(f\"--- [Calendar Tool] Đang đọc lịch: {YOUR_CALENDAR_ID}\")\n",
        "        # <-- SỬA ĐỔI QUAN TRỌNG: Sử dụng ID lịch của bạn thay vì 'primary'\n",
        "        events_result = google_calendar_service.events().list(\n",
        "            calendarId=YOUR_CALENDAR_ID,\n",
        "            timeMin=now_utc,\n",
        "            timeMax=future_limit,\n",
        "            singleEvents=True,\n",
        "            orderBy='startTime'\n",
        "        ).execute()\n",
        "        events = events_result.get('items', [])\n",
        "        if not events:\n",
        "            return f\"Không có sự kiện nào sắp tới trong {days_ahead} ngày tới.\"\n",
        "        print(f\"--- [Calendar Tool] Tìm thấy {len(events)} sự kiện.\")\n",
        "        # Trả về một chuỗi JSON sạch\n",
        "        return json.dumps([{'summary': e.get('summary'), 'start': e.get('start', {}).get('dateTime'), 'end': e.get('end', {}).get('dateTime')} for e in events])\n",
        "    except Exception as e: return f\"Lỗi khi gọi Google Calendar API: {e}\"\n",
        "\n",
        "@tool\n",
        "def active_tasks_reader() -> str:\n",
        "    \"\"\"Sử dụng công cụ này để đọc danh sách các công việc và bài tập còn hoạt động của người dùng.\"\"\"\n",
        "    if not task_data: return \"Không có dữ liệu công việc.\"\n",
        "    now_utc = datetime.now(timezone.utc)\n",
        "    active_tasks = [t for t in task_data.get(\"tasks\", []) if t.get(\"status\") == \"needsAction\" and t.get(\"due\") and datetime.fromisoformat(t['due'].replace('Z', '+00:00')) > now_utc]\n",
        "    return \"Không có công việc nào còn hoạt động.\" if not active_tasks else json.dumps(active_tasks)\n",
        "\n",
        "@tool\n",
        "def tavily_web_search(query: str) -> str:\n",
        "    \"\"\"Sử dụng công cụ này để tìm kiếm thông tin học thuật trên Internet khi người dùng yêu cầu tìm hiểu về một chủ đề cụ thể.\"\"\"\n",
        "    try:\n",
        "        client = tavily.TavilyClient(api_key=TAVILY_API_KEY)\n",
        "        response = client.search(query=query, search_depth=\"advanced\", max_results=5)\n",
        "        return \"\\n\\n\".join([f'Source: {res[\"url\"]}\\nContent: {res[\"content\"]}' for res in response[\"results\"]])\n",
        "    except Exception as e: return f\"Lỗi khi tìm kiếm với Tavily: {e}\"\n",
        "\n",
        "# --- 3. Tạo danh sách và bind các công cụ ---\n",
        "tools = [google_calendar_reader, active_tasks_reader, tavily_web_search]\n",
        "llm_with_tools = llm.bind_tools(tools)\n",
        "print(\"\\n✅ Hộp dụng cụ (Toolbox) đã sẵn sàng và được bind vào LLM.\")"
      ],
      "metadata": {
        "id": "jyk9EUs4sGAq",
        "colab": {
          "base_uri": "https://localhost:8080/"
        },
        "outputId": "c8b6728d-e624-4961-d031-bf7698034b0b"
      },
      "execution_count": 2,
      "outputs": [
        {
          "output_type": "stream",
          "name": "stderr",
          "text": [
            "/usr/local/lib/python3.11/dist-packages/IPython/core/interactiveshell.py:3553: LangChainDeprecationWarning: As of langchain-core 0.3.0, LangChain uses pydantic v2 internally. The langchain_core.pydantic_v1 module was a compatibility shim for pydantic v1, and should no longer be used. Please update the code to import from Pydantic directly.\n",
            "\n",
            "For example, replace imports like: `from langchain_core.pydantic_v1 import BaseModel`\n",
            "with: `from pydantic import BaseModel`\n",
            "or the v1 compatibility namespace if you are working in a code base that has not been fully upgraded to pydantic 2 yet. \tfrom pydantic.v1 import BaseModel\n",
            "\n",
            "  exec(code_obj, self.user_global_ns, self.user_ns)\n"
          ]
        },
        {
          "output_type": "stream",
          "name": "stdout",
          "text": [
            "Đã định nghĩa 'AcademicState' phiên bản cuối cùng thành công.\n",
            "Khởi tạo ChatGroq thành công với model: llama3-70b-8192\n",
            "\n",
            "Khởi tạo 'llm' và 'console' thành công.\n",
            "✅ Xác thực Google Calendar thành công.\n",
            "✅ Đã tải dữ liệu tasks.json thành công.\n",
            "✅ Đã tải dữ liệu profile.json thành công.\n",
            "\n",
            "✅ Hộp dụng cụ (Toolbox) đã sẵn sàng và được bind vào LLM.\n"
          ]
        }
      ]
    },
    {
      "cell_type": "code",
      "source": [
        "# ==============================================================================\n",
        "# STEP 4: THE FULL INTERACTIVE TEAM OF AGENTS (KIẾN TRÚC CUỐI CÙNG)\n",
        "# ==============================================================================\n",
        "# --- 1. Định nghĩa các cấu trúc dữ liệu cho tương tác ---\n",
        "class FinalAnswer(BaseModel):\n",
        "    answer: str = Field(description=\"Nội dung câu trả lời cuối cùng, chi tiết bằng Markdown.\")\n",
        "\n",
        "class RequestForHelp(BaseModel):\n",
        "    recipient: Literal[\"TOOL_USER\"] = Field(description=\"Agent mà bạn muốn yêu cầu trợ giúp.\")\n",
        "    request: str = Field(description=\"Mô tả chi tiết yêu cầu của bạn.\")\n",
        "\n",
        "class Critique(BaseModel):\n",
        "    critique: str = Field(description=\"Nhận xét chi tiết về sản phẩm.\")\n",
        "    revision_needed: bool = Field(description=\"True nếu sản phẩm cần làm lại, False nếu đã đạt chất lượng.\")\n",
        "\n",
        "# --- 2. Xây dựng toàn bộ đội ngũ Agent ---\n",
        "\n",
        "async def coordinator_agent(state: AcademicState) -> Dict[str, Any]:\n",
        "    print(\"\\n--- [Coordinator] Đang quyết định các chuyên gia cần thiết... ---\")\n",
        "    prompt = f\"Dựa trên yêu cầu: '{state['messages'][0].content}', quyết định các agent cần kích hoạt: PLANNER, NOTEWRITER, ADVISOR. Trả về một danh sách Python.\"\n",
        "    response_message = await llm.ainvoke([HumanMessage(content=prompt)])\n",
        "    try: required_agents = eval(response_message.content.strip())\n",
        "    except: required_agents = [\"PLANNER\", \"NOTEWRITER\", \"ADVISOR\"]\n",
        "    print(f\"--- [Coordinator] Quyết định: Cần các agent {required_agents}\")\n",
        "    return {\"required_agents\": required_agents}\n",
        "\n",
        "async def tool_user_agent(state: AcademicState) -> Dict[str, Any]:\n",
        "    print(\"\\n--- [Tool User] Đang làm việc... ---\")\n",
        "    output = {}\n",
        "    cross_request = state.get(\"cross_agent_request\")\n",
        "    if cross_request:\n",
        "        print(f\"--- [Tool User] Nhận được yêu cầu trợ giúp từ {cross_request.get('sender')}: '{cross_request.get('request')}'\")\n",
        "        tool_user_messages = [state['messages'][0], HumanMessage(content=f\"Yêu cầu trợ giúp: '{cross_request['request']}'. Hãy chọn công cụ phù hợp.\")]\n",
        "        output[\"cross_agent_request\"] = None\n",
        "    else:\n",
        "        tool_user_messages = state[\"messages\"]\n",
        "    ai_response = await llm_with_tools.ainvoke(tool_user_messages)\n",
        "    if not ai_response.tool_calls:\n",
        "        return {\"messages\": [ai_response]}\n",
        "    print(f\"--- [Tool User] Quyết định gọi công cụ: {[tc['name'] for tc in ai_response.tool_calls]}\")\n",
        "    tool_outputs = []\n",
        "    for tool_call in ai_response.tool_calls:\n",
        "        time.sleep(1)\n",
        "        tool_to_call = {t.name: t for t in tools}[tool_call[\"name\"]]\n",
        "        output_data = tool_to_call.invoke(tool_call[\"args\"])\n",
        "        tool_outputs.append(ToolMessage(content=str(output_data), tool_call_id=tool_call[\"id\"]))\n",
        "    output[\"messages\"] = [ai_response] + tool_outputs\n",
        "    return output\n",
        "\n",
        "# Planner không còn chế độ sửa đổi nữa, nó luôn tạo mới\n",
        "def create_specialist_agent(agent_name: str, agent_description: str, output_key: str):\n",
        "    async def specialist_agent(state: AcademicState) -> Dict[str, Any]:\n",
        "        print(f\"\\n--- [{agent_name}] Bắt đầu làm việc... ---\")\n",
        "        llm_with_specialist_tools = llm.bind_tools([FinalAnswer, RequestForHelp])\n",
        "        prompt = f\"\"\"Bạn là {agent_name}. {agent_description}\n",
        "        **Thông tin có sẵn (Lịch trình, nhiệm vụ, hồ sơ, kết quả tìm kiếm nếu có):**\n",
        "        ```json\n",
        "        {json.dumps({\n",
        "            \"profile\": state['profile'],\n",
        "            \"messages\": [msg.model_dump() for msg in state['messages'] if not (isinstance(msg, AIMessage) and not msg.content)],\n",
        "            \"agent_outputs\": state['agent_outputs'],\n",
        "        }, indent=2, ensure_ascii=False)}\n",
        "        ```\n",
        "        **QUYẾT ĐỊNH:** Dựa vào thông tin trên, hoặc gọi `FinalAnswer` nếu đủ thông tin, hoặc gọi `RequestForHelp` để tìm kiếm thêm.\n",
        "        \"\"\"\n",
        "        try:\n",
        "            ai_response = await llm_with_specialist_tools.ainvoke([HumanMessage(content=prompt)])\n",
        "            if not ai_response.tool_calls: raise ValueError(\"LLM không gọi công cụ nào.\")\n",
        "            tool_call = ai_response.tool_calls[0]\n",
        "            if tool_call['name'] == 'FinalAnswer':\n",
        "                print(f\"--- [{agent_name}] Đã tạo sản phẩm thành công.\")\n",
        "                return {\"agent_outputs\": {output_key: tool_call['args']['answer']}}\n",
        "            elif tool_call['name'] == 'RequestForHelp':\n",
        "                rfh = tool_call['args']; rfh['sender'] = agent_name\n",
        "                print(f\"--- [{agent_name}] Yêu cầu trợ giúp: {rfh}\")\n",
        "                return {\"cross_agent_request\": rfh}\n",
        "            else: raise ValueError(f\"LLM đã gọi một công cụ không xác định: {tool_call['name']}\")\n",
        "        except Exception as e:\n",
        "            print(f\"--- [{agent_name}] Lỗi nghiêm trọng: {e}\")\n",
        "            return {\"cross_agent_request\": {'sender': agent_name, 'recipient': 'TOOL_USER', 'request': f'Đã xảy ra lỗi. Hãy tìm kiếm thông tin về chủ đề chính: \"{state[\"messages\"][0].content}\"'}}\n",
        "    return specialist_agent\n",
        "\n",
        "planner_agent = create_specialist_agent(\"PLANNER\", \"Tạo kế hoạch học tập chi tiết, khả thi.\", \"plan\")\n",
        "notewriter_agent = create_specialist_agent(\"NOTEWRITER\", \"Tạo ghi chú học thuật súc tích.\", \"notes\")\n",
        "advisor_agent = create_specialist_agent(\"ADVISOR\", \"Đưa ra lời khuyên chiến lược.\", \"advice\")\n",
        "\n",
        "# Critic agent giờ đây, nếu cần sửa, sẽ tạo ra một yêu cầu trợ giúp cho Tool User\n",
        "async def critic_agent(state: AcademicState) -> Dict[str, Any]:\n",
        "    print(\"\\n--- [Critic] Bắt đầu đánh giá... ---\")\n",
        "    output_to_review = state.get(\"agent_outputs\", {}).get(\"plan\")\n",
        "    if not output_to_review:\n",
        "        return {\"revision_needed\": True, \"critique\": \"Lỗi: Không tìm thấy sản phẩm từ Planner.\"}\n",
        "\n",
        "    llm_with_critique_tool = llm.bind_tools([Critique])\n",
        "    prompt = f\"Bạn là Critic Agent. Đánh giá kế hoạch học tập này:\\n---\\n{output_to_review}\\n---\\nTiêu chí: Kế hoạch có chi tiết và cung cấp tài nguyên cụ thể không? Gọi công cụ `Critique` với kết quả.\"\n",
        "    try:\n",
        "        ai_response = await llm_with_critique_tool.ainvoke([HumanMessage(content=prompt)])\n",
        "        if not ai_response.tool_calls: raise ValueError(\"Critic không gọi công cụ Critique.\")\n",
        "        critique_args = ai_response.tool_calls[0]['args']\n",
        "        print(f\"--- [Critic] Kết quả đánh giá: {critique_args.get('critique')} | Cần làm lại: {critique_args.get('revision_needed')}\")\n",
        "\n",
        "        # <-- SỬA ĐỔI QUAN TRỌNG: Nếu cần sửa đổi, tạo một cross_agent_request\n",
        "        if critique_args.get('revision_needed'):\n",
        "            # Tạo một yêu cầu tìm kiếm thông minh dựa trên nhận xét\n",
        "            search_request = f\"Kế hoạch học tập về KNN còn chung chung. Hãy tìm kiếm các tài liệu, video, hoặc bài tập thực hành cụ thể về KNN để cải thiện kế hoạch. Gợi ý từ Critic: {critique_args.get('critique')}\"\n",
        "            return {\n",
        "                \"revision_needed\": True,\n",
        "                \"cross_agent_request\": {\"sender\": \"CRITIC\", \"recipient\": \"TOOL_USER\", \"request\": search_request}\n",
        "            }\n",
        "        else:\n",
        "            return {\"revision_needed\": False, \"critique\": critique_args.get('critique')}\n",
        "    except Exception as e:\n",
        "        print(f\"--- [Critic] Lỗi nghiêm trọng: {e}\")\n",
        "        return {\"revision_needed\": True, \"critique\": \"Lỗi hệ thống trong Critic Agent.\"}\n",
        "\n",
        "# Các agent cuối giữ nguyên\n",
        "async def synthesizer_agent(state: AcademicState) -> Dict[str, Any]:\n",
        "    print(\"\\n--- [Synthesizer] Bắt đầu tổng hợp báo cáo cuối cùng ---\")\n",
        "    prompt = f\"Tổng hợp các sản phẩm sau thành một báo cáo duy nhất: {json.dumps(state['agent_outputs'], indent=2, ensure_ascii=False)}.\"\n",
        "    response_message = await llm.ainvoke([HumanMessage(content=prompt)])\n",
        "    return {\"final_report\": response_message.content}\n",
        "\n",
        "async def reflection_agent(state: AcademicState) -> Dict[str, Any]:\n",
        "    print(\"\\n--- [Reflection] Đang suy nghĩ về các bước tiếp theo... ---\")\n",
        "    prompt = f\"Dựa vào báo cáo cuối cùng, đề xuất 3-4 hành động tiếp theo: {state['final_report']}\"\n",
        "    response_message = await llm.ainvoke([HumanMessage(content=prompt)])\n",
        "    return {\"next_steps\": response_message.content}\n",
        "\n",
        "print(\"✅ Tất cả các agent cho ATLAS 2.0 (Kiến trúc dứt điểm) đã được định nghĩa.\")"
      ],
      "metadata": {
        "id": "mmRYcwIEsF-V",
        "colab": {
          "base_uri": "https://localhost:8080/"
        },
        "outputId": "b55aba5f-649f-4d06-e0af-f32b95a8ad37"
      },
      "execution_count": 7,
      "outputs": [
        {
          "output_type": "stream",
          "name": "stdout",
          "text": [
            "✅ Tất cả các agent cho ATLAS 2.0 (Kiến trúc dứt điểm) đã được định nghĩa.\n"
          ]
        }
      ]
    },
    {
      "cell_type": "code",
      "source": [
        "# ==============================================================================\n",
        "# STEP 5 & 6: ASSEMBLY & EXECUTION (KIẾN TRÚC DỨT ĐIỂM)\n",
        "# ==============================================================================\n",
        "# --- Logic điều khiển (Routers) ---\n",
        "def master_router(state: AcademicState) -> str:\n",
        "    if state.get(\"cross_agent_request\"):\n",
        "        return \"tool_user\"\n",
        "    required = state.get(\"required_agents\", [])\n",
        "    completed = state.get(\"completed_agents\", [])\n",
        "    next_agent = next((agent for agent in required if agent not in completed), None)\n",
        "    if next_agent:\n",
        "        return next_agent.lower()\n",
        "    return \"synthesizer\"\n",
        "\n",
        "# <-- SỬA ĐỔI QUAN TRỌNG: Router này giờ đây cực kỳ đơn giản\n",
        "def revision_router(state: AcademicState) -> Literal[\"mark_planner_complete\", \"tool_user\"]:\n",
        "    print(\"\\n--- [Revision Router] Đang kiểm tra kết quả phê bình...\")\n",
        "    # Nếu Critic yêu cầu giúp đỡ, đi đến Tool User\n",
        "    if state.get(\"cross_agent_request\"):\n",
        "        print(\"--- [Revision Router] Critic yêu cầu thông tin bổ sung. Chuyển đến Tool User.\")\n",
        "        return \"tool_user\"\n",
        "    else:\n",
        "        # Nếu Critic không yêu cầu giúp đỡ, nghĩa là kế hoạch đã OK\n",
        "        print(\"--- [Revision Router] Đạt chất lượng. Đánh dấu Planner hoàn thành.\")\n",
        "        return \"mark_planner_complete\"\n",
        "\n",
        "# --- Các node hành động ---\n",
        "async def mark_planner_complete(state: AcademicState) -> Dict[str, Any]:\n",
        "    print(\"\\n--- [State Manager] Đánh dấu PLANNER đã hoàn thành.\")\n",
        "    return {\"completed_agents\": [\"PLANNER\"]}\n",
        "\n",
        "# Node tóm tắt bộ nhớ giữ nguyên\n",
        "async def summarize_memory(state: AcademicState) -> Dict[str, Any]:\n",
        "    print(\"\\n--- [Memory Manager] Đang tóm tắt và dọn dẹp bộ nhớ...\")\n",
        "    last_agent = state.get(\"completed_agents\", [])[-1]\n",
        "    last_output = state.get(\"agent_outputs\", {}).get(last_agent.lower())\n",
        "    prompt = f\"Tóm tắt kết quả: {last_agent} đã hoàn thành và tạo ra: {last_output}. Tóm tắt trong 1 câu.\"\n",
        "    summary_message = await llm.ainvoke([HumanMessage(content=prompt)])\n",
        "    new_messages = [state['messages'][0], SystemMessage(content=f\"Bối cảnh: {summary_message.content}\")]\n",
        "    print(f\"--- [Memory Manager] Tóm tắt mới: {summary_message.content}\")\n",
        "    return {\"messages\": new_messages}\n",
        "\n",
        "# Node wrapper cho các agent đơn giản\n",
        "async def simple_specialist_node(agent_func, agent_name: str, state: AcademicState) -> Dict[str, Any]:\n",
        "    result = await agent_func(state)\n",
        "    if \"cross_agent_request\" not in result:\n",
        "        print(f\"--- [Node Runner] Đánh dấu {agent_name} đã hoàn thành.\")\n",
        "        current_completed = state.get(\"completed_agents\", [])\n",
        "        if agent_name not in current_completed:\n",
        "             state['completed_agents'] = current_completed + [agent_name]\n",
        "    return result\n",
        "\n",
        "notewriter_node = lambda st: simple_specialist_node(notewriter_agent, \"NOTEWRITER\", st)\n",
        "advisor_node = lambda st: simple_specialist_node(advisor_agent, \"ADVISOR\", st)\n",
        "\n",
        "# --- Lắp ráp Graph ---\n",
        "workflow = StateGraph(AcademicState)\n",
        "workflow.add_node(\"coordinator\", coordinator_agent)\n",
        "workflow.add_node(\"tool_user\", tool_user_agent)\n",
        "workflow.add_node(\"planner\", planner_agent)\n",
        "workflow.add_node(\"critic\", critic_agent)\n",
        "workflow.add_node(\"mark_planner_complete\", mark_planner_complete)\n",
        "workflow.add_node(\"notewriter\", notewriter_node)\n",
        "workflow.add_node(\"advisor\", advisor_node)\n",
        "workflow.add_node(\"summarize_memory\", summarize_memory)\n",
        "workflow.add_node(\"synthesizer\", synthesizer_agent)\n",
        "workflow.add_node(\"reflection\", reflection_agent)\n",
        "\n",
        "workflow.set_entry_point(\"coordinator\")\n",
        "\n",
        "workflow.add_edge(\"coordinator\", \"tool_user\")\n",
        "workflow.add_conditional_edges(\"tool_user\", master_router, {\n",
        "    \"planner\": \"planner\", \"notewriter\": \"notewriter\", \"advisor\": \"advisor\",\n",
        "    \"synthesizer\": \"synthesizer\", \"tool_user\": \"tool_user\"\n",
        "})\n",
        "\n",
        "# Planner luôn đi đến Critic\n",
        "workflow.add_edge(\"planner\", \"critic\")\n",
        "\n",
        "# <-- SỬA ĐỔI QUAN TRỌNG: Luồng phản biện mới\n",
        "workflow.add_conditional_edges(\"critic\", revision_router, {\n",
        "    # Nếu cần sửa, Critic sẽ tạo yêu cầu cho Tool User, router sẽ định tuyến đến đó\n",
        "    \"tool_user\": \"tool_user\",\n",
        "    # Nếu OK, đi đánh dấu hoàn thành\n",
        "    \"mark_planner_complete\": \"mark_planner_complete\"\n",
        "})\n",
        "\n",
        "# Sau khi các agent hoàn thành, đi tóm tắt bộ nhớ\n",
        "workflow.add_edge(\"mark_planner_complete\", \"summarize_memory\")\n",
        "workflow.add_edge(\"notewriter\", \"summarize_memory\")\n",
        "workflow.add_edge(\"advisor\", \"summarize_memory\")\n",
        "\n",
        "workflow.add_edge(\"summarize_memory\", \"tool_user\")\n",
        "\n",
        "workflow.add_edge(\"synthesizer\", \"reflection\")\n",
        "workflow.add_edge(\"reflection\", END)\n",
        "\n",
        "app = workflow.compile()\n",
        "print(\"\\n✅✅✅ ATLAS 2.0 (Kiến trúc dứt điểm) đã được biên dịch! ✅✅✅\")"
      ],
      "metadata": {
        "colab": {
          "base_uri": "https://localhost:8080/"
        },
        "id": "Hl0fBZjM9-KX",
        "outputId": "f6412eed-3ce9-469b-aaa8-739936326337"
      },
      "execution_count": 8,
      "outputs": [
        {
          "output_type": "stream",
          "name": "stdout",
          "text": [
            "\n",
            "✅✅✅ ATLAS 2.0 (Kiến trúc dứt điểm) đã được biên dịch! ✅✅✅\n"
          ]
        }
      ]
    },
    {
      "cell_type": "code",
      "source": [
        "# ==============================================================================\n",
        "# STEP 7: EXECUTION (Chạy hệ thống hoàn chỉnh)\n",
        "# ==============================================================================\n",
        "\n",
        "async def run_atlas_2_0(profile_data: dict):\n",
        "    # Bạn có thể thay đổi yêu cầu ở đây để thử nghiệm\n",
        "    request = \"Tuần tới tôi cần học về thuật toán K-Nearest Neighbors (KNN). Lịch của tôi khá bận rộn, hãy tạo một kế hoạch học tập chi tiết, sau đó ghi chú lại các điểm chính và cho tôi một vài lời khuyên học tập.\"\n",
        "\n",
        "    # Lấy hồ sơ sinh viên\n",
        "    student_profile = next((p for p in profile_data.get(\"profiles\", []) if p.get(\"id\") == \"student_123\"), {})\n",
        "\n",
        "    # Thiết lập trạng thái ban đầu cho graph\n",
        "    initial_state = {\n",
        "        \"messages\": [HumanMessage(content=request)],\n",
        "        \"profile\": student_profile,\n",
        "        \"agent_outputs\": {},\n",
        "        \"completed_agents\": [],\n",
        "        \"revision_count\": 0,\n",
        "        \"cross_agent_request\": None,\n",
        "    }\n",
        "\n",
        "    console.print(f\"\\n🚀 [bold blue]Bắt đầu chạy ATLAS 2.0 với yêu cầu:[/bold blue]\\n{request}\")\n",
        "\n",
        "    final_state_snapshot = None\n",
        "    # <-- SỬA ĐỔI QUAN TRỌNG: Thêm config vào đây\n",
        "    async for step in app.astream(initial_state, config={\"recursion_limit\": 50}):\n",
        "        node_name = list(step.keys())[0]\n",
        "        console.print(f\"\\n✅ [bold magenta]Hoàn thành bước:[/] [yellow]{node_name}[/yellow]\")\n",
        "        # In ra nội dung của state sau mỗi bước để gỡ lỗi và theo dõi\n",
        "        console.print(step[node_name])\n",
        "        final_state_snapshot = step[node_name]\n",
        "\n",
        "    # In kết quả cuối cùng\n",
        "    console.print(\"\\n\\n\" + \"=\"*80, style=\"bold green\")\n",
        "    console.print(\" HỆ THỐNG ATLAS 2.0 ĐÃ HOÀN THÀNH TÁC VỤ!\", style=\"bold green\")\n",
        "    console.print(\"=\"*80, style=\"bold green\")\n",
        "\n",
        "\n",
        "    if final_state_snapshot:\n",
        "        console.print(\"\\n--- [bold blue]BÁO CÁO TỔNG HỢP CUỐI CÙNG[/bold blue] ---\")\n",
        "        console.print(Markdown(final_state_snapshot.get(\"final_report\", \"Không có báo cáo cuối cùng.\")))\n",
        "        console.print(\"\\n--- [bold blue]GỢI Ý CÁC BƯỚC TIẾP THEO[/bold blue] ---\")\n",
        "        console.print(Markdown(final_state_snapshot.get(\"next_steps\", \"Không có gợi ý.\")))\n",
        "\n",
        "# Chạy hàm chính\n",
        "await run_atlas_2_0(profile_data)"
      ],
      "metadata": {
        "colab": {
          "base_uri": "https://localhost:8080/",
          "height": 1000
        },
        "id": "Ya8QbTnw9-IZ",
        "outputId": "acf4a102-399e-46b9-cc87-2aad690aaca9"
      },
      "execution_count": 9,
      "outputs": [
        {
          "output_type": "display_data",
          "data": {
            "text/plain": [
              "\n",
              "🚀 \u001b[1;34mBắt đầu chạy ATLAS \u001b[0m\u001b[1;34m2.0\u001b[0m\u001b[1;34m với yêu cầu:\u001b[0m\n",
              "Tuần tới tôi cần học về thuật toán K-Nearest Neighbors \u001b[1m(\u001b[0mKNN\u001b[1m)\u001b[0m. Lịch của tôi khá bận rộn, hãy tạo một kế hoạch học \n",
              "tập chi tiết, sau đó ghi chú lại các điểm chính và cho tôi một vài lời khuyên học tập.\n"
            ],
            "text/html": [
              "<pre style=\"white-space:pre;overflow-x:auto;line-height:normal;font-family:Menlo,'DejaVu Sans Mono',consolas,'Courier New',monospace\">\n",
              "🚀 <span style=\"color: #000080; text-decoration-color: #000080; font-weight: bold\">Bắt đầu chạy ATLAS </span><span style=\"color: #000080; text-decoration-color: #000080; font-weight: bold\">2.0</span><span style=\"color: #000080; text-decoration-color: #000080; font-weight: bold\"> với yêu cầu:</span>\n",
              "Tuần tới tôi cần học về thuật toán K-Nearest Neighbors <span style=\"font-weight: bold\">(</span>KNN<span style=\"font-weight: bold\">)</span>. Lịch của tôi khá bận rộn, hãy tạo một kế hoạch học \n",
              "tập chi tiết, sau đó ghi chú lại các điểm chính và cho tôi một vài lời khuyên học tập.\n",
              "</pre>\n"
            ]
          },
          "metadata": {}
        },
        {
          "output_type": "stream",
          "name": "stdout",
          "text": [
            "\n",
            "--- [Coordinator] Đang quyết định các chuyên gia cần thiết... ---\n",
            "--- [Coordinator] Quyết định: Cần các agent ['PLANNER', 'NOTEWRITER', 'ADVISOR']\n"
          ]
        },
        {
          "output_type": "display_data",
          "data": {
            "text/plain": [
              "\n",
              "✅ \u001b[1;35mHoàn thành bước:\u001b[0m \u001b[33mcoordinator\u001b[0m\n"
            ],
            "text/html": [
              "<pre style=\"white-space:pre;overflow-x:auto;line-height:normal;font-family:Menlo,'DejaVu Sans Mono',consolas,'Courier New',monospace\">\n",
              "✅ <span style=\"color: #800080; text-decoration-color: #800080; font-weight: bold\">Hoàn thành bước:</span> <span style=\"color: #808000; text-decoration-color: #808000\">coordinator</span>\n",
              "</pre>\n"
            ]
          },
          "metadata": {}
        },
        {
          "output_type": "display_data",
          "data": {
            "text/plain": [
              "\u001b[1m{\u001b[0m\u001b[32m'required_agents'\u001b[0m: \u001b[1m[\u001b[0m\u001b[32m'PLANNER'\u001b[0m, \u001b[32m'NOTEWRITER'\u001b[0m, \u001b[32m'ADVISOR'\u001b[0m\u001b[1m]\u001b[0m\u001b[1m}\u001b[0m\n"
            ],
            "text/html": [
              "<pre style=\"white-space:pre;overflow-x:auto;line-height:normal;font-family:Menlo,'DejaVu Sans Mono',consolas,'Courier New',monospace\"><span style=\"font-weight: bold\">{</span><span style=\"color: #008000; text-decoration-color: #008000\">'required_agents'</span>: <span style=\"font-weight: bold\">[</span><span style=\"color: #008000; text-decoration-color: #008000\">'PLANNER'</span>, <span style=\"color: #008000; text-decoration-color: #008000\">'NOTEWRITER'</span>, <span style=\"color: #008000; text-decoration-color: #008000\">'ADVISOR'</span><span style=\"font-weight: bold\">]}</span>\n",
              "</pre>\n"
            ]
          },
          "metadata": {}
        },
        {
          "output_type": "stream",
          "name": "stdout",
          "text": [
            "\n",
            "--- [Tool User] Đang làm việc... ---\n",
            "--- [Tool User] Quyết định gọi công cụ: ['google_calendar_reader']\n",
            "--- [Calendar Tool] Đang đọc lịch: td.tan2711@gmail.com\n",
            "--- [Calendar Tool] Tìm thấy 4 sự kiện.\n"
          ]
        },
        {
          "output_type": "display_data",
          "data": {
            "text/plain": [
              "\n",
              "✅ \u001b[1;35mHoàn thành bước:\u001b[0m \u001b[33mtool_user\u001b[0m\n"
            ],
            "text/html": [
              "<pre style=\"white-space:pre;overflow-x:auto;line-height:normal;font-family:Menlo,'DejaVu Sans Mono',consolas,'Courier New',monospace\">\n",
              "✅ <span style=\"color: #800080; text-decoration-color: #800080; font-weight: bold\">Hoàn thành bước:</span> <span style=\"color: #808000; text-decoration-color: #808000\">tool_user</span>\n",
              "</pre>\n"
            ]
          },
          "metadata": {}
        },
        {
          "output_type": "display_data",
          "data": {
            "text/plain": [
              "\u001b[1m{\u001b[0m\n",
              "    \u001b[32m'messages'\u001b[0m: \u001b[1m[\u001b[0m\n",
              "        \u001b[1;35mAIMessage\u001b[0m\u001b[1m(\u001b[0m\n",
              "            \u001b[33mcontent\u001b[0m=\u001b[32m''\u001b[0m,\n",
              "            \u001b[33madditional_kwargs\u001b[0m=\u001b[1m{\u001b[0m\n",
              "                \u001b[32m'tool_calls'\u001b[0m: \u001b[1m[\u001b[0m\n",
              "                    \u001b[1m{\u001b[0m\n",
              "                        \u001b[32m'id'\u001b[0m: \u001b[32m'bpqfxj3q6'\u001b[0m,\n",
              "                        \u001b[32m'function'\u001b[0m: \u001b[1m{\u001b[0m\u001b[32m'arguments'\u001b[0m: \u001b[32m'\u001b[0m\u001b[32m{\u001b[0m\u001b[32m\"days_ahead\":7\u001b[0m\u001b[32m}\u001b[0m\u001b[32m'\u001b[0m, \u001b[32m'name'\u001b[0m: \u001b[32m'google_calendar_reader'\u001b[0m\u001b[1m}\u001b[0m,\n",
              "                        \u001b[32m'type'\u001b[0m: \u001b[32m'function'\u001b[0m\n",
              "                    \u001b[1m}\u001b[0m\n",
              "                \u001b[1m]\u001b[0m\n",
              "            \u001b[1m}\u001b[0m,\n",
              "            \u001b[33mresponse_metadata\u001b[0m=\u001b[1m{\u001b[0m\n",
              "                \u001b[32m'token_usage'\u001b[0m: \u001b[1m{\u001b[0m\n",
              "                    \u001b[32m'completion_tokens'\u001b[0m: \u001b[1;36m69\u001b[0m,\n",
              "                    \u001b[32m'prompt_tokens'\u001b[0m: \u001b[1;36m1140\u001b[0m,\n",
              "                    \u001b[32m'total_tokens'\u001b[0m: \u001b[1;36m1209\u001b[0m,\n",
              "                    \u001b[32m'completion_time'\u001b[0m: \u001b[1;36m0.246596762\u001b[0m,\n",
              "                    \u001b[32m'prompt_time'\u001b[0m: \u001b[1;36m0.037081834\u001b[0m,\n",
              "                    \u001b[32m'queue_time'\u001b[0m: \u001b[1;36m0.067912256\u001b[0m,\n",
              "                    \u001b[32m'total_time'\u001b[0m: \u001b[1;36m0.283678596\u001b[0m\n",
              "                \u001b[1m}\u001b[0m,\n",
              "                \u001b[32m'model_name'\u001b[0m: \u001b[32m'llama3-70b-8192'\u001b[0m,\n",
              "                \u001b[32m'system_fingerprint'\u001b[0m: \u001b[32m'fp_bf16903a67'\u001b[0m,\n",
              "                \u001b[32m'service_tier'\u001b[0m: \u001b[32m'on_demand'\u001b[0m,\n",
              "                \u001b[32m'finish_reason'\u001b[0m: \u001b[32m'tool_calls'\u001b[0m,\n",
              "                \u001b[32m'logprobs'\u001b[0m: \u001b[3;35mNone\u001b[0m\n",
              "            \u001b[1m}\u001b[0m,\n",
              "            \u001b[33mid\u001b[0m=\u001b[32m'run--de7a6c2a-6606-45e1-963f-3ab6fe13031d-0'\u001b[0m,\n",
              "            \u001b[33mtool_calls\u001b[0m=\u001b[1m[\u001b[0m\n",
              "                \u001b[1m{\u001b[0m\n",
              "                    \u001b[32m'name'\u001b[0m: \u001b[32m'google_calendar_reader'\u001b[0m,\n",
              "                    \u001b[32m'args'\u001b[0m: \u001b[1m{\u001b[0m\u001b[32m'days_ahead'\u001b[0m: \u001b[1;36m7\u001b[0m\u001b[1m}\u001b[0m,\n",
              "                    \u001b[32m'id'\u001b[0m: \u001b[32m'bpqfxj3q6'\u001b[0m,\n",
              "                    \u001b[32m'type'\u001b[0m: \u001b[32m'tool_call'\u001b[0m\n",
              "                \u001b[1m}\u001b[0m\n",
              "            \u001b[1m]\u001b[0m,\n",
              "            \u001b[33musage_metadata\u001b[0m=\u001b[1m{\u001b[0m\u001b[32m'input_tokens'\u001b[0m: \u001b[1;36m1140\u001b[0m, \u001b[32m'output_tokens'\u001b[0m: \u001b[1;36m69\u001b[0m, \u001b[32m'total_tokens'\u001b[0m: \u001b[1;36m1209\u001b[0m\u001b[1m}\u001b[0m\n",
              "        \u001b[1m)\u001b[0m,\n",
              "        \u001b[1;35mToolMessage\u001b[0m\u001b[1m(\u001b[0m\n",
              "            \u001b[33mcontent\u001b[0m=\u001b[32m'\u001b[0m\u001b[32m[\u001b[0m\u001b[32m{\u001b[0m\u001b[32m\"summary\": \"Work Online\", \"start\": \"2025-08-08T19:45:00+07:00\", \"end\": \u001b[0m\n",
              "\u001b[32m\"2025-08-08T21:15:00+07:00\"\u001b[0m\u001b[32m}\u001b[0m\u001b[32m, \u001b[0m\u001b[32m{\u001b[0m\u001b[32m\"summary\": \"Take a nap\", \"start\": \"2025-08-11T08:45:00+07:00\", \"end\": \u001b[0m\n",
              "\u001b[32m\"2025-08-11T13:00:00+07:00\"\u001b[0m\u001b[32m}\u001b[0m\u001b[32m, \u001b[0m\u001b[32m{\u001b[0m\u001b[32m\"summary\": \"have a trip\", \"start\": \"2025-08-12T01:30:00+07:00\", \"end\": \u001b[0m\n",
              "\u001b[32m\"2025-08-12T05:30:00+07:00\"\u001b[0m\u001b[32m}\u001b[0m\u001b[32m, \u001b[0m\u001b[32m{\u001b[0m\u001b[32m\"summary\": \"go swimming\", \"start\": \"2025-08-14T07:15:00+07:00\", \"end\": \u001b[0m\n",
              "\u001b[32m\"2025-08-14T11:45:00+07:00\"\u001b[0m\u001b[32m}\u001b[0m\u001b[32m]\u001b[0m\u001b[32m'\u001b[0m,\n",
              "            \u001b[33mtool_call_id\u001b[0m=\u001b[32m'bpqfxj3q6'\u001b[0m\n",
              "        \u001b[1m)\u001b[0m\n",
              "    \u001b[1m]\u001b[0m\n",
              "\u001b[1m}\u001b[0m\n"
            ],
            "text/html": [
              "<pre style=\"white-space:pre;overflow-x:auto;line-height:normal;font-family:Menlo,'DejaVu Sans Mono',consolas,'Courier New',monospace\"><span style=\"font-weight: bold\">{</span>\n",
              "    <span style=\"color: #008000; text-decoration-color: #008000\">'messages'</span>: <span style=\"font-weight: bold\">[</span>\n",
              "        <span style=\"color: #800080; text-decoration-color: #800080; font-weight: bold\">AIMessage</span><span style=\"font-weight: bold\">(</span>\n",
              "            <span style=\"color: #808000; text-decoration-color: #808000\">content</span>=<span style=\"color: #008000; text-decoration-color: #008000\">''</span>,\n",
              "            <span style=\"color: #808000; text-decoration-color: #808000\">additional_kwargs</span>=<span style=\"font-weight: bold\">{</span>\n",
              "                <span style=\"color: #008000; text-decoration-color: #008000\">'tool_calls'</span>: <span style=\"font-weight: bold\">[</span>\n",
              "                    <span style=\"font-weight: bold\">{</span>\n",
              "                        <span style=\"color: #008000; text-decoration-color: #008000\">'id'</span>: <span style=\"color: #008000; text-decoration-color: #008000\">'bpqfxj3q6'</span>,\n",
              "                        <span style=\"color: #008000; text-decoration-color: #008000\">'function'</span>: <span style=\"font-weight: bold\">{</span><span style=\"color: #008000; text-decoration-color: #008000\">'arguments'</span>: <span style=\"color: #008000; text-decoration-color: #008000\">'{\"days_ahead\":7}'</span>, <span style=\"color: #008000; text-decoration-color: #008000\">'name'</span>: <span style=\"color: #008000; text-decoration-color: #008000\">'google_calendar_reader'</span><span style=\"font-weight: bold\">}</span>,\n",
              "                        <span style=\"color: #008000; text-decoration-color: #008000\">'type'</span>: <span style=\"color: #008000; text-decoration-color: #008000\">'function'</span>\n",
              "                    <span style=\"font-weight: bold\">}</span>\n",
              "                <span style=\"font-weight: bold\">]</span>\n",
              "            <span style=\"font-weight: bold\">}</span>,\n",
              "            <span style=\"color: #808000; text-decoration-color: #808000\">response_metadata</span>=<span style=\"font-weight: bold\">{</span>\n",
              "                <span style=\"color: #008000; text-decoration-color: #008000\">'token_usage'</span>: <span style=\"font-weight: bold\">{</span>\n",
              "                    <span style=\"color: #008000; text-decoration-color: #008000\">'completion_tokens'</span>: <span style=\"color: #008080; text-decoration-color: #008080; font-weight: bold\">69</span>,\n",
              "                    <span style=\"color: #008000; text-decoration-color: #008000\">'prompt_tokens'</span>: <span style=\"color: #008080; text-decoration-color: #008080; font-weight: bold\">1140</span>,\n",
              "                    <span style=\"color: #008000; text-decoration-color: #008000\">'total_tokens'</span>: <span style=\"color: #008080; text-decoration-color: #008080; font-weight: bold\">1209</span>,\n",
              "                    <span style=\"color: #008000; text-decoration-color: #008000\">'completion_time'</span>: <span style=\"color: #008080; text-decoration-color: #008080; font-weight: bold\">0.246596762</span>,\n",
              "                    <span style=\"color: #008000; text-decoration-color: #008000\">'prompt_time'</span>: <span style=\"color: #008080; text-decoration-color: #008080; font-weight: bold\">0.037081834</span>,\n",
              "                    <span style=\"color: #008000; text-decoration-color: #008000\">'queue_time'</span>: <span style=\"color: #008080; text-decoration-color: #008080; font-weight: bold\">0.067912256</span>,\n",
              "                    <span style=\"color: #008000; text-decoration-color: #008000\">'total_time'</span>: <span style=\"color: #008080; text-decoration-color: #008080; font-weight: bold\">0.283678596</span>\n",
              "                <span style=\"font-weight: bold\">}</span>,\n",
              "                <span style=\"color: #008000; text-decoration-color: #008000\">'model_name'</span>: <span style=\"color: #008000; text-decoration-color: #008000\">'llama3-70b-8192'</span>,\n",
              "                <span style=\"color: #008000; text-decoration-color: #008000\">'system_fingerprint'</span>: <span style=\"color: #008000; text-decoration-color: #008000\">'fp_bf16903a67'</span>,\n",
              "                <span style=\"color: #008000; text-decoration-color: #008000\">'service_tier'</span>: <span style=\"color: #008000; text-decoration-color: #008000\">'on_demand'</span>,\n",
              "                <span style=\"color: #008000; text-decoration-color: #008000\">'finish_reason'</span>: <span style=\"color: #008000; text-decoration-color: #008000\">'tool_calls'</span>,\n",
              "                <span style=\"color: #008000; text-decoration-color: #008000\">'logprobs'</span>: <span style=\"color: #800080; text-decoration-color: #800080; font-style: italic\">None</span>\n",
              "            <span style=\"font-weight: bold\">}</span>,\n",
              "            <span style=\"color: #808000; text-decoration-color: #808000\">id</span>=<span style=\"color: #008000; text-decoration-color: #008000\">'run--de7a6c2a-6606-45e1-963f-3ab6fe13031d-0'</span>,\n",
              "            <span style=\"color: #808000; text-decoration-color: #808000\">tool_calls</span>=<span style=\"font-weight: bold\">[</span>\n",
              "                <span style=\"font-weight: bold\">{</span>\n",
              "                    <span style=\"color: #008000; text-decoration-color: #008000\">'name'</span>: <span style=\"color: #008000; text-decoration-color: #008000\">'google_calendar_reader'</span>,\n",
              "                    <span style=\"color: #008000; text-decoration-color: #008000\">'args'</span>: <span style=\"font-weight: bold\">{</span><span style=\"color: #008000; text-decoration-color: #008000\">'days_ahead'</span>: <span style=\"color: #008080; text-decoration-color: #008080; font-weight: bold\">7</span><span style=\"font-weight: bold\">}</span>,\n",
              "                    <span style=\"color: #008000; text-decoration-color: #008000\">'id'</span>: <span style=\"color: #008000; text-decoration-color: #008000\">'bpqfxj3q6'</span>,\n",
              "                    <span style=\"color: #008000; text-decoration-color: #008000\">'type'</span>: <span style=\"color: #008000; text-decoration-color: #008000\">'tool_call'</span>\n",
              "                <span style=\"font-weight: bold\">}</span>\n",
              "            <span style=\"font-weight: bold\">]</span>,\n",
              "            <span style=\"color: #808000; text-decoration-color: #808000\">usage_metadata</span>=<span style=\"font-weight: bold\">{</span><span style=\"color: #008000; text-decoration-color: #008000\">'input_tokens'</span>: <span style=\"color: #008080; text-decoration-color: #008080; font-weight: bold\">1140</span>, <span style=\"color: #008000; text-decoration-color: #008000\">'output_tokens'</span>: <span style=\"color: #008080; text-decoration-color: #008080; font-weight: bold\">69</span>, <span style=\"color: #008000; text-decoration-color: #008000\">'total_tokens'</span>: <span style=\"color: #008080; text-decoration-color: #008080; font-weight: bold\">1209</span><span style=\"font-weight: bold\">}</span>\n",
              "        <span style=\"font-weight: bold\">)</span>,\n",
              "        <span style=\"color: #800080; text-decoration-color: #800080; font-weight: bold\">ToolMessage</span><span style=\"font-weight: bold\">(</span>\n",
              "            <span style=\"color: #808000; text-decoration-color: #808000\">content</span>=<span style=\"color: #008000; text-decoration-color: #008000\">'[{\"summary\": \"Work Online\", \"start\": \"2025-08-08T19:45:00+07:00\", \"end\": </span>\n",
              "<span style=\"color: #008000; text-decoration-color: #008000\">\"2025-08-08T21:15:00+07:00\"}, {\"summary\": \"Take a nap\", \"start\": \"2025-08-11T08:45:00+07:00\", \"end\": </span>\n",
              "<span style=\"color: #008000; text-decoration-color: #008000\">\"2025-08-11T13:00:00+07:00\"}, {\"summary\": \"have a trip\", \"start\": \"2025-08-12T01:30:00+07:00\", \"end\": </span>\n",
              "<span style=\"color: #008000; text-decoration-color: #008000\">\"2025-08-12T05:30:00+07:00\"}, {\"summary\": \"go swimming\", \"start\": \"2025-08-14T07:15:00+07:00\", \"end\": </span>\n",
              "<span style=\"color: #008000; text-decoration-color: #008000\">\"2025-08-14T11:45:00+07:00\"}]'</span>,\n",
              "            <span style=\"color: #808000; text-decoration-color: #808000\">tool_call_id</span>=<span style=\"color: #008000; text-decoration-color: #008000\">'bpqfxj3q6'</span>\n",
              "        <span style=\"font-weight: bold\">)</span>\n",
              "    <span style=\"font-weight: bold\">]</span>\n",
              "<span style=\"font-weight: bold\">}</span>\n",
              "</pre>\n"
            ]
          },
          "metadata": {}
        },
        {
          "output_type": "stream",
          "name": "stdout",
          "text": [
            "\n",
            "--- [PLANNER] Bắt đầu làm việc... ---\n",
            "--- [PLANNER] Lỗi nghiêm trọng: Error code: 400 - {'error': {'message': \"Failed to call a function. Please adjust your prompt. See 'failed_generation' for more details.\", 'type': 'invalid_request_error', 'code': 'tool_use_failed', 'failed_generation': '<tool-use>\\n{\\n  \"tool_calls\": [\\n    {\\n      \"id\": \"pending\",\\n      \"type\": \"function\",\\n      \"function\": {\\n        \"name\": \"FinalAnswer\"\\n      },\\n      \"parameters\": {\\n        \"answer\": \"Here is a detailed learning plan for you to learn about K-Nearest Neighbors (KNN) algorithm:\\n\\n**Learning Objectives:**\\n\\n* Understand the concept of K-Nearest Neighbors (KNN) algorithm\\n* Learn how to implement KNN algorithm in Python\\n* Apply KNN algorithm to a real-world problem\\n\\n**Learning Schedule:**\\n\\n* Day 1 (9:00 AM - 12:00 PM): Introduction to KNN algorithm, watch video lectures and take notes\\n* Day 2 (9:00 AM - 12:00 PM): Implement KNN algorithm in Python, practice with examples\\n* Day 3 (9:00 AM - 12:00 PM): Apply KNN algorithm to a real-world problem, work on a project\\n* Day 4 (9:00 AM - 12:00 PM): Review and practice, take a quiz to reinforce understanding\\n\\n**Study Tips:**\\n\\n* Use diagrams and mind maps to visualize the concept of KNN algorithm\\n* Take breaks every 45 minutes to refresh your mind\\n* Practice with examples and work on a project to apply KNN algorithm\\n* Review and practice regularly to reinforce understanding\"\\n      }\\n    }\\n  ]\\n}\\n</tool-use>'}}\n"
          ]
        },
        {
          "output_type": "display_data",
          "data": {
            "text/plain": [
              "\n",
              "✅ \u001b[1;35mHoàn thành bước:\u001b[0m \u001b[33mplanner\u001b[0m\n"
            ],
            "text/html": [
              "<pre style=\"white-space:pre;overflow-x:auto;line-height:normal;font-family:Menlo,'DejaVu Sans Mono',consolas,'Courier New',monospace\">\n",
              "✅ <span style=\"color: #800080; text-decoration-color: #800080; font-weight: bold\">Hoàn thành bước:</span> <span style=\"color: #808000; text-decoration-color: #808000\">planner</span>\n",
              "</pre>\n"
            ]
          },
          "metadata": {}
        },
        {
          "output_type": "display_data",
          "data": {
            "text/plain": [
              "\u001b[1m{\u001b[0m\n",
              "    \u001b[32m'cross_agent_request'\u001b[0m: \u001b[1m{\u001b[0m\n",
              "        \u001b[32m'sender'\u001b[0m: \u001b[32m'PLANNER'\u001b[0m,\n",
              "        \u001b[32m'recipient'\u001b[0m: \u001b[32m'TOOL_USER'\u001b[0m,\n",
              "        \u001b[32m'request'\u001b[0m: \u001b[32m'Đã xảy ra lỗi. Hãy tìm kiếm thông tin về chủ đề chính: \"Tuần tới tôi cần học về thuật toán \u001b[0m\n",
              "\u001b[32mK-Nearest Neighbors \u001b[0m\u001b[32m(\u001b[0m\u001b[32mKNN\u001b[0m\u001b[32m)\u001b[0m\u001b[32m. Lịch của tôi khá bận rộn, hãy tạo một kế hoạch học tập chi tiết, sau đó ghi chú lại các \u001b[0m\n",
              "\u001b[32mđiểm chính và cho tôi một vài lời khuyên học tập.\"'\u001b[0m\n",
              "    \u001b[1m}\u001b[0m\n",
              "\u001b[1m}\u001b[0m\n"
            ],
            "text/html": [
              "<pre style=\"white-space:pre;overflow-x:auto;line-height:normal;font-family:Menlo,'DejaVu Sans Mono',consolas,'Courier New',monospace\"><span style=\"font-weight: bold\">{</span>\n",
              "    <span style=\"color: #008000; text-decoration-color: #008000\">'cross_agent_request'</span>: <span style=\"font-weight: bold\">{</span>\n",
              "        <span style=\"color: #008000; text-decoration-color: #008000\">'sender'</span>: <span style=\"color: #008000; text-decoration-color: #008000\">'PLANNER'</span>,\n",
              "        <span style=\"color: #008000; text-decoration-color: #008000\">'recipient'</span>: <span style=\"color: #008000; text-decoration-color: #008000\">'TOOL_USER'</span>,\n",
              "        <span style=\"color: #008000; text-decoration-color: #008000\">'request'</span>: <span style=\"color: #008000; text-decoration-color: #008000\">'Đã xảy ra lỗi. Hãy tìm kiếm thông tin về chủ đề chính: \"Tuần tới tôi cần học về thuật toán </span>\n",
              "<span style=\"color: #008000; text-decoration-color: #008000\">K-Nearest Neighbors (KNN). Lịch của tôi khá bận rộn, hãy tạo một kế hoạch học tập chi tiết, sau đó ghi chú lại các </span>\n",
              "<span style=\"color: #008000; text-decoration-color: #008000\">điểm chính và cho tôi một vài lời khuyên học tập.\"'</span>\n",
              "    <span style=\"font-weight: bold\">}</span>\n",
              "<span style=\"font-weight: bold\">}</span>\n",
              "</pre>\n"
            ]
          },
          "metadata": {}
        },
        {
          "output_type": "stream",
          "name": "stdout",
          "text": [
            "\n",
            "--- [Critic] Bắt đầu đánh giá... ---\n",
            "\n",
            "--- [Revision Router] Đang kiểm tra kết quả phê bình...\n",
            "--- [Revision Router] Critic yêu cầu thông tin bổ sung. Chuyển đến Tool User.\n"
          ]
        },
        {
          "output_type": "display_data",
          "data": {
            "text/plain": [
              "\n",
              "✅ \u001b[1;35mHoàn thành bước:\u001b[0m \u001b[33mcritic\u001b[0m\n"
            ],
            "text/html": [
              "<pre style=\"white-space:pre;overflow-x:auto;line-height:normal;font-family:Menlo,'DejaVu Sans Mono',consolas,'Courier New',monospace\">\n",
              "✅ <span style=\"color: #800080; text-decoration-color: #800080; font-weight: bold\">Hoàn thành bước:</span> <span style=\"color: #808000; text-decoration-color: #808000\">critic</span>\n",
              "</pre>\n"
            ]
          },
          "metadata": {}
        },
        {
          "output_type": "display_data",
          "data": {
            "text/plain": [
              "\u001b[1m{\u001b[0m\u001b[32m'revision_needed'\u001b[0m: \u001b[3;92mTrue\u001b[0m, \u001b[32m'critique'\u001b[0m: \u001b[32m'Lỗi: Không tìm thấy sản phẩm từ Planner.'\u001b[0m\u001b[1m}\u001b[0m\n"
            ],
            "text/html": [
              "<pre style=\"white-space:pre;overflow-x:auto;line-height:normal;font-family:Menlo,'DejaVu Sans Mono',consolas,'Courier New',monospace\"><span style=\"font-weight: bold\">{</span><span style=\"color: #008000; text-decoration-color: #008000\">'revision_needed'</span>: <span style=\"color: #00ff00; text-decoration-color: #00ff00; font-style: italic\">True</span>, <span style=\"color: #008000; text-decoration-color: #008000\">'critique'</span>: <span style=\"color: #008000; text-decoration-color: #008000\">'Lỗi: Không tìm thấy sản phẩm từ Planner.'</span><span style=\"font-weight: bold\">}</span>\n",
              "</pre>\n"
            ]
          },
          "metadata": {}
        },
        {
          "output_type": "stream",
          "name": "stdout",
          "text": [
            "\n",
            "--- [Tool User] Đang làm việc... ---\n",
            "--- [Tool User] Nhận được yêu cầu trợ giúp từ PLANNER: 'Đã xảy ra lỗi. Hãy tìm kiếm thông tin về chủ đề chính: \"Tuần tới tôi cần học về thuật toán K-Nearest Neighbors (KNN). Lịch của tôi khá bận rộn, hãy tạo một kế hoạch học tập chi tiết, sau đó ghi chú lại các điểm chính và cho tôi một vài lời khuyên học tập.\"'\n",
            "--- [Tool User] Quyết định gọi công cụ: ['tavily_web_search', 'google_calendar_reader']\n",
            "--- [Calendar Tool] Đang đọc lịch: td.tan2711@gmail.com\n",
            "--- [Calendar Tool] Tìm thấy 4 sự kiện.\n"
          ]
        },
        {
          "output_type": "display_data",
          "data": {
            "text/plain": [
              "\n",
              "✅ \u001b[1;35mHoàn thành bước:\u001b[0m \u001b[33mtool_user\u001b[0m\n"
            ],
            "text/html": [
              "<pre style=\"white-space:pre;overflow-x:auto;line-height:normal;font-family:Menlo,'DejaVu Sans Mono',consolas,'Courier New',monospace\">\n",
              "✅ <span style=\"color: #800080; text-decoration-color: #800080; font-weight: bold\">Hoàn thành bước:</span> <span style=\"color: #808000; text-decoration-color: #808000\">tool_user</span>\n",
              "</pre>\n"
            ]
          },
          "metadata": {}
        },
        {
          "output_type": "display_data",
          "data": {
            "text/plain": [
              "\u001b[1m{\u001b[0m\n",
              "    \u001b[32m'cross_agent_request'\u001b[0m: \u001b[3;35mNone\u001b[0m,\n",
              "    \u001b[32m'messages'\u001b[0m: \u001b[1m[\u001b[0m\n",
              "        \u001b[1;35mAIMessage\u001b[0m\u001b[1m(\u001b[0m\n",
              "            \u001b[33mcontent\u001b[0m=\u001b[32m''\u001b[0m,\n",
              "            \u001b[33madditional_kwargs\u001b[0m=\u001b[1m{\u001b[0m\n",
              "                \u001b[32m'tool_calls'\u001b[0m: \u001b[1m[\u001b[0m\n",
              "                    \u001b[1m{\u001b[0m\n",
              "                        \u001b[32m'id'\u001b[0m: \u001b[32m'zhe1j1kx3'\u001b[0m,\n",
              "                        \u001b[32m'function'\u001b[0m: \u001b[1m{\u001b[0m\n",
              "                            \u001b[32m'arguments'\u001b[0m: \u001b[32m'\u001b[0m\u001b[32m{\u001b[0m\u001b[32m\"query\":\"K-Nearest Neighbors algorithm tutorial\"\u001b[0m\u001b[32m}\u001b[0m\u001b[32m'\u001b[0m,\n",
              "                            \u001b[32m'name'\u001b[0m: \u001b[32m'tavily_web_search'\u001b[0m\n",
              "                        \u001b[1m}\u001b[0m,\n",
              "                        \u001b[32m'type'\u001b[0m: \u001b[32m'function'\u001b[0m\n",
              "                    \u001b[1m}\u001b[0m,\n",
              "                    \u001b[1m{\u001b[0m\n",
              "                        \u001b[32m'id'\u001b[0m: \u001b[32m'43p3svfx0'\u001b[0m,\n",
              "                        \u001b[32m'function'\u001b[0m: \u001b[1m{\u001b[0m\u001b[32m'arguments'\u001b[0m: \u001b[32m'\u001b[0m\u001b[32m{\u001b[0m\u001b[32m\"days_ahead\":7\u001b[0m\u001b[32m}\u001b[0m\u001b[32m'\u001b[0m, \u001b[32m'name'\u001b[0m: \u001b[32m'google_calendar_reader'\u001b[0m\u001b[1m}\u001b[0m,\n",
              "                        \u001b[32m'type'\u001b[0m: \u001b[32m'function'\u001b[0m\n",
              "                    \u001b[1m}\u001b[0m\n",
              "                \u001b[1m]\u001b[0m\n",
              "            \u001b[1m}\u001b[0m,\n",
              "            \u001b[33mresponse_metadata\u001b[0m=\u001b[1m{\u001b[0m\n",
              "                \u001b[32m'token_usage'\u001b[0m: \u001b[1m{\u001b[0m\n",
              "                    \u001b[32m'completion_tokens'\u001b[0m: \u001b[1;36m124\u001b[0m,\n",
              "                    \u001b[32m'prompt_tokens'\u001b[0m: \u001b[1;36m1239\u001b[0m,\n",
              "                    \u001b[32m'total_tokens'\u001b[0m: \u001b[1;36m1363\u001b[0m,\n",
              "                    \u001b[32m'completion_time'\u001b[0m: \u001b[1;36m0.424828461\u001b[0m,\n",
              "                    \u001b[32m'prompt_time'\u001b[0m: \u001b[1;36m0.047089868\u001b[0m,\n",
              "                    \u001b[32m'queue_time'\u001b[0m: \u001b[1;36m0.06628731\u001b[0m,\n",
              "                    \u001b[32m'total_time'\u001b[0m: \u001b[1;36m0.471918329\u001b[0m\n",
              "                \u001b[1m}\u001b[0m,\n",
              "                \u001b[32m'model_name'\u001b[0m: \u001b[32m'llama3-70b-8192'\u001b[0m,\n",
              "                \u001b[32m'system_fingerprint'\u001b[0m: \u001b[32m'fp_bf16903a67'\u001b[0m,\n",
              "                \u001b[32m'service_tier'\u001b[0m: \u001b[32m'on_demand'\u001b[0m,\n",
              "                \u001b[32m'finish_reason'\u001b[0m: \u001b[32m'tool_calls'\u001b[0m,\n",
              "                \u001b[32m'logprobs'\u001b[0m: \u001b[3;35mNone\u001b[0m\n",
              "            \u001b[1m}\u001b[0m,\n",
              "            \u001b[33mid\u001b[0m=\u001b[32m'run--df7995b0-fbfb-4283-85b2-8d7f6be8b359-0'\u001b[0m,\n",
              "            \u001b[33mtool_calls\u001b[0m=\u001b[1m[\u001b[0m\n",
              "                \u001b[1m{\u001b[0m\n",
              "                    \u001b[32m'name'\u001b[0m: \u001b[32m'tavily_web_search'\u001b[0m,\n",
              "                    \u001b[32m'args'\u001b[0m: \u001b[1m{\u001b[0m\u001b[32m'query'\u001b[0m: \u001b[32m'K-Nearest Neighbors algorithm tutorial'\u001b[0m\u001b[1m}\u001b[0m,\n",
              "                    \u001b[32m'id'\u001b[0m: \u001b[32m'zhe1j1kx3'\u001b[0m,\n",
              "                    \u001b[32m'type'\u001b[0m: \u001b[32m'tool_call'\u001b[0m\n",
              "                \u001b[1m}\u001b[0m,\n",
              "                \u001b[1m{\u001b[0m\n",
              "                    \u001b[32m'name'\u001b[0m: \u001b[32m'google_calendar_reader'\u001b[0m,\n",
              "                    \u001b[32m'args'\u001b[0m: \u001b[1m{\u001b[0m\u001b[32m'days_ahead'\u001b[0m: \u001b[1;36m7\u001b[0m\u001b[1m}\u001b[0m,\n",
              "                    \u001b[32m'id'\u001b[0m: \u001b[32m'43p3svfx0'\u001b[0m,\n",
              "                    \u001b[32m'type'\u001b[0m: \u001b[32m'tool_call'\u001b[0m\n",
              "                \u001b[1m}\u001b[0m\n",
              "            \u001b[1m]\u001b[0m,\n",
              "            \u001b[33musage_metadata\u001b[0m=\u001b[1m{\u001b[0m\u001b[32m'input_tokens'\u001b[0m: \u001b[1;36m1239\u001b[0m, \u001b[32m'output_tokens'\u001b[0m: \u001b[1;36m124\u001b[0m, \u001b[32m'total_tokens'\u001b[0m: \u001b[1;36m1363\u001b[0m\u001b[1m}\u001b[0m\n",
              "        \u001b[1m)\u001b[0m,\n",
              "        \u001b[1;35mToolMessage\u001b[0m\u001b[1m(\u001b[0m\n",
              "            \u001b[33mcontent\u001b[0m=\u001b[32m'Source: \u001b[0m\n",
              "\u001b[32mhttps://www.datacamp.com/tutorial/k-nearest-neighbor-classification-scikit-learn\\nContent: This tutorial will cover\u001b[0m\n",
              "\u001b[32mthe concept, workflow, and examples of the k-nearest neighbors \u001b[0m\u001b[32m(\u001b[0m\u001b[32mkNN\u001b[0m\u001b[32m)\u001b[0m\u001b[32m algorithm. This is a popular supervised model \u001b[0m\n",
              "\u001b[32mused for both classification and regression and is a useful way to understand distance functions, voting systems, \u001b[0m\n",
              "\u001b[32mand hyperparameter optimization. \u001b[0m\u001b[32m[\u001b[0m\u001b[32m...\u001b[0m\u001b[32m]\u001b[0m\u001b[32m ### Machine Learning in R for beginners\\n\\nRelated\\n\\nTutorial ### \u001b[0m\n",
              "\u001b[32mIntroduction to Machine Learning in Python\\n\\nIn this tutorial, you will be introduced to the world of Machine \u001b[0m\n",
              "\u001b[32mLearning \u001b[0m\u001b[32m(\u001b[0m\u001b[32mML\u001b[0m\u001b[32m)\u001b[0m\u001b[32m with Python. To understand ML practically, you will be using a well-known machine learning algorithm \u001b[0m\n",
              "\u001b[32mcalled K-Nearest Neighbor \u001b[0m\u001b[32m(\u001b[0m\u001b[32mKNN\u001b[0m\u001b[32m)\u001b[0m\u001b[32m with Python.\\n\\nImage 10: Aditya Sharma\\'s photo\\n\\nAditya Sharma\\n\\n14 \u001b[0m\n",
              "\u001b[32mmin\\n\\nTutorial ### K-Nearest Neighbors \u001b[0m\u001b[32m(\u001b[0m\u001b[32mKNN\u001b[0m\u001b[32m)\u001b[0m\u001b[32m Classification with R Tutorial \u001b[0m\u001b[32m[\u001b[0m\u001b[32m...\u001b[0m\u001b[32m]\u001b[0m\u001b[32m The Supervised Learning with \u001b[0m\n",
              "\u001b[32mscikit-learn course is the entry point to DataCamp\\'s machine learning in Python curriculum and covers k-nearest \u001b[0m\n",
              "\u001b[32mneighbors.\\n   The Anomaly Detection in Python, Dealing with Missing Data in Python, and Machine Learning for \u001b[0m\n",
              "\u001b[32mFinance in Python courses all show examples of using k-nearest neighbors.\\n   The Decision Tree Classification in \u001b[0m\n",
              "\u001b[32mPython Tutorial covers another machine learning model for classifying data.\\n\\nSource: \u001b[0m\n",
              "\u001b[32mhttps://www.ibm.com/think/topics/knn\\nContent: K-nearest neighbors and Python\\n------------------------------\\n\\nTo\u001b[0m\n",
              "\u001b[32mdelve deeper, you can learn more about the k-NN algorithm by using Python and scikit-learn \u001b[0m\u001b[32m(\u001b[0m\u001b[32malso known as sklearn\u001b[0m\u001b[32m)\u001b[0m\u001b[32m.\u001b[0m\n",
              "\u001b[32mOurtutorialin Watson Studio helps you learn the basic syntax from this library, which also contains other popular \u001b[0m\n",
              "\u001b[32mlibraries, like NumPy, pandas, and Matplotlib. The following code is an example of how to create and predict with a\u001b[0m\n",
              "\u001b[32mKNN model:\\n\\nfrom sklearn.neighbors import KNeighborsClassifier\\n\\nSource: \u001b[0m\n",
              "\u001b[32mhttps://www.analyticsvidhya.com/blog/2018/03/introduction-k-neighbours-algorithm-clustering/\\nContent: The \u001b[0m\n",
              "\u001b[32mk-nearest neighbors \u001b[0m\u001b[32m(\u001b[0m\u001b[32mKNN\u001b[0m\u001b[32m)\u001b[0m\u001b[32m algorithm is a simple, supervised machine learning method that makes predictions based on\u001b[0m\n",
              "\u001b[32mhow close a data point is to others. It’s widely used for both classification and regression tasks because of its \u001b[0m\n",
              "\u001b[32msimplicity and popularity. \u001b[0m\u001b[32m[\u001b[0m\u001b[32m...\u001b[0m\u001b[32m]\u001b[0m\u001b[32m Next, the algorithm identifies the K nearest neighbors to the input data point \u001b[0m\n",
              "\u001b[32mbased on their distances. In the case of classification, the algorithm assigns the most common class label among \u001b[0m\n",
              "\u001b[32mthe K neighbors as the predicted label for the input data point. For regression, it calculates the average or \u001b[0m\n",
              "\u001b[32mweighted average of the target values of the K neighbors to predict the value for the input data point. \u001b[0m\u001b[32m[\u001b[0m\u001b[32m...\u001b[0m\u001b[32m]\u001b[0m\u001b[32m 1.   \u001b[0m\n",
              "\u001b[32mLoad the data\\n2.   Initialise the value of k\\n3.   For getting the predicted class, iterate from 1 to total number\u001b[0m\n",
              "\u001b[32mof training data points\\n\\nSource: https://www.geeksforgeeks.org/machine-learning/k-nearest-neighbours/\\nContent: \u001b[0m\n",
              "\u001b[32mThе K-Nearest Neighbors \u001b[0m\u001b[32m(\u001b[0m\u001b[32mKNN\u001b[0m\u001b[32m)\u001b[0m\u001b[32m algorithm operates on the principle of similarity where it predicts the label or \u001b[0m\n",
              "\u001b[32mvalue of a new data point by considering the labels or values of its K nearest neighbors in the training \u001b[0m\n",
              "\u001b[32mdataset.\\n\\nImage 10: Workings of KNN algorithm.png\u001b[0m\u001b[32m)\u001b[0m\u001b[32m\\n\\n### Step 1: Selecting the optimal value of K\\n\\n   K \u001b[0m\n",
              "\u001b[32mrepresents the number of nearest neighbors that needs to be considered while making prediction. \\n\\n### Step 2: \u001b[0m\n",
              "\u001b[32mCalculating distance \u001b[0m\u001b[32m[\u001b[0m\u001b[32m...\u001b[0m\u001b[32m]\u001b[0m\u001b[32m K-Nearest Neighbors \u001b[0m\u001b[32m(\u001b[0m\u001b[32mKNN\u001b[0m\u001b[32m)\u001b[0m\u001b[32m is a supervised machine learning algorithm generally used for \u001b[0m\n",
              "\u001b[32mclassification but can also be used for regression tasks. It works by finding the \"k\" closest data points \u001b[0m\n",
              "\u001b[32m(\u001b[0m\u001b[32mneighbors\u001b[0m\u001b[32m)\u001b[0m\u001b[32m to a given input and makesa predictions based on the majority class \u001b[0m\u001b[32m(\u001b[0m\u001b[32mfor classification\u001b[0m\u001b[32m)\u001b[0m\u001b[32m or the average\u001b[0m\n",
              "\u001b[32mvalue \u001b[0m\u001b[32m(\u001b[0m\u001b[32mfor regression\u001b[0m\u001b[32m)\u001b[0m\u001b[32m. Since KNN makes no assumptions about the underlying data distribution it makes it a \u001b[0m\n",
              "\u001b[32mnon-parametric and instance-based learning method. \u001b[0m\u001b[32m[\u001b[0m\u001b[32m...\u001b[0m\u001b[32m]\u001b[0m\u001b[32m In the k-Nearest Neighbours algorithm k is just a number \u001b[0m\n",
              "\u001b[32mthat tells the algorithm how many nearby points or neighbors to look at when it makes a decision.\\n\\nExample: \u001b[0m\n",
              "\u001b[32mImagine you\\'re deciding which fruit it is based on its shape and size. You compare it to fruits you already \u001b[0m\n",
              "\u001b[32mknow.\\n\\n   If k = 3, the algorithm looks at the 3 closest fruits to the new one.\\n   If 2 of those 3 fruits are \u001b[0m\n",
              "\u001b[32mapples and 1 is a banana, the algorithm says the new fruit is an apple because most of its neighbors are \u001b[0m\n",
              "\u001b[32mapples.\\n\\nSource: https://www.geeksforgeeks.org/machine-learning/k-nearest-neighbor-algorithm-in-python/\\nContent:\u001b[0m\n",
              "\u001b[32mK-Nearest Neighbor\u001b[0m\u001b[32m(\u001b[0m\u001b[32mKNN\u001b[0m\u001b[32m)\u001b[0m\u001b[32m Algorithm K-Nearest Neighbors \u001b[0m\u001b[32m(\u001b[0m\u001b[32mKNN\u001b[0m\u001b[32m)\u001b[0m\u001b[32m is a supervised machine learning algorithm generally \u001b[0m\n",
              "\u001b[32mused for classification but can also be used for regression tasks. It works by finding the \"k\" closest data points \u001b[0m\n",
              "\u001b[32m(\u001b[0m\u001b[32mneighbors\u001b[0m\u001b[32m)\u001b[0m\u001b[32m to a given input and makesa predictions based on the majority class \u001b[0m\u001b[32m(\u001b[0m\u001b[32mfor classification\u001b[0m\u001b[32m)\u001b[0m\u001b[32m or th 8 min \u001b[0m\n",
              "\u001b[32mreadImplementation of K-Nearest Neighbors from Scratch using Python Instance-Based LearningK Nearest Neighbors \u001b[0m\n",
              "\u001b[32mClassification is one of the classification \u001b[0m\u001b[32m[\u001b[0m\u001b[32m...\u001b[0m\u001b[32m]\u001b[0m\u001b[32m detection. The K-Nearest Neighbors \u001b[0m\u001b[32m(\u001b[0m\u001b[32mKNN\u001b[0m\u001b[32m)\u001b[0m\u001b[32m algorithm is a simple, \u001b[0m\n",
              "\u001b[32measy 5 min readHow To Predict Diabetes using K-Nearest Neighbor in R In this article, we are going to predict \u001b[0m\n",
              "\u001b[32mDiabetes using the K-Nearest Neighbour algorithm and analyze on Diabetes dataset using the R Programming Language. \u001b[0m\n",
              "\u001b[32mWhat is the K-Nearest Neighbor algorithm?The K-Nearest Neighbor \u001b[0m\u001b[32m(\u001b[0m\u001b[32mKNN\u001b[0m\u001b[32m)\u001b[0m\u001b[32m algorithm is a popular supervised learning \u001b[0m\n",
              "\u001b[32mclassifier frequently used by d 13 min readImplementing DBSCAN algorithm using Sklearn \u001b[0m\u001b[32m[\u001b[0m\u001b[32m...\u001b[0m\u001b[32m]\u001b[0m\u001b[32m Improve\\n\\nSuggest \u001b[0m\n",
              "\u001b[32mchanges\\n\\n18 Likes\\n\\nLike\\n\\nReport\\n\\nK-Nearest Neighbors \u001b[0m\u001b[32m(\u001b[0m\u001b[32mKNN\u001b[0m\u001b[32m)\u001b[0m\u001b[32m works by identifying the \\'k\\' nearest data \u001b[0m\n",
              "\u001b[32mpoints called as neighbors to a given input and predicting its class or value based on the majority class or the \u001b[0m\n",
              "\u001b[32maverage of its neighbors. In this article we will implement it using Python\\'s Scikit-Learn library.\\n\\n1. \u001b[0m\n",
              "\u001b[32mGenerating and Visualizing the 2D Data\\n-------------------------------------------------'\u001b[0m,\n",
              "            \u001b[33mtool_call_id\u001b[0m=\u001b[32m'zhe1j1kx3'\u001b[0m\n",
              "        \u001b[1m)\u001b[0m,\n",
              "        \u001b[1;35mToolMessage\u001b[0m\u001b[1m(\u001b[0m\n",
              "            \u001b[33mcontent\u001b[0m=\u001b[32m'\u001b[0m\u001b[32m[\u001b[0m\u001b[32m{\u001b[0m\u001b[32m\"summary\": \"Work Online\", \"start\": \"2025-08-08T19:45:00+07:00\", \"end\": \u001b[0m\n",
              "\u001b[32m\"2025-08-08T21:15:00+07:00\"\u001b[0m\u001b[32m}\u001b[0m\u001b[32m, \u001b[0m\u001b[32m{\u001b[0m\u001b[32m\"summary\": \"Take a nap\", \"start\": \"2025-08-11T08:45:00+07:00\", \"end\": \u001b[0m\n",
              "\u001b[32m\"2025-08-11T13:00:00+07:00\"\u001b[0m\u001b[32m}\u001b[0m\u001b[32m, \u001b[0m\u001b[32m{\u001b[0m\u001b[32m\"summary\": \"have a trip\", \"start\": \"2025-08-12T01:30:00+07:00\", \"end\": \u001b[0m\n",
              "\u001b[32m\"2025-08-12T05:30:00+07:00\"\u001b[0m\u001b[32m}\u001b[0m\u001b[32m, \u001b[0m\u001b[32m{\u001b[0m\u001b[32m\"summary\": \"go swimming\", \"start\": \"2025-08-14T07:15:00+07:00\", \"end\": \u001b[0m\n",
              "\u001b[32m\"2025-08-14T11:45:00+07:00\"\u001b[0m\u001b[32m}\u001b[0m\u001b[32m]\u001b[0m\u001b[32m'\u001b[0m,\n",
              "            \u001b[33mtool_call_id\u001b[0m=\u001b[32m'43p3svfx0'\u001b[0m\n",
              "        \u001b[1m)\u001b[0m\n",
              "    \u001b[1m]\u001b[0m\n",
              "\u001b[1m}\u001b[0m\n"
            ],
            "text/html": [
              "<pre style=\"white-space:pre;overflow-x:auto;line-height:normal;font-family:Menlo,'DejaVu Sans Mono',consolas,'Courier New',monospace\"><span style=\"font-weight: bold\">{</span>\n",
              "    <span style=\"color: #008000; text-decoration-color: #008000\">'cross_agent_request'</span>: <span style=\"color: #800080; text-decoration-color: #800080; font-style: italic\">None</span>,\n",
              "    <span style=\"color: #008000; text-decoration-color: #008000\">'messages'</span>: <span style=\"font-weight: bold\">[</span>\n",
              "        <span style=\"color: #800080; text-decoration-color: #800080; font-weight: bold\">AIMessage</span><span style=\"font-weight: bold\">(</span>\n",
              "            <span style=\"color: #808000; text-decoration-color: #808000\">content</span>=<span style=\"color: #008000; text-decoration-color: #008000\">''</span>,\n",
              "            <span style=\"color: #808000; text-decoration-color: #808000\">additional_kwargs</span>=<span style=\"font-weight: bold\">{</span>\n",
              "                <span style=\"color: #008000; text-decoration-color: #008000\">'tool_calls'</span>: <span style=\"font-weight: bold\">[</span>\n",
              "                    <span style=\"font-weight: bold\">{</span>\n",
              "                        <span style=\"color: #008000; text-decoration-color: #008000\">'id'</span>: <span style=\"color: #008000; text-decoration-color: #008000\">'zhe1j1kx3'</span>,\n",
              "                        <span style=\"color: #008000; text-decoration-color: #008000\">'function'</span>: <span style=\"font-weight: bold\">{</span>\n",
              "                            <span style=\"color: #008000; text-decoration-color: #008000\">'arguments'</span>: <span style=\"color: #008000; text-decoration-color: #008000\">'{\"query\":\"K-Nearest Neighbors algorithm tutorial\"}'</span>,\n",
              "                            <span style=\"color: #008000; text-decoration-color: #008000\">'name'</span>: <span style=\"color: #008000; text-decoration-color: #008000\">'tavily_web_search'</span>\n",
              "                        <span style=\"font-weight: bold\">}</span>,\n",
              "                        <span style=\"color: #008000; text-decoration-color: #008000\">'type'</span>: <span style=\"color: #008000; text-decoration-color: #008000\">'function'</span>\n",
              "                    <span style=\"font-weight: bold\">}</span>,\n",
              "                    <span style=\"font-weight: bold\">{</span>\n",
              "                        <span style=\"color: #008000; text-decoration-color: #008000\">'id'</span>: <span style=\"color: #008000; text-decoration-color: #008000\">'43p3svfx0'</span>,\n",
              "                        <span style=\"color: #008000; text-decoration-color: #008000\">'function'</span>: <span style=\"font-weight: bold\">{</span><span style=\"color: #008000; text-decoration-color: #008000\">'arguments'</span>: <span style=\"color: #008000; text-decoration-color: #008000\">'{\"days_ahead\":7}'</span>, <span style=\"color: #008000; text-decoration-color: #008000\">'name'</span>: <span style=\"color: #008000; text-decoration-color: #008000\">'google_calendar_reader'</span><span style=\"font-weight: bold\">}</span>,\n",
              "                        <span style=\"color: #008000; text-decoration-color: #008000\">'type'</span>: <span style=\"color: #008000; text-decoration-color: #008000\">'function'</span>\n",
              "                    <span style=\"font-weight: bold\">}</span>\n",
              "                <span style=\"font-weight: bold\">]</span>\n",
              "            <span style=\"font-weight: bold\">}</span>,\n",
              "            <span style=\"color: #808000; text-decoration-color: #808000\">response_metadata</span>=<span style=\"font-weight: bold\">{</span>\n",
              "                <span style=\"color: #008000; text-decoration-color: #008000\">'token_usage'</span>: <span style=\"font-weight: bold\">{</span>\n",
              "                    <span style=\"color: #008000; text-decoration-color: #008000\">'completion_tokens'</span>: <span style=\"color: #008080; text-decoration-color: #008080; font-weight: bold\">124</span>,\n",
              "                    <span style=\"color: #008000; text-decoration-color: #008000\">'prompt_tokens'</span>: <span style=\"color: #008080; text-decoration-color: #008080; font-weight: bold\">1239</span>,\n",
              "                    <span style=\"color: #008000; text-decoration-color: #008000\">'total_tokens'</span>: <span style=\"color: #008080; text-decoration-color: #008080; font-weight: bold\">1363</span>,\n",
              "                    <span style=\"color: #008000; text-decoration-color: #008000\">'completion_time'</span>: <span style=\"color: #008080; text-decoration-color: #008080; font-weight: bold\">0.424828461</span>,\n",
              "                    <span style=\"color: #008000; text-decoration-color: #008000\">'prompt_time'</span>: <span style=\"color: #008080; text-decoration-color: #008080; font-weight: bold\">0.047089868</span>,\n",
              "                    <span style=\"color: #008000; text-decoration-color: #008000\">'queue_time'</span>: <span style=\"color: #008080; text-decoration-color: #008080; font-weight: bold\">0.06628731</span>,\n",
              "                    <span style=\"color: #008000; text-decoration-color: #008000\">'total_time'</span>: <span style=\"color: #008080; text-decoration-color: #008080; font-weight: bold\">0.471918329</span>\n",
              "                <span style=\"font-weight: bold\">}</span>,\n",
              "                <span style=\"color: #008000; text-decoration-color: #008000\">'model_name'</span>: <span style=\"color: #008000; text-decoration-color: #008000\">'llama3-70b-8192'</span>,\n",
              "                <span style=\"color: #008000; text-decoration-color: #008000\">'system_fingerprint'</span>: <span style=\"color: #008000; text-decoration-color: #008000\">'fp_bf16903a67'</span>,\n",
              "                <span style=\"color: #008000; text-decoration-color: #008000\">'service_tier'</span>: <span style=\"color: #008000; text-decoration-color: #008000\">'on_demand'</span>,\n",
              "                <span style=\"color: #008000; text-decoration-color: #008000\">'finish_reason'</span>: <span style=\"color: #008000; text-decoration-color: #008000\">'tool_calls'</span>,\n",
              "                <span style=\"color: #008000; text-decoration-color: #008000\">'logprobs'</span>: <span style=\"color: #800080; text-decoration-color: #800080; font-style: italic\">None</span>\n",
              "            <span style=\"font-weight: bold\">}</span>,\n",
              "            <span style=\"color: #808000; text-decoration-color: #808000\">id</span>=<span style=\"color: #008000; text-decoration-color: #008000\">'run--df7995b0-fbfb-4283-85b2-8d7f6be8b359-0'</span>,\n",
              "            <span style=\"color: #808000; text-decoration-color: #808000\">tool_calls</span>=<span style=\"font-weight: bold\">[</span>\n",
              "                <span style=\"font-weight: bold\">{</span>\n",
              "                    <span style=\"color: #008000; text-decoration-color: #008000\">'name'</span>: <span style=\"color: #008000; text-decoration-color: #008000\">'tavily_web_search'</span>,\n",
              "                    <span style=\"color: #008000; text-decoration-color: #008000\">'args'</span>: <span style=\"font-weight: bold\">{</span><span style=\"color: #008000; text-decoration-color: #008000\">'query'</span>: <span style=\"color: #008000; text-decoration-color: #008000\">'K-Nearest Neighbors algorithm tutorial'</span><span style=\"font-weight: bold\">}</span>,\n",
              "                    <span style=\"color: #008000; text-decoration-color: #008000\">'id'</span>: <span style=\"color: #008000; text-decoration-color: #008000\">'zhe1j1kx3'</span>,\n",
              "                    <span style=\"color: #008000; text-decoration-color: #008000\">'type'</span>: <span style=\"color: #008000; text-decoration-color: #008000\">'tool_call'</span>\n",
              "                <span style=\"font-weight: bold\">}</span>,\n",
              "                <span style=\"font-weight: bold\">{</span>\n",
              "                    <span style=\"color: #008000; text-decoration-color: #008000\">'name'</span>: <span style=\"color: #008000; text-decoration-color: #008000\">'google_calendar_reader'</span>,\n",
              "                    <span style=\"color: #008000; text-decoration-color: #008000\">'args'</span>: <span style=\"font-weight: bold\">{</span><span style=\"color: #008000; text-decoration-color: #008000\">'days_ahead'</span>: <span style=\"color: #008080; text-decoration-color: #008080; font-weight: bold\">7</span><span style=\"font-weight: bold\">}</span>,\n",
              "                    <span style=\"color: #008000; text-decoration-color: #008000\">'id'</span>: <span style=\"color: #008000; text-decoration-color: #008000\">'43p3svfx0'</span>,\n",
              "                    <span style=\"color: #008000; text-decoration-color: #008000\">'type'</span>: <span style=\"color: #008000; text-decoration-color: #008000\">'tool_call'</span>\n",
              "                <span style=\"font-weight: bold\">}</span>\n",
              "            <span style=\"font-weight: bold\">]</span>,\n",
              "            <span style=\"color: #808000; text-decoration-color: #808000\">usage_metadata</span>=<span style=\"font-weight: bold\">{</span><span style=\"color: #008000; text-decoration-color: #008000\">'input_tokens'</span>: <span style=\"color: #008080; text-decoration-color: #008080; font-weight: bold\">1239</span>, <span style=\"color: #008000; text-decoration-color: #008000\">'output_tokens'</span>: <span style=\"color: #008080; text-decoration-color: #008080; font-weight: bold\">124</span>, <span style=\"color: #008000; text-decoration-color: #008000\">'total_tokens'</span>: <span style=\"color: #008080; text-decoration-color: #008080; font-weight: bold\">1363</span><span style=\"font-weight: bold\">}</span>\n",
              "        <span style=\"font-weight: bold\">)</span>,\n",
              "        <span style=\"color: #800080; text-decoration-color: #800080; font-weight: bold\">ToolMessage</span><span style=\"font-weight: bold\">(</span>\n",
              "            <span style=\"color: #808000; text-decoration-color: #808000\">content</span>=<span style=\"color: #008000; text-decoration-color: #008000\">'Source: </span>\n",
              "<span style=\"color: #008000; text-decoration-color: #008000\">https://www.datacamp.com/tutorial/k-nearest-neighbor-classification-scikit-learn\\nContent: This tutorial will cover</span>\n",
              "<span style=\"color: #008000; text-decoration-color: #008000\">the concept, workflow, and examples of the k-nearest neighbors (kNN) algorithm. This is a popular supervised model </span>\n",
              "<span style=\"color: #008000; text-decoration-color: #008000\">used for both classification and regression and is a useful way to understand distance functions, voting systems, </span>\n",
              "<span style=\"color: #008000; text-decoration-color: #008000\">and hyperparameter optimization. [...] ### Machine Learning in R for beginners\\n\\nRelated\\n\\nTutorial ### </span>\n",
              "<span style=\"color: #008000; text-decoration-color: #008000\">Introduction to Machine Learning in Python\\n\\nIn this tutorial, you will be introduced to the world of Machine </span>\n",
              "<span style=\"color: #008000; text-decoration-color: #008000\">Learning (ML) with Python. To understand ML practically, you will be using a well-known machine learning algorithm </span>\n",
              "<span style=\"color: #008000; text-decoration-color: #008000\">called K-Nearest Neighbor (KNN) with Python.\\n\\nImage 10: Aditya Sharma\\'s photo\\n\\nAditya Sharma\\n\\n14 </span>\n",
              "<span style=\"color: #008000; text-decoration-color: #008000\">min\\n\\nTutorial ### K-Nearest Neighbors (KNN) Classification with R Tutorial [...] The Supervised Learning with </span>\n",
              "<span style=\"color: #008000; text-decoration-color: #008000\">scikit-learn course is the entry point to DataCamp\\'s machine learning in Python curriculum and covers k-nearest </span>\n",
              "<span style=\"color: #008000; text-decoration-color: #008000\">neighbors.\\n   The Anomaly Detection in Python, Dealing with Missing Data in Python, and Machine Learning for </span>\n",
              "<span style=\"color: #008000; text-decoration-color: #008000\">Finance in Python courses all show examples of using k-nearest neighbors.\\n   The Decision Tree Classification in </span>\n",
              "<span style=\"color: #008000; text-decoration-color: #008000\">Python Tutorial covers another machine learning model for classifying data.\\n\\nSource: </span>\n",
              "<span style=\"color: #008000; text-decoration-color: #008000\">https://www.ibm.com/think/topics/knn\\nContent: K-nearest neighbors and Python\\n------------------------------\\n\\nTo</span>\n",
              "<span style=\"color: #008000; text-decoration-color: #008000\">delve deeper, you can learn more about the k-NN algorithm by using Python and scikit-learn (also known as sklearn).</span>\n",
              "<span style=\"color: #008000; text-decoration-color: #008000\">Ourtutorialin Watson Studio helps you learn the basic syntax from this library, which also contains other popular </span>\n",
              "<span style=\"color: #008000; text-decoration-color: #008000\">libraries, like NumPy, pandas, and Matplotlib. The following code is an example of how to create and predict with a</span>\n",
              "<span style=\"color: #008000; text-decoration-color: #008000\">KNN model:\\n\\nfrom sklearn.neighbors import KNeighborsClassifier\\n\\nSource: </span>\n",
              "<span style=\"color: #008000; text-decoration-color: #008000\">https://www.analyticsvidhya.com/blog/2018/03/introduction-k-neighbours-algorithm-clustering/\\nContent: The </span>\n",
              "<span style=\"color: #008000; text-decoration-color: #008000\">k-nearest neighbors (KNN) algorithm is a simple, supervised machine learning method that makes predictions based on</span>\n",
              "<span style=\"color: #008000; text-decoration-color: #008000\">how close a data point is to others. It’s widely used for both classification and regression tasks because of its </span>\n",
              "<span style=\"color: #008000; text-decoration-color: #008000\">simplicity and popularity. [...] Next, the algorithm identifies the K nearest neighbors to the input data point </span>\n",
              "<span style=\"color: #008000; text-decoration-color: #008000\">based on their distances. In the case of classification, the algorithm assigns the most common class label among </span>\n",
              "<span style=\"color: #008000; text-decoration-color: #008000\">the K neighbors as the predicted label for the input data point. For regression, it calculates the average or </span>\n",
              "<span style=\"color: #008000; text-decoration-color: #008000\">weighted average of the target values of the K neighbors to predict the value for the input data point. [...] 1.   </span>\n",
              "<span style=\"color: #008000; text-decoration-color: #008000\">Load the data\\n2.   Initialise the value of k\\n3.   For getting the predicted class, iterate from 1 to total number</span>\n",
              "<span style=\"color: #008000; text-decoration-color: #008000\">of training data points\\n\\nSource: https://www.geeksforgeeks.org/machine-learning/k-nearest-neighbours/\\nContent: </span>\n",
              "<span style=\"color: #008000; text-decoration-color: #008000\">Thе K-Nearest Neighbors (KNN) algorithm operates on the principle of similarity where it predicts the label or </span>\n",
              "<span style=\"color: #008000; text-decoration-color: #008000\">value of a new data point by considering the labels or values of its K nearest neighbors in the training </span>\n",
              "<span style=\"color: #008000; text-decoration-color: #008000\">dataset.\\n\\nImage 10: Workings of KNN algorithm.png)\\n\\n### Step 1: Selecting the optimal value of K\\n\\n   K </span>\n",
              "<span style=\"color: #008000; text-decoration-color: #008000\">represents the number of nearest neighbors that needs to be considered while making prediction. \\n\\n### Step 2: </span>\n",
              "<span style=\"color: #008000; text-decoration-color: #008000\">Calculating distance [...] K-Nearest Neighbors (KNN) is a supervised machine learning algorithm generally used for </span>\n",
              "<span style=\"color: #008000; text-decoration-color: #008000\">classification but can also be used for regression tasks. It works by finding the \"k\" closest data points </span>\n",
              "<span style=\"color: #008000; text-decoration-color: #008000\">(neighbors) to a given input and makesa predictions based on the majority class (for classification) or the average</span>\n",
              "<span style=\"color: #008000; text-decoration-color: #008000\">value (for regression). Since KNN makes no assumptions about the underlying data distribution it makes it a </span>\n",
              "<span style=\"color: #008000; text-decoration-color: #008000\">non-parametric and instance-based learning method. [...] In the k-Nearest Neighbours algorithm k is just a number </span>\n",
              "<span style=\"color: #008000; text-decoration-color: #008000\">that tells the algorithm how many nearby points or neighbors to look at when it makes a decision.\\n\\nExample: </span>\n",
              "<span style=\"color: #008000; text-decoration-color: #008000\">Imagine you\\'re deciding which fruit it is based on its shape and size. You compare it to fruits you already </span>\n",
              "<span style=\"color: #008000; text-decoration-color: #008000\">know.\\n\\n   If k = 3, the algorithm looks at the 3 closest fruits to the new one.\\n   If 2 of those 3 fruits are </span>\n",
              "<span style=\"color: #008000; text-decoration-color: #008000\">apples and 1 is a banana, the algorithm says the new fruit is an apple because most of its neighbors are </span>\n",
              "<span style=\"color: #008000; text-decoration-color: #008000\">apples.\\n\\nSource: https://www.geeksforgeeks.org/machine-learning/k-nearest-neighbor-algorithm-in-python/\\nContent:</span>\n",
              "<span style=\"color: #008000; text-decoration-color: #008000\">K-Nearest Neighbor(KNN) Algorithm K-Nearest Neighbors (KNN) is a supervised machine learning algorithm generally </span>\n",
              "<span style=\"color: #008000; text-decoration-color: #008000\">used for classification but can also be used for regression tasks. It works by finding the \"k\" closest data points </span>\n",
              "<span style=\"color: #008000; text-decoration-color: #008000\">(neighbors) to a given input and makesa predictions based on the majority class (for classification) or th 8 min </span>\n",
              "<span style=\"color: #008000; text-decoration-color: #008000\">readImplementation of K-Nearest Neighbors from Scratch using Python Instance-Based LearningK Nearest Neighbors </span>\n",
              "<span style=\"color: #008000; text-decoration-color: #008000\">Classification is one of the classification [...] detection. The K-Nearest Neighbors (KNN) algorithm is a simple, </span>\n",
              "<span style=\"color: #008000; text-decoration-color: #008000\">easy 5 min readHow To Predict Diabetes using K-Nearest Neighbor in R In this article, we are going to predict </span>\n",
              "<span style=\"color: #008000; text-decoration-color: #008000\">Diabetes using the K-Nearest Neighbour algorithm and analyze on Diabetes dataset using the R Programming Language. </span>\n",
              "<span style=\"color: #008000; text-decoration-color: #008000\">What is the K-Nearest Neighbor algorithm?The K-Nearest Neighbor (KNN) algorithm is a popular supervised learning </span>\n",
              "<span style=\"color: #008000; text-decoration-color: #008000\">classifier frequently used by d 13 min readImplementing DBSCAN algorithm using Sklearn [...] Improve\\n\\nSuggest </span>\n",
              "<span style=\"color: #008000; text-decoration-color: #008000\">changes\\n\\n18 Likes\\n\\nLike\\n\\nReport\\n\\nK-Nearest Neighbors (KNN) works by identifying the \\'k\\' nearest data </span>\n",
              "<span style=\"color: #008000; text-decoration-color: #008000\">points called as neighbors to a given input and predicting its class or value based on the majority class or the </span>\n",
              "<span style=\"color: #008000; text-decoration-color: #008000\">average of its neighbors. In this article we will implement it using Python\\'s Scikit-Learn library.\\n\\n1. </span>\n",
              "<span style=\"color: #008000; text-decoration-color: #008000\">Generating and Visualizing the 2D Data\\n-------------------------------------------------'</span>,\n",
              "            <span style=\"color: #808000; text-decoration-color: #808000\">tool_call_id</span>=<span style=\"color: #008000; text-decoration-color: #008000\">'zhe1j1kx3'</span>\n",
              "        <span style=\"font-weight: bold\">)</span>,\n",
              "        <span style=\"color: #800080; text-decoration-color: #800080; font-weight: bold\">ToolMessage</span><span style=\"font-weight: bold\">(</span>\n",
              "            <span style=\"color: #808000; text-decoration-color: #808000\">content</span>=<span style=\"color: #008000; text-decoration-color: #008000\">'[{\"summary\": \"Work Online\", \"start\": \"2025-08-08T19:45:00+07:00\", \"end\": </span>\n",
              "<span style=\"color: #008000; text-decoration-color: #008000\">\"2025-08-08T21:15:00+07:00\"}, {\"summary\": \"Take a nap\", \"start\": \"2025-08-11T08:45:00+07:00\", \"end\": </span>\n",
              "<span style=\"color: #008000; text-decoration-color: #008000\">\"2025-08-11T13:00:00+07:00\"}, {\"summary\": \"have a trip\", \"start\": \"2025-08-12T01:30:00+07:00\", \"end\": </span>\n",
              "<span style=\"color: #008000; text-decoration-color: #008000\">\"2025-08-12T05:30:00+07:00\"}, {\"summary\": \"go swimming\", \"start\": \"2025-08-14T07:15:00+07:00\", \"end\": </span>\n",
              "<span style=\"color: #008000; text-decoration-color: #008000\">\"2025-08-14T11:45:00+07:00\"}]'</span>,\n",
              "            <span style=\"color: #808000; text-decoration-color: #808000\">tool_call_id</span>=<span style=\"color: #008000; text-decoration-color: #008000\">'43p3svfx0'</span>\n",
              "        <span style=\"font-weight: bold\">)</span>\n",
              "    <span style=\"font-weight: bold\">]</span>\n",
              "<span style=\"font-weight: bold\">}</span>\n",
              "</pre>\n"
            ]
          },
          "metadata": {}
        },
        {
          "output_type": "stream",
          "name": "stdout",
          "text": [
            "\n",
            "--- [PLANNER] Bắt đầu làm việc... ---\n",
            "--- [PLANNER] Lỗi nghiêm trọng: Error code: 400 - {'error': {'message': \"Failed to call a function. Please adjust your prompt. See 'failed_generation' for more details.\", 'type': 'invalid_request_error', 'code': 'tool_use_failed', 'failed_generation': '<tool-use>\\n{\\n    \"tool_calls\": [\\n        {\\n            \"id\": \"pending\",\\n            \"type\": \"function\",\\n            \"function\": {\\n                \"name\": \"FinalAnswer\"\\n            },\\n            \"parameters\": {\\n                \"answer\": \"Based on the provided information, I will create a detailed learning plan for you to learn about K-Nearest Neighbors (KNN) algorithm. Considering your learning preferences and schedule, here is a suggested plan:\\n\\n**Day 1: Morning (9 AM - 12 PM)**\\n- Review the concept of KNN algorithm and its applications (45 minutes)\\n- Take a 15-minute break\\n- Watch video tutorials on KNN algorithm (45 minutes)\\n- Take a 15-minute break\\n- Read articles on KNN algorithm and its implementation in Python (45 minutes)\\n\\n**Day 2: Morning (9 AM - 12 PM)**\\n- Practice implementing KNN algorithm in Python using scikit-learn library (45 minutes)\\n- Take a 15-minute break\\n- Review the implementation and debug any errors (45 minutes)\\n- Take a 15-minute break\\n- Work on exercises and quizzes related to KNN algorithm (45 minutes)\\n\\n**Day 3: Morning (9 AM - 12 PM)**\\n- Review the KNN algorithm and its applications (45 minutes)\\n- Take a 15-minute break\\n- Work on a project that implements KNN algorithm in Python (45 minutes)\\n- Take a 15-minute break\\n- Review and finalize the project (45 minutes)\\n\\nRemember to take breaks and adjust the plan according to your schedule and learning pace. Good luck with your learning!\"\\n            }\\n        }\\n    ]\\n}\\n</tool-use>'}}\n"
          ]
        },
        {
          "output_type": "display_data",
          "data": {
            "text/plain": [
              "\n",
              "✅ \u001b[1;35mHoàn thành bước:\u001b[0m \u001b[33mplanner\u001b[0m\n"
            ],
            "text/html": [
              "<pre style=\"white-space:pre;overflow-x:auto;line-height:normal;font-family:Menlo,'DejaVu Sans Mono',consolas,'Courier New',monospace\">\n",
              "✅ <span style=\"color: #800080; text-decoration-color: #800080; font-weight: bold\">Hoàn thành bước:</span> <span style=\"color: #808000; text-decoration-color: #808000\">planner</span>\n",
              "</pre>\n"
            ]
          },
          "metadata": {}
        },
        {
          "output_type": "display_data",
          "data": {
            "text/plain": [
              "\u001b[1m{\u001b[0m\n",
              "    \u001b[32m'cross_agent_request'\u001b[0m: \u001b[1m{\u001b[0m\n",
              "        \u001b[32m'sender'\u001b[0m: \u001b[32m'PLANNER'\u001b[0m,\n",
              "        \u001b[32m'recipient'\u001b[0m: \u001b[32m'TOOL_USER'\u001b[0m,\n",
              "        \u001b[32m'request'\u001b[0m: \u001b[32m'Đã xảy ra lỗi. Hãy tìm kiếm thông tin về chủ đề chính: \"Tuần tới tôi cần học về thuật toán \u001b[0m\n",
              "\u001b[32mK-Nearest Neighbors \u001b[0m\u001b[32m(\u001b[0m\u001b[32mKNN\u001b[0m\u001b[32m)\u001b[0m\u001b[32m. Lịch của tôi khá bận rộn, hãy tạo một kế hoạch học tập chi tiết, sau đó ghi chú lại các \u001b[0m\n",
              "\u001b[32mđiểm chính và cho tôi một vài lời khuyên học tập.\"'\u001b[0m\n",
              "    \u001b[1m}\u001b[0m\n",
              "\u001b[1m}\u001b[0m\n"
            ],
            "text/html": [
              "<pre style=\"white-space:pre;overflow-x:auto;line-height:normal;font-family:Menlo,'DejaVu Sans Mono',consolas,'Courier New',monospace\"><span style=\"font-weight: bold\">{</span>\n",
              "    <span style=\"color: #008000; text-decoration-color: #008000\">'cross_agent_request'</span>: <span style=\"font-weight: bold\">{</span>\n",
              "        <span style=\"color: #008000; text-decoration-color: #008000\">'sender'</span>: <span style=\"color: #008000; text-decoration-color: #008000\">'PLANNER'</span>,\n",
              "        <span style=\"color: #008000; text-decoration-color: #008000\">'recipient'</span>: <span style=\"color: #008000; text-decoration-color: #008000\">'TOOL_USER'</span>,\n",
              "        <span style=\"color: #008000; text-decoration-color: #008000\">'request'</span>: <span style=\"color: #008000; text-decoration-color: #008000\">'Đã xảy ra lỗi. Hãy tìm kiếm thông tin về chủ đề chính: \"Tuần tới tôi cần học về thuật toán </span>\n",
              "<span style=\"color: #008000; text-decoration-color: #008000\">K-Nearest Neighbors (KNN). Lịch của tôi khá bận rộn, hãy tạo một kế hoạch học tập chi tiết, sau đó ghi chú lại các </span>\n",
              "<span style=\"color: #008000; text-decoration-color: #008000\">điểm chính và cho tôi một vài lời khuyên học tập.\"'</span>\n",
              "    <span style=\"font-weight: bold\">}</span>\n",
              "<span style=\"font-weight: bold\">}</span>\n",
              "</pre>\n"
            ]
          },
          "metadata": {}
        },
        {
          "output_type": "stream",
          "name": "stdout",
          "text": [
            "\n",
            "--- [Critic] Bắt đầu đánh giá... ---\n",
            "\n",
            "--- [Revision Router] Đang kiểm tra kết quả phê bình...\n",
            "--- [Revision Router] Critic yêu cầu thông tin bổ sung. Chuyển đến Tool User.\n"
          ]
        },
        {
          "output_type": "display_data",
          "data": {
            "text/plain": [
              "\n",
              "✅ \u001b[1;35mHoàn thành bước:\u001b[0m \u001b[33mcritic\u001b[0m\n"
            ],
            "text/html": [
              "<pre style=\"white-space:pre;overflow-x:auto;line-height:normal;font-family:Menlo,'DejaVu Sans Mono',consolas,'Courier New',monospace\">\n",
              "✅ <span style=\"color: #800080; text-decoration-color: #800080; font-weight: bold\">Hoàn thành bước:</span> <span style=\"color: #808000; text-decoration-color: #808000\">critic</span>\n",
              "</pre>\n"
            ]
          },
          "metadata": {}
        },
        {
          "output_type": "display_data",
          "data": {
            "text/plain": [
              "\u001b[1m{\u001b[0m\u001b[32m'revision_needed'\u001b[0m: \u001b[3;92mTrue\u001b[0m, \u001b[32m'critique'\u001b[0m: \u001b[32m'Lỗi: Không tìm thấy sản phẩm từ Planner.'\u001b[0m\u001b[1m}\u001b[0m\n"
            ],
            "text/html": [
              "<pre style=\"white-space:pre;overflow-x:auto;line-height:normal;font-family:Menlo,'DejaVu Sans Mono',consolas,'Courier New',monospace\"><span style=\"font-weight: bold\">{</span><span style=\"color: #008000; text-decoration-color: #008000\">'revision_needed'</span>: <span style=\"color: #00ff00; text-decoration-color: #00ff00; font-style: italic\">True</span>, <span style=\"color: #008000; text-decoration-color: #008000\">'critique'</span>: <span style=\"color: #008000; text-decoration-color: #008000\">'Lỗi: Không tìm thấy sản phẩm từ Planner.'</span><span style=\"font-weight: bold\">}</span>\n",
              "</pre>\n"
            ]
          },
          "metadata": {}
        },
        {
          "output_type": "stream",
          "name": "stdout",
          "text": [
            "\n",
            "--- [Tool User] Đang làm việc... ---\n",
            "--- [Tool User] Nhận được yêu cầu trợ giúp từ PLANNER: 'Đã xảy ra lỗi. Hãy tìm kiếm thông tin về chủ đề chính: \"Tuần tới tôi cần học về thuật toán K-Nearest Neighbors (KNN). Lịch của tôi khá bận rộn, hãy tạo một kế hoạch học tập chi tiết, sau đó ghi chú lại các điểm chính và cho tôi một vài lời khuyên học tập.\"'\n",
            "--- [Tool User] Quyết định gọi công cụ: ['tavily_web_search', 'google_calendar_reader']\n",
            "--- [Calendar Tool] Đang đọc lịch: td.tan2711@gmail.com\n",
            "--- [Calendar Tool] Tìm thấy 4 sự kiện.\n"
          ]
        },
        {
          "output_type": "display_data",
          "data": {
            "text/plain": [
              "\n",
              "✅ \u001b[1;35mHoàn thành bước:\u001b[0m \u001b[33mtool_user\u001b[0m\n"
            ],
            "text/html": [
              "<pre style=\"white-space:pre;overflow-x:auto;line-height:normal;font-family:Menlo,'DejaVu Sans Mono',consolas,'Courier New',monospace\">\n",
              "✅ <span style=\"color: #800080; text-decoration-color: #800080; font-weight: bold\">Hoàn thành bước:</span> <span style=\"color: #808000; text-decoration-color: #808000\">tool_user</span>\n",
              "</pre>\n"
            ]
          },
          "metadata": {}
        },
        {
          "output_type": "display_data",
          "data": {
            "text/plain": [
              "\u001b[1m{\u001b[0m\n",
              "    \u001b[32m'cross_agent_request'\u001b[0m: \u001b[3;35mNone\u001b[0m,\n",
              "    \u001b[32m'messages'\u001b[0m: \u001b[1m[\u001b[0m\n",
              "        \u001b[1;35mAIMessage\u001b[0m\u001b[1m(\u001b[0m\n",
              "            \u001b[33mcontent\u001b[0m=\u001b[32m''\u001b[0m,\n",
              "            \u001b[33madditional_kwargs\u001b[0m=\u001b[1m{\u001b[0m\n",
              "                \u001b[32m'tool_calls'\u001b[0m: \u001b[1m[\u001b[0m\n",
              "                    \u001b[1m{\u001b[0m\n",
              "                        \u001b[32m'id'\u001b[0m: \u001b[32m'n5shpc844'\u001b[0m,\n",
              "                        \u001b[32m'function'\u001b[0m: \u001b[1m{\u001b[0m\n",
              "                            \u001b[32m'arguments'\u001b[0m: \u001b[32m'\u001b[0m\u001b[32m{\u001b[0m\u001b[32m\"query\":\"K-Nearest Neighbors algorithm tutorial\"\u001b[0m\u001b[32m}\u001b[0m\u001b[32m'\u001b[0m,\n",
              "                            \u001b[32m'name'\u001b[0m: \u001b[32m'tavily_web_search'\u001b[0m\n",
              "                        \u001b[1m}\u001b[0m,\n",
              "                        \u001b[32m'type'\u001b[0m: \u001b[32m'function'\u001b[0m\n",
              "                    \u001b[1m}\u001b[0m,\n",
              "                    \u001b[1m{\u001b[0m\n",
              "                        \u001b[32m'id'\u001b[0m: \u001b[32m'hqpfm0mqd'\u001b[0m,\n",
              "                        \u001b[32m'function'\u001b[0m: \u001b[1m{\u001b[0m\u001b[32m'arguments'\u001b[0m: \u001b[32m'\u001b[0m\u001b[32m{\u001b[0m\u001b[32m\"days_ahead\":7\u001b[0m\u001b[32m}\u001b[0m\u001b[32m'\u001b[0m, \u001b[32m'name'\u001b[0m: \u001b[32m'google_calendar_reader'\u001b[0m\u001b[1m}\u001b[0m,\n",
              "                        \u001b[32m'type'\u001b[0m: \u001b[32m'function'\u001b[0m\n",
              "                    \u001b[1m}\u001b[0m\n",
              "                \u001b[1m]\u001b[0m\n",
              "            \u001b[1m}\u001b[0m,\n",
              "            \u001b[33mresponse_metadata\u001b[0m=\u001b[1m{\u001b[0m\n",
              "                \u001b[32m'token_usage'\u001b[0m: \u001b[1m{\u001b[0m\n",
              "                    \u001b[32m'completion_tokens'\u001b[0m: \u001b[1;36m124\u001b[0m,\n",
              "                    \u001b[32m'prompt_tokens'\u001b[0m: \u001b[1;36m1239\u001b[0m,\n",
              "                    \u001b[32m'total_tokens'\u001b[0m: \u001b[1;36m1363\u001b[0m,\n",
              "                    \u001b[32m'completion_time'\u001b[0m: \u001b[1;36m0.427450847\u001b[0m,\n",
              "                    \u001b[32m'prompt_time'\u001b[0m: \u001b[1;36m0.047957464\u001b[0m,\n",
              "                    \u001b[32m'queue_time'\u001b[0m: \u001b[1;36m0.067616226\u001b[0m,\n",
              "                    \u001b[32m'total_time'\u001b[0m: \u001b[1;36m0.475408311\u001b[0m\n",
              "                \u001b[1m}\u001b[0m,\n",
              "                \u001b[32m'model_name'\u001b[0m: \u001b[32m'llama3-70b-8192'\u001b[0m,\n",
              "                \u001b[32m'system_fingerprint'\u001b[0m: \u001b[32m'fp_bf16903a67'\u001b[0m,\n",
              "                \u001b[32m'service_tier'\u001b[0m: \u001b[32m'on_demand'\u001b[0m,\n",
              "                \u001b[32m'finish_reason'\u001b[0m: \u001b[32m'tool_calls'\u001b[0m,\n",
              "                \u001b[32m'logprobs'\u001b[0m: \u001b[3;35mNone\u001b[0m\n",
              "            \u001b[1m}\u001b[0m,\n",
              "            \u001b[33mid\u001b[0m=\u001b[32m'run--d9d7dc1b-dab4-489a-900b-4f360cf84794-0'\u001b[0m,\n",
              "            \u001b[33mtool_calls\u001b[0m=\u001b[1m[\u001b[0m\n",
              "                \u001b[1m{\u001b[0m\n",
              "                    \u001b[32m'name'\u001b[0m: \u001b[32m'tavily_web_search'\u001b[0m,\n",
              "                    \u001b[32m'args'\u001b[0m: \u001b[1m{\u001b[0m\u001b[32m'query'\u001b[0m: \u001b[32m'K-Nearest Neighbors algorithm tutorial'\u001b[0m\u001b[1m}\u001b[0m,\n",
              "                    \u001b[32m'id'\u001b[0m: \u001b[32m'n5shpc844'\u001b[0m,\n",
              "                    \u001b[32m'type'\u001b[0m: \u001b[32m'tool_call'\u001b[0m\n",
              "                \u001b[1m}\u001b[0m,\n",
              "                \u001b[1m{\u001b[0m\n",
              "                    \u001b[32m'name'\u001b[0m: \u001b[32m'google_calendar_reader'\u001b[0m,\n",
              "                    \u001b[32m'args'\u001b[0m: \u001b[1m{\u001b[0m\u001b[32m'days_ahead'\u001b[0m: \u001b[1;36m7\u001b[0m\u001b[1m}\u001b[0m,\n",
              "                    \u001b[32m'id'\u001b[0m: \u001b[32m'hqpfm0mqd'\u001b[0m,\n",
              "                    \u001b[32m'type'\u001b[0m: \u001b[32m'tool_call'\u001b[0m\n",
              "                \u001b[1m}\u001b[0m\n",
              "            \u001b[1m]\u001b[0m,\n",
              "            \u001b[33musage_metadata\u001b[0m=\u001b[1m{\u001b[0m\u001b[32m'input_tokens'\u001b[0m: \u001b[1;36m1239\u001b[0m, \u001b[32m'output_tokens'\u001b[0m: \u001b[1;36m124\u001b[0m, \u001b[32m'total_tokens'\u001b[0m: \u001b[1;36m1363\u001b[0m\u001b[1m}\u001b[0m\n",
              "        \u001b[1m)\u001b[0m,\n",
              "        \u001b[1;35mToolMessage\u001b[0m\u001b[1m(\u001b[0m\n",
              "            \u001b[33mcontent\u001b[0m=\u001b[32m'Source: \u001b[0m\n",
              "\u001b[32mhttps://www.datacamp.com/tutorial/k-nearest-neighbor-classification-scikit-learn\\nContent: This tutorial will cover\u001b[0m\n",
              "\u001b[32mthe concept, workflow, and examples of the k-nearest neighbors \u001b[0m\u001b[32m(\u001b[0m\u001b[32mkNN\u001b[0m\u001b[32m)\u001b[0m\u001b[32m algorithm. This is a popular supervised model \u001b[0m\n",
              "\u001b[32mused for both classification and regression and is a useful way to understand distance functions, voting systems, \u001b[0m\n",
              "\u001b[32mand hyperparameter optimization. \u001b[0m\u001b[32m[\u001b[0m\u001b[32m...\u001b[0m\u001b[32m]\u001b[0m\u001b[32m ### Machine Learning in R for beginners\\n\\nRelated\\n\\nTutorial ### \u001b[0m\n",
              "\u001b[32mIntroduction to Machine Learning in Python\\n\\nIn this tutorial, you will be introduced to the world of Machine \u001b[0m\n",
              "\u001b[32mLearning \u001b[0m\u001b[32m(\u001b[0m\u001b[32mML\u001b[0m\u001b[32m)\u001b[0m\u001b[32m with Python. To understand ML practically, you will be using a well-known machine learning algorithm \u001b[0m\n",
              "\u001b[32mcalled K-Nearest Neighbor \u001b[0m\u001b[32m(\u001b[0m\u001b[32mKNN\u001b[0m\u001b[32m)\u001b[0m\u001b[32m with Python.\\n\\nImage 10: Aditya Sharma\\'s photo\\n\\nAditya Sharma\\n\\n14 \u001b[0m\n",
              "\u001b[32mmin\\n\\nTutorial ### K-Nearest Neighbors \u001b[0m\u001b[32m(\u001b[0m\u001b[32mKNN\u001b[0m\u001b[32m)\u001b[0m\u001b[32m Classification with R Tutorial \u001b[0m\u001b[32m[\u001b[0m\u001b[32m...\u001b[0m\u001b[32m]\u001b[0m\u001b[32m The Supervised Learning with \u001b[0m\n",
              "\u001b[32mscikit-learn course is the entry point to DataCamp\\'s machine learning in Python curriculum and covers k-nearest \u001b[0m\n",
              "\u001b[32mneighbors.\\n   The Anomaly Detection in Python, Dealing with Missing Data in Python, and Machine Learning for \u001b[0m\n",
              "\u001b[32mFinance in Python courses all show examples of using k-nearest neighbors.\\n   The Decision Tree Classification in \u001b[0m\n",
              "\u001b[32mPython Tutorial covers another machine learning model for classifying data.\\n\\nSource: \u001b[0m\n",
              "\u001b[32mhttps://www.ibm.com/think/topics/knn\\nContent: K-nearest neighbors and Python\\n------------------------------\\n\\nTo\u001b[0m\n",
              "\u001b[32mdelve deeper, you can learn more about the k-NN algorithm by using Python and scikit-learn \u001b[0m\u001b[32m(\u001b[0m\u001b[32malso known as sklearn\u001b[0m\u001b[32m)\u001b[0m\u001b[32m.\u001b[0m\n",
              "\u001b[32mOurtutorialin Watson Studio helps you learn the basic syntax from this library, which also contains other popular \u001b[0m\n",
              "\u001b[32mlibraries, like NumPy, pandas, and Matplotlib. The following code is an example of how to create and predict with a\u001b[0m\n",
              "\u001b[32mKNN model:\\n\\nfrom sklearn.neighbors import KNeighborsClassifier\\n\\nSource: \u001b[0m\n",
              "\u001b[32mhttps://www.analyticsvidhya.com/blog/2018/03/introduction-k-neighbours-algorithm-clustering/\\nContent: The \u001b[0m\n",
              "\u001b[32mk-nearest neighbors \u001b[0m\u001b[32m(\u001b[0m\u001b[32mKNN\u001b[0m\u001b[32m)\u001b[0m\u001b[32m algorithm is a simple, supervised machine learning method that makes predictions based on\u001b[0m\n",
              "\u001b[32mhow close a data point is to others. It’s widely used for both classification and regression tasks because of its \u001b[0m\n",
              "\u001b[32msimplicity and popularity. \u001b[0m\u001b[32m[\u001b[0m\u001b[32m...\u001b[0m\u001b[32m]\u001b[0m\u001b[32m Next, the algorithm identifies the K nearest neighbors to the input data point \u001b[0m\n",
              "\u001b[32mbased on their distances. In the case of classification, the algorithm assigns the most common class label among \u001b[0m\n",
              "\u001b[32mthe K neighbors as the predicted label for the input data point. For regression, it calculates the average or \u001b[0m\n",
              "\u001b[32mweighted average of the target values of the K neighbors to predict the value for the input data point. \u001b[0m\u001b[32m[\u001b[0m\u001b[32m...\u001b[0m\u001b[32m]\u001b[0m\u001b[32m 1.   \u001b[0m\n",
              "\u001b[32mLoad the data\\n2.   Initialise the value of k\\n3.   For getting the predicted class, iterate from 1 to total number\u001b[0m\n",
              "\u001b[32mof training data points\\n\\nSource: https://www.geeksforgeeks.org/machine-learning/k-nearest-neighbours/\\nContent: \u001b[0m\n",
              "\u001b[32mThе K-Nearest Neighbors \u001b[0m\u001b[32m(\u001b[0m\u001b[32mKNN\u001b[0m\u001b[32m)\u001b[0m\u001b[32m algorithm operates on the principle of similarity where it predicts the label or \u001b[0m\n",
              "\u001b[32mvalue of a new data point by considering the labels or values of its K nearest neighbors in the training \u001b[0m\n",
              "\u001b[32mdataset.\\n\\nImage 10: Workings of KNN algorithm.png\u001b[0m\u001b[32m)\u001b[0m\u001b[32m\\n\\n### Step 1: Selecting the optimal value of K\\n\\n   K \u001b[0m\n",
              "\u001b[32mrepresents the number of nearest neighbors that needs to be considered while making prediction. \\n\\n### Step 2: \u001b[0m\n",
              "\u001b[32mCalculating distance \u001b[0m\u001b[32m[\u001b[0m\u001b[32m...\u001b[0m\u001b[32m]\u001b[0m\u001b[32m K-Nearest Neighbors \u001b[0m\u001b[32m(\u001b[0m\u001b[32mKNN\u001b[0m\u001b[32m)\u001b[0m\u001b[32m is a supervised machine learning algorithm generally used for \u001b[0m\n",
              "\u001b[32mclassification but can also be used for regression tasks. It works by finding the \"k\" closest data points \u001b[0m\n",
              "\u001b[32m(\u001b[0m\u001b[32mneighbors\u001b[0m\u001b[32m)\u001b[0m\u001b[32m to a given input and makesa predictions based on the majority class \u001b[0m\u001b[32m(\u001b[0m\u001b[32mfor classification\u001b[0m\u001b[32m)\u001b[0m\u001b[32m or the average\u001b[0m\n",
              "\u001b[32mvalue \u001b[0m\u001b[32m(\u001b[0m\u001b[32mfor regression\u001b[0m\u001b[32m)\u001b[0m\u001b[32m. Since KNN makes no assumptions about the underlying data distribution it makes it a \u001b[0m\n",
              "\u001b[32mnon-parametric and instance-based learning method. \u001b[0m\u001b[32m[\u001b[0m\u001b[32m...\u001b[0m\u001b[32m]\u001b[0m\u001b[32m In the k-Nearest Neighbours algorithm k is just a number \u001b[0m\n",
              "\u001b[32mthat tells the algorithm how many nearby points or neighbors to look at when it makes a decision.\\n\\nExample: \u001b[0m\n",
              "\u001b[32mImagine you\\'re deciding which fruit it is based on its shape and size. You compare it to fruits you already \u001b[0m\n",
              "\u001b[32mknow.\\n\\n   If k = 3, the algorithm looks at the 3 closest fruits to the new one.\\n   If 2 of those 3 fruits are \u001b[0m\n",
              "\u001b[32mapples and 1 is a banana, the algorithm says the new fruit is an apple because most of its neighbors are \u001b[0m\n",
              "\u001b[32mapples.\\n\\nSource: https://www.geeksforgeeks.org/machine-learning/k-nearest-neighbor-algorithm-in-python/\\nContent:\u001b[0m\n",
              "\u001b[32mK-Nearest Neighbor\u001b[0m\u001b[32m(\u001b[0m\u001b[32mKNN\u001b[0m\u001b[32m)\u001b[0m\u001b[32m Algorithm K-Nearest Neighbors \u001b[0m\u001b[32m(\u001b[0m\u001b[32mKNN\u001b[0m\u001b[32m)\u001b[0m\u001b[32m is a supervised machine learning algorithm generally \u001b[0m\n",
              "\u001b[32mused for classification but can also be used for regression tasks. It works by finding the \"k\" closest data points \u001b[0m\n",
              "\u001b[32m(\u001b[0m\u001b[32mneighbors\u001b[0m\u001b[32m)\u001b[0m\u001b[32m to a given input and makesa predictions based on the majority class \u001b[0m\u001b[32m(\u001b[0m\u001b[32mfor classification\u001b[0m\u001b[32m)\u001b[0m\u001b[32m or th 8 min \u001b[0m\n",
              "\u001b[32mreadImplementation of K-Nearest Neighbors from Scratch using Python Instance-Based LearningK Nearest Neighbors \u001b[0m\n",
              "\u001b[32mClassification is one of the classification \u001b[0m\u001b[32m[\u001b[0m\u001b[32m...\u001b[0m\u001b[32m]\u001b[0m\u001b[32m detection. The K-Nearest Neighbors \u001b[0m\u001b[32m(\u001b[0m\u001b[32mKNN\u001b[0m\u001b[32m)\u001b[0m\u001b[32m algorithm is a simple, \u001b[0m\n",
              "\u001b[32measy 5 min readHow To Predict Diabetes using K-Nearest Neighbor in R In this article, we are going to predict \u001b[0m\n",
              "\u001b[32mDiabetes using the K-Nearest Neighbour algorithm and analyze on Diabetes dataset using the R Programming Language. \u001b[0m\n",
              "\u001b[32mWhat is the K-Nearest Neighbor algorithm?The K-Nearest Neighbor \u001b[0m\u001b[32m(\u001b[0m\u001b[32mKNN\u001b[0m\u001b[32m)\u001b[0m\u001b[32m algorithm is a popular supervised learning \u001b[0m\n",
              "\u001b[32mclassifier frequently used by d 13 min readImplementing DBSCAN algorithm using Sklearn \u001b[0m\u001b[32m[\u001b[0m\u001b[32m...\u001b[0m\u001b[32m]\u001b[0m\u001b[32m Improve\\n\\nSuggest \u001b[0m\n",
              "\u001b[32mchanges\\n\\n18 Likes\\n\\nLike\\n\\nReport\\n\\nK-Nearest Neighbors \u001b[0m\u001b[32m(\u001b[0m\u001b[32mKNN\u001b[0m\u001b[32m)\u001b[0m\u001b[32m works by identifying the \\'k\\' nearest data \u001b[0m\n",
              "\u001b[32mpoints called as neighbors to a given input and predicting its class or value based on the majority class or the \u001b[0m\n",
              "\u001b[32maverage of its neighbors. In this article we will implement it using Python\\'s Scikit-Learn library.\\n\\n1. \u001b[0m\n",
              "\u001b[32mGenerating and Visualizing the 2D Data\\n-------------------------------------------------'\u001b[0m,\n",
              "            \u001b[33mtool_call_id\u001b[0m=\u001b[32m'n5shpc844'\u001b[0m\n",
              "        \u001b[1m)\u001b[0m,\n",
              "        \u001b[1;35mToolMessage\u001b[0m\u001b[1m(\u001b[0m\n",
              "            \u001b[33mcontent\u001b[0m=\u001b[32m'\u001b[0m\u001b[32m[\u001b[0m\u001b[32m{\u001b[0m\u001b[32m\"summary\": \"Work Online\", \"start\": \"2025-08-08T19:45:00+07:00\", \"end\": \u001b[0m\n",
              "\u001b[32m\"2025-08-08T21:15:00+07:00\"\u001b[0m\u001b[32m}\u001b[0m\u001b[32m, \u001b[0m\u001b[32m{\u001b[0m\u001b[32m\"summary\": \"Take a nap\", \"start\": \"2025-08-11T08:45:00+07:00\", \"end\": \u001b[0m\n",
              "\u001b[32m\"2025-08-11T13:00:00+07:00\"\u001b[0m\u001b[32m}\u001b[0m\u001b[32m, \u001b[0m\u001b[32m{\u001b[0m\u001b[32m\"summary\": \"have a trip\", \"start\": \"2025-08-12T01:30:00+07:00\", \"end\": \u001b[0m\n",
              "\u001b[32m\"2025-08-12T05:30:00+07:00\"\u001b[0m\u001b[32m}\u001b[0m\u001b[32m, \u001b[0m\u001b[32m{\u001b[0m\u001b[32m\"summary\": \"go swimming\", \"start\": \"2025-08-14T07:15:00+07:00\", \"end\": \u001b[0m\n",
              "\u001b[32m\"2025-08-14T11:45:00+07:00\"\u001b[0m\u001b[32m}\u001b[0m\u001b[32m]\u001b[0m\u001b[32m'\u001b[0m,\n",
              "            \u001b[33mtool_call_id\u001b[0m=\u001b[32m'hqpfm0mqd'\u001b[0m\n",
              "        \u001b[1m)\u001b[0m\n",
              "    \u001b[1m]\u001b[0m\n",
              "\u001b[1m}\u001b[0m\n"
            ],
            "text/html": [
              "<pre style=\"white-space:pre;overflow-x:auto;line-height:normal;font-family:Menlo,'DejaVu Sans Mono',consolas,'Courier New',monospace\"><span style=\"font-weight: bold\">{</span>\n",
              "    <span style=\"color: #008000; text-decoration-color: #008000\">'cross_agent_request'</span>: <span style=\"color: #800080; text-decoration-color: #800080; font-style: italic\">None</span>,\n",
              "    <span style=\"color: #008000; text-decoration-color: #008000\">'messages'</span>: <span style=\"font-weight: bold\">[</span>\n",
              "        <span style=\"color: #800080; text-decoration-color: #800080; font-weight: bold\">AIMessage</span><span style=\"font-weight: bold\">(</span>\n",
              "            <span style=\"color: #808000; text-decoration-color: #808000\">content</span>=<span style=\"color: #008000; text-decoration-color: #008000\">''</span>,\n",
              "            <span style=\"color: #808000; text-decoration-color: #808000\">additional_kwargs</span>=<span style=\"font-weight: bold\">{</span>\n",
              "                <span style=\"color: #008000; text-decoration-color: #008000\">'tool_calls'</span>: <span style=\"font-weight: bold\">[</span>\n",
              "                    <span style=\"font-weight: bold\">{</span>\n",
              "                        <span style=\"color: #008000; text-decoration-color: #008000\">'id'</span>: <span style=\"color: #008000; text-decoration-color: #008000\">'n5shpc844'</span>,\n",
              "                        <span style=\"color: #008000; text-decoration-color: #008000\">'function'</span>: <span style=\"font-weight: bold\">{</span>\n",
              "                            <span style=\"color: #008000; text-decoration-color: #008000\">'arguments'</span>: <span style=\"color: #008000; text-decoration-color: #008000\">'{\"query\":\"K-Nearest Neighbors algorithm tutorial\"}'</span>,\n",
              "                            <span style=\"color: #008000; text-decoration-color: #008000\">'name'</span>: <span style=\"color: #008000; text-decoration-color: #008000\">'tavily_web_search'</span>\n",
              "                        <span style=\"font-weight: bold\">}</span>,\n",
              "                        <span style=\"color: #008000; text-decoration-color: #008000\">'type'</span>: <span style=\"color: #008000; text-decoration-color: #008000\">'function'</span>\n",
              "                    <span style=\"font-weight: bold\">}</span>,\n",
              "                    <span style=\"font-weight: bold\">{</span>\n",
              "                        <span style=\"color: #008000; text-decoration-color: #008000\">'id'</span>: <span style=\"color: #008000; text-decoration-color: #008000\">'hqpfm0mqd'</span>,\n",
              "                        <span style=\"color: #008000; text-decoration-color: #008000\">'function'</span>: <span style=\"font-weight: bold\">{</span><span style=\"color: #008000; text-decoration-color: #008000\">'arguments'</span>: <span style=\"color: #008000; text-decoration-color: #008000\">'{\"days_ahead\":7}'</span>, <span style=\"color: #008000; text-decoration-color: #008000\">'name'</span>: <span style=\"color: #008000; text-decoration-color: #008000\">'google_calendar_reader'</span><span style=\"font-weight: bold\">}</span>,\n",
              "                        <span style=\"color: #008000; text-decoration-color: #008000\">'type'</span>: <span style=\"color: #008000; text-decoration-color: #008000\">'function'</span>\n",
              "                    <span style=\"font-weight: bold\">}</span>\n",
              "                <span style=\"font-weight: bold\">]</span>\n",
              "            <span style=\"font-weight: bold\">}</span>,\n",
              "            <span style=\"color: #808000; text-decoration-color: #808000\">response_metadata</span>=<span style=\"font-weight: bold\">{</span>\n",
              "                <span style=\"color: #008000; text-decoration-color: #008000\">'token_usage'</span>: <span style=\"font-weight: bold\">{</span>\n",
              "                    <span style=\"color: #008000; text-decoration-color: #008000\">'completion_tokens'</span>: <span style=\"color: #008080; text-decoration-color: #008080; font-weight: bold\">124</span>,\n",
              "                    <span style=\"color: #008000; text-decoration-color: #008000\">'prompt_tokens'</span>: <span style=\"color: #008080; text-decoration-color: #008080; font-weight: bold\">1239</span>,\n",
              "                    <span style=\"color: #008000; text-decoration-color: #008000\">'total_tokens'</span>: <span style=\"color: #008080; text-decoration-color: #008080; font-weight: bold\">1363</span>,\n",
              "                    <span style=\"color: #008000; text-decoration-color: #008000\">'completion_time'</span>: <span style=\"color: #008080; text-decoration-color: #008080; font-weight: bold\">0.427450847</span>,\n",
              "                    <span style=\"color: #008000; text-decoration-color: #008000\">'prompt_time'</span>: <span style=\"color: #008080; text-decoration-color: #008080; font-weight: bold\">0.047957464</span>,\n",
              "                    <span style=\"color: #008000; text-decoration-color: #008000\">'queue_time'</span>: <span style=\"color: #008080; text-decoration-color: #008080; font-weight: bold\">0.067616226</span>,\n",
              "                    <span style=\"color: #008000; text-decoration-color: #008000\">'total_time'</span>: <span style=\"color: #008080; text-decoration-color: #008080; font-weight: bold\">0.475408311</span>\n",
              "                <span style=\"font-weight: bold\">}</span>,\n",
              "                <span style=\"color: #008000; text-decoration-color: #008000\">'model_name'</span>: <span style=\"color: #008000; text-decoration-color: #008000\">'llama3-70b-8192'</span>,\n",
              "                <span style=\"color: #008000; text-decoration-color: #008000\">'system_fingerprint'</span>: <span style=\"color: #008000; text-decoration-color: #008000\">'fp_bf16903a67'</span>,\n",
              "                <span style=\"color: #008000; text-decoration-color: #008000\">'service_tier'</span>: <span style=\"color: #008000; text-decoration-color: #008000\">'on_demand'</span>,\n",
              "                <span style=\"color: #008000; text-decoration-color: #008000\">'finish_reason'</span>: <span style=\"color: #008000; text-decoration-color: #008000\">'tool_calls'</span>,\n",
              "                <span style=\"color: #008000; text-decoration-color: #008000\">'logprobs'</span>: <span style=\"color: #800080; text-decoration-color: #800080; font-style: italic\">None</span>\n",
              "            <span style=\"font-weight: bold\">}</span>,\n",
              "            <span style=\"color: #808000; text-decoration-color: #808000\">id</span>=<span style=\"color: #008000; text-decoration-color: #008000\">'run--d9d7dc1b-dab4-489a-900b-4f360cf84794-0'</span>,\n",
              "            <span style=\"color: #808000; text-decoration-color: #808000\">tool_calls</span>=<span style=\"font-weight: bold\">[</span>\n",
              "                <span style=\"font-weight: bold\">{</span>\n",
              "                    <span style=\"color: #008000; text-decoration-color: #008000\">'name'</span>: <span style=\"color: #008000; text-decoration-color: #008000\">'tavily_web_search'</span>,\n",
              "                    <span style=\"color: #008000; text-decoration-color: #008000\">'args'</span>: <span style=\"font-weight: bold\">{</span><span style=\"color: #008000; text-decoration-color: #008000\">'query'</span>: <span style=\"color: #008000; text-decoration-color: #008000\">'K-Nearest Neighbors algorithm tutorial'</span><span style=\"font-weight: bold\">}</span>,\n",
              "                    <span style=\"color: #008000; text-decoration-color: #008000\">'id'</span>: <span style=\"color: #008000; text-decoration-color: #008000\">'n5shpc844'</span>,\n",
              "                    <span style=\"color: #008000; text-decoration-color: #008000\">'type'</span>: <span style=\"color: #008000; text-decoration-color: #008000\">'tool_call'</span>\n",
              "                <span style=\"font-weight: bold\">}</span>,\n",
              "                <span style=\"font-weight: bold\">{</span>\n",
              "                    <span style=\"color: #008000; text-decoration-color: #008000\">'name'</span>: <span style=\"color: #008000; text-decoration-color: #008000\">'google_calendar_reader'</span>,\n",
              "                    <span style=\"color: #008000; text-decoration-color: #008000\">'args'</span>: <span style=\"font-weight: bold\">{</span><span style=\"color: #008000; text-decoration-color: #008000\">'days_ahead'</span>: <span style=\"color: #008080; text-decoration-color: #008080; font-weight: bold\">7</span><span style=\"font-weight: bold\">}</span>,\n",
              "                    <span style=\"color: #008000; text-decoration-color: #008000\">'id'</span>: <span style=\"color: #008000; text-decoration-color: #008000\">'hqpfm0mqd'</span>,\n",
              "                    <span style=\"color: #008000; text-decoration-color: #008000\">'type'</span>: <span style=\"color: #008000; text-decoration-color: #008000\">'tool_call'</span>\n",
              "                <span style=\"font-weight: bold\">}</span>\n",
              "            <span style=\"font-weight: bold\">]</span>,\n",
              "            <span style=\"color: #808000; text-decoration-color: #808000\">usage_metadata</span>=<span style=\"font-weight: bold\">{</span><span style=\"color: #008000; text-decoration-color: #008000\">'input_tokens'</span>: <span style=\"color: #008080; text-decoration-color: #008080; font-weight: bold\">1239</span>, <span style=\"color: #008000; text-decoration-color: #008000\">'output_tokens'</span>: <span style=\"color: #008080; text-decoration-color: #008080; font-weight: bold\">124</span>, <span style=\"color: #008000; text-decoration-color: #008000\">'total_tokens'</span>: <span style=\"color: #008080; text-decoration-color: #008080; font-weight: bold\">1363</span><span style=\"font-weight: bold\">}</span>\n",
              "        <span style=\"font-weight: bold\">)</span>,\n",
              "        <span style=\"color: #800080; text-decoration-color: #800080; font-weight: bold\">ToolMessage</span><span style=\"font-weight: bold\">(</span>\n",
              "            <span style=\"color: #808000; text-decoration-color: #808000\">content</span>=<span style=\"color: #008000; text-decoration-color: #008000\">'Source: </span>\n",
              "<span style=\"color: #008000; text-decoration-color: #008000\">https://www.datacamp.com/tutorial/k-nearest-neighbor-classification-scikit-learn\\nContent: This tutorial will cover</span>\n",
              "<span style=\"color: #008000; text-decoration-color: #008000\">the concept, workflow, and examples of the k-nearest neighbors (kNN) algorithm. This is a popular supervised model </span>\n",
              "<span style=\"color: #008000; text-decoration-color: #008000\">used for both classification and regression and is a useful way to understand distance functions, voting systems, </span>\n",
              "<span style=\"color: #008000; text-decoration-color: #008000\">and hyperparameter optimization. [...] ### Machine Learning in R for beginners\\n\\nRelated\\n\\nTutorial ### </span>\n",
              "<span style=\"color: #008000; text-decoration-color: #008000\">Introduction to Machine Learning in Python\\n\\nIn this tutorial, you will be introduced to the world of Machine </span>\n",
              "<span style=\"color: #008000; text-decoration-color: #008000\">Learning (ML) with Python. To understand ML practically, you will be using a well-known machine learning algorithm </span>\n",
              "<span style=\"color: #008000; text-decoration-color: #008000\">called K-Nearest Neighbor (KNN) with Python.\\n\\nImage 10: Aditya Sharma\\'s photo\\n\\nAditya Sharma\\n\\n14 </span>\n",
              "<span style=\"color: #008000; text-decoration-color: #008000\">min\\n\\nTutorial ### K-Nearest Neighbors (KNN) Classification with R Tutorial [...] The Supervised Learning with </span>\n",
              "<span style=\"color: #008000; text-decoration-color: #008000\">scikit-learn course is the entry point to DataCamp\\'s machine learning in Python curriculum and covers k-nearest </span>\n",
              "<span style=\"color: #008000; text-decoration-color: #008000\">neighbors.\\n   The Anomaly Detection in Python, Dealing with Missing Data in Python, and Machine Learning for </span>\n",
              "<span style=\"color: #008000; text-decoration-color: #008000\">Finance in Python courses all show examples of using k-nearest neighbors.\\n   The Decision Tree Classification in </span>\n",
              "<span style=\"color: #008000; text-decoration-color: #008000\">Python Tutorial covers another machine learning model for classifying data.\\n\\nSource: </span>\n",
              "<span style=\"color: #008000; text-decoration-color: #008000\">https://www.ibm.com/think/topics/knn\\nContent: K-nearest neighbors and Python\\n------------------------------\\n\\nTo</span>\n",
              "<span style=\"color: #008000; text-decoration-color: #008000\">delve deeper, you can learn more about the k-NN algorithm by using Python and scikit-learn (also known as sklearn).</span>\n",
              "<span style=\"color: #008000; text-decoration-color: #008000\">Ourtutorialin Watson Studio helps you learn the basic syntax from this library, which also contains other popular </span>\n",
              "<span style=\"color: #008000; text-decoration-color: #008000\">libraries, like NumPy, pandas, and Matplotlib. The following code is an example of how to create and predict with a</span>\n",
              "<span style=\"color: #008000; text-decoration-color: #008000\">KNN model:\\n\\nfrom sklearn.neighbors import KNeighborsClassifier\\n\\nSource: </span>\n",
              "<span style=\"color: #008000; text-decoration-color: #008000\">https://www.analyticsvidhya.com/blog/2018/03/introduction-k-neighbours-algorithm-clustering/\\nContent: The </span>\n",
              "<span style=\"color: #008000; text-decoration-color: #008000\">k-nearest neighbors (KNN) algorithm is a simple, supervised machine learning method that makes predictions based on</span>\n",
              "<span style=\"color: #008000; text-decoration-color: #008000\">how close a data point is to others. It’s widely used for both classification and regression tasks because of its </span>\n",
              "<span style=\"color: #008000; text-decoration-color: #008000\">simplicity and popularity. [...] Next, the algorithm identifies the K nearest neighbors to the input data point </span>\n",
              "<span style=\"color: #008000; text-decoration-color: #008000\">based on their distances. In the case of classification, the algorithm assigns the most common class label among </span>\n",
              "<span style=\"color: #008000; text-decoration-color: #008000\">the K neighbors as the predicted label for the input data point. For regression, it calculates the average or </span>\n",
              "<span style=\"color: #008000; text-decoration-color: #008000\">weighted average of the target values of the K neighbors to predict the value for the input data point. [...] 1.   </span>\n",
              "<span style=\"color: #008000; text-decoration-color: #008000\">Load the data\\n2.   Initialise the value of k\\n3.   For getting the predicted class, iterate from 1 to total number</span>\n",
              "<span style=\"color: #008000; text-decoration-color: #008000\">of training data points\\n\\nSource: https://www.geeksforgeeks.org/machine-learning/k-nearest-neighbours/\\nContent: </span>\n",
              "<span style=\"color: #008000; text-decoration-color: #008000\">Thе K-Nearest Neighbors (KNN) algorithm operates on the principle of similarity where it predicts the label or </span>\n",
              "<span style=\"color: #008000; text-decoration-color: #008000\">value of a new data point by considering the labels or values of its K nearest neighbors in the training </span>\n",
              "<span style=\"color: #008000; text-decoration-color: #008000\">dataset.\\n\\nImage 10: Workings of KNN algorithm.png)\\n\\n### Step 1: Selecting the optimal value of K\\n\\n   K </span>\n",
              "<span style=\"color: #008000; text-decoration-color: #008000\">represents the number of nearest neighbors that needs to be considered while making prediction. \\n\\n### Step 2: </span>\n",
              "<span style=\"color: #008000; text-decoration-color: #008000\">Calculating distance [...] K-Nearest Neighbors (KNN) is a supervised machine learning algorithm generally used for </span>\n",
              "<span style=\"color: #008000; text-decoration-color: #008000\">classification but can also be used for regression tasks. It works by finding the \"k\" closest data points </span>\n",
              "<span style=\"color: #008000; text-decoration-color: #008000\">(neighbors) to a given input and makesa predictions based on the majority class (for classification) or the average</span>\n",
              "<span style=\"color: #008000; text-decoration-color: #008000\">value (for regression). Since KNN makes no assumptions about the underlying data distribution it makes it a </span>\n",
              "<span style=\"color: #008000; text-decoration-color: #008000\">non-parametric and instance-based learning method. [...] In the k-Nearest Neighbours algorithm k is just a number </span>\n",
              "<span style=\"color: #008000; text-decoration-color: #008000\">that tells the algorithm how many nearby points or neighbors to look at when it makes a decision.\\n\\nExample: </span>\n",
              "<span style=\"color: #008000; text-decoration-color: #008000\">Imagine you\\'re deciding which fruit it is based on its shape and size. You compare it to fruits you already </span>\n",
              "<span style=\"color: #008000; text-decoration-color: #008000\">know.\\n\\n   If k = 3, the algorithm looks at the 3 closest fruits to the new one.\\n   If 2 of those 3 fruits are </span>\n",
              "<span style=\"color: #008000; text-decoration-color: #008000\">apples and 1 is a banana, the algorithm says the new fruit is an apple because most of its neighbors are </span>\n",
              "<span style=\"color: #008000; text-decoration-color: #008000\">apples.\\n\\nSource: https://www.geeksforgeeks.org/machine-learning/k-nearest-neighbor-algorithm-in-python/\\nContent:</span>\n",
              "<span style=\"color: #008000; text-decoration-color: #008000\">K-Nearest Neighbor(KNN) Algorithm K-Nearest Neighbors (KNN) is a supervised machine learning algorithm generally </span>\n",
              "<span style=\"color: #008000; text-decoration-color: #008000\">used for classification but can also be used for regression tasks. It works by finding the \"k\" closest data points </span>\n",
              "<span style=\"color: #008000; text-decoration-color: #008000\">(neighbors) to a given input and makesa predictions based on the majority class (for classification) or th 8 min </span>\n",
              "<span style=\"color: #008000; text-decoration-color: #008000\">readImplementation of K-Nearest Neighbors from Scratch using Python Instance-Based LearningK Nearest Neighbors </span>\n",
              "<span style=\"color: #008000; text-decoration-color: #008000\">Classification is one of the classification [...] detection. The K-Nearest Neighbors (KNN) algorithm is a simple, </span>\n",
              "<span style=\"color: #008000; text-decoration-color: #008000\">easy 5 min readHow To Predict Diabetes using K-Nearest Neighbor in R In this article, we are going to predict </span>\n",
              "<span style=\"color: #008000; text-decoration-color: #008000\">Diabetes using the K-Nearest Neighbour algorithm and analyze on Diabetes dataset using the R Programming Language. </span>\n",
              "<span style=\"color: #008000; text-decoration-color: #008000\">What is the K-Nearest Neighbor algorithm?The K-Nearest Neighbor (KNN) algorithm is a popular supervised learning </span>\n",
              "<span style=\"color: #008000; text-decoration-color: #008000\">classifier frequently used by d 13 min readImplementing DBSCAN algorithm using Sklearn [...] Improve\\n\\nSuggest </span>\n",
              "<span style=\"color: #008000; text-decoration-color: #008000\">changes\\n\\n18 Likes\\n\\nLike\\n\\nReport\\n\\nK-Nearest Neighbors (KNN) works by identifying the \\'k\\' nearest data </span>\n",
              "<span style=\"color: #008000; text-decoration-color: #008000\">points called as neighbors to a given input and predicting its class or value based on the majority class or the </span>\n",
              "<span style=\"color: #008000; text-decoration-color: #008000\">average of its neighbors. In this article we will implement it using Python\\'s Scikit-Learn library.\\n\\n1. </span>\n",
              "<span style=\"color: #008000; text-decoration-color: #008000\">Generating and Visualizing the 2D Data\\n-------------------------------------------------'</span>,\n",
              "            <span style=\"color: #808000; text-decoration-color: #808000\">tool_call_id</span>=<span style=\"color: #008000; text-decoration-color: #008000\">'n5shpc844'</span>\n",
              "        <span style=\"font-weight: bold\">)</span>,\n",
              "        <span style=\"color: #800080; text-decoration-color: #800080; font-weight: bold\">ToolMessage</span><span style=\"font-weight: bold\">(</span>\n",
              "            <span style=\"color: #808000; text-decoration-color: #808000\">content</span>=<span style=\"color: #008000; text-decoration-color: #008000\">'[{\"summary\": \"Work Online\", \"start\": \"2025-08-08T19:45:00+07:00\", \"end\": </span>\n",
              "<span style=\"color: #008000; text-decoration-color: #008000\">\"2025-08-08T21:15:00+07:00\"}, {\"summary\": \"Take a nap\", \"start\": \"2025-08-11T08:45:00+07:00\", \"end\": </span>\n",
              "<span style=\"color: #008000; text-decoration-color: #008000\">\"2025-08-11T13:00:00+07:00\"}, {\"summary\": \"have a trip\", \"start\": \"2025-08-12T01:30:00+07:00\", \"end\": </span>\n",
              "<span style=\"color: #008000; text-decoration-color: #008000\">\"2025-08-12T05:30:00+07:00\"}, {\"summary\": \"go swimming\", \"start\": \"2025-08-14T07:15:00+07:00\", \"end\": </span>\n",
              "<span style=\"color: #008000; text-decoration-color: #008000\">\"2025-08-14T11:45:00+07:00\"}]'</span>,\n",
              "            <span style=\"color: #808000; text-decoration-color: #808000\">tool_call_id</span>=<span style=\"color: #008000; text-decoration-color: #008000\">'hqpfm0mqd'</span>\n",
              "        <span style=\"font-weight: bold\">)</span>\n",
              "    <span style=\"font-weight: bold\">]</span>\n",
              "<span style=\"font-weight: bold\">}</span>\n",
              "</pre>\n"
            ]
          },
          "metadata": {}
        },
        {
          "output_type": "stream",
          "name": "stdout",
          "text": [
            "\n",
            "--- [PLANNER] Bắt đầu làm việc... ---\n",
            "--- [PLANNER] Đã tạo sản phẩm thành công.\n"
          ]
        },
        {
          "output_type": "display_data",
          "data": {
            "text/plain": [
              "\n",
              "✅ \u001b[1;35mHoàn thành bước:\u001b[0m \u001b[33mplanner\u001b[0m\n"
            ],
            "text/html": [
              "<pre style=\"white-space:pre;overflow-x:auto;line-height:normal;font-family:Menlo,'DejaVu Sans Mono',consolas,'Courier New',monospace\">\n",
              "✅ <span style=\"color: #800080; text-decoration-color: #800080; font-weight: bold\">Hoàn thành bước:</span> <span style=\"color: #808000; text-decoration-color: #808000\">planner</span>\n",
              "</pre>\n"
            ]
          },
          "metadata": {}
        },
        {
          "output_type": "display_data",
          "data": {
            "text/plain": [
              "\u001b[1m{\u001b[0m\n",
              "    \u001b[32m'agent_outputs'\u001b[0m: \u001b[1m{\u001b[0m\n",
              "        \u001b[32m'plan'\u001b[0m: \u001b[32m\"Based on the provided information, I will create a detailed study plan for learning about \u001b[0m\n",
              "\u001b[32mK-Nearest Neighbors \u001b[0m\u001b[32m(\u001b[0m\u001b[32mKNN\u001b[0m\u001b[32m)\u001b[0m\u001b[32m algorithm. Considering the student's learning preferences and schedule, I recommend the \u001b[0m\n",
              "\u001b[32mfollowing plan:\\n\\n1. Morning study sessions \u001b[0m\u001b[32m(\u001b[0m\u001b[32m9 AM - 12 PM\u001b[0m\u001b[32m)\u001b[0m\u001b[32m with 45-minute focus and 15-minute breaks.\\n\\n2. Start \u001b[0m\n",
              "\u001b[32mwith understanding the concept and workflow of KNN algorithm, including its applications in classification and \u001b[0m\n",
              "\u001b[32mregression tasks.\\n\\n3. Watch tutorials and videos on KNN, such as those provided by DataCamp, IBM, and \u001b[0m\n",
              "\u001b[32mGeeksforGeeks.\\n\\n4. Implement KNN from scratch using Python and scikit-learn library.\\n\\n5. Practice with examples\u001b[0m\n",
              "\u001b[32mand case studies, such as predicting diabetes using KNN in R.\\n\\n6. Review and analyze the results, identifying the\u001b[0m\n",
              "\u001b[32mstrengths and weaknesses of the algorithm.\\n\\nBy following this plan, the student should be able to gain a \u001b[0m\n",
              "\u001b[32mcomprehensive understanding of KNN algorithm and its applications.\"\u001b[0m\n",
              "    \u001b[1m}\u001b[0m\n",
              "\u001b[1m}\u001b[0m\n"
            ],
            "text/html": [
              "<pre style=\"white-space:pre;overflow-x:auto;line-height:normal;font-family:Menlo,'DejaVu Sans Mono',consolas,'Courier New',monospace\"><span style=\"font-weight: bold\">{</span>\n",
              "    <span style=\"color: #008000; text-decoration-color: #008000\">'agent_outputs'</span>: <span style=\"font-weight: bold\">{</span>\n",
              "        <span style=\"color: #008000; text-decoration-color: #008000\">'plan'</span>: <span style=\"color: #008000; text-decoration-color: #008000\">\"Based on the provided information, I will create a detailed study plan for learning about </span>\n",
              "<span style=\"color: #008000; text-decoration-color: #008000\">K-Nearest Neighbors (KNN) algorithm. Considering the student's learning preferences and schedule, I recommend the </span>\n",
              "<span style=\"color: #008000; text-decoration-color: #008000\">following plan:\\n\\n1. Morning study sessions (9 AM - 12 PM) with 45-minute focus and 15-minute breaks.\\n\\n2. Start </span>\n",
              "<span style=\"color: #008000; text-decoration-color: #008000\">with understanding the concept and workflow of KNN algorithm, including its applications in classification and </span>\n",
              "<span style=\"color: #008000; text-decoration-color: #008000\">regression tasks.\\n\\n3. Watch tutorials and videos on KNN, such as those provided by DataCamp, IBM, and </span>\n",
              "<span style=\"color: #008000; text-decoration-color: #008000\">GeeksforGeeks.\\n\\n4. Implement KNN from scratch using Python and scikit-learn library.\\n\\n5. Practice with examples</span>\n",
              "<span style=\"color: #008000; text-decoration-color: #008000\">and case studies, such as predicting diabetes using KNN in R.\\n\\n6. Review and analyze the results, identifying the</span>\n",
              "<span style=\"color: #008000; text-decoration-color: #008000\">strengths and weaknesses of the algorithm.\\n\\nBy following this plan, the student should be able to gain a </span>\n",
              "<span style=\"color: #008000; text-decoration-color: #008000\">comprehensive understanding of KNN algorithm and its applications.\"</span>\n",
              "    <span style=\"font-weight: bold\">}</span>\n",
              "<span style=\"font-weight: bold\">}</span>\n",
              "</pre>\n"
            ]
          },
          "metadata": {}
        },
        {
          "output_type": "stream",
          "name": "stdout",
          "text": [
            "\n",
            "--- [Critic] Bắt đầu đánh giá... ---\n",
            "--- [Critic] Lỗi nghiêm trọng: Error code: 400 - {'error': {'message': \"Failed to call a function. Please adjust your prompt. See 'failed_generation' for more details.\", 'type': 'invalid_request_error', 'code': 'tool_use_failed', 'failed_generation': '<tool-use>{\"tool_calls\": [{\"id\": \"pending\", \"type\": \"function\", \"function\": {\"name\": \"Critique\"}, \"parameters\": {\"critique\": \"The study plan is detailed and provides specific resources, but it lacks a clear timeline and milestones. It would be beneficial to include specific goals and deadlines for each step.\", \"revision_needed\": true}}}]}</tool-use>'}}\n",
            "\n",
            "--- [Revision Router] Đang kiểm tra kết quả phê bình...\n",
            "--- [Revision Router] Đạt chất lượng. Đánh dấu Planner hoàn thành.\n"
          ]
        },
        {
          "output_type": "display_data",
          "data": {
            "text/plain": [
              "\n",
              "✅ \u001b[1;35mHoàn thành bước:\u001b[0m \u001b[33mcritic\u001b[0m\n"
            ],
            "text/html": [
              "<pre style=\"white-space:pre;overflow-x:auto;line-height:normal;font-family:Menlo,'DejaVu Sans Mono',consolas,'Courier New',monospace\">\n",
              "✅ <span style=\"color: #800080; text-decoration-color: #800080; font-weight: bold\">Hoàn thành bước:</span> <span style=\"color: #808000; text-decoration-color: #808000\">critic</span>\n",
              "</pre>\n"
            ]
          },
          "metadata": {}
        },
        {
          "output_type": "display_data",
          "data": {
            "text/plain": [
              "\u001b[1m{\u001b[0m\u001b[32m'revision_needed'\u001b[0m: \u001b[3;92mTrue\u001b[0m, \u001b[32m'critique'\u001b[0m: \u001b[32m'Lỗi hệ thống trong Critic Agent.'\u001b[0m\u001b[1m}\u001b[0m\n"
            ],
            "text/html": [
              "<pre style=\"white-space:pre;overflow-x:auto;line-height:normal;font-family:Menlo,'DejaVu Sans Mono',consolas,'Courier New',monospace\"><span style=\"font-weight: bold\">{</span><span style=\"color: #008000; text-decoration-color: #008000\">'revision_needed'</span>: <span style=\"color: #00ff00; text-decoration-color: #00ff00; font-style: italic\">True</span>, <span style=\"color: #008000; text-decoration-color: #008000\">'critique'</span>: <span style=\"color: #008000; text-decoration-color: #008000\">'Lỗi hệ thống trong Critic Agent.'</span><span style=\"font-weight: bold\">}</span>\n",
              "</pre>\n"
            ]
          },
          "metadata": {}
        },
        {
          "output_type": "stream",
          "name": "stdout",
          "text": [
            "\n",
            "--- [State Manager] Đánh dấu PLANNER đã hoàn thành.\n"
          ]
        },
        {
          "output_type": "display_data",
          "data": {
            "text/plain": [
              "\n",
              "✅ \u001b[1;35mHoàn thành bước:\u001b[0m \u001b[33mmark_planner_complete\u001b[0m\n"
            ],
            "text/html": [
              "<pre style=\"white-space:pre;overflow-x:auto;line-height:normal;font-family:Menlo,'DejaVu Sans Mono',consolas,'Courier New',monospace\">\n",
              "✅ <span style=\"color: #800080; text-decoration-color: #800080; font-weight: bold\">Hoàn thành bước:</span> <span style=\"color: #808000; text-decoration-color: #808000\">mark_planner_complete</span>\n",
              "</pre>\n"
            ]
          },
          "metadata": {}
        },
        {
          "output_type": "display_data",
          "data": {
            "text/plain": [
              "\u001b[1m{\u001b[0m\u001b[32m'completed_agents'\u001b[0m: \u001b[1m[\u001b[0m\u001b[32m'PLANNER'\u001b[0m\u001b[1m]\u001b[0m\u001b[1m}\u001b[0m\n"
            ],
            "text/html": [
              "<pre style=\"white-space:pre;overflow-x:auto;line-height:normal;font-family:Menlo,'DejaVu Sans Mono',consolas,'Courier New',monospace\"><span style=\"font-weight: bold\">{</span><span style=\"color: #008000; text-decoration-color: #008000\">'completed_agents'</span>: <span style=\"font-weight: bold\">[</span><span style=\"color: #008000; text-decoration-color: #008000\">'PLANNER'</span><span style=\"font-weight: bold\">]}</span>\n",
              "</pre>\n"
            ]
          },
          "metadata": {}
        },
        {
          "output_type": "stream",
          "name": "stdout",
          "text": [
            "\n",
            "--- [Memory Manager] Đang tóm tắt và dọn dẹp bộ nhớ...\n",
            "--- [Memory Manager] Tóm tắt mới: PLANNER đã hoàn thành nhưng không tạo ra kết quả nào.\n"
          ]
        },
        {
          "output_type": "display_data",
          "data": {
            "text/plain": [
              "\n",
              "✅ \u001b[1;35mHoàn thành bước:\u001b[0m \u001b[33msummarize_memory\u001b[0m\n"
            ],
            "text/html": [
              "<pre style=\"white-space:pre;overflow-x:auto;line-height:normal;font-family:Menlo,'DejaVu Sans Mono',consolas,'Courier New',monospace\">\n",
              "✅ <span style=\"color: #800080; text-decoration-color: #800080; font-weight: bold\">Hoàn thành bước:</span> <span style=\"color: #808000; text-decoration-color: #808000\">summarize_memory</span>\n",
              "</pre>\n"
            ]
          },
          "metadata": {}
        },
        {
          "output_type": "display_data",
          "data": {
            "text/plain": [
              "\u001b[1m{\u001b[0m\n",
              "    \u001b[32m'messages'\u001b[0m: \u001b[1m[\u001b[0m\n",
              "        \u001b[1;35mHumanMessage\u001b[0m\u001b[1m(\u001b[0m\n",
              "            \u001b[33mcontent\u001b[0m=\u001b[32m'Tuần tới tôi cần học về thuật toán K-Nearest Neighbors \u001b[0m\u001b[32m(\u001b[0m\u001b[32mKNN\u001b[0m\u001b[32m)\u001b[0m\u001b[32m. Lịch của tôi khá bận rộn, hãy \u001b[0m\n",
              "\u001b[32mtạo một kế hoạch học tập chi tiết, sau đó ghi chú lại các điểm chính và cho tôi một vài lời khuyên học tập.'\u001b[0m,\n",
              "            \u001b[33madditional_kwargs\u001b[0m=\u001b[1m{\u001b[0m\u001b[1m}\u001b[0m,\n",
              "            \u001b[33mresponse_metadata\u001b[0m=\u001b[1m{\u001b[0m\u001b[1m}\u001b[0m\n",
              "        \u001b[1m)\u001b[0m,\n",
              "        \u001b[1;35mSystemMessage\u001b[0m\u001b[1m(\u001b[0m\n",
              "            \u001b[33mcontent\u001b[0m=\u001b[32m'Bối cảnh: PLANNER đã hoàn thành nhưng không tạo ra kết quả nào.'\u001b[0m,\n",
              "            \u001b[33madditional_kwargs\u001b[0m=\u001b[1m{\u001b[0m\u001b[1m}\u001b[0m,\n",
              "            \u001b[33mresponse_metadata\u001b[0m=\u001b[1m{\u001b[0m\u001b[1m}\u001b[0m\n",
              "        \u001b[1m)\u001b[0m\n",
              "    \u001b[1m]\u001b[0m\n",
              "\u001b[1m}\u001b[0m\n"
            ],
            "text/html": [
              "<pre style=\"white-space:pre;overflow-x:auto;line-height:normal;font-family:Menlo,'DejaVu Sans Mono',consolas,'Courier New',monospace\"><span style=\"font-weight: bold\">{</span>\n",
              "    <span style=\"color: #008000; text-decoration-color: #008000\">'messages'</span>: <span style=\"font-weight: bold\">[</span>\n",
              "        <span style=\"color: #800080; text-decoration-color: #800080; font-weight: bold\">HumanMessage</span><span style=\"font-weight: bold\">(</span>\n",
              "            <span style=\"color: #808000; text-decoration-color: #808000\">content</span>=<span style=\"color: #008000; text-decoration-color: #008000\">'Tuần tới tôi cần học về thuật toán K-Nearest Neighbors (KNN). Lịch của tôi khá bận rộn, hãy </span>\n",
              "<span style=\"color: #008000; text-decoration-color: #008000\">tạo một kế hoạch học tập chi tiết, sau đó ghi chú lại các điểm chính và cho tôi một vài lời khuyên học tập.'</span>,\n",
              "            <span style=\"color: #808000; text-decoration-color: #808000\">additional_kwargs</span>=<span style=\"font-weight: bold\">{}</span>,\n",
              "            <span style=\"color: #808000; text-decoration-color: #808000\">response_metadata</span>=<span style=\"font-weight: bold\">{}</span>\n",
              "        <span style=\"font-weight: bold\">)</span>,\n",
              "        <span style=\"color: #800080; text-decoration-color: #800080; font-weight: bold\">SystemMessage</span><span style=\"font-weight: bold\">(</span>\n",
              "            <span style=\"color: #808000; text-decoration-color: #808000\">content</span>=<span style=\"color: #008000; text-decoration-color: #008000\">'Bối cảnh: PLANNER đã hoàn thành nhưng không tạo ra kết quả nào.'</span>,\n",
              "            <span style=\"color: #808000; text-decoration-color: #808000\">additional_kwargs</span>=<span style=\"font-weight: bold\">{}</span>,\n",
              "            <span style=\"color: #808000; text-decoration-color: #808000\">response_metadata</span>=<span style=\"font-weight: bold\">{}</span>\n",
              "        <span style=\"font-weight: bold\">)</span>\n",
              "    <span style=\"font-weight: bold\">]</span>\n",
              "<span style=\"font-weight: bold\">}</span>\n",
              "</pre>\n"
            ]
          },
          "metadata": {}
        },
        {
          "output_type": "stream",
          "name": "stdout",
          "text": [
            "\n",
            "--- [Tool User] Đang làm việc... ---\n"
          ]
        },
        {
          "output_type": "display_data",
          "data": {
            "text/plain": [
              "\n",
              "✅ \u001b[1;35mHoàn thành bước:\u001b[0m \u001b[33mtool_user\u001b[0m\n"
            ],
            "text/html": [
              "<pre style=\"white-space:pre;overflow-x:auto;line-height:normal;font-family:Menlo,'DejaVu Sans Mono',consolas,'Courier New',monospace\">\n",
              "✅ <span style=\"color: #800080; text-decoration-color: #800080; font-weight: bold\">Hoàn thành bước:</span> <span style=\"color: #808000; text-decoration-color: #808000\">tool_user</span>\n",
              "</pre>\n"
            ]
          },
          "metadata": {}
        },
        {
          "output_type": "display_data",
          "data": {
            "text/plain": [
              "\u001b[1m{\u001b[0m\n",
              "    \u001b[32m'messages'\u001b[0m: \u001b[1m[\u001b[0m\n",
              "        \u001b[1;35mAIMessage\u001b[0m\u001b[1m(\u001b[0m\n",
              "            \u001b[33mcontent\u001b[0m=\u001b[32m\"Based\u001b[0m\u001b[32m on your schedule, I've created a detailed learning plan for you to learn about the \u001b[0m\n",
              "\u001b[32mK-Nearest Neighbors \u001b[0m\u001b[32m(\u001b[0m\u001b[32mKNN\u001b[0m\u001b[32m)\u001b[0m\u001b[32m algorithm. Here's a suggested plan:\\n\\n**Day 1: Introduction to KNN \u001b[0m\u001b[32m(\u001b[0m\u001b[32m30 minutes\u001b[0m\u001b[32m)\u001b[0m\u001b[32m**\\n\\n* \u001b[0m\n",
              "\u001b[32mRead the introduction to KNN from the provided resources \u001b[0m\u001b[32m(\u001b[0m\u001b[32me.g., DataCamp, IBM, Analytics Vidhya, GeeksforGeeks\u001b[0m\u001b[32m)\u001b[0m\u001b[32m\\n* \u001b[0m\n",
              "\u001b[32mUnderstand the basic concept of KNN, its applications, and importance\\n* Take notes on the key points\\n\\n**Day 2: \u001b[0m\n",
              "\u001b[32mUnderstanding KNN Algorithm \u001b[0m\u001b[32m(\u001b[0m\u001b[32m60 minutes\u001b[0m\u001b[32m)\u001b[0m\u001b[32m**\\n\\n* Read about the KNN algorithm in detail \u001b[0m\u001b[32m(\u001b[0m\u001b[32me.g., how it works, steps \u001b[0m\n",
              "\u001b[32minvolved, advantages, and disadvantages\u001b[0m\u001b[32m)\u001b[0m\u001b[32m\\n* Watch video tutorials or online lectures to supplement your \u001b[0m\n",
              "\u001b[32munderstanding\\n* Take notes on the key points and summarize the algorithm in your own words\\n\\n**Day 3: \u001b[0m\n",
              "\u001b[32mImplementing KNN in Python \u001b[0m\u001b[32m(\u001b[0m\u001b[32m90 minutes\u001b[0m\u001b[32m)\u001b[0m\u001b[32m**\\n\\n* Choose a Python library \u001b[0m\u001b[32m(\u001b[0m\u001b[32me.g., scikit-learn\u001b[0m\u001b[32m)\u001b[0m\u001b[32m and implement a simple \u001b[0m\n",
              "\u001b[32mKNN algorithm\\n* Practice coding exercises or work on a project to solidify your understanding\\n* Take notes on any\u001b[0m\n",
              "\u001b[32mchallenges you face and how you overcome them\\n\\n**Day 4: KNN Applications and Case Studies \u001b[0m\u001b[32m(\u001b[0m\u001b[32m60 minutes\u001b[0m\u001b[32m)\u001b[0m\u001b[32m**\\n\\n* \u001b[0m\n",
              "\u001b[32mRead about real-world applications of KNN \u001b[0m\u001b[32m(\u001b[0m\u001b[32me.g., image classification, recommender systems, anomaly detection\u001b[0m\u001b[32m)\u001b[0m\u001b[32m\\n* \u001b[0m\n",
              "\u001b[32mStudy case studies or examples of KNN in action\\n* Take notes on how KNN is used in different domains and \u001b[0m\n",
              "\u001b[32mindustries\\n\\n**Day 5: Review and Practice \u001b[0m\u001b[32m(\u001b[0m\u001b[32m90 minutes\u001b[0m\u001b[32m)\u001b[0m\u001b[32m**\\n\\n* Review all the concepts learned throughout the \u001b[0m\n",
              "\u001b[32mweek\\n* Practice coding exercises or work on a project to reinforce your understanding\\n* Take notes on any areas \u001b[0m\n",
              "\u001b[32mwhere you need more practice or review\\n\\n**Additional Tips:**\\n\\n* Set aside dedicated time each day to focus on \u001b[0m\n",
              "\u001b[32mlearning KNN\\n* Take breaks to avoid burnout and retain information better\\n* Practice coding exercises or work on \u001b[0m\n",
              "\u001b[32mprojects to solidify your understanding\\n* Join online communities or forums to ask questions and get feedback\\n* \u001b[0m\n",
              "\u001b[32mReview and practice regularly to reinforce your learning\\n\\nBy following this plan, you'll have a solid \u001b[0m\n",
              "\u001b[32munderstanding of the KNN algorithm and its applications. Remember to practice regularly and review the concepts to \u001b[0m\n",
              "\u001b[32mreinforce your learning. Good luck!\"\u001b[0m,\n",
              "            \u001b[33madditional_kwargs\u001b[0m=\u001b[1m{\u001b[0m\u001b[1m}\u001b[0m,\n",
              "            \u001b[33mresponse_metadata\u001b[0m=\u001b[1m{\u001b[0m\n",
              "                \u001b[32m'token_usage'\u001b[0m: \u001b[1m{\u001b[0m\n",
              "                    \u001b[32m'completion_tokens'\u001b[0m: \u001b[1;36m459\u001b[0m,\n",
              "                    \u001b[32m'prompt_tokens'\u001b[0m: \u001b[1;36m4594\u001b[0m,\n",
              "                    \u001b[32m'total_tokens'\u001b[0m: \u001b[1;36m5053\u001b[0m,\n",
              "                    \u001b[32m'completion_time'\u001b[0m: \u001b[1;36m2.169292775\u001b[0m,\n",
              "                    \u001b[32m'prompt_time'\u001b[0m: \u001b[1;36m0.179073475\u001b[0m,\n",
              "                    \u001b[32m'queue_time'\u001b[0m: \u001b[1;36m0.012587043\u001b[0m,\n",
              "                    \u001b[32m'total_time'\u001b[0m: \u001b[1;36m2.3483662499999998\u001b[0m\n",
              "                \u001b[1m}\u001b[0m,\n",
              "                \u001b[32m'model_name'\u001b[0m: \u001b[32m'llama3-70b-8192'\u001b[0m,\n",
              "                \u001b[32m'system_fingerprint'\u001b[0m: \u001b[32m'fp_bf16903a67'\u001b[0m,\n",
              "                \u001b[32m'service_tier'\u001b[0m: \u001b[32m'on_demand'\u001b[0m,\n",
              "                \u001b[32m'finish_reason'\u001b[0m: \u001b[32m'stop'\u001b[0m,\n",
              "                \u001b[32m'logprobs'\u001b[0m: \u001b[3;35mNone\u001b[0m\n",
              "            \u001b[1m}\u001b[0m,\n",
              "            \u001b[33mid\u001b[0m=\u001b[32m'run--fd51786d-6349-4ffa-ba3f-af71c4b5dae0-0'\u001b[0m,\n",
              "            \u001b[33musage_metadata\u001b[0m=\u001b[1m{\u001b[0m\u001b[32m'input_tokens'\u001b[0m: \u001b[1;36m4594\u001b[0m, \u001b[32m'output_tokens'\u001b[0m: \u001b[1;36m459\u001b[0m, \u001b[32m'total_tokens'\u001b[0m: \u001b[1;36m5053\u001b[0m\u001b[1m}\u001b[0m\n",
              "        \u001b[1m)\u001b[0m\n",
              "    \u001b[1m]\u001b[0m\n",
              "\u001b[1m}\u001b[0m\n"
            ],
            "text/html": [
              "<pre style=\"white-space:pre;overflow-x:auto;line-height:normal;font-family:Menlo,'DejaVu Sans Mono',consolas,'Courier New',monospace\"><span style=\"font-weight: bold\">{</span>\n",
              "    <span style=\"color: #008000; text-decoration-color: #008000\">'messages'</span>: <span style=\"font-weight: bold\">[</span>\n",
              "        <span style=\"color: #800080; text-decoration-color: #800080; font-weight: bold\">AIMessage</span><span style=\"font-weight: bold\">(</span>\n",
              "            <span style=\"color: #808000; text-decoration-color: #808000\">content</span>=<span style=\"color: #008000; text-decoration-color: #008000\">\"Based on your schedule, I've created a detailed learning plan for you to learn about the </span>\n",
              "<span style=\"color: #008000; text-decoration-color: #008000\">K-Nearest Neighbors (KNN) algorithm. Here's a suggested plan:\\n\\n**Day 1: Introduction to KNN (30 minutes)**\\n\\n* </span>\n",
              "<span style=\"color: #008000; text-decoration-color: #008000\">Read the introduction to KNN from the provided resources (e.g., DataCamp, IBM, Analytics Vidhya, GeeksforGeeks)\\n* </span>\n",
              "<span style=\"color: #008000; text-decoration-color: #008000\">Understand the basic concept of KNN, its applications, and importance\\n* Take notes on the key points\\n\\n**Day 2: </span>\n",
              "<span style=\"color: #008000; text-decoration-color: #008000\">Understanding KNN Algorithm (60 minutes)**\\n\\n* Read about the KNN algorithm in detail (e.g., how it works, steps </span>\n",
              "<span style=\"color: #008000; text-decoration-color: #008000\">involved, advantages, and disadvantages)\\n* Watch video tutorials or online lectures to supplement your </span>\n",
              "<span style=\"color: #008000; text-decoration-color: #008000\">understanding\\n* Take notes on the key points and summarize the algorithm in your own words\\n\\n**Day 3: </span>\n",
              "<span style=\"color: #008000; text-decoration-color: #008000\">Implementing KNN in Python (90 minutes)**\\n\\n* Choose a Python library (e.g., scikit-learn) and implement a simple </span>\n",
              "<span style=\"color: #008000; text-decoration-color: #008000\">KNN algorithm\\n* Practice coding exercises or work on a project to solidify your understanding\\n* Take notes on any</span>\n",
              "<span style=\"color: #008000; text-decoration-color: #008000\">challenges you face and how you overcome them\\n\\n**Day 4: KNN Applications and Case Studies (60 minutes)**\\n\\n* </span>\n",
              "<span style=\"color: #008000; text-decoration-color: #008000\">Read about real-world applications of KNN (e.g., image classification, recommender systems, anomaly detection)\\n* </span>\n",
              "<span style=\"color: #008000; text-decoration-color: #008000\">Study case studies or examples of KNN in action\\n* Take notes on how KNN is used in different domains and </span>\n",
              "<span style=\"color: #008000; text-decoration-color: #008000\">industries\\n\\n**Day 5: Review and Practice (90 minutes)**\\n\\n* Review all the concepts learned throughout the </span>\n",
              "<span style=\"color: #008000; text-decoration-color: #008000\">week\\n* Practice coding exercises or work on a project to reinforce your understanding\\n* Take notes on any areas </span>\n",
              "<span style=\"color: #008000; text-decoration-color: #008000\">where you need more practice or review\\n\\n**Additional Tips:**\\n\\n* Set aside dedicated time each day to focus on </span>\n",
              "<span style=\"color: #008000; text-decoration-color: #008000\">learning KNN\\n* Take breaks to avoid burnout and retain information better\\n* Practice coding exercises or work on </span>\n",
              "<span style=\"color: #008000; text-decoration-color: #008000\">projects to solidify your understanding\\n* Join online communities or forums to ask questions and get feedback\\n* </span>\n",
              "<span style=\"color: #008000; text-decoration-color: #008000\">Review and practice regularly to reinforce your learning\\n\\nBy following this plan, you'll have a solid </span>\n",
              "<span style=\"color: #008000; text-decoration-color: #008000\">understanding of the KNN algorithm and its applications. Remember to practice regularly and review the concepts to </span>\n",
              "<span style=\"color: #008000; text-decoration-color: #008000\">reinforce your learning. Good luck!\"</span>,\n",
              "            <span style=\"color: #808000; text-decoration-color: #808000\">additional_kwargs</span>=<span style=\"font-weight: bold\">{}</span>,\n",
              "            <span style=\"color: #808000; text-decoration-color: #808000\">response_metadata</span>=<span style=\"font-weight: bold\">{</span>\n",
              "                <span style=\"color: #008000; text-decoration-color: #008000\">'token_usage'</span>: <span style=\"font-weight: bold\">{</span>\n",
              "                    <span style=\"color: #008000; text-decoration-color: #008000\">'completion_tokens'</span>: <span style=\"color: #008080; text-decoration-color: #008080; font-weight: bold\">459</span>,\n",
              "                    <span style=\"color: #008000; text-decoration-color: #008000\">'prompt_tokens'</span>: <span style=\"color: #008080; text-decoration-color: #008080; font-weight: bold\">4594</span>,\n",
              "                    <span style=\"color: #008000; text-decoration-color: #008000\">'total_tokens'</span>: <span style=\"color: #008080; text-decoration-color: #008080; font-weight: bold\">5053</span>,\n",
              "                    <span style=\"color: #008000; text-decoration-color: #008000\">'completion_time'</span>: <span style=\"color: #008080; text-decoration-color: #008080; font-weight: bold\">2.169292775</span>,\n",
              "                    <span style=\"color: #008000; text-decoration-color: #008000\">'prompt_time'</span>: <span style=\"color: #008080; text-decoration-color: #008080; font-weight: bold\">0.179073475</span>,\n",
              "                    <span style=\"color: #008000; text-decoration-color: #008000\">'queue_time'</span>: <span style=\"color: #008080; text-decoration-color: #008080; font-weight: bold\">0.012587043</span>,\n",
              "                    <span style=\"color: #008000; text-decoration-color: #008000\">'total_time'</span>: <span style=\"color: #008080; text-decoration-color: #008080; font-weight: bold\">2.3483662499999998</span>\n",
              "                <span style=\"font-weight: bold\">}</span>,\n",
              "                <span style=\"color: #008000; text-decoration-color: #008000\">'model_name'</span>: <span style=\"color: #008000; text-decoration-color: #008000\">'llama3-70b-8192'</span>,\n",
              "                <span style=\"color: #008000; text-decoration-color: #008000\">'system_fingerprint'</span>: <span style=\"color: #008000; text-decoration-color: #008000\">'fp_bf16903a67'</span>,\n",
              "                <span style=\"color: #008000; text-decoration-color: #008000\">'service_tier'</span>: <span style=\"color: #008000; text-decoration-color: #008000\">'on_demand'</span>,\n",
              "                <span style=\"color: #008000; text-decoration-color: #008000\">'finish_reason'</span>: <span style=\"color: #008000; text-decoration-color: #008000\">'stop'</span>,\n",
              "                <span style=\"color: #008000; text-decoration-color: #008000\">'logprobs'</span>: <span style=\"color: #800080; text-decoration-color: #800080; font-style: italic\">None</span>\n",
              "            <span style=\"font-weight: bold\">}</span>,\n",
              "            <span style=\"color: #808000; text-decoration-color: #808000\">id</span>=<span style=\"color: #008000; text-decoration-color: #008000\">'run--fd51786d-6349-4ffa-ba3f-af71c4b5dae0-0'</span>,\n",
              "            <span style=\"color: #808000; text-decoration-color: #808000\">usage_metadata</span>=<span style=\"font-weight: bold\">{</span><span style=\"color: #008000; text-decoration-color: #008000\">'input_tokens'</span>: <span style=\"color: #008080; text-decoration-color: #008080; font-weight: bold\">4594</span>, <span style=\"color: #008000; text-decoration-color: #008000\">'output_tokens'</span>: <span style=\"color: #008080; text-decoration-color: #008080; font-weight: bold\">459</span>, <span style=\"color: #008000; text-decoration-color: #008000\">'total_tokens'</span>: <span style=\"color: #008080; text-decoration-color: #008080; font-weight: bold\">5053</span><span style=\"font-weight: bold\">}</span>\n",
              "        <span style=\"font-weight: bold\">)</span>\n",
              "    <span style=\"font-weight: bold\">]</span>\n",
              "<span style=\"font-weight: bold\">}</span>\n",
              "</pre>\n"
            ]
          },
          "metadata": {}
        },
        {
          "output_type": "error",
          "ename": "InvalidUpdateError",
          "evalue": "Expected dict, got <coroutine object simple_specialist_node at 0x7b1c0e914f40>\nFor troubleshooting, visit: https://python.langchain.com/docs/troubleshooting/errors/INVALID_GRAPH_NODE_RETURN_VALUE",
          "traceback": [
            "\u001b[0;31m---------------------------------------------------------------------------\u001b[0m",
            "\u001b[0;31mInvalidUpdateError\u001b[0m                        Traceback (most recent call last)",
            "\u001b[0;32m/tmp/ipython-input-2435493252.py\u001b[0m in \u001b[0;36m<cell line: 1>\u001b[0;34m()\u001b[0m\n\u001b[1;32m     44\u001b[0m \u001b[0;34m\u001b[0m\u001b[0m\n\u001b[1;32m     45\u001b[0m \u001b[0;31m# Chạy hàm chính\u001b[0m\u001b[0;34m\u001b[0m\u001b[0;34m\u001b[0m\u001b[0m\n\u001b[0;32m---> 46\u001b[0;31m \u001b[0;32mawait\u001b[0m \u001b[0mrun_atlas_2_0\u001b[0m\u001b[0;34m(\u001b[0m\u001b[0mprofile_data\u001b[0m\u001b[0;34m)\u001b[0m\u001b[0;34m\u001b[0m\u001b[0;34m\u001b[0m\u001b[0m\n\u001b[0m",
            "\u001b[0;32m/tmp/ipython-input-2435493252.py\u001b[0m in \u001b[0;36mrun_atlas_2_0\u001b[0;34m(profile_data)\u001b[0m\n\u001b[1;32m     24\u001b[0m     \u001b[0mfinal_state_snapshot\u001b[0m \u001b[0;34m=\u001b[0m \u001b[0;32mNone\u001b[0m\u001b[0;34m\u001b[0m\u001b[0;34m\u001b[0m\u001b[0m\n\u001b[1;32m     25\u001b[0m     \u001b[0;31m# <-- SỬA ĐỔI QUAN TRỌNG: Thêm config vào đây\u001b[0m\u001b[0;34m\u001b[0m\u001b[0;34m\u001b[0m\u001b[0m\n\u001b[0;32m---> 26\u001b[0;31m     \u001b[0;32masync\u001b[0m \u001b[0;32mfor\u001b[0m \u001b[0mstep\u001b[0m \u001b[0;32min\u001b[0m \u001b[0mapp\u001b[0m\u001b[0;34m.\u001b[0m\u001b[0mastream\u001b[0m\u001b[0;34m(\u001b[0m\u001b[0minitial_state\u001b[0m\u001b[0;34m,\u001b[0m \u001b[0mconfig\u001b[0m\u001b[0;34m=\u001b[0m\u001b[0;34m{\u001b[0m\u001b[0;34m\"recursion_limit\"\u001b[0m\u001b[0;34m:\u001b[0m \u001b[0;36m50\u001b[0m\u001b[0;34m}\u001b[0m\u001b[0;34m)\u001b[0m\u001b[0;34m:\u001b[0m\u001b[0;34m\u001b[0m\u001b[0;34m\u001b[0m\u001b[0m\n\u001b[0m\u001b[1;32m     27\u001b[0m         \u001b[0mnode_name\u001b[0m \u001b[0;34m=\u001b[0m \u001b[0mlist\u001b[0m\u001b[0;34m(\u001b[0m\u001b[0mstep\u001b[0m\u001b[0;34m.\u001b[0m\u001b[0mkeys\u001b[0m\u001b[0;34m(\u001b[0m\u001b[0;34m)\u001b[0m\u001b[0;34m)\u001b[0m\u001b[0;34m[\u001b[0m\u001b[0;36m0\u001b[0m\u001b[0;34m]\u001b[0m\u001b[0;34m\u001b[0m\u001b[0;34m\u001b[0m\u001b[0m\n\u001b[1;32m     28\u001b[0m         \u001b[0mconsole\u001b[0m\u001b[0;34m.\u001b[0m\u001b[0mprint\u001b[0m\u001b[0;34m(\u001b[0m\u001b[0;34mf\"\\n✅ [bold magenta]Hoàn thành bước:[/] [yellow]{node_name}[/yellow]\"\u001b[0m\u001b[0;34m)\u001b[0m\u001b[0;34m\u001b[0m\u001b[0;34m\u001b[0m\u001b[0m\n",
            "\u001b[0;32m/usr/local/lib/python3.11/dist-packages/langgraph/pregel/main.py\u001b[0m in \u001b[0;36mastream\u001b[0;34m(self, input, config, context, stream_mode, print_mode, output_keys, interrupt_before, interrupt_after, durability, subgraphs, debug, **kwargs)\u001b[0m\n\u001b[1;32m   2926\u001b[0m                     \u001b[0;32mfor\u001b[0m \u001b[0mtask\u001b[0m \u001b[0;32min\u001b[0m \u001b[0;32mawait\u001b[0m \u001b[0mloop\u001b[0m\u001b[0;34m.\u001b[0m\u001b[0mamatch_cached_writes\u001b[0m\u001b[0;34m(\u001b[0m\u001b[0;34m)\u001b[0m\u001b[0;34m:\u001b[0m\u001b[0;34m\u001b[0m\u001b[0;34m\u001b[0m\u001b[0m\n\u001b[1;32m   2927\u001b[0m                         \u001b[0mloop\u001b[0m\u001b[0;34m.\u001b[0m\u001b[0moutput_writes\u001b[0m\u001b[0;34m(\u001b[0m\u001b[0mtask\u001b[0m\u001b[0;34m.\u001b[0m\u001b[0mid\u001b[0m\u001b[0;34m,\u001b[0m \u001b[0mtask\u001b[0m\u001b[0;34m.\u001b[0m\u001b[0mwrites\u001b[0m\u001b[0;34m,\u001b[0m \u001b[0mcached\u001b[0m\u001b[0;34m=\u001b[0m\u001b[0;32mTrue\u001b[0m\u001b[0;34m)\u001b[0m\u001b[0;34m\u001b[0m\u001b[0;34m\u001b[0m\u001b[0m\n\u001b[0;32m-> 2928\u001b[0;31m                     async for _ in runner.atick(\n\u001b[0m\u001b[1;32m   2929\u001b[0m                         \u001b[0;34m[\u001b[0m\u001b[0mt\u001b[0m \u001b[0;32mfor\u001b[0m \u001b[0mt\u001b[0m \u001b[0;32min\u001b[0m \u001b[0mloop\u001b[0m\u001b[0;34m.\u001b[0m\u001b[0mtasks\u001b[0m\u001b[0;34m.\u001b[0m\u001b[0mvalues\u001b[0m\u001b[0;34m(\u001b[0m\u001b[0;34m)\u001b[0m \u001b[0;32mif\u001b[0m \u001b[0;32mnot\u001b[0m \u001b[0mt\u001b[0m\u001b[0;34m.\u001b[0m\u001b[0mwrites\u001b[0m\u001b[0;34m]\u001b[0m\u001b[0;34m,\u001b[0m\u001b[0;34m\u001b[0m\u001b[0;34m\u001b[0m\u001b[0m\n\u001b[1;32m   2930\u001b[0m                         \u001b[0mtimeout\u001b[0m\u001b[0;34m=\u001b[0m\u001b[0mself\u001b[0m\u001b[0;34m.\u001b[0m\u001b[0mstep_timeout\u001b[0m\u001b[0;34m,\u001b[0m\u001b[0;34m\u001b[0m\u001b[0;34m\u001b[0m\u001b[0m\n",
            "\u001b[0;32m/usr/local/lib/python3.11/dist-packages/langgraph/pregel/_runner.py\u001b[0m in \u001b[0;36matick\u001b[0;34m(self, tasks, reraise, timeout, retry_policy, get_waiter, schedule_task)\u001b[0m\n\u001b[1;32m    293\u001b[0m             \u001b[0mt\u001b[0m \u001b[0;34m=\u001b[0m \u001b[0mtasks\u001b[0m\u001b[0;34m[\u001b[0m\u001b[0;36m0\u001b[0m\u001b[0;34m]\u001b[0m\u001b[0;34m\u001b[0m\u001b[0;34m\u001b[0m\u001b[0m\n\u001b[1;32m    294\u001b[0m             \u001b[0;32mtry\u001b[0m\u001b[0;34m:\u001b[0m\u001b[0;34m\u001b[0m\u001b[0;34m\u001b[0m\u001b[0m\n\u001b[0;32m--> 295\u001b[0;31m                 await arun_with_retry(\n\u001b[0m\u001b[1;32m    296\u001b[0m                     \u001b[0mt\u001b[0m\u001b[0;34m,\u001b[0m\u001b[0;34m\u001b[0m\u001b[0;34m\u001b[0m\u001b[0m\n\u001b[1;32m    297\u001b[0m                     \u001b[0mretry_policy\u001b[0m\u001b[0;34m,\u001b[0m\u001b[0;34m\u001b[0m\u001b[0;34m\u001b[0m\u001b[0m\n",
            "\u001b[0;32m/usr/local/lib/python3.11/dist-packages/langgraph/pregel/_retry.py\u001b[0m in \u001b[0;36marun_with_retry\u001b[0;34m(task, retry_policy, stream, match_cached_writes, configurable)\u001b[0m\n\u001b[1;32m    135\u001b[0m                 \u001b[0;32mbreak\u001b[0m\u001b[0;34m\u001b[0m\u001b[0;34m\u001b[0m\u001b[0m\n\u001b[1;32m    136\u001b[0m             \u001b[0;32melse\u001b[0m\u001b[0;34m:\u001b[0m\u001b[0;34m\u001b[0m\u001b[0;34m\u001b[0m\u001b[0m\n\u001b[0;32m--> 137\u001b[0;31m                 \u001b[0;32mreturn\u001b[0m \u001b[0;32mawait\u001b[0m \u001b[0mtask\u001b[0m\u001b[0;34m.\u001b[0m\u001b[0mproc\u001b[0m\u001b[0;34m.\u001b[0m\u001b[0mainvoke\u001b[0m\u001b[0;34m(\u001b[0m\u001b[0mtask\u001b[0m\u001b[0;34m.\u001b[0m\u001b[0minput\u001b[0m\u001b[0;34m,\u001b[0m \u001b[0mconfig\u001b[0m\u001b[0;34m)\u001b[0m\u001b[0;34m\u001b[0m\u001b[0;34m\u001b[0m\u001b[0m\n\u001b[0m\u001b[1;32m    138\u001b[0m         \u001b[0;32mexcept\u001b[0m \u001b[0mParentCommand\u001b[0m \u001b[0;32mas\u001b[0m \u001b[0mexc\u001b[0m\u001b[0;34m:\u001b[0m\u001b[0;34m\u001b[0m\u001b[0;34m\u001b[0m\u001b[0m\n\u001b[1;32m    139\u001b[0m             \u001b[0mns\u001b[0m\u001b[0;34m:\u001b[0m \u001b[0mstr\u001b[0m \u001b[0;34m=\u001b[0m \u001b[0mconfig\u001b[0m\u001b[0;34m[\u001b[0m\u001b[0mCONF\u001b[0m\u001b[0;34m]\u001b[0m\u001b[0;34m[\u001b[0m\u001b[0mCONFIG_KEY_CHECKPOINT_NS\u001b[0m\u001b[0;34m]\u001b[0m\u001b[0;34m\u001b[0m\u001b[0;34m\u001b[0m\u001b[0m\n",
            "\u001b[0;32m/usr/local/lib/python3.11/dist-packages/langgraph/_internal/_runnable.py\u001b[0m in \u001b[0;36mainvoke\u001b[0;34m(self, input, config, **kwargs)\u001b[0m\n\u001b[1;32m    710\u001b[0m                         \u001b[0minput\u001b[0m \u001b[0;34m=\u001b[0m \u001b[0;32mawait\u001b[0m \u001b[0mstep\u001b[0m\u001b[0;34m.\u001b[0m\u001b[0mainvoke\u001b[0m\u001b[0;34m(\u001b[0m\u001b[0minput\u001b[0m\u001b[0;34m,\u001b[0m \u001b[0mconfig\u001b[0m\u001b[0;34m,\u001b[0m \u001b[0;34m**\u001b[0m\u001b[0mkwargs\u001b[0m\u001b[0;34m)\u001b[0m\u001b[0;34m\u001b[0m\u001b[0;34m\u001b[0m\u001b[0m\n\u001b[1;32m    711\u001b[0m                 \u001b[0;32melse\u001b[0m\u001b[0;34m:\u001b[0m\u001b[0;34m\u001b[0m\u001b[0;34m\u001b[0m\u001b[0m\n\u001b[0;32m--> 712\u001b[0;31m                     \u001b[0minput\u001b[0m \u001b[0;34m=\u001b[0m \u001b[0;32mawait\u001b[0m \u001b[0mstep\u001b[0m\u001b[0;34m.\u001b[0m\u001b[0mainvoke\u001b[0m\u001b[0;34m(\u001b[0m\u001b[0minput\u001b[0m\u001b[0;34m,\u001b[0m \u001b[0mconfig\u001b[0m\u001b[0;34m)\u001b[0m\u001b[0;34m\u001b[0m\u001b[0;34m\u001b[0m\u001b[0m\n\u001b[0m\u001b[1;32m    713\u001b[0m         \u001b[0;31m# finish the root run\u001b[0m\u001b[0;34m\u001b[0m\u001b[0;34m\u001b[0m\u001b[0m\n\u001b[1;32m    714\u001b[0m         \u001b[0;32mexcept\u001b[0m \u001b[0mBaseException\u001b[0m \u001b[0;32mas\u001b[0m \u001b[0me\u001b[0m\u001b[0;34m:\u001b[0m\u001b[0;34m\u001b[0m\u001b[0;34m\u001b[0m\u001b[0m\n",
            "\u001b[0;32m/usr/local/lib/python3.11/dist-packages/langgraph/_internal/_runnable.py\u001b[0m in \u001b[0;36mainvoke\u001b[0;34m(self, input, config, **kwargs)\u001b[0m\n\u001b[1;32m    472\u001b[0m                 \u001b[0;32mawait\u001b[0m \u001b[0mrun_manager\u001b[0m\u001b[0;34m.\u001b[0m\u001b[0mon_chain_end\u001b[0m\u001b[0;34m(\u001b[0m\u001b[0mret\u001b[0m\u001b[0;34m)\u001b[0m\u001b[0;34m\u001b[0m\u001b[0;34m\u001b[0m\u001b[0m\n\u001b[1;32m    473\u001b[0m         \u001b[0;32melse\u001b[0m\u001b[0;34m:\u001b[0m\u001b[0;34m\u001b[0m\u001b[0;34m\u001b[0m\u001b[0m\n\u001b[0;32m--> 474\u001b[0;31m             \u001b[0mret\u001b[0m \u001b[0;34m=\u001b[0m \u001b[0;32mawait\u001b[0m \u001b[0mself\u001b[0m\u001b[0;34m.\u001b[0m\u001b[0mafunc\u001b[0m\u001b[0;34m(\u001b[0m\u001b[0;34m*\u001b[0m\u001b[0margs\u001b[0m\u001b[0;34m,\u001b[0m \u001b[0;34m**\u001b[0m\u001b[0mkwargs\u001b[0m\u001b[0;34m)\u001b[0m\u001b[0;34m\u001b[0m\u001b[0;34m\u001b[0m\u001b[0m\n\u001b[0m\u001b[1;32m    475\u001b[0m         \u001b[0;32mif\u001b[0m \u001b[0mself\u001b[0m\u001b[0;34m.\u001b[0m\u001b[0mrecurse\u001b[0m \u001b[0;32mand\u001b[0m \u001b[0misinstance\u001b[0m\u001b[0;34m(\u001b[0m\u001b[0mret\u001b[0m\u001b[0;34m,\u001b[0m \u001b[0mRunnable\u001b[0m\u001b[0;34m)\u001b[0m\u001b[0;34m:\u001b[0m\u001b[0;34m\u001b[0m\u001b[0;34m\u001b[0m\u001b[0m\n\u001b[1;32m    476\u001b[0m             \u001b[0;32mreturn\u001b[0m \u001b[0;32mawait\u001b[0m \u001b[0mret\u001b[0m\u001b[0;34m.\u001b[0m\u001b[0mainvoke\u001b[0m\u001b[0;34m(\u001b[0m\u001b[0minput\u001b[0m\u001b[0;34m,\u001b[0m \u001b[0mconfig\u001b[0m\u001b[0;34m)\u001b[0m\u001b[0;34m\u001b[0m\u001b[0;34m\u001b[0m\u001b[0m\n",
            "\u001b[0;32m/usr/local/lib/python3.11/dist-packages/langgraph/pregel/_write.py\u001b[0m in \u001b[0;36m_awrite\u001b[0;34m(self, input, config)\u001b[0m\n\u001b[1;32m    100\u001b[0m             \u001b[0;32mfor\u001b[0m \u001b[0mwrite\u001b[0m \u001b[0;32min\u001b[0m \u001b[0mself\u001b[0m\u001b[0;34m.\u001b[0m\u001b[0mwrites\u001b[0m\u001b[0;34m\u001b[0m\u001b[0;34m\u001b[0m\u001b[0m\n\u001b[1;32m    101\u001b[0m         ]\n\u001b[0;32m--> 102\u001b[0;31m         self.do_write(\n\u001b[0m\u001b[1;32m    103\u001b[0m             \u001b[0mconfig\u001b[0m\u001b[0;34m,\u001b[0m\u001b[0;34m\u001b[0m\u001b[0;34m\u001b[0m\u001b[0m\n\u001b[1;32m    104\u001b[0m             \u001b[0mwrites\u001b[0m\u001b[0;34m,\u001b[0m\u001b[0;34m\u001b[0m\u001b[0;34m\u001b[0m\u001b[0m\n",
            "\u001b[0;32m/usr/local/lib/python3.11/dist-packages/langgraph/pregel/_write.py\u001b[0m in \u001b[0;36mdo_write\u001b[0;34m(config, writes, allow_passthrough)\u001b[0m\n\u001b[1;32m    127\u001b[0m         \u001b[0;31m# can move this to a finally block\u001b[0m\u001b[0;34m\u001b[0m\u001b[0;34m\u001b[0m\u001b[0m\n\u001b[1;32m    128\u001b[0m         \u001b[0mwrite\u001b[0m\u001b[0;34m:\u001b[0m \u001b[0mTYPE_SEND\u001b[0m \u001b[0;34m=\u001b[0m \u001b[0mconfig\u001b[0m\u001b[0;34m[\u001b[0m\u001b[0mCONF\u001b[0m\u001b[0;34m]\u001b[0m\u001b[0;34m[\u001b[0m\u001b[0mCONFIG_KEY_SEND\u001b[0m\u001b[0;34m]\u001b[0m\u001b[0;34m\u001b[0m\u001b[0;34m\u001b[0m\u001b[0m\n\u001b[0;32m--> 129\u001b[0;31m         \u001b[0mwrite\u001b[0m\u001b[0;34m(\u001b[0m\u001b[0m_assemble_writes\u001b[0m\u001b[0;34m(\u001b[0m\u001b[0mwrites\u001b[0m\u001b[0;34m)\u001b[0m\u001b[0;34m)\u001b[0m\u001b[0;34m\u001b[0m\u001b[0;34m\u001b[0m\u001b[0m\n\u001b[0m\u001b[1;32m    130\u001b[0m \u001b[0;34m\u001b[0m\u001b[0m\n\u001b[1;32m    131\u001b[0m     \u001b[0;34m@\u001b[0m\u001b[0mstaticmethod\u001b[0m\u001b[0;34m\u001b[0m\u001b[0;34m\u001b[0m\u001b[0m\n",
            "\u001b[0;32m/usr/local/lib/python3.11/dist-packages/langgraph/pregel/_write.py\u001b[0m in \u001b[0;36m_assemble_writes\u001b[0;34m(writes)\u001b[0m\n\u001b[1;32m    182\u001b[0m             \u001b[0mtuples\u001b[0m\u001b[0;34m.\u001b[0m\u001b[0mappend\u001b[0m\u001b[0;34m(\u001b[0m\u001b[0;34m(\u001b[0m\u001b[0mTASKS\u001b[0m\u001b[0;34m,\u001b[0m \u001b[0mw\u001b[0m\u001b[0;34m)\u001b[0m\u001b[0;34m)\u001b[0m\u001b[0;34m\u001b[0m\u001b[0;34m\u001b[0m\u001b[0m\n\u001b[1;32m    183\u001b[0m         \u001b[0;32melif\u001b[0m \u001b[0misinstance\u001b[0m\u001b[0;34m(\u001b[0m\u001b[0mw\u001b[0m\u001b[0;34m,\u001b[0m \u001b[0mChannelWriteTupleEntry\u001b[0m\u001b[0;34m)\u001b[0m\u001b[0;34m:\u001b[0m\u001b[0;34m\u001b[0m\u001b[0;34m\u001b[0m\u001b[0m\n\u001b[0;32m--> 184\u001b[0;31m             \u001b[0;32mif\u001b[0m \u001b[0mww\u001b[0m \u001b[0;34m:=\u001b[0m \u001b[0mw\u001b[0m\u001b[0;34m.\u001b[0m\u001b[0mmapper\u001b[0m\u001b[0;34m(\u001b[0m\u001b[0mw\u001b[0m\u001b[0;34m.\u001b[0m\u001b[0mvalue\u001b[0m\u001b[0;34m)\u001b[0m\u001b[0;34m:\u001b[0m\u001b[0;34m\u001b[0m\u001b[0;34m\u001b[0m\u001b[0m\n\u001b[0m\u001b[1;32m    185\u001b[0m                 \u001b[0mtuples\u001b[0m\u001b[0;34m.\u001b[0m\u001b[0mextend\u001b[0m\u001b[0;34m(\u001b[0m\u001b[0mww\u001b[0m\u001b[0;34m)\u001b[0m\u001b[0;34m\u001b[0m\u001b[0;34m\u001b[0m\u001b[0m\n\u001b[1;32m    186\u001b[0m         \u001b[0;32melif\u001b[0m \u001b[0misinstance\u001b[0m\u001b[0;34m(\u001b[0m\u001b[0mw\u001b[0m\u001b[0;34m,\u001b[0m \u001b[0mChannelWriteEntry\u001b[0m\u001b[0;34m)\u001b[0m\u001b[0;34m:\u001b[0m\u001b[0;34m\u001b[0m\u001b[0;34m\u001b[0m\u001b[0m\n",
            "\u001b[0;32m/usr/local/lib/python3.11/dist-packages/langgraph/graph/state.py\u001b[0m in \u001b[0;36m_get_updates\u001b[0;34m(input)\u001b[0m\n\u001b[1;32m    981\u001b[0m                     \u001b[0merror_code\u001b[0m\u001b[0;34m=\u001b[0m\u001b[0mErrorCode\u001b[0m\u001b[0;34m.\u001b[0m\u001b[0mINVALID_GRAPH_NODE_RETURN_VALUE\u001b[0m\u001b[0;34m,\u001b[0m\u001b[0;34m\u001b[0m\u001b[0;34m\u001b[0m\u001b[0m\n\u001b[1;32m    982\u001b[0m                 )\n\u001b[0;32m--> 983\u001b[0;31m                 \u001b[0;32mraise\u001b[0m \u001b[0mInvalidUpdateError\u001b[0m\u001b[0;34m(\u001b[0m\u001b[0mmsg\u001b[0m\u001b[0;34m)\u001b[0m\u001b[0;34m\u001b[0m\u001b[0;34m\u001b[0m\u001b[0m\n\u001b[0m\u001b[1;32m    984\u001b[0m \u001b[0;34m\u001b[0m\u001b[0m\n\u001b[1;32m    985\u001b[0m         \u001b[0;31m# state updaters\u001b[0m\u001b[0;34m\u001b[0m\u001b[0;34m\u001b[0m\u001b[0m\n",
            "\u001b[0;31mInvalidUpdateError\u001b[0m: Expected dict, got <coroutine object simple_specialist_node at 0x7b1c0e914f40>\nFor troubleshooting, visit: https://python.langchain.com/docs/troubleshooting/errors/INVALID_GRAPH_NODE_RETURN_VALUE"
          ]
        }
      ]
    },
    {
      "cell_type": "code",
      "source": [],
      "metadata": {
        "id": "bN9kMMGE9-Fz"
      },
      "execution_count": null,
      "outputs": []
    }
  ]
}