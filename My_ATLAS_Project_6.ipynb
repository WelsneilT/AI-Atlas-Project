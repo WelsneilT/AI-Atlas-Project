{
  "nbformat": 4,
  "nbformat_minor": 0,
  "metadata": {
    "colab": {
      "provenance": []
    },
    "kernelspec": {
      "name": "python3",
      "display_name": "Python 3"
    },
    "language_info": {
      "name": "python"
    }
  },
  "cells": [
    {
      "cell_type": "markdown",
      "source": [
        "## STEP 1: INSTALLATION & IMPORTS"
      ],
      "metadata": {
        "id": "VFLapDYU1i5J"
      }
    },
    {
      "cell_type": "code",
      "execution_count": 2,
      "metadata": {
        "colab": {
          "base_uri": "https://localhost:8080/",
          "height": 0
        },
        "id": "3SoCAXmT0ILc",
        "outputId": "7eb8b993-f324-4110-95bf-9994b3ba8f19"
      },
      "outputs": [
        {
          "output_type": "stream",
          "name": "stdout",
          "text": [
            "Bắt đầu cài đặt các thư viện...\n",
            "\u001b[2K     \u001b[90m━━━━━━━━━━━━━━━━━━━━━━━━━━━━━━━━━━━━━━━━\u001b[0m \u001b[32m43.7/43.7 kB\u001b[0m \u001b[31m4.0 MB/s\u001b[0m eta \u001b[36m0:00:00\u001b[0m\n",
            "\u001b[2K   \u001b[90m━━━━━━━━━━━━━━━━━━━━━━━━━━━━━━━━━━━━━━━━\u001b[0m \u001b[32m153.2/153.2 kB\u001b[0m \u001b[31m9.9 MB/s\u001b[0m eta \u001b[36m0:00:00\u001b[0m\n",
            "\u001b[2K   \u001b[90m━━━━━━━━━━━━━━━━━━━━━━━━━━━━━━━━━━━━━━━━\u001b[0m \u001b[32m443.5/443.5 kB\u001b[0m \u001b[31m30.1 MB/s\u001b[0m eta \u001b[36m0:00:00\u001b[0m\n",
            "\u001b[2K   \u001b[90m━━━━━━━━━━━━━━━━━━━━━━━━━━━━━━━━━━━━━━━━\u001b[0m \u001b[32m2.5/2.5 MB\u001b[0m \u001b[31m91.8 MB/s\u001b[0m eta \u001b[36m0:00:00\u001b[0m\n",
            "\u001b[2K   \u001b[90m━━━━━━━━━━━━━━━━━━━━━━━━━━━━━━━━━━━━━━━━\u001b[0m \u001b[32m131.4/131.4 kB\u001b[0m \u001b[31m12.4 MB/s\u001b[0m eta \u001b[36m0:00:00\u001b[0m\n",
            "\u001b[2K   \u001b[90m━━━━━━━━━━━━━━━━━━━━━━━━━━━━━━━━━━━━━━━━\u001b[0m \u001b[32m243.4/243.4 kB\u001b[0m \u001b[31m21.8 MB/s\u001b[0m eta \u001b[36m0:00:00\u001b[0m\n",
            "\u001b[2K   \u001b[90m━━━━━━━━━━━━━━━━━━━━━━━━━━━━━━━━━━━━━━━━\u001b[0m \u001b[32m43.9/43.9 kB\u001b[0m \u001b[31m3.0 MB/s\u001b[0m eta \u001b[36m0:00:00\u001b[0m\n",
            "\u001b[2K   \u001b[90m━━━━━━━━━━━━━━━━━━━━━━━━━━━━━━━━━━━━━━━━\u001b[0m \u001b[32m50.6/50.6 kB\u001b[0m \u001b[31m4.0 MB/s\u001b[0m eta \u001b[36m0:00:00\u001b[0m\n",
            "\u001b[2K   \u001b[90m━━━━━━━━━━━━━━━━━━━━━━━━━━━━━━━━━━━━━━━━\u001b[0m \u001b[32m45.2/45.2 kB\u001b[0m \u001b[31m3.4 MB/s\u001b[0m eta \u001b[36m0:00:00\u001b[0m\n",
            "\u001b[2K   \u001b[90m━━━━━━━━━━━━━━━━━━━━━━━━━━━━━━━━━━━━━━━━\u001b[0m \u001b[32m50.9/50.9 kB\u001b[0m \u001b[31m4.7 MB/s\u001b[0m eta \u001b[36m0:00:00\u001b[0m\n",
            "\u001b[2K   \u001b[90m━━━━━━━━━━━━━━━━━━━━━━━━━━━━━━━━━━━━━━━━\u001b[0m \u001b[32m216.5/216.5 kB\u001b[0m \u001b[31m21.0 MB/s\u001b[0m eta \u001b[36m0:00:00\u001b[0m\n",
            "\u001b[?25h\u001b[31mERROR: pip's dependency resolver does not currently take into account all the packages that are installed. This behaviour is the source of the following dependency conflicts.\n",
            "bigframes 2.13.0 requires rich<14,>=12.4.4, but you have rich 14.1.0 which is incompatible.\u001b[0m\u001b[31m\n",
            "\u001b[0m"
          ]
        }
      ],
      "source": [
        "# --- 1. Installation ---\n",
        "# Cài đặt tất cả các thư viện cần thiết.\n",
        "# -qU: quiet (im lặng), upgrade (nâng cấp)\n",
        "print(\"Bắt đầu cài đặt các thư viện...\")\n",
        "!pip install -qU langgraph langchain langchain-core langchain-community groq python-dotenv rich"
      ]
    },
    {
      "cell_type": "code",
      "source": [
        "!pip install -qU tavily-python google-api-python-client google-auth-oauthlib\n",
        "print(\"Đã cài đặt các thư viện công cụ cần thiết.\")"
      ],
      "metadata": {
        "colab": {
          "base_uri": "https://localhost:8080/",
          "height": 0
        },
        "id": "x560aMQnUDPo",
        "outputId": "08e5f02a-e67a-471f-fa1e-523111c55566"
      },
      "execution_count": 3,
      "outputs": [
        {
          "output_type": "stream",
          "name": "stdout",
          "text": [
            "\u001b[2K   \u001b[90m━━━━━━━━━━━━━━━━━━━━━━━━━━━━━━━━━━━━━━━━\u001b[0m \u001b[32m13.8/13.8 MB\u001b[0m \u001b[31m84.9 MB/s\u001b[0m eta \u001b[36m0:00:00\u001b[0m\n",
            "\u001b[?25hĐã cài đặt các thư viện công cụ cần thiết.\n"
          ]
        }
      ]
    },
    {
      "cell_type": "code",
      "source": [
        "!pip install google-auth-httplib2 langchain-groq"
      ],
      "metadata": {
        "colab": {
          "base_uri": "https://localhost:8080/",
          "height": 0
        },
        "id": "EOtw7rsObArN",
        "outputId": "7a5db35a-b726-408f-c413-4841dab97572"
      },
      "execution_count": 4,
      "outputs": [
        {
          "output_type": "stream",
          "name": "stdout",
          "text": [
            "Requirement already satisfied: google-auth-httplib2 in /usr/local/lib/python3.11/dist-packages (0.2.0)\n",
            "Collecting langchain-groq\n",
            "  Downloading langchain_groq-0.3.7-py3-none-any.whl.metadata (2.6 kB)\n",
            "Requirement already satisfied: google-auth in /usr/local/lib/python3.11/dist-packages (from google-auth-httplib2) (2.38.0)\n",
            "Requirement already satisfied: httplib2>=0.19.0 in /usr/local/lib/python3.11/dist-packages (from google-auth-httplib2) (0.22.0)\n",
            "Requirement already satisfied: langchain-core<1.0.0,>=0.3.72 in /usr/local/lib/python3.11/dist-packages (from langchain-groq) (0.3.74)\n",
            "Requirement already satisfied: groq<1,>=0.30.0 in /usr/local/lib/python3.11/dist-packages (from langchain-groq) (0.31.0)\n",
            "Requirement already satisfied: anyio<5,>=3.5.0 in /usr/local/lib/python3.11/dist-packages (from groq<1,>=0.30.0->langchain-groq) (4.10.0)\n",
            "Requirement already satisfied: distro<2,>=1.7.0 in /usr/local/lib/python3.11/dist-packages (from groq<1,>=0.30.0->langchain-groq) (1.9.0)\n",
            "Requirement already satisfied: httpx<1,>=0.23.0 in /usr/local/lib/python3.11/dist-packages (from groq<1,>=0.30.0->langchain-groq) (0.28.1)\n",
            "Requirement already satisfied: pydantic<3,>=1.9.0 in /usr/local/lib/python3.11/dist-packages (from groq<1,>=0.30.0->langchain-groq) (2.11.7)\n",
            "Requirement already satisfied: sniffio in /usr/local/lib/python3.11/dist-packages (from groq<1,>=0.30.0->langchain-groq) (1.3.1)\n",
            "Requirement already satisfied: typing-extensions<5,>=4.10 in /usr/local/lib/python3.11/dist-packages (from groq<1,>=0.30.0->langchain-groq) (4.14.1)\n",
            "Requirement already satisfied: pyparsing!=3.0.0,!=3.0.1,!=3.0.2,!=3.0.3,<4,>=2.4.2 in /usr/local/lib/python3.11/dist-packages (from httplib2>=0.19.0->google-auth-httplib2) (3.2.3)\n",
            "Requirement already satisfied: langsmith>=0.3.45 in /usr/local/lib/python3.11/dist-packages (from langchain-core<1.0.0,>=0.3.72->langchain-groq) (0.4.10)\n",
            "Requirement already satisfied: tenacity!=8.4.0,<10.0.0,>=8.1.0 in /usr/local/lib/python3.11/dist-packages (from langchain-core<1.0.0,>=0.3.72->langchain-groq) (8.5.0)\n",
            "Requirement already satisfied: jsonpatch<2.0,>=1.33 in /usr/local/lib/python3.11/dist-packages (from langchain-core<1.0.0,>=0.3.72->langchain-groq) (1.33)\n",
            "Requirement already satisfied: PyYAML>=5.3 in /usr/local/lib/python3.11/dist-packages (from langchain-core<1.0.0,>=0.3.72->langchain-groq) (6.0.2)\n",
            "Requirement already satisfied: packaging>=23.2 in /usr/local/lib/python3.11/dist-packages (from langchain-core<1.0.0,>=0.3.72->langchain-groq) (25.0)\n",
            "Requirement already satisfied: cachetools<6.0,>=2.0.0 in /usr/local/lib/python3.11/dist-packages (from google-auth->google-auth-httplib2) (5.5.2)\n",
            "Requirement already satisfied: pyasn1-modules>=0.2.1 in /usr/local/lib/python3.11/dist-packages (from google-auth->google-auth-httplib2) (0.4.2)\n",
            "Requirement already satisfied: rsa<5,>=3.1.4 in /usr/local/lib/python3.11/dist-packages (from google-auth->google-auth-httplib2) (4.9.1)\n",
            "Requirement already satisfied: idna>=2.8 in /usr/local/lib/python3.11/dist-packages (from anyio<5,>=3.5.0->groq<1,>=0.30.0->langchain-groq) (3.10)\n",
            "Requirement already satisfied: certifi in /usr/local/lib/python3.11/dist-packages (from httpx<1,>=0.23.0->groq<1,>=0.30.0->langchain-groq) (2025.8.3)\n",
            "Requirement already satisfied: httpcore==1.* in /usr/local/lib/python3.11/dist-packages (from httpx<1,>=0.23.0->groq<1,>=0.30.0->langchain-groq) (1.0.9)\n",
            "Requirement already satisfied: h11>=0.16 in /usr/local/lib/python3.11/dist-packages (from httpcore==1.*->httpx<1,>=0.23.0->groq<1,>=0.30.0->langchain-groq) (0.16.0)\n",
            "Requirement already satisfied: jsonpointer>=1.9 in /usr/local/lib/python3.11/dist-packages (from jsonpatch<2.0,>=1.33->langchain-core<1.0.0,>=0.3.72->langchain-groq) (3.0.0)\n",
            "Requirement already satisfied: orjson>=3.9.14 in /usr/local/lib/python3.11/dist-packages (from langsmith>=0.3.45->langchain-core<1.0.0,>=0.3.72->langchain-groq) (3.11.1)\n",
            "Requirement already satisfied: requests-toolbelt>=1.0.0 in /usr/local/lib/python3.11/dist-packages (from langsmith>=0.3.45->langchain-core<1.0.0,>=0.3.72->langchain-groq) (1.0.0)\n",
            "Requirement already satisfied: requests>=2.0.0 in /usr/local/lib/python3.11/dist-packages (from langsmith>=0.3.45->langchain-core<1.0.0,>=0.3.72->langchain-groq) (2.32.3)\n",
            "Requirement already satisfied: zstandard>=0.23.0 in /usr/local/lib/python3.11/dist-packages (from langsmith>=0.3.45->langchain-core<1.0.0,>=0.3.72->langchain-groq) (0.23.0)\n",
            "Requirement already satisfied: pyasn1<0.7.0,>=0.6.1 in /usr/local/lib/python3.11/dist-packages (from pyasn1-modules>=0.2.1->google-auth->google-auth-httplib2) (0.6.1)\n",
            "Requirement already satisfied: annotated-types>=0.6.0 in /usr/local/lib/python3.11/dist-packages (from pydantic<3,>=1.9.0->groq<1,>=0.30.0->langchain-groq) (0.7.0)\n",
            "Requirement already satisfied: pydantic-core==2.33.2 in /usr/local/lib/python3.11/dist-packages (from pydantic<3,>=1.9.0->groq<1,>=0.30.0->langchain-groq) (2.33.2)\n",
            "Requirement already satisfied: typing-inspection>=0.4.0 in /usr/local/lib/python3.11/dist-packages (from pydantic<3,>=1.9.0->groq<1,>=0.30.0->langchain-groq) (0.4.1)\n",
            "Requirement already satisfied: charset-normalizer<4,>=2 in /usr/local/lib/python3.11/dist-packages (from requests>=2.0.0->langsmith>=0.3.45->langchain-core<1.0.0,>=0.3.72->langchain-groq) (3.4.2)\n",
            "Requirement already satisfied: urllib3<3,>=1.21.1 in /usr/local/lib/python3.11/dist-packages (from requests>=2.0.0->langsmith>=0.3.45->langchain-core<1.0.0,>=0.3.72->langchain-groq) (2.5.0)\n",
            "Downloading langchain_groq-0.3.7-py3-none-any.whl (16 kB)\n",
            "Installing collected packages: langchain-groq\n",
            "Successfully installed langchain-groq-0.3.7\n"
          ]
        }
      ]
    },
    {
      "cell_type": "code",
      "source": [
        "# --- 2. Core Imports ---\n",
        "# Import các thư viện và lớp (class) cốt lõi sẽ được sử dụng trong toàn bộ dự án.\n",
        "import os\n",
        "import json\n",
        "from typing import TypedDict, Annotated, List, Dict, Any\n",
        "import operator\n",
        "from google.colab import userdata\n",
        "\n",
        "# LangChain & LangGraph core components\n",
        "from langchain_core.messages import BaseMessage, HumanMessage, SystemMessage\n",
        "from langgraph.graph import StateGraph, END, START\n",
        "\n",
        "# Groq client for LLM interaction\n",
        "from groq import AsyncGroq\n",
        "\n",
        "# Rich library for beautiful printing\n",
        "from rich.console import Console\n",
        "from rich.markdown import Markdown\n",
        "\n",
        "SHOW_DETAILED_LOGS = True\n",
        "SHOW_DETAILED_LOGS = False\n",
        "print(\"\\nCài đặt và Import hoàn tất. Môi trường đã sẵn sàng!\")\n"
      ],
      "metadata": {
        "colab": {
          "base_uri": "https://localhost:8080/"
        },
        "id": "NZ1N7aUM059C",
        "outputId": "cefc51c9-5963-45da-ec07-1179c5f53a82"
      },
      "execution_count": 23,
      "outputs": [
        {
          "output_type": "stream",
          "name": "stdout",
          "text": [
            "\n",
            "Cài đặt và Import hoàn tất. Môi trường đã sẵn sàng!\n"
          ]
        }
      ]
    },
    {
      "cell_type": "markdown",
      "source": [
        "## STEP 2: STATE DEFINITION & LLM WRAPPER"
      ],
      "metadata": {
        "id": "ZbvO4oTY1r6Q"
      }
    },
    {
      "cell_type": "code",
      "source": [
        "# ==============================================================================\n",
        "# STEP 2: STATE DEFINITION & LANGCHAIN LLM\n",
        "# ==============================================================================\n",
        "from typing import TypedDict, Annotated, List, Dict, Any, Literal, Optional\n",
        "import operator\n",
        "import json\n",
        "import os\n",
        "import tavily\n",
        "from datetime import datetime, timezone, timedelta\n",
        "\n",
        "from langchain_core.messages import BaseMessage, HumanMessage, SystemMessage, AIMessage, ToolMessage\n",
        "from rich.console import Console\n",
        "from rich.markdown import Markdown\n",
        "from google.colab import userdata\n",
        "from langchain_groq import ChatGroq\n",
        "from langchain_core.pydantic_v1 import BaseModel, Field, validator\n",
        "from langchain_core.tools import tool\n",
        "from langgraph.graph import StateGraph, END\n",
        "\n",
        "# --- 1. State Definition (Hoàn chỉnh) ---\n",
        "def merge_dicts(dict1: Dict[str, Any], dict2: Dict[str, Any]) -> Dict[str, Any]:\n",
        "    merged = dict1.copy()\n",
        "    for key, value in dict2.items():\n",
        "        if key in merged and isinstance(merged[key], dict) and isinstance(value, dict):\n",
        "            merged[key] = merge_dicts(merged[key], value)\n",
        "        else: merged[key] = value\n",
        "    return merged\n",
        "\n",
        "class AcademicState(TypedDict):\n",
        "    messages: Annotated[List[BaseMessage], operator.add]\n",
        "    profile: Dict\n",
        "    cross_agent_request: Optional[Dict[str, Any]]\n",
        "    required_agents: List[str]\n",
        "    completed_agents: Annotated[List[str], operator.add]\n",
        "    agent_outputs: Annotated[Dict[str, Any], merge_dicts]\n",
        "    critique: str\n",
        "    revision_needed: bool\n",
        "    revision_count: int\n",
        "    final_report: str\n",
        "    next_steps: str\n",
        "\n",
        "print(\"Đã định nghĩa 'AcademicState' phiên bản cuối cùng thành công.\")\n",
        "\n",
        "# --- 2. Khởi tạo LLM ---\n",
        "try:\n",
        "    GROQ_API_KEY = userdata.get('GROQ_API_KEY')\n",
        "    TAVILY_API_KEY = userdata.get('TAVILY_API_KEY')\n",
        "    llm = ChatGroq(\n",
        "        temperature=0.2, # Giảm độ \"sáng tạo\" để agent tuân thủ hướng dẫn hơn\n",
        "        model=\"llama3-70b-8192\",\n",
        "        api_key=GROQ_API_KEY,\n",
        "        max_tokens=4096\n",
        "    )\n",
        "    print(f\"Khởi tạo ChatGroq thành công với model: {llm.model_name}\")\n",
        "except Exception as e:\n",
        "    print(f\"LỖI: Không thể khởi tạo LLM. {e}\")\n",
        "    llm = None\n",
        "console = Console()\n",
        "if llm: print(\"\\nKhởi tạo 'llm' và 'console' thành công.\")\n",
        "\n"
      ],
      "metadata": {
        "id": "jyk9EUs4sGAq",
        "colab": {
          "base_uri": "https://localhost:8080/"
        },
        "outputId": "948d19a7-e6ab-4d5c-a545-1435a02b053e"
      },
      "execution_count": 34,
      "outputs": [
        {
          "output_type": "stream",
          "name": "stdout",
          "text": [
            "Đã định nghĩa 'AcademicState' phiên bản cuối cùng thành công.\n",
            "Khởi tạo ChatGroq thành công với model: llama3-70b-8192\n",
            "\n",
            "Khởi tạo 'llm' và 'console' thành công.\n"
          ]
        }
      ]
    },
    {
      "cell_type": "code",
      "source": [
        "# ==============================================================================\n",
        "# STEP 3: THE TOOLBOX\n",
        "# ==============================================================================\n",
        "from google.oauth2.service_account import Credentials\n",
        "from googleapiclient.discovery import build\n",
        "\n",
        "# --- 1. Khởi tạo các service và dữ liệu ---\n",
        "SERVICE_ACCOUNT_FILE = 'credentials.json'\n",
        "YOUR_CALENDAR_ID = \"td.tan2711@gmail.com\"\n",
        "\n",
        "def authenticate_google_calendar_service_account():\n",
        "    try:\n",
        "        if not os.path.exists(SERVICE_ACCOUNT_FILE): return None\n",
        "        SCOPES = ['https://www.googleapis.com/auth/calendar.readonly']\n",
        "        creds = Credentials.from_service_account_file(SERVICE_ACCOUNT_FILE, scopes=SCOPES)\n",
        "        service = build('calendar', 'v3', credentials=creds)\n",
        "        print(\"✅ Xác thực Google Calendar thành công.\")\n",
        "        return service\n",
        "    except Exception as e:\n",
        "        print(f\"Lỗi khi xác thực Google Calendar: {e}\")\n",
        "        return None\n",
        "google_calendar_service = authenticate_google_calendar_service_account()\n",
        "\n",
        "# <-- ĐÃ XÓA PHẦN ĐỌC TASKS.JSON\n",
        "\n",
        "try:\n",
        "    with open('profile.json', 'r', encoding='utf-8') as f: profile_data = json.load(f)\n",
        "    print(\"✅ Đã tải dữ liệu profile.json thành công.\")\n",
        "except Exception as e:\n",
        "    profile_data = {}\n",
        "    print(f\"Lỗi khi tải profile.json: {e}\")\n",
        "\n",
        "# --- 2. Định nghĩa các công cụ ---\n",
        "@tool\n",
        "def google_calendar_reader(days_ahead: int = 7) -> str:\n",
        "    \"\"\"Đọc lịch và các sự kiện sắp tới của người dùng.\"\"\"\n",
        "    if not google_calendar_service: return \"Lỗi: Dịch vụ Google Calendar không có sẵn.\"\n",
        "    now_utc = datetime.now(timezone.utc).isoformat()\n",
        "    future_limit = (datetime.now(timezone.utc) + timedelta(days=days_ahead)).isoformat()\n",
        "    try:\n",
        "        print(f\"--- [Calendar Tool] Đang đọc lịch: {YOUR_CALENDAR_ID}\")\n",
        "        events_result = google_calendar_service.events().list(\n",
        "            calendarId=YOUR_CALENDAR_ID, timeMin=now_utc, timeMax=future_limit,\n",
        "            singleEvents=True, orderBy='startTime'\n",
        "        ).execute()\n",
        "        events = events_result.get('items', [])\n",
        "        if not events: return f\"Không có sự kiện nào sắp tới trong {days_ahead} ngày tới.\"\n",
        "        print(f\"--- [Calendar Tool] Tìm thấy {len(events)} sự kiện.\")\n",
        "        return json.dumps([{'summary': e.get('summary'), 'start': e.get('start', {}).get('dateTime'), 'end': e.get('end', {}).get('dateTime')} for e in events])\n",
        "    except Exception as e: return f\"Lỗi khi gọi Google Calendar API: {e}\"\n",
        "\n",
        "\n",
        "@tool\n",
        "def tavily_web_search(query: str) -> str:\n",
        "    \"\"\"Tìm kiếm thông tin học thuật trên Internet.\"\"\"\n",
        "    try:\n",
        "        client = tavily.TavilyClient(api_key=TAVILY_API_KEY)\n",
        "        response = client.search(query=query, search_depth=\"advanced\", max_results=3)\n",
        "        return \"\\n\\n\".join([f'Source: {res[\"url\"]}\\nContent: {res[\"content\"]}' for res in response[\"results\"]])\n",
        "    except Exception as e: return f\"Lỗi khi tìm kiếm với Tavily: {e}\"\n",
        "\n",
        "# --- 3. Tạo danh sách và bind các công cụ ---\n",
        "# <-- ĐÃ XÓA `active_tasks_reader` KHỎI DANH SÁCH\n",
        "tools = [google_calendar_reader, tavily_web_search]\n",
        "llm_with_tools = llm.bind_tools(tools)\n",
        "print(\"\\n✅ Hộp dụng cụ (Toolbox) đã sẵn sàng và được bind vào LLM.\")"
      ],
      "metadata": {
        "colab": {
          "base_uri": "https://localhost:8080/"
        },
        "id": "I6Yi4o7KNQ6J",
        "outputId": "141bbf99-a039-4e9b-b81b-10a8f4266ffe"
      },
      "execution_count": 35,
      "outputs": [
        {
          "output_type": "stream",
          "name": "stdout",
          "text": [
            "✅ Xác thực Google Calendar thành công.\n",
            "✅ Đã tải dữ liệu profile.json thành công.\n",
            "\n",
            "✅ Hộp dụng cụ (Toolbox) đã sẵn sàng và được bind vào LLM.\n"
          ]
        }
      ]
    },
    {
      "cell_type": "code",
      "source": [
        "# ==============================================================================\n",
        "# STEP 4: THE FULL INTERACTIVE TEAM OF AGENTS\n",
        "# ==============================================================================\n",
        "import re\n",
        "import time\n",
        "from langchain_core.pydantic_v1 import BaseModel, Field\n",
        "from typing import Literal, Dict, Any\n",
        "\n",
        "# --- 1. Định nghĩa các cấu trúc dữ liệu cho tương tác ---\n",
        "class FinalAnswer(BaseModel):\n",
        "    \"\"\"Sử dụng để cung cấp câu trả lời cuối cùng.\"\"\"\n",
        "    answer: str = Field(description=\"Nội dung câu trả lời cuối cùng, chi tiết bằng Markdown.\")\n",
        "\n",
        "# --- 2. Xây dựng các Agent ---\n",
        "\n",
        "async def coordinator_agent(state: AcademicState) -> Dict[str, Any]:\n",
        "    print(\"\\n--- [Coordinator] Đang quyết định các chuyên gia cần thiết... ---\")\n",
        "\n",
        "    # <-- NÂNG CẤP: Thêm logic phân tích từ khóa\n",
        "    prompt = f\"\"\"Bạn là một Coordinator Agent bậc thầy. Nhiệm vụ của bạn là phân tích yêu cầu của người dùng để quyết định chính xác agent nào cần được kích hoạt.\n",
        "\n",
        "    **CÁC AGENT CÓ SẴN VÀ KHI NÀO NÊN DÙNG:**\n",
        "    - `PLANNER`: CHỈ kích hoạt khi yêu cầu có các từ khóa rõ ràng liên quan đến **lập kế hoạch, lịch trình, sắp xếp thời gian, tuần tới, deadline**.\n",
        "    - `NOTEWRITER`: Kích hoạt khi yêu cầu liên quan đến **tìm hiểu, tóm tắt, ghi chú, giải thích một chủ đề**.\n",
        "    - `ADVISOR`: Kích hoạt khi yêu cầu có các từ khóa liên quan đến **lời khuyên, phương pháp, cách học, mẹo**.\n",
        "\n",
        "    **YÊU CẦU CỦA NGƯỜI DÙNG:**\n",
        "    \"{state['messages'][0].content}\"\n",
        "\n",
        "    Dựa vào các quy tắc trên, hãy phân tích yêu cầu và trả về một danh sách Python chứa tên các agent cần thiết.\n",
        "\n",
        "    Ví dụ:\n",
        "    - Yêu cầu: \"lập kế hoạch học về RAG cho tuần tới\" -> [\"PLANNER\", \"NOTEWRITER\"]\n",
        "    - Yêu cầu: \"giải thích cho tôi về RAG\" -> [\"NOTEWRITER\"]\n",
        "    - Yêu cầu: \"cho tôi vài mẹo để học RAG hiệu quả\" -> [\"ADVISOR\", \"NOTEWRITER\"]\n",
        "    \"\"\"\n",
        "\n",
        "    response_message = await llm.ainvoke([HumanMessage(content=prompt)])\n",
        "    try:\n",
        "        # Cố gắng tìm danh sách Python trong phản hồi\n",
        "        # Regex này tìm một chuỗi trông giống như một danh sách Python\n",
        "        match = re.search(r'\\[\\s*([^\\]]*?)\\s*\\]', response_message.content)\n",
        "        if match:\n",
        "            # Lấy nội dung bên trong dấu ngoặc vuông và chuyển thành danh sách\n",
        "            agent_list_str = f\"[{match.group(1)}]\"\n",
        "            required_agents = eval(agent_list_str)\n",
        "        else:\n",
        "            raise ValueError(\"Không tìm thấy danh sách trong phản hồi\")\n",
        "\n",
        "        if not isinstance(required_agents, list): raise ValueError\n",
        "    except:\n",
        "        # Nếu có lỗi, kích hoạt tất cả như một giải pháp an toàn\n",
        "        required_agents = [\"PLANNER\", \"NOTEWRITER\", \"ADVISOR\"]\n",
        "\n",
        "    print(f\"--- [Coordinator] Quyết định: Cần các agent {required_agents}\")\n",
        "    return {\"required_agents\": required_agents}\n",
        "\n",
        "async def tool_user_agent(state: AcademicState) -> Dict[str, Any]:\n",
        "    print(\"\\n--- [Tool User] Thu thập tất cả thông tin ban đầu... ---\")\n",
        "    request = state['messages'][0].content\n",
        "    search_query = f\"Hướng dẫn học và các tài liệu tốt nhất về '{request}'\"\n",
        "    print(f\"--- [Tool User] Quyết định gọi công cụ: ['google_calendar_reader', 'tavily_web_search']\")\n",
        "    calendar_output = google_calendar_reader.invoke({\"days_ahead\": 7})\n",
        "    time.sleep(1)\n",
        "    web_output = tavily_web_search.invoke({\"query\": search_query})\n",
        "    collected_data = f\"\"\"Thông tin ban đầu đã được thu thập:\n",
        "    1. Lịch trình trong 7 ngày tới: {calendar_output}\n",
        "    2. Kết quả tìm kiếm trên web: {web_output}\"\"\"\n",
        "    context_message = SystemMessage(content=collected_data)\n",
        "    print(\"--- [Tool User] Đã thu thập và định dạng xong thông tin.\")\n",
        "    return {\"messages\": [context_message]}\n",
        "\n",
        "def create_specialist_agent(agent_name: str, agent_description: str, output_key: str):\n",
        "    async def specialist_agent(state: AcademicState) -> Dict[str, Any]:\n",
        "        print(f\"\\n--- [{agent_name}] Bắt đầu làm việc... ---\")\n",
        "        llm_with_tool = llm.bind_tools([FinalAnswer])\n",
        "\n",
        "        if agent_name == \"PLANNER\":\n",
        "            prompt_content = f\"\"\"Bạn là {agent_name}. {agent_description}.\n",
        "            Dựa vào thông tin ban đầu (lịch trình, kết quả tìm kiếm), hãy tạo ra một kế hoạch học tập chi tiết, khả thi.\n",
        "            **Thông tin có sẵn:**\n",
        "            ```json\n",
        "            {json.dumps({\n",
        "                \"profile\": state['profile'],\n",
        "                \"messages\": [msg.model_dump() for msg in state['messages']],\n",
        "            }, indent=2, ensure_ascii=False)}\n",
        "            ```\n",
        "            \"\"\"\n",
        "        else:\n",
        "            prompt_content = f\"\"\"Bạn là {agent_name}. {agent_description}.\n",
        "            Dựa vào KẾ HOẠCH HỌC TẬP đã được tạo ra dưới đây và thông tin ban đầu, hãy tạo ra sản phẩm chuyên môn của bạn.\n",
        "            **Đừng lặp lại kế hoạch**, hãy tạo ra một nội dung mới dựa trên nó.\n",
        "            **Thông tin để tham khảo:**\n",
        "            ```json\n",
        "            {json.dumps({\n",
        "                \"profile\": state['profile'],\n",
        "                \"messages\": [msg.model_dump() for msg in state['messages']],\n",
        "                \"agent_outputs\": state['agent_outputs'],\n",
        "            }, indent=2, ensure_ascii=False)}\n",
        "            ```\n",
        "            \"\"\"\n",
        "\n",
        "        prompt = f\"{prompt_content}\\nHãy tạo ra câu trả lời cuối cùng của bạn và gọi công cụ `FinalAnswer`.\"\n",
        "\n",
        "        try:\n",
        "            ai_response = await llm_with_tool.ainvoke([HumanMessage(content=prompt)])\n",
        "            if not ai_response.tool_calls:\n",
        "                print(f\"--- [{agent_name}] Cảnh báo: Không gọi được tool, trả về nội dung thô.\")\n",
        "                return {\"agent_outputs\": {output_key: ai_response.content}}\n",
        "            tool_call = ai_response.tool_calls[0]\n",
        "            if tool_call['name'] == 'FinalAnswer':\n",
        "                print(f\"--- [{agent_name}] Đã tạo sản phẩm thành công.\")\n",
        "                return {\"agent_outputs\": {output_key: tool_call['args']['answer']}}\n",
        "            else:\n",
        "                raise ValueError(f\"LLM đã gọi một công cụ không xác định: {tool_call['name']}\")\n",
        "        except Exception as e:\n",
        "            # --- LOGIC NÂNG CẤP ---\n",
        "            # Chỉ in lỗi chi tiết nếu đang ở chế độ debug\n",
        "            if SHOW_DETAILED_LOGS:\n",
        "                print(f\"--- [{agent_name}] Gặp lỗi API: {e}\")\n",
        "\n",
        "            error_str = str(e)\n",
        "            match = re.search(r'\"answer\":\\s*\"(.*?)\"', error_str, re.DOTALL)\n",
        "            if match:\n",
        "                extracted_answer = match.group(1).encode().decode('unicode_escape')\n",
        "                print(f\"--- [{agent_name}] Gặp lỗi API nhỏ, đã tự động phục hồi sản phẩm.\")\n",
        "                return {\"agent_outputs\": {output_key: extracted_answer}}\n",
        "            else:\n",
        "                print(f\"--- [{agent_name}] Không thể cứu sản phẩm. Trả về thông báo lỗi.\")\n",
        "                return {\"agent_outputs\": {output_key: f\"Agent {agent_name} đã gặp lỗi không thể phục hồi.\"}}\n",
        "    return specialist_agent\n",
        "\n",
        "planner_agent = create_specialist_agent(\"PLANNER\", \"Tạo kế hoạch học tập chi tiết, khả thi.\", \"plan\")\n",
        "notewriter_agent = create_specialist_agent(\"NOTEWRITER\", \"Tạo ghi chú học thuật súc tích.\", \"notes\")\n",
        "advisor_agent = create_specialist_agent(\"ADVISOR\", \"Đưa ra lời khuyên chiến lược.\", \"advice\")\n",
        "\n",
        "async def synthesizer_agent(state: AcademicState) -> Dict[str, Any]:\n",
        "    print(\"\\n--- [Synthesizer] Bắt đầu tổng hợp báo cáo cuối cùng ---\")\n",
        "    prompt = f\"Tổng hợp các sản phẩm từ các chuyên gia (Kế hoạch, Ghi chú, Lời khuyên) sau đây thành MỘT báo cáo tổng hợp duy nhất, mạch lạc và chuyên nghiệp cho người dùng:\\n\\n{json.dumps(state['agent_outputs'], indent=2, ensure_ascii=False)}.\\n\\nYêu cầu ban đầu của người dùng là: '{state['messages'][0].content}'\"\n",
        "    response_message = await llm.ainvoke([HumanMessage(content=prompt)])\n",
        "    return {\"final_report\": response_message.content}\n",
        "\n",
        "async def reflection_agent(state: AcademicState) -> Dict[str, Any]:\n",
        "    print(\"\\n--- [Reflection] Đang suy nghĩ về các bước tiếp theo... ---\")\n",
        "    prompt = f\"Dựa vào báo cáo cuối cùng này, hãy đề xuất 3-4 hành động hoặc câu hỏi tiếp theo mà người dùng có thể muốn thực hiện:\\n\\n{state['final_report']}\"\n",
        "    response_message = await llm.ainvoke([HumanMessage(content=prompt)])\n",
        "    return {\"next_steps\": response_message.content}\n",
        "\n",
        "print(\"✅ Tất cả các agent cho ATLAS 2.0 (Phiên bản chuyên môn hóa) đã được định nghĩa.\")"
      ],
      "metadata": {
        "id": "mmRYcwIEsF-V",
        "colab": {
          "base_uri": "https://localhost:8080/"
        },
        "outputId": "df105f39-4515-49ec-9512-a9bfc538af0c"
      },
      "execution_count": 36,
      "outputs": [
        {
          "output_type": "stream",
          "name": "stdout",
          "text": [
            "✅ Tất cả các agent cho ATLAS 2.0 (Phiên bản chuyên môn hóa) đã được định nghĩa.\n"
          ]
        }
      ]
    },
    {
      "cell_type": "code",
      "source": [
        "# ==============================================================================\n",
        "# STEP 5 & 6: ASSEMBLY Kiến trúc\n",
        "# ==============================================================================\n",
        "\n",
        "# Node wrapper để chạy agent và đánh dấu hoàn thành\n",
        "async def specialist_node_wrapper(agent_func, agent_name: str, state: AcademicState) -> Dict[str, Any]:\n",
        "    # Chạy agent\n",
        "    result = await agent_func(state)\n",
        "\n",
        "    # Đánh dấu đã hoàn thành\n",
        "    current_completed = state.get(\"completed_agents\", [])\n",
        "    if agent_name not in current_completed:\n",
        "        # Sử dụng toán tử `add` của `Annotated` bằng cách trả về một danh sách\n",
        "        result[\"completed_agents\"] = [agent_name]\n",
        "\n",
        "    return result\n",
        "# Định nghĩa các node một cách tường minh\n",
        "async def planner_node(state: AcademicState) -> Dict[str, Any]:\n",
        "    return await specialist_node_wrapper(planner_agent, \"PLANNER\", state)\n",
        "\n",
        "async def notewriter_node(state: AcademicState) -> Dict[str, Any]:\n",
        "    return await specialist_node_wrapper(notewriter_agent, \"NOTEWRITER\", state)\n",
        "\n",
        "async def advisor_node(state: AcademicState) -> Dict[str, Any]:\n",
        "    return await specialist_node_wrapper(advisor_agent, \"ADVISOR\", state)\n",
        "\n",
        "# --- Lắp ráp Graph ---\n",
        "workflow = StateGraph(AcademicState)\n",
        "workflow.add_node(\"coordinator\", coordinator_agent)\n",
        "workflow.add_node(\"tool_user\", tool_user_agent)\n",
        "# Sử dụng các hàm async def đã được định nghĩa đúng cách\n",
        "workflow.add_node(\"planner\", planner_node)\n",
        "workflow.add_node(\"notewriter\", notewriter_node)\n",
        "workflow.add_node(\"advisor\", advisor_node)\n",
        "workflow.add_node(\"synthesizer\", synthesizer_agent)\n",
        "workflow.add_node(\"reflection\", reflection_agent)\n",
        "\n",
        "workflow.set_entry_point(\"coordinator\")\n",
        "\n",
        "# Luồng chạy tuần tự, thẳng và đơn giản\n",
        "\n",
        "workflow.add_edge(\"coordinator\", \"tool_user\")\n",
        "workflow.add_edge(\"tool_user\", \"planner\")\n",
        "workflow.add_edge(\"planner\", \"notewriter\")\n",
        "workflow.add_edge(\"notewriter\", \"advisor\")\n",
        "workflow.add_edge(\"advisor\", \"synthesizer\")\n",
        "\n",
        "# Luồng cuối cùng\n",
        "workflow.add_edge(\"synthesizer\", \"reflection\")\n",
        "workflow.add_edge(\"reflection\", END)\n",
        "\n",
        "app = workflow.compile()\n",
        "print(\"\\n✅✅✅ ATLAS 2.0 (Kiến trúc cuối cùng) đã được biên dịch! ✅✅✅\")"
      ],
      "metadata": {
        "colab": {
          "base_uri": "https://localhost:8080/"
        },
        "id": "Hl0fBZjM9-KX",
        "outputId": "1943d6dc-6570-4bdd-eaec-ce80316d4f3f"
      },
      "execution_count": 37,
      "outputs": [
        {
          "output_type": "stream",
          "name": "stdout",
          "text": [
            "\n",
            "✅✅✅ ATLAS 2.0 (Kiến trúc cuối cùng) đã được biên dịch! ✅✅✅\n"
          ]
        }
      ]
    },
    {
      "cell_type": "code",
      "source": [
        "# ==============================================================================\n",
        "# STEP 7: EXECUTION\n",
        "# ==============================================================================\n",
        "\n",
        "async def run_atlas_2_0(profile_data: dict):\n",
        "    request = \"Tuần tới tôi cần học về thuật toán K-Nearest Neighbors (KNN). Lịch của tôi khá bận rộn, hãy tạo một kế hoạch học tập chi tiết, sau đó ghi chú lại các điểm chính và cho tôi một vài lời khuyên học tập.\"\n",
        "\n",
        "    student_profile = next((p for p in profile_data.get(\"profiles\", []) if p.get(\"id\") == \"student_123\"), {})\n",
        "\n",
        "    initial_state = {\n",
        "        \"messages\": [HumanMessage(content=request)],\n",
        "        \"profile\": student_profile,\n",
        "        \"agent_outputs\": {},\n",
        "        \"completed_agents\": [],\n",
        "    }\n",
        "\n",
        "    console.print(f\"\\n🚀 [bold blue]Bắt đầu chạy ATLAS 2.0 với yêu cầu:[/bold blue]\\n{request}\")\n",
        "\n",
        "    # Chạy và xem log của từng bước\n",
        "    async for step in app.astream(initial_state, config={\"recursion_limit\": 15}):\n",
        "        node_name = list(step.keys())[0]\n",
        "        console.print(f\"\\n✅ [bold magenta]Hoàn thành bước:[/] [yellow]{node_name}[/yellow]\")\n",
        "        console.print(step[node_name])\n",
        "\n",
        "# Chạy hàm chính\n",
        "await run_atlas_2_0(profile_data)"
      ],
      "metadata": {
        "colab": {
          "base_uri": "https://localhost:8080/",
          "height": 1000
        },
        "id": "Ya8QbTnw9-IZ",
        "outputId": "ccb10562-d16a-4258-d0c9-df68eb3b808f"
      },
      "execution_count": 38,
      "outputs": [
        {
          "output_type": "display_data",
          "data": {
            "text/plain": [
              "\n",
              "🚀 \u001b[1;34mBắt đầu chạy ATLAS \u001b[0m\u001b[1;34m2.0\u001b[0m\u001b[1;34m với yêu cầu:\u001b[0m\n",
              "Tuần tới tôi cần học về thuật toán K-Nearest Neighbors \u001b[1m(\u001b[0mKNN\u001b[1m)\u001b[0m. Lịch của tôi khá bận rộn, hãy tạo một kế hoạch học \n",
              "tập chi tiết, sau đó ghi chú lại các điểm chính và cho tôi một vài lời khuyên học tập.\n"
            ],
            "text/html": [
              "<pre style=\"white-space:pre;overflow-x:auto;line-height:normal;font-family:Menlo,'DejaVu Sans Mono',consolas,'Courier New',monospace\">\n",
              "🚀 <span style=\"color: #000080; text-decoration-color: #000080; font-weight: bold\">Bắt đầu chạy ATLAS </span><span style=\"color: #000080; text-decoration-color: #000080; font-weight: bold\">2.0</span><span style=\"color: #000080; text-decoration-color: #000080; font-weight: bold\"> với yêu cầu:</span>\n",
              "Tuần tới tôi cần học về thuật toán K-Nearest Neighbors <span style=\"font-weight: bold\">(</span>KNN<span style=\"font-weight: bold\">)</span>. Lịch của tôi khá bận rộn, hãy tạo một kế hoạch học \n",
              "tập chi tiết, sau đó ghi chú lại các điểm chính và cho tôi một vài lời khuyên học tập.\n",
              "</pre>\n"
            ]
          },
          "metadata": {}
        },
        {
          "output_type": "stream",
          "name": "stdout",
          "text": [
            "\n",
            "--- [Coordinator] Đang quyết định các chuyên gia cần thiết... ---\n",
            "--- [Coordinator] Quyết định: Cần các agent ['PLANNER', 'NOTEWRITER', 'ADVISOR']\n"
          ]
        },
        {
          "output_type": "display_data",
          "data": {
            "text/plain": [
              "\n",
              "✅ \u001b[1;35mHoàn thành bước:\u001b[0m \u001b[33mcoordinator\u001b[0m\n"
            ],
            "text/html": [
              "<pre style=\"white-space:pre;overflow-x:auto;line-height:normal;font-family:Menlo,'DejaVu Sans Mono',consolas,'Courier New',monospace\">\n",
              "✅ <span style=\"color: #800080; text-decoration-color: #800080; font-weight: bold\">Hoàn thành bước:</span> <span style=\"color: #808000; text-decoration-color: #808000\">coordinator</span>\n",
              "</pre>\n"
            ]
          },
          "metadata": {}
        },
        {
          "output_type": "display_data",
          "data": {
            "text/plain": [
              "\u001b[1m{\u001b[0m\u001b[32m'required_agents'\u001b[0m: \u001b[1m[\u001b[0m\u001b[32m'PLANNER'\u001b[0m, \u001b[32m'NOTEWRITER'\u001b[0m, \u001b[32m'ADVISOR'\u001b[0m\u001b[1m]\u001b[0m\u001b[1m}\u001b[0m\n"
            ],
            "text/html": [
              "<pre style=\"white-space:pre;overflow-x:auto;line-height:normal;font-family:Menlo,'DejaVu Sans Mono',consolas,'Courier New',monospace\"><span style=\"font-weight: bold\">{</span><span style=\"color: #008000; text-decoration-color: #008000\">'required_agents'</span>: <span style=\"font-weight: bold\">[</span><span style=\"color: #008000; text-decoration-color: #008000\">'PLANNER'</span>, <span style=\"color: #008000; text-decoration-color: #008000\">'NOTEWRITER'</span>, <span style=\"color: #008000; text-decoration-color: #008000\">'ADVISOR'</span><span style=\"font-weight: bold\">]}</span>\n",
              "</pre>\n"
            ]
          },
          "metadata": {}
        },
        {
          "output_type": "stream",
          "name": "stdout",
          "text": [
            "\n",
            "--- [Tool User] Thu thập tất cả thông tin ban đầu... ---\n",
            "--- [Tool User] Quyết định gọi công cụ: ['google_calendar_reader', 'tavily_web_search']\n",
            "--- [Calendar Tool] Đang đọc lịch: td.tan2711@gmail.com\n",
            "--- [Calendar Tool] Tìm thấy 4 sự kiện.\n",
            "--- [Tool User] Đã thu thập và định dạng xong thông tin.\n"
          ]
        },
        {
          "output_type": "display_data",
          "data": {
            "text/plain": [
              "\n",
              "✅ \u001b[1;35mHoàn thành bước:\u001b[0m \u001b[33mtool_user\u001b[0m\n"
            ],
            "text/html": [
              "<pre style=\"white-space:pre;overflow-x:auto;line-height:normal;font-family:Menlo,'DejaVu Sans Mono',consolas,'Courier New',monospace\">\n",
              "✅ <span style=\"color: #800080; text-decoration-color: #800080; font-weight: bold\">Hoàn thành bước:</span> <span style=\"color: #808000; text-decoration-color: #808000\">tool_user</span>\n",
              "</pre>\n"
            ]
          },
          "metadata": {}
        },
        {
          "output_type": "display_data",
          "data": {
            "text/plain": [
              "\u001b[1m{\u001b[0m\n",
              "    \u001b[32m'messages'\u001b[0m: \u001b[1m[\u001b[0m\n",
              "        \u001b[1;35mSystemMessage\u001b[0m\u001b[1m(\u001b[0m\n",
              "            \u001b[33mcontent\u001b[0m=\u001b[32m'Thông tin ban đầu đã được thu thập:\\n    1. Lịch trình trong 7 ngày tới: \u001b[0m\u001b[32m[\u001b[0m\u001b[32m{\u001b[0m\u001b[32m\"summary\": \"Work \u001b[0m\n",
              "\u001b[32mOnline\", \"start\": \"2025-08-08T19:45:00+07:00\", \"end\": \"2025-08-08T21:15:00+07:00\"\u001b[0m\u001b[32m}\u001b[0m\u001b[32m, \u001b[0m\u001b[32m{\u001b[0m\u001b[32m\"summary\": \"Take a nap\", \u001b[0m\n",
              "\u001b[32m\"start\": \"2025-08-11T08:45:00+07:00\", \"end\": \"2025-08-11T13:00:00+07:00\"\u001b[0m\u001b[32m}\u001b[0m\u001b[32m, \u001b[0m\u001b[32m{\u001b[0m\u001b[32m\"summary\": \"have a trip\", \"start\": \u001b[0m\n",
              "\u001b[32m\"2025-08-12T01:30:00+07:00\", \"end\": \"2025-08-12T05:30:00+07:00\"\u001b[0m\u001b[32m}\u001b[0m\u001b[32m, \u001b[0m\u001b[32m{\u001b[0m\u001b[32m\"summary\": \"go swimming\", \"start\": \u001b[0m\n",
              "\u001b[32m\"2025-08-14T07:15:00+07:00\", \"end\": \"2025-08-14T11:45:00+07:00\"\u001b[0m\u001b[32m}\u001b[0m\u001b[32m]\u001b[0m\u001b[32m\\n    2. Kết quả tìm kiếm trên web: Source: \u001b[0m\n",
              "\u001b[32mhttps://aicandy.vn/kham-pha-k-nearest-neighbors-cho-phan-loai-va-hoi-quy/\\nContent: 1. Giới thiệu về K-nearest \u001b[0m\n",
              "\u001b[32mneighbors\\n   2. Nguyên lý hoạt động của KNN\\n       2.1. Các bước thực hiện\\n       2.2. Bài toán phân loại\\n     \u001b[0m\n",
              "\u001b[32m2.4. Bài toán hồi quy\\n\\n   3. Chọn giá trị của k\\n       3.1. Tầm quan trọng của việc chọn giá trị k\\n       3.2. \u001b[0m\n",
              "\u001b[32mẢnh hưởng của giá trị k đến hiệu suất mô hình\\n       3.3. Các phương pháp chọn giá trị k\\n       3.4. Các yếu tố \u001b[0m\n",
              "\u001b[32mảnh hưởng đến việc chọn giá trị k\\n       3.5. Tối ưu hóa giá trị k cho từng bài toán cụ thể \u001b[0m\u001b[32m[\u001b[0m\u001b[32m...\u001b[0m\u001b[32m]\u001b[0m\u001b[32m K-nearest \u001b[0m\n",
              "\u001b[32mneighbors \u001b[0m\u001b[32m(\u001b[0m\u001b[32mKNN\u001b[0m\u001b[32m)\u001b[0m\u001b[32m là một trong những thuật toán học máy cơ bản nhất, nhưng vô cùng mạnh mẽ trong cả bài toán phân \u001b[0m\n",
              "\u001b[32mloại và hồi quy.\\n\\nKNN là một thuật toán học máy không tham số \u001b[0m\u001b[32m(\u001b[0m\u001b[32mnon-parametric\u001b[0m\u001b[32m)\u001b[0m\u001b[32m và học giám sát \u001b[0m\u001b[32m(\u001b[0m\u001b[32msupervised \u001b[0m\n",
              "\u001b[32mlearning\u001b[0m\u001b[32m)\u001b[0m\u001b[32m. Ý tưởng chính là tìm kiếm k điểm dữ liệu gần nhất trong tập huấn luyện, sau đó sử dụng chúng để dự đoán \u001b[0m\n",
              "\u001b[32mnhãn hoặc giá trị của điểm dữ liệu mới.\\n\\nImage 75: aicandy.vn\\n\\n2. Nguyên lý hoạt động của \u001b[0m\n",
              "\u001b[32mKNN\\n---------------------------------- \u001b[0m\u001b[32m[\u001b[0m\u001b[32m...\u001b[0m\u001b[32m]\u001b[0m\u001b[32m KNN là một trong những thuật toán đơn giản nhất trong học máy. Không \u001b[0m\n",
              "\u001b[32mcần xây dựng mô hình phức tạp hoặc tìm kiếm các tham số phức tạp, KNN chỉ dựa vào tính toán khoảng cách và tìm kiếm\u001b[0m\n",
              "\u001b[32mk hàng xóm gần nhất.\\n   Điều này làm cho KNN trở nên dễ dàng để hiểu và triển khai, ngay cả đối với những người \u001b[0m\n",
              "\u001b[32mmới bắt đầu trong lĩnh vực học máy.\\n\\n#### Không yêu cầu giả định về phân phối dữ liệu\\n\\nSource: \u001b[0m\n",
              "\u001b[32mhttps://viblo.asia/p/knn-k-nearest-neighbors-1-djeZ14ejKWz\\nContent: 1.   Thuật toán đơn giản, dễ dàng triển \u001b[0m\n",
              "\u001b[32mkhai.\\n2.   Độ phức tạp tính toán nhỏ.\\n3.   Xử lý tốt với tập dữ liệu nhiễu\\n\\nNhược điểm\\\u001b[0m\u001b[32mn\u001b[0m\u001b[32m==========\\n\\n1.   Với \u001b[0m\n",
              "\u001b[32mK nhỏ dễ gặp nhiễu dẫn tới kết quả đưa ra không chính xác\\n2.   Cần nhiều thời gian để thực hiện do phải tính toán \u001b[0m\n",
              "\u001b[32mkhoảng cách với tất cả các đối tượng trong tập dữ liệu.\\n3.   Cần chuyển đổi kiểu dữ liệu thành các yếu tố định \u001b[0m\n",
              "\u001b[32mtính.\\n\\nTrong bài tiếp theo chúng ta sẽ xây dựng một mã nguồn mô phỏng thuật toán KNN trong thực tế. \u001b[0m\u001b[32m[\u001b[0m\u001b[32m...\u001b[0m\u001b[32m]\u001b[0m\u001b[32m KNN \u001b[0m\n",
              "\u001b[32m(\u001b[0m\u001b[32mK-Nearest Neighbors\u001b[0m\u001b[32m)\u001b[0m\u001b[32m là một trong những thuật toán học có giám sát đơn giản nhất được sử dụng nhiều trong khai phá\u001b[0m\n",
              "\u001b[32mdữ liệu và học máy. Ý tưởng của thuật toán này là nó không học một điều gì từ tập dữ liệu học \u001b[0m\u001b[32m(\u001b[0m\u001b[32mnên KNN được xếp vào\u001b[0m\n",
              "\u001b[32mloại lazy learning\u001b[0m\u001b[32m)\u001b[0m\u001b[32m, mọi tính toán được thực hiện khi nó cần dự đoán nhãn của dữ liệu mới. \\n\\nLớp \u001b[0m\u001b[32m(\u001b[0m\u001b[32mnhãn\u001b[0m\u001b[32m)\u001b[0m\u001b[32m của một \u001b[0m\n",
              "\u001b[32mđối tượng dữ liệu mới có thể dự đoán từ các lớp \u001b[0m\u001b[32m(\u001b[0m\u001b[32mnhãn\u001b[0m\u001b[32m)\u001b[0m\u001b[32m của k hàng xóm gần nó nhất.\\n\\nVí dụ:\\n------ \u001b[0m\u001b[32m[\u001b[0m\u001b[32m...\u001b[0m\u001b[32m]\u001b[0m\u001b[32m 1.   Ta \u001b[0m\n",
              "\u001b[32mcó D là tập các điểm dữ liệu đã được gắn nhãn và A là dữ liệu chưa được phân loại.\\n2.   Đo khoảng cách \u001b[0m\u001b[32m(\u001b[0m\u001b[32mEuclidian,\u001b[0m\n",
              "\u001b[32mManhattan, Minkowski, Minkowski hoặc Trọng số\u001b[0m\u001b[32m)\u001b[0m\u001b[32m từ dữ liệu mới A đến tất cả các dữ liệu khác đã được phân loại trong\u001b[0m\n",
              "\u001b[32mD.\\n3.   Chọn K \u001b[0m\u001b[32m(\u001b[0m\u001b[32mK là tham số mà bạn định nghĩa\u001b[0m\u001b[32m)\u001b[0m\u001b[32m khoảng cách nhỏ nhất.\\n4.   Kiểm tra danh sách các lớp có khoảng \u001b[0m\n",
              "\u001b[32mcách ngắn nhất và đếm số lượng của mỗi lớp xuất hiện.\\n5.   Lấy đúng lớp \u001b[0m\u001b[32m(\u001b[0m\u001b[32mlớp xuất hiện nhiều lần nhất\u001b[0m\u001b[32m)\u001b[0m\u001b[32m.\\n\\nSource:\u001b[0m\n",
              "\u001b[32mhttps://machinelearningcoban.com/2017/01/08/knn/\\nContent: K-nearest neighbor là một trong những thuật toán \u001b[0m\n",
              "\u001b[32msupervised-learning đơn giản nhất \u001b[0m\u001b[32m(\u001b[0m\u001b[32mmà hiệu quả trong một vài trường hợp\u001b[0m\u001b[32m)\u001b[0m\u001b[32m trong Machine Learning. Khi training, \u001b[0m\n",
              "\u001b[32mthuật toán này không học một điều gì từ dữ liệu training \u001b[0m\u001b[32m(\u001b[0m\u001b[32mđây cũng là lý do thuật toán này được xếp vào loại lazy \u001b[0m\n",
              "\u001b[32mlearning\u001b[0m\u001b[32m)\u001b[0m\u001b[32m, mọi tính toán được thực hiện khi nó cần dự đoán kết quả của dữ liệu mới. K-nearest neighbor có thể áp \u001b[0m\n",
              "\u001b[32mdụng được vào cả hai loại của bài toán Supervised learning là Classification và Regression. KNN còn được gọi là \u001b[0m\n",
              "\u001b[32m[\u001b[0m\u001b[32m...\u001b[0m\u001b[32m]\u001b[0m\u001b[32m Có một anh bạn chuẩn bị đến ngày thi cuối kỳ. Vì môn này được mở tài liệu khi thi nên anh ta không chịu ôn \u001b[0m\n",
              "\u001b[32mtập để hiểu ý nghĩa của từng bài học và mối liên hệ giữa các bài. Thay vào đó, anh thu thập tất cả các tài liệu \u001b[0m\n",
              "\u001b[32mtrên lớp, bao gồm ghi chép bài giảng \u001b[0m\u001b[32m(\u001b[0m\u001b[32mlecture notes\u001b[0m\u001b[32m)\u001b[0m\u001b[32m, các slides và bài tập về nhà + lời giải. Để cho chắc, anh ta \u001b[0m\n",
              "\u001b[32mra thư viện và các quán Photocopy quanh trường mua hết tất cả các loại tài liệu liên quan \u001b[0m\u001b[32m(\u001b[0m\u001b[32mkhá khen cho cậu này \u001b[0m\n",
              "\u001b[32mchịu khó tìm kiếm tài liệu\u001b[0m\u001b[32m)\u001b[0m\u001b[32m. Cuối cùng, anh bạn của \u001b[0m\u001b[32m[\u001b[0m\u001b[32m...\u001b[0m\u001b[32m]\u001b[0m\u001b[32m Một cách ngắn gọn, KNN là thuật toán đi tìm đầu ra của \u001b[0m\n",
              "\u001b[32mmột điểm dữ liệu mới bằng cách chỉ dựa trên thông tin của K điểm dữ liệu trong training set gần nó nhất \u001b[0m\u001b[32m(\u001b[0m\u001b[32mK-lân \u001b[0m\n",
              "\u001b[32mcận\u001b[0m\u001b[32m)\u001b[0m\u001b[32m, không quan tâm đến việc có một vài điểm dữ liệu trong những điểm gần nhất này là nhiễu. Hình dưới đây là một \u001b[0m\n",
              "\u001b[32mví dụ về KNN trong classification với K = 1.'\u001b[0m,\n",
              "            \u001b[33madditional_kwargs\u001b[0m=\u001b[1m{\u001b[0m\u001b[1m}\u001b[0m,\n",
              "            \u001b[33mresponse_metadata\u001b[0m=\u001b[1m{\u001b[0m\u001b[1m}\u001b[0m\n",
              "        \u001b[1m)\u001b[0m\n",
              "    \u001b[1m]\u001b[0m\n",
              "\u001b[1m}\u001b[0m\n"
            ],
            "text/html": [
              "<pre style=\"white-space:pre;overflow-x:auto;line-height:normal;font-family:Menlo,'DejaVu Sans Mono',consolas,'Courier New',monospace\"><span style=\"font-weight: bold\">{</span>\n",
              "    <span style=\"color: #008000; text-decoration-color: #008000\">'messages'</span>: <span style=\"font-weight: bold\">[</span>\n",
              "        <span style=\"color: #800080; text-decoration-color: #800080; font-weight: bold\">SystemMessage</span><span style=\"font-weight: bold\">(</span>\n",
              "            <span style=\"color: #808000; text-decoration-color: #808000\">content</span>=<span style=\"color: #008000; text-decoration-color: #008000\">'Thông tin ban đầu đã được thu thập:\\n    1. Lịch trình trong 7 ngày tới: [{\"summary\": \"Work </span>\n",
              "<span style=\"color: #008000; text-decoration-color: #008000\">Online\", \"start\": \"2025-08-08T19:45:00+07:00\", \"end\": \"2025-08-08T21:15:00+07:00\"}, {\"summary\": \"Take a nap\", </span>\n",
              "<span style=\"color: #008000; text-decoration-color: #008000\">\"start\": \"2025-08-11T08:45:00+07:00\", \"end\": \"2025-08-11T13:00:00+07:00\"}, {\"summary\": \"have a trip\", \"start\": </span>\n",
              "<span style=\"color: #008000; text-decoration-color: #008000\">\"2025-08-12T01:30:00+07:00\", \"end\": \"2025-08-12T05:30:00+07:00\"}, {\"summary\": \"go swimming\", \"start\": </span>\n",
              "<span style=\"color: #008000; text-decoration-color: #008000\">\"2025-08-14T07:15:00+07:00\", \"end\": \"2025-08-14T11:45:00+07:00\"}]\\n    2. Kết quả tìm kiếm trên web: Source: </span>\n",
              "<span style=\"color: #008000; text-decoration-color: #008000\">https://aicandy.vn/kham-pha-k-nearest-neighbors-cho-phan-loai-va-hoi-quy/\\nContent: 1. Giới thiệu về K-nearest </span>\n",
              "<span style=\"color: #008000; text-decoration-color: #008000\">neighbors\\n   2. Nguyên lý hoạt động của KNN\\n       2.1. Các bước thực hiện\\n       2.2. Bài toán phân loại\\n     </span>\n",
              "<span style=\"color: #008000; text-decoration-color: #008000\">2.4. Bài toán hồi quy\\n\\n   3. Chọn giá trị của k\\n       3.1. Tầm quan trọng của việc chọn giá trị k\\n       3.2. </span>\n",
              "<span style=\"color: #008000; text-decoration-color: #008000\">Ảnh hưởng của giá trị k đến hiệu suất mô hình\\n       3.3. Các phương pháp chọn giá trị k\\n       3.4. Các yếu tố </span>\n",
              "<span style=\"color: #008000; text-decoration-color: #008000\">ảnh hưởng đến việc chọn giá trị k\\n       3.5. Tối ưu hóa giá trị k cho từng bài toán cụ thể [...] K-nearest </span>\n",
              "<span style=\"color: #008000; text-decoration-color: #008000\">neighbors (KNN) là một trong những thuật toán học máy cơ bản nhất, nhưng vô cùng mạnh mẽ trong cả bài toán phân </span>\n",
              "<span style=\"color: #008000; text-decoration-color: #008000\">loại và hồi quy.\\n\\nKNN là một thuật toán học máy không tham số (non-parametric) và học giám sát (supervised </span>\n",
              "<span style=\"color: #008000; text-decoration-color: #008000\">learning). Ý tưởng chính là tìm kiếm k điểm dữ liệu gần nhất trong tập huấn luyện, sau đó sử dụng chúng để dự đoán </span>\n",
              "<span style=\"color: #008000; text-decoration-color: #008000\">nhãn hoặc giá trị của điểm dữ liệu mới.\\n\\nImage 75: aicandy.vn\\n\\n2. Nguyên lý hoạt động của </span>\n",
              "<span style=\"color: #008000; text-decoration-color: #008000\">KNN\\n---------------------------------- [...] KNN là một trong những thuật toán đơn giản nhất trong học máy. Không </span>\n",
              "<span style=\"color: #008000; text-decoration-color: #008000\">cần xây dựng mô hình phức tạp hoặc tìm kiếm các tham số phức tạp, KNN chỉ dựa vào tính toán khoảng cách và tìm kiếm</span>\n",
              "<span style=\"color: #008000; text-decoration-color: #008000\">k hàng xóm gần nhất.\\n   Điều này làm cho KNN trở nên dễ dàng để hiểu và triển khai, ngay cả đối với những người </span>\n",
              "<span style=\"color: #008000; text-decoration-color: #008000\">mới bắt đầu trong lĩnh vực học máy.\\n\\n#### Không yêu cầu giả định về phân phối dữ liệu\\n\\nSource: </span>\n",
              "<span style=\"color: #008000; text-decoration-color: #008000\">https://viblo.asia/p/knn-k-nearest-neighbors-1-djeZ14ejKWz\\nContent: 1.   Thuật toán đơn giản, dễ dàng triển </span>\n",
              "<span style=\"color: #008000; text-decoration-color: #008000\">khai.\\n2.   Độ phức tạp tính toán nhỏ.\\n3.   Xử lý tốt với tập dữ liệu nhiễu\\n\\nNhược điểm\\n==========\\n\\n1.   Với </span>\n",
              "<span style=\"color: #008000; text-decoration-color: #008000\">K nhỏ dễ gặp nhiễu dẫn tới kết quả đưa ra không chính xác\\n2.   Cần nhiều thời gian để thực hiện do phải tính toán </span>\n",
              "<span style=\"color: #008000; text-decoration-color: #008000\">khoảng cách với tất cả các đối tượng trong tập dữ liệu.\\n3.   Cần chuyển đổi kiểu dữ liệu thành các yếu tố định </span>\n",
              "<span style=\"color: #008000; text-decoration-color: #008000\">tính.\\n\\nTrong bài tiếp theo chúng ta sẽ xây dựng một mã nguồn mô phỏng thuật toán KNN trong thực tế. [...] KNN </span>\n",
              "<span style=\"color: #008000; text-decoration-color: #008000\">(K-Nearest Neighbors) là một trong những thuật toán học có giám sát đơn giản nhất được sử dụng nhiều trong khai phá</span>\n",
              "<span style=\"color: #008000; text-decoration-color: #008000\">dữ liệu và học máy. Ý tưởng của thuật toán này là nó không học một điều gì từ tập dữ liệu học (nên KNN được xếp vào</span>\n",
              "<span style=\"color: #008000; text-decoration-color: #008000\">loại lazy learning), mọi tính toán được thực hiện khi nó cần dự đoán nhãn của dữ liệu mới. \\n\\nLớp (nhãn) của một </span>\n",
              "<span style=\"color: #008000; text-decoration-color: #008000\">đối tượng dữ liệu mới có thể dự đoán từ các lớp (nhãn) của k hàng xóm gần nó nhất.\\n\\nVí dụ:\\n------ [...] 1.   Ta </span>\n",
              "<span style=\"color: #008000; text-decoration-color: #008000\">có D là tập các điểm dữ liệu đã được gắn nhãn và A là dữ liệu chưa được phân loại.\\n2.   Đo khoảng cách (Euclidian,</span>\n",
              "<span style=\"color: #008000; text-decoration-color: #008000\">Manhattan, Minkowski, Minkowski hoặc Trọng số) từ dữ liệu mới A đến tất cả các dữ liệu khác đã được phân loại trong</span>\n",
              "<span style=\"color: #008000; text-decoration-color: #008000\">D.\\n3.   Chọn K (K là tham số mà bạn định nghĩa) khoảng cách nhỏ nhất.\\n4.   Kiểm tra danh sách các lớp có khoảng </span>\n",
              "<span style=\"color: #008000; text-decoration-color: #008000\">cách ngắn nhất và đếm số lượng của mỗi lớp xuất hiện.\\n5.   Lấy đúng lớp (lớp xuất hiện nhiều lần nhất).\\n\\nSource:</span>\n",
              "<span style=\"color: #008000; text-decoration-color: #008000\">https://machinelearningcoban.com/2017/01/08/knn/\\nContent: K-nearest neighbor là một trong những thuật toán </span>\n",
              "<span style=\"color: #008000; text-decoration-color: #008000\">supervised-learning đơn giản nhất (mà hiệu quả trong một vài trường hợp) trong Machine Learning. Khi training, </span>\n",
              "<span style=\"color: #008000; text-decoration-color: #008000\">thuật toán này không học một điều gì từ dữ liệu training (đây cũng là lý do thuật toán này được xếp vào loại lazy </span>\n",
              "<span style=\"color: #008000; text-decoration-color: #008000\">learning), mọi tính toán được thực hiện khi nó cần dự đoán kết quả của dữ liệu mới. K-nearest neighbor có thể áp </span>\n",
              "<span style=\"color: #008000; text-decoration-color: #008000\">dụng được vào cả hai loại của bài toán Supervised learning là Classification và Regression. KNN còn được gọi là </span>\n",
              "<span style=\"color: #008000; text-decoration-color: #008000\">[...] Có một anh bạn chuẩn bị đến ngày thi cuối kỳ. Vì môn này được mở tài liệu khi thi nên anh ta không chịu ôn </span>\n",
              "<span style=\"color: #008000; text-decoration-color: #008000\">tập để hiểu ý nghĩa của từng bài học và mối liên hệ giữa các bài. Thay vào đó, anh thu thập tất cả các tài liệu </span>\n",
              "<span style=\"color: #008000; text-decoration-color: #008000\">trên lớp, bao gồm ghi chép bài giảng (lecture notes), các slides và bài tập về nhà + lời giải. Để cho chắc, anh ta </span>\n",
              "<span style=\"color: #008000; text-decoration-color: #008000\">ra thư viện và các quán Photocopy quanh trường mua hết tất cả các loại tài liệu liên quan (khá khen cho cậu này </span>\n",
              "<span style=\"color: #008000; text-decoration-color: #008000\">chịu khó tìm kiếm tài liệu). Cuối cùng, anh bạn của [...] Một cách ngắn gọn, KNN là thuật toán đi tìm đầu ra của </span>\n",
              "<span style=\"color: #008000; text-decoration-color: #008000\">một điểm dữ liệu mới bằng cách chỉ dựa trên thông tin của K điểm dữ liệu trong training set gần nó nhất (K-lân </span>\n",
              "<span style=\"color: #008000; text-decoration-color: #008000\">cận), không quan tâm đến việc có một vài điểm dữ liệu trong những điểm gần nhất này là nhiễu. Hình dưới đây là một </span>\n",
              "<span style=\"color: #008000; text-decoration-color: #008000\">ví dụ về KNN trong classification với K = 1.'</span>,\n",
              "            <span style=\"color: #808000; text-decoration-color: #808000\">additional_kwargs</span>=<span style=\"font-weight: bold\">{}</span>,\n",
              "            <span style=\"color: #808000; text-decoration-color: #808000\">response_metadata</span>=<span style=\"font-weight: bold\">{}</span>\n",
              "        <span style=\"font-weight: bold\">)</span>\n",
              "    <span style=\"font-weight: bold\">]</span>\n",
              "<span style=\"font-weight: bold\">}</span>\n",
              "</pre>\n"
            ]
          },
          "metadata": {}
        },
        {
          "output_type": "stream",
          "name": "stdout",
          "text": [
            "\n",
            "--- [PLANNER] Bắt đầu làm việc... ---\n",
            "--- [PLANNER] Gặp lỗi API nhỏ, đã tự động phục hồi sản phẩm.\n"
          ]
        },
        {
          "output_type": "display_data",
          "data": {
            "text/plain": [
              "\n",
              "✅ \u001b[1;35mHoàn thành bước:\u001b[0m \u001b[33mplanner\u001b[0m\n"
            ],
            "text/html": [
              "<pre style=\"white-space:pre;overflow-x:auto;line-height:normal;font-family:Menlo,'DejaVu Sans Mono',consolas,'Courier New',monospace\">\n",
              "✅ <span style=\"color: #800080; text-decoration-color: #800080; font-weight: bold\">Hoàn thành bước:</span> <span style=\"color: #808000; text-decoration-color: #808000\">planner</span>\n",
              "</pre>\n"
            ]
          },
          "metadata": {}
        },
        {
          "output_type": "display_data",
          "data": {
            "text/plain": [
              "\u001b[1m{\u001b[0m\n",
              "    \u001b[32m'agent_outputs'\u001b[0m: \u001b[1m{\u001b[0m\n",
              "        \u001b[32m'plan'\u001b[0m: \u001b[32m'Based on the provided information, I will create a detailed learning plan for you to learn about \u001b[0m\n",
              "\u001b[32mK-Nearest Neighbors \u001b[0m\u001b[32m(\u001b[0m\u001b[32mKNN\u001b[0m\u001b[32m)\u001b[0m\u001b[32m algorithm.\\n\\n**Learning Plan:**\\n\\n* Day 1-2: Review the basics of KNN algorithm, \u001b[0m\n",
              "\u001b[32mincluding its introduction, working principle, and applications.\\n* Day 3-4: Focus on the importance of choosing \u001b[0m\n",
              "\u001b[32mthe right value of k, its impact on model performance, and methods for selecting k.\\n* Day 5-6: Study the \u001b[0m\n",
              "\u001b[32madvantages and disadvantages of KNN, including its simplicity, low computational complexity, and ability to handle \u001b[0m\n",
              "\u001b[32mnoisy data.\\n* Day 7: Practice implementing KNN algorithm using a programming language of your choice.\\n\\n**Study \u001b[0m\n",
              "\u001b[32mSchedule:**\\n\\n* Morning \u001b[0m\u001b[32m(\u001b[0m\u001b[32m9 AM - 12 PM\u001b[0m\u001b[32m)\u001b[0m\u001b[32m: Study and review KNN algorithm\\n* 45-minute focus, 15-minute break\\n* Use \u001b[0m\n",
              "\u001b[32mdiagrams, mind maps, and videos to aid learning\\n\\n**Additional Tips:**\\n\\n* Take breaks to avoid burnout\\n* Review\u001b[0m\n",
              "\u001b[32mand practice regularly to reinforce learning\\n* Use online resources and tutorials to supplement learning\\n\\nI hope\u001b[0m\n",
              "\u001b[32mthis learning plan helps you to learn about KNN algorithm effectively!'\u001b[0m\n",
              "    \u001b[1m}\u001b[0m,\n",
              "    \u001b[32m'completed_agents'\u001b[0m: \u001b[1m[\u001b[0m\u001b[32m'PLANNER'\u001b[0m\u001b[1m]\u001b[0m\n",
              "\u001b[1m}\u001b[0m\n"
            ],
            "text/html": [
              "<pre style=\"white-space:pre;overflow-x:auto;line-height:normal;font-family:Menlo,'DejaVu Sans Mono',consolas,'Courier New',monospace\"><span style=\"font-weight: bold\">{</span>\n",
              "    <span style=\"color: #008000; text-decoration-color: #008000\">'agent_outputs'</span>: <span style=\"font-weight: bold\">{</span>\n",
              "        <span style=\"color: #008000; text-decoration-color: #008000\">'plan'</span>: <span style=\"color: #008000; text-decoration-color: #008000\">'Based on the provided information, I will create a detailed learning plan for you to learn about </span>\n",
              "<span style=\"color: #008000; text-decoration-color: #008000\">K-Nearest Neighbors (KNN) algorithm.\\n\\n**Learning Plan:**\\n\\n* Day 1-2: Review the basics of KNN algorithm, </span>\n",
              "<span style=\"color: #008000; text-decoration-color: #008000\">including its introduction, working principle, and applications.\\n* Day 3-4: Focus on the importance of choosing </span>\n",
              "<span style=\"color: #008000; text-decoration-color: #008000\">the right value of k, its impact on model performance, and methods for selecting k.\\n* Day 5-6: Study the </span>\n",
              "<span style=\"color: #008000; text-decoration-color: #008000\">advantages and disadvantages of KNN, including its simplicity, low computational complexity, and ability to handle </span>\n",
              "<span style=\"color: #008000; text-decoration-color: #008000\">noisy data.\\n* Day 7: Practice implementing KNN algorithm using a programming language of your choice.\\n\\n**Study </span>\n",
              "<span style=\"color: #008000; text-decoration-color: #008000\">Schedule:**\\n\\n* Morning (9 AM - 12 PM): Study and review KNN algorithm\\n* 45-minute focus, 15-minute break\\n* Use </span>\n",
              "<span style=\"color: #008000; text-decoration-color: #008000\">diagrams, mind maps, and videos to aid learning\\n\\n**Additional Tips:**\\n\\n* Take breaks to avoid burnout\\n* Review</span>\n",
              "<span style=\"color: #008000; text-decoration-color: #008000\">and practice regularly to reinforce learning\\n* Use online resources and tutorials to supplement learning\\n\\nI hope</span>\n",
              "<span style=\"color: #008000; text-decoration-color: #008000\">this learning plan helps you to learn about KNN algorithm effectively!'</span>\n",
              "    <span style=\"font-weight: bold\">}</span>,\n",
              "    <span style=\"color: #008000; text-decoration-color: #008000\">'completed_agents'</span>: <span style=\"font-weight: bold\">[</span><span style=\"color: #008000; text-decoration-color: #008000\">'PLANNER'</span><span style=\"font-weight: bold\">]</span>\n",
              "<span style=\"font-weight: bold\">}</span>\n",
              "</pre>\n"
            ]
          },
          "metadata": {}
        },
        {
          "output_type": "stream",
          "name": "stdout",
          "text": [
            "\n",
            "--- [NOTEWRITER] Bắt đầu làm việc... ---\n",
            "--- [NOTEWRITER] Đã tạo sản phẩm thành công.\n"
          ]
        },
        {
          "output_type": "display_data",
          "data": {
            "text/plain": [
              "\n",
              "✅ \u001b[1;35mHoàn thành bước:\u001b[0m \u001b[33mnotewriter\u001b[0m\n"
            ],
            "text/html": [
              "<pre style=\"white-space:pre;overflow-x:auto;line-height:normal;font-family:Menlo,'DejaVu Sans Mono',consolas,'Courier New',monospace\">\n",
              "✅ <span style=\"color: #800080; text-decoration-color: #800080; font-weight: bold\">Hoàn thành bước:</span> <span style=\"color: #808000; text-decoration-color: #808000\">notewriter</span>\n",
              "</pre>\n"
            ]
          },
          "metadata": {}
        },
        {
          "output_type": "display_data",
          "data": {
            "text/plain": [
              "\u001b[1m{\u001b[0m\n",
              "    \u001b[32m'agent_outputs'\u001b[0m: \u001b[1m{\u001b[0m\n",
              "        \u001b[32m'notes'\u001b[0m: \u001b[32m\"Here is a concise note on K-Nearest Neighbors \u001b[0m\u001b[32m(\u001b[0m\u001b[32mKNN\u001b[0m\u001b[32m)\u001b[0m\u001b[32m algorithm:\\n\\n**Introduction:** KNN is a \u001b[0m\n",
              "\u001b[32msupervised learning algorithm used for classification and regression tasks.\\n\\n**Working Principle:** KNN finds the\u001b[0m\n",
              "\u001b[32mk-nearest neighbors of a new data point and uses their labels to predict the label of the new data \u001b[0m\n",
              "\u001b[32mpoint.\\n\\n**Advantages:** Simple to implement, low computational complexity, and ability to handle noisy \u001b[0m\n",
              "\u001b[32mdata.\\n\\n**Disadvantages:** Sensitive to the choice of k, computationally expensive for large datasets, and \u001b[0m\n",
              "\u001b[32mrequires feature scaling.\\n\\n**Choosing k:** The value of k affects the model's performance, and there is no \u001b[0m\n",
              "\u001b[32mone-size-fits-all solution. Cross-validation can be used to select the optimal value of k.\\n\\n**Conclusion:** KNN \u001b[0m\n",
              "\u001b[32mis a powerful algorithm for classification and regression tasks, but its performance depends on the choice of k and\u001b[0m\n",
              "\u001b[32mthe quality of the data.\"\u001b[0m\n",
              "    \u001b[1m}\u001b[0m,\n",
              "    \u001b[32m'completed_agents'\u001b[0m: \u001b[1m[\u001b[0m\u001b[32m'NOTEWRITER'\u001b[0m\u001b[1m]\u001b[0m\n",
              "\u001b[1m}\u001b[0m\n"
            ],
            "text/html": [
              "<pre style=\"white-space:pre;overflow-x:auto;line-height:normal;font-family:Menlo,'DejaVu Sans Mono',consolas,'Courier New',monospace\"><span style=\"font-weight: bold\">{</span>\n",
              "    <span style=\"color: #008000; text-decoration-color: #008000\">'agent_outputs'</span>: <span style=\"font-weight: bold\">{</span>\n",
              "        <span style=\"color: #008000; text-decoration-color: #008000\">'notes'</span>: <span style=\"color: #008000; text-decoration-color: #008000\">\"Here is a concise note on K-Nearest Neighbors (KNN) algorithm:\\n\\n**Introduction:** KNN is a </span>\n",
              "<span style=\"color: #008000; text-decoration-color: #008000\">supervised learning algorithm used for classification and regression tasks.\\n\\n**Working Principle:** KNN finds the</span>\n",
              "<span style=\"color: #008000; text-decoration-color: #008000\">k-nearest neighbors of a new data point and uses their labels to predict the label of the new data </span>\n",
              "<span style=\"color: #008000; text-decoration-color: #008000\">point.\\n\\n**Advantages:** Simple to implement, low computational complexity, and ability to handle noisy </span>\n",
              "<span style=\"color: #008000; text-decoration-color: #008000\">data.\\n\\n**Disadvantages:** Sensitive to the choice of k, computationally expensive for large datasets, and </span>\n",
              "<span style=\"color: #008000; text-decoration-color: #008000\">requires feature scaling.\\n\\n**Choosing k:** The value of k affects the model's performance, and there is no </span>\n",
              "<span style=\"color: #008000; text-decoration-color: #008000\">one-size-fits-all solution. Cross-validation can be used to select the optimal value of k.\\n\\n**Conclusion:** KNN </span>\n",
              "<span style=\"color: #008000; text-decoration-color: #008000\">is a powerful algorithm for classification and regression tasks, but its performance depends on the choice of k and</span>\n",
              "<span style=\"color: #008000; text-decoration-color: #008000\">the quality of the data.\"</span>\n",
              "    <span style=\"font-weight: bold\">}</span>,\n",
              "    <span style=\"color: #008000; text-decoration-color: #008000\">'completed_agents'</span>: <span style=\"font-weight: bold\">[</span><span style=\"color: #008000; text-decoration-color: #008000\">'NOTEWRITER'</span><span style=\"font-weight: bold\">]</span>\n",
              "<span style=\"font-weight: bold\">}</span>\n",
              "</pre>\n"
            ]
          },
          "metadata": {}
        },
        {
          "output_type": "stream",
          "name": "stdout",
          "text": [
            "\n",
            "--- [ADVISOR] Bắt đầu làm việc... ---\n",
            "--- [ADVISOR] Đã tạo sản phẩm thành công.\n"
          ]
        },
        {
          "output_type": "display_data",
          "data": {
            "text/plain": [
              "\n",
              "✅ \u001b[1;35mHoàn thành bước:\u001b[0m \u001b[33madvisor\u001b[0m\n"
            ],
            "text/html": [
              "<pre style=\"white-space:pre;overflow-x:auto;line-height:normal;font-family:Menlo,'DejaVu Sans Mono',consolas,'Courier New',monospace\">\n",
              "✅ <span style=\"color: #800080; text-decoration-color: #800080; font-weight: bold\">Hoàn thành bước:</span> <span style=\"color: #808000; text-decoration-color: #808000\">advisor</span>\n",
              "</pre>\n"
            ]
          },
          "metadata": {}
        },
        {
          "output_type": "display_data",
          "data": {
            "text/plain": [
              "\u001b[1m{\u001b[0m\n",
              "    \u001b[32m'agent_outputs'\u001b[0m: \u001b[1m{\u001b[0m\n",
              "        \u001b[32m'advice'\u001b[0m: \u001b[32m'Based on the provided information, I have created a detailed learning plan for you to learn \u001b[0m\n",
              "\u001b[32mabout K-Nearest Neighbors \u001b[0m\u001b[32m(\u001b[0m\u001b[32mKNN\u001b[0m\u001b[32m)\u001b[0m\u001b[32m algorithm. The plan includes reviewing the basics of KNN, focusing on the \u001b[0m\n",
              "\u001b[32mimportance of choosing the right value of k, studying the advantages and disadvantages of KNN, and practicing \u001b[0m\n",
              "\u001b[32mimplementing KNN algorithm. Additionally, I have provided a concise note on KNN algorithm, highlighting its \u001b[0m\n",
              "\u001b[32mintroduction, working principle, advantages, disadvantages, and tips for choosing the optimal value of k.'\u001b[0m\n",
              "    \u001b[1m}\u001b[0m,\n",
              "    \u001b[32m'completed_agents'\u001b[0m: \u001b[1m[\u001b[0m\u001b[32m'ADVISOR'\u001b[0m\u001b[1m]\u001b[0m\n",
              "\u001b[1m}\u001b[0m\n"
            ],
            "text/html": [
              "<pre style=\"white-space:pre;overflow-x:auto;line-height:normal;font-family:Menlo,'DejaVu Sans Mono',consolas,'Courier New',monospace\"><span style=\"font-weight: bold\">{</span>\n",
              "    <span style=\"color: #008000; text-decoration-color: #008000\">'agent_outputs'</span>: <span style=\"font-weight: bold\">{</span>\n",
              "        <span style=\"color: #008000; text-decoration-color: #008000\">'advice'</span>: <span style=\"color: #008000; text-decoration-color: #008000\">'Based on the provided information, I have created a detailed learning plan for you to learn </span>\n",
              "<span style=\"color: #008000; text-decoration-color: #008000\">about K-Nearest Neighbors (KNN) algorithm. The plan includes reviewing the basics of KNN, focusing on the </span>\n",
              "<span style=\"color: #008000; text-decoration-color: #008000\">importance of choosing the right value of k, studying the advantages and disadvantages of KNN, and practicing </span>\n",
              "<span style=\"color: #008000; text-decoration-color: #008000\">implementing KNN algorithm. Additionally, I have provided a concise note on KNN algorithm, highlighting its </span>\n",
              "<span style=\"color: #008000; text-decoration-color: #008000\">introduction, working principle, advantages, disadvantages, and tips for choosing the optimal value of k.'</span>\n",
              "    <span style=\"font-weight: bold\">}</span>,\n",
              "    <span style=\"color: #008000; text-decoration-color: #008000\">'completed_agents'</span>: <span style=\"font-weight: bold\">[</span><span style=\"color: #008000; text-decoration-color: #008000\">'ADVISOR'</span><span style=\"font-weight: bold\">]</span>\n",
              "<span style=\"font-weight: bold\">}</span>\n",
              "</pre>\n"
            ]
          },
          "metadata": {}
        },
        {
          "output_type": "stream",
          "name": "stdout",
          "text": [
            "\n",
            "--- [Synthesizer] Bắt đầu tổng hợp báo cáo cuối cùng ---\n"
          ]
        },
        {
          "output_type": "display_data",
          "data": {
            "text/plain": [
              "\n",
              "✅ \u001b[1;35mHoàn thành bước:\u001b[0m \u001b[33msynthesizer\u001b[0m\n"
            ],
            "text/html": [
              "<pre style=\"white-space:pre;overflow-x:auto;line-height:normal;font-family:Menlo,'DejaVu Sans Mono',consolas,'Courier New',monospace\">\n",
              "✅ <span style=\"color: #800080; text-decoration-color: #800080; font-weight: bold\">Hoàn thành bước:</span> <span style=\"color: #808000; text-decoration-color: #808000\">synthesizer</span>\n",
              "</pre>\n"
            ]
          },
          "metadata": {}
        },
        {
          "output_type": "display_data",
          "data": {
            "text/plain": [
              "\u001b[1m{\u001b[0m\n",
              "    \u001b[32m'final_report'\u001b[0m: \u001b[32m\"Here is the consolidated report:\\n\\n**Learning Report: K-Nearest Neighbors \u001b[0m\u001b[32m(\u001b[0m\u001b[32mKNN\u001b[0m\u001b[32m)\u001b[0m\u001b[32m \u001b[0m\n",
              "\u001b[32mAlgorithm**\\n\\n**Introduction**\\n\\nAs per your request, I have created a detailed learning plan for you to learn \u001b[0m\n",
              "\u001b[32mabout K-Nearest Neighbors \u001b[0m\u001b[32m(\u001b[0m\u001b[32mKNN\u001b[0m\u001b[32m)\u001b[0m\u001b[32m algorithm, considering your busy schedule. This report includes a learning plan, \u001b[0m\n",
              "\u001b[32mconcise notes, and additional tips to help you learn about KNN algorithm effectively.\\n\\n**Learning Plan**\\n\\nTo \u001b[0m\n",
              "\u001b[32mlearn about KNN algorithm, I recommend the following plan:\\n\\n* Day 1-2: Review the basics of KNN algorithm, \u001b[0m\n",
              "\u001b[32mincluding its introduction, working principle, and applications.\\n* Day 3-4: Focus on the importance of choosing \u001b[0m\n",
              "\u001b[32mthe right value of k, its impact on model performance, and methods for selecting k.\\n* Day 5-6: Study the \u001b[0m\n",
              "\u001b[32madvantages and disadvantages of KNN, including its simplicity, low computational complexity, and ability to handle \u001b[0m\n",
              "\u001b[32mnoisy data.\\n* Day 7: Practice implementing KNN algorithm using a programming language of your choice.\\n\\n**Study \u001b[0m\n",
              "\u001b[32mSchedule**\\n\\nTo ensure effective learning, I suggest the following study schedule:\\n\\n* Morning \u001b[0m\u001b[32m(\u001b[0m\u001b[32m9 AM - 12 PM\u001b[0m\u001b[32m)\u001b[0m\u001b[32m: \u001b[0m\n",
              "\u001b[32mStudy and review KNN algorithm\\n* 45-minute focus, 15-minute break\\n* Use diagrams, mind maps, and videos to aid \u001b[0m\n",
              "\u001b[32mlearning\\n\\n**Concise Notes**\\n\\nHere are the concise notes on KNN algorithm:\\n\\n* **Introduction:** KNN is a \u001b[0m\n",
              "\u001b[32msupervised learning algorithm used for classification and regression tasks.\\n* **Working Principle:** KNN finds the\u001b[0m\n",
              "\u001b[32mk-nearest neighbors of a new data point and uses their labels to predict the label of the new data point.\\n* \u001b[0m\n",
              "\u001b[32m**Advantages:** Simple to implement, low computational complexity, and ability to handle noisy data.\\n* \u001b[0m\n",
              "\u001b[32m**Disadvantages:** Sensitive to the choice of k, computationally expensive for large datasets, and requires feature\u001b[0m\n",
              "\u001b[32mscaling.\\n* **Choosing k:** The value of k affects the model's performance, and there is no one-size-fits-all \u001b[0m\n",
              "\u001b[32msolution. Cross-validation can be used to select the optimal value of k.\\n\\n**Additional Tips**\\n\\nTo ensure \u001b[0m\n",
              "\u001b[32meffective learning, I recommend:\\n\\n* Take breaks to avoid burnout\\n* Review and practice regularly to reinforce \u001b[0m\n",
              "\u001b[32mlearning\\n* Use online resources and tutorials to supplement learning\\n\\nBy following this learning plan, concise \u001b[0m\n",
              "\u001b[32mnotes, and additional tips, I hope you will be able to learn about KNN algorithm effectively and efficiently, \u001b[0m\n",
              "\u001b[32mdespite your busy schedule.\"\u001b[0m\n",
              "\u001b[1m}\u001b[0m\n"
            ],
            "text/html": [
              "<pre style=\"white-space:pre;overflow-x:auto;line-height:normal;font-family:Menlo,'DejaVu Sans Mono',consolas,'Courier New',monospace\"><span style=\"font-weight: bold\">{</span>\n",
              "    <span style=\"color: #008000; text-decoration-color: #008000\">'final_report'</span>: <span style=\"color: #008000; text-decoration-color: #008000\">\"Here is the consolidated report:\\n\\n**Learning Report: K-Nearest Neighbors (KNN) </span>\n",
              "<span style=\"color: #008000; text-decoration-color: #008000\">Algorithm**\\n\\n**Introduction**\\n\\nAs per your request, I have created a detailed learning plan for you to learn </span>\n",
              "<span style=\"color: #008000; text-decoration-color: #008000\">about K-Nearest Neighbors (KNN) algorithm, considering your busy schedule. This report includes a learning plan, </span>\n",
              "<span style=\"color: #008000; text-decoration-color: #008000\">concise notes, and additional tips to help you learn about KNN algorithm effectively.\\n\\n**Learning Plan**\\n\\nTo </span>\n",
              "<span style=\"color: #008000; text-decoration-color: #008000\">learn about KNN algorithm, I recommend the following plan:\\n\\n* Day 1-2: Review the basics of KNN algorithm, </span>\n",
              "<span style=\"color: #008000; text-decoration-color: #008000\">including its introduction, working principle, and applications.\\n* Day 3-4: Focus on the importance of choosing </span>\n",
              "<span style=\"color: #008000; text-decoration-color: #008000\">the right value of k, its impact on model performance, and methods for selecting k.\\n* Day 5-6: Study the </span>\n",
              "<span style=\"color: #008000; text-decoration-color: #008000\">advantages and disadvantages of KNN, including its simplicity, low computational complexity, and ability to handle </span>\n",
              "<span style=\"color: #008000; text-decoration-color: #008000\">noisy data.\\n* Day 7: Practice implementing KNN algorithm using a programming language of your choice.\\n\\n**Study </span>\n",
              "<span style=\"color: #008000; text-decoration-color: #008000\">Schedule**\\n\\nTo ensure effective learning, I suggest the following study schedule:\\n\\n* Morning (9 AM - 12 PM): </span>\n",
              "<span style=\"color: #008000; text-decoration-color: #008000\">Study and review KNN algorithm\\n* 45-minute focus, 15-minute break\\n* Use diagrams, mind maps, and videos to aid </span>\n",
              "<span style=\"color: #008000; text-decoration-color: #008000\">learning\\n\\n**Concise Notes**\\n\\nHere are the concise notes on KNN algorithm:\\n\\n* **Introduction:** KNN is a </span>\n",
              "<span style=\"color: #008000; text-decoration-color: #008000\">supervised learning algorithm used for classification and regression tasks.\\n* **Working Principle:** KNN finds the</span>\n",
              "<span style=\"color: #008000; text-decoration-color: #008000\">k-nearest neighbors of a new data point and uses their labels to predict the label of the new data point.\\n* </span>\n",
              "<span style=\"color: #008000; text-decoration-color: #008000\">**Advantages:** Simple to implement, low computational complexity, and ability to handle noisy data.\\n* </span>\n",
              "<span style=\"color: #008000; text-decoration-color: #008000\">**Disadvantages:** Sensitive to the choice of k, computationally expensive for large datasets, and requires feature</span>\n",
              "<span style=\"color: #008000; text-decoration-color: #008000\">scaling.\\n* **Choosing k:** The value of k affects the model's performance, and there is no one-size-fits-all </span>\n",
              "<span style=\"color: #008000; text-decoration-color: #008000\">solution. Cross-validation can be used to select the optimal value of k.\\n\\n**Additional Tips**\\n\\nTo ensure </span>\n",
              "<span style=\"color: #008000; text-decoration-color: #008000\">effective learning, I recommend:\\n\\n* Take breaks to avoid burnout\\n* Review and practice regularly to reinforce </span>\n",
              "<span style=\"color: #008000; text-decoration-color: #008000\">learning\\n* Use online resources and tutorials to supplement learning\\n\\nBy following this learning plan, concise </span>\n",
              "<span style=\"color: #008000; text-decoration-color: #008000\">notes, and additional tips, I hope you will be able to learn about KNN algorithm effectively and efficiently, </span>\n",
              "<span style=\"color: #008000; text-decoration-color: #008000\">despite your busy schedule.\"</span>\n",
              "<span style=\"font-weight: bold\">}</span>\n",
              "</pre>\n"
            ]
          },
          "metadata": {}
        },
        {
          "output_type": "stream",
          "name": "stdout",
          "text": [
            "\n",
            "--- [Reflection] Đang suy nghĩ về các bước tiếp theo... ---\n"
          ]
        },
        {
          "output_type": "display_data",
          "data": {
            "text/plain": [
              "\n",
              "✅ \u001b[1;35mHoàn thành bước:\u001b[0m \u001b[33mreflection\u001b[0m\n"
            ],
            "text/html": [
              "<pre style=\"white-space:pre;overflow-x:auto;line-height:normal;font-family:Menlo,'DejaVu Sans Mono',consolas,'Courier New',monospace\">\n",
              "✅ <span style=\"color: #800080; text-decoration-color: #800080; font-weight: bold\">Hoàn thành bước:</span> <span style=\"color: #808000; text-decoration-color: #808000\">reflection</span>\n",
              "</pre>\n"
            ]
          },
          "metadata": {}
        },
        {
          "output_type": "display_data",
          "data": {
            "text/plain": [
              "\u001b[1m{\u001b[0m\n",
              "    \u001b[32m'next_steps'\u001b[0m: \u001b[32m\"Based on this consolidated report, here are 3-4 potential next actions or questions that the \u001b[0m\n",
              "\u001b[32muser may want to take:\\n\\n1. **Implement KNN algorithm in a programming language**: Now that the user has a solid \u001b[0m\n",
              "\u001b[32munderstanding of the KNN algorithm, they may want to practice implementing it using a programming language of their\u001b[0m\n",
              "\u001b[32mchoice, such as Python or R.\\n2. **Explore methods for selecting the optimal value of k**: The report highlights \u001b[0m\n",
              "\u001b[32mthe importance of choosing the right value of k, but doesn't delve deeper into methods for selecting k. The user \u001b[0m\n",
              "\u001b[32mmay want to explore this topic further, such as learning about cross-validation and other techniques for selecting \u001b[0m\n",
              "\u001b[32mthe optimal value of k.\\n3. **Apply KNN algorithm to a real-world problem**: With a solid understanding of the KNN \u001b[0m\n",
              "\u001b[32malgorithm, the user may want to apply it to a real-world problem or dataset to see how it performs in practice. \u001b[0m\n",
              "\u001b[32mThis could involve exploring datasets on platforms like Kaggle or UCI Machine Learning Repository.\\n4. **What are \u001b[0m\n",
              "\u001b[32msome common applications of KNN algorithm in industry?**: The user may want to explore the practical applications \u001b[0m\n",
              "\u001b[32mof KNN algorithm in various industries, such as healthcare, finance, or marketing, to gain a better understanding \u001b[0m\n",
              "\u001b[32mof its relevance and impact in real-world scenarios.\"\u001b[0m\n",
              "\u001b[1m}\u001b[0m\n"
            ],
            "text/html": [
              "<pre style=\"white-space:pre;overflow-x:auto;line-height:normal;font-family:Menlo,'DejaVu Sans Mono',consolas,'Courier New',monospace\"><span style=\"font-weight: bold\">{</span>\n",
              "    <span style=\"color: #008000; text-decoration-color: #008000\">'next_steps'</span>: <span style=\"color: #008000; text-decoration-color: #008000\">\"Based on this consolidated report, here are 3-4 potential next actions or questions that the </span>\n",
              "<span style=\"color: #008000; text-decoration-color: #008000\">user may want to take:\\n\\n1. **Implement KNN algorithm in a programming language**: Now that the user has a solid </span>\n",
              "<span style=\"color: #008000; text-decoration-color: #008000\">understanding of the KNN algorithm, they may want to practice implementing it using a programming language of their</span>\n",
              "<span style=\"color: #008000; text-decoration-color: #008000\">choice, such as Python or R.\\n2. **Explore methods for selecting the optimal value of k**: The report highlights </span>\n",
              "<span style=\"color: #008000; text-decoration-color: #008000\">the importance of choosing the right value of k, but doesn't delve deeper into methods for selecting k. The user </span>\n",
              "<span style=\"color: #008000; text-decoration-color: #008000\">may want to explore this topic further, such as learning about cross-validation and other techniques for selecting </span>\n",
              "<span style=\"color: #008000; text-decoration-color: #008000\">the optimal value of k.\\n3. **Apply KNN algorithm to a real-world problem**: With a solid understanding of the KNN </span>\n",
              "<span style=\"color: #008000; text-decoration-color: #008000\">algorithm, the user may want to apply it to a real-world problem or dataset to see how it performs in practice. </span>\n",
              "<span style=\"color: #008000; text-decoration-color: #008000\">This could involve exploring datasets on platforms like Kaggle or UCI Machine Learning Repository.\\n4. **What are </span>\n",
              "<span style=\"color: #008000; text-decoration-color: #008000\">some common applications of KNN algorithm in industry?**: The user may want to explore the practical applications </span>\n",
              "<span style=\"color: #008000; text-decoration-color: #008000\">of KNN algorithm in various industries, such as healthcare, finance, or marketing, to gain a better understanding </span>\n",
              "<span style=\"color: #008000; text-decoration-color: #008000\">of its relevance and impact in real-world scenarios.\"</span>\n",
              "<span style=\"font-weight: bold\">}</span>\n",
              "</pre>\n"
            ]
          },
          "metadata": {}
        }
      ]
    },
    {
      "cell_type": "code",
      "source": [
        "from rich.panel import Panel\n",
        "\n",
        "SHOW_STEP_BY_STEP_LOGS = False\n",
        "\n",
        "async def run_atlas_2_0(profile_data: dict):\n",
        "    request = \"Tuần tới tôi cần học về thuật toán K-Nearest Neighbors (KNN). Lịch của tôi khá bận rộn, hãy tạo một kế hoạch học tập chi tiết, sau đó ghi chú lại các điểm chính và cho tôi một vài lời khuyên học tập.\"\n",
        "\n",
        "    student_profile = next((p for p in profile_data.get(\"profiles\", []) if p.get(\"id\") == \"student_123\"), {})\n",
        "\n",
        "    initial_state = {\n",
        "        \"messages\": [HumanMessage(content=request)],\n",
        "        \"profile\": student_profile,\n",
        "        \"agent_outputs\": {},\n",
        "        \"completed_agents\": [],\n",
        "    }\n",
        "\n",
        "    console.print(Panel(f\"[bold]Yêu cầu:[/bold]\\n{request}\", title=\"🚀 [bold green]BẮT ĐẦU CHẠY HỆ THỐNG ATLAS 2.0[/bold green]\", border_style=\"green\"))\n",
        "\n",
        "    final_state = None\n",
        "\n",
        "    if SHOW_STEP_BY_STEP_LOGS:\n",
        "        print(\"\\n--- [Hệ thống] Chạy ở chế độ log chi tiết... ---\")\n",
        "        async for step in app.astream(initial_state, config={\"recursion_limit\": 15}):\n",
        "            node_name = list(step.keys())[0]\n",
        "            console.print(f\"\\n✅ [bold magenta]Hoàn thành bước:[/] [yellow]{node_name}[/yellow]\")\n",
        "            console.print(step[node_name])\n",
        "        final_state = await app.ainvoke(initial_state, config={\"recursion_limit\": 15})\n",
        "    else:\n",
        "        # Nếu không bật log, chạy ngầm bằng ainvoke để có kết quả nhanh nhất\n",
        "        print(\"\\n--- [Hệ thống] Đang chạy, vui lòng chờ... ---\")\n",
        "        final_state = await app.ainvoke(initial_state, config={\"recursion_limit\": 15})\n",
        "\n",
        "    console.print(\"\\n\\n\" + \"=\"*80, style=\"bold green\")\n",
        "    console.print(\" HỆ THỐNG ATLAS 2.0 ĐÃ HOÀN THÀNH TÁC VỤ!\", style=\"bold green\")\n",
        "    console.print(\"=\"*80, style=\"bold green\")\n",
        "\n",
        "    if final_state:\n",
        "        # In Báo cáo tổng hợp trong một Panel\n",
        "        report_panel = Panel(\n",
        "            Markdown(final_state.get(\"final_report\", \"Không có báo cáo cuối cùng.\")),\n",
        "            title=\"📑 [bold blue]BÁO CÁO TỔNG HỢP[/bold blue]\",\n",
        "            border_style=\"blue\",\n",
        "            padding=(1, 2)\n",
        "        )\n",
        "        console.print(report_panel)\n",
        "\n",
        "        next_steps_panel = Panel(\n",
        "            Markdown(final_state.get(\"next_steps\", \"Không có gợi ý.\")),\n",
        "            title=\"💡 [bold yellow]GỢI Ý CÁC BƯỚC TIẾP THEO[/bold yellow]\",\n",
        "            border_style=\"yellow\",\n",
        "            padding=(1, 2)\n",
        "        )\n",
        "        console.print(next_steps_panel)\n",
        "\n",
        "await run_atlas_2_0(profile_data)"
      ],
      "metadata": {
        "colab": {
          "base_uri": "https://localhost:8080/",
          "height": 1000
        },
        "id": "P00JjVb6TMEU",
        "outputId": "bd272efc-f9db-4717-933d-cdf4cfb628b4"
      },
      "execution_count": 39,
      "outputs": [
        {
          "output_type": "display_data",
          "data": {
            "text/plain": [
              "\u001b[32m╭─\u001b[0m\u001b[32m─────────────────────────────────────\u001b[0m\u001b[32m 🚀 \u001b[0m\u001b[1;32mBẮT ĐẦU CHẠY HỆ THỐNG ATLAS 2.0\u001b[0m\u001b[32m \u001b[0m\u001b[32m──────────────────────────────────────\u001b[0m\u001b[32m─╮\u001b[0m\n",
              "\u001b[32m│\u001b[0m \u001b[1mYêu cầu:\u001b[0m                                                                                                        \u001b[32m│\u001b[0m\n",
              "\u001b[32m│\u001b[0m Tuần tới tôi cần học về thuật toán K-Nearest Neighbors (KNN). Lịch của tôi khá bận rộn, hãy tạo một kế hoạch    \u001b[32m│\u001b[0m\n",
              "\u001b[32m│\u001b[0m học tập chi tiết, sau đó ghi chú lại các điểm chính và cho tôi một vài lời khuyên học tập.                      \u001b[32m│\u001b[0m\n",
              "\u001b[32m╰─────────────────────────────────────────────────────────────────────────────────────────────────────────────────╯\u001b[0m\n"
            ],
            "text/html": [
              "<pre style=\"white-space:pre;overflow-x:auto;line-height:normal;font-family:Menlo,'DejaVu Sans Mono',consolas,'Courier New',monospace\"><span style=\"color: #008000; text-decoration-color: #008000\">╭────────────────────────────────────── 🚀 </span><span style=\"color: #008000; text-decoration-color: #008000; font-weight: bold\">BẮT ĐẦU CHẠY HỆ THỐNG ATLAS 2.0</span><span style=\"color: #008000; text-decoration-color: #008000\"> ───────────────────────────────────────╮</span>\n",
              "<span style=\"color: #008000; text-decoration-color: #008000\">│</span> <span style=\"font-weight: bold\">Yêu cầu:</span>                                                                                                        <span style=\"color: #008000; text-decoration-color: #008000\">│</span>\n",
              "<span style=\"color: #008000; text-decoration-color: #008000\">│</span> Tuần tới tôi cần học về thuật toán K-Nearest Neighbors (KNN). Lịch của tôi khá bận rộn, hãy tạo một kế hoạch    <span style=\"color: #008000; text-decoration-color: #008000\">│</span>\n",
              "<span style=\"color: #008000; text-decoration-color: #008000\">│</span> học tập chi tiết, sau đó ghi chú lại các điểm chính và cho tôi một vài lời khuyên học tập.                      <span style=\"color: #008000; text-decoration-color: #008000\">│</span>\n",
              "<span style=\"color: #008000; text-decoration-color: #008000\">╰─────────────────────────────────────────────────────────────────────────────────────────────────────────────────╯</span>\n",
              "</pre>\n"
            ]
          },
          "metadata": {}
        },
        {
          "output_type": "stream",
          "name": "stdout",
          "text": [
            "\n",
            "--- [Hệ thống] Đang chạy, vui lòng chờ... ---\n",
            "\n",
            "--- [Coordinator] Đang quyết định các chuyên gia cần thiết... ---\n",
            "--- [Coordinator] Quyết định: Cần các agent ['PLANNER', 'NOTEWRITER', 'ADVISOR']\n",
            "\n",
            "--- [Tool User] Thu thập tất cả thông tin ban đầu... ---\n",
            "--- [Tool User] Quyết định gọi công cụ: ['google_calendar_reader', 'tavily_web_search']\n",
            "--- [Calendar Tool] Đang đọc lịch: td.tan2711@gmail.com\n",
            "--- [Calendar Tool] Tìm thấy 4 sự kiện.\n",
            "--- [Tool User] Đã thu thập và định dạng xong thông tin.\n",
            "\n",
            "--- [PLANNER] Bắt đầu làm việc... ---\n",
            "--- [PLANNER] Gặp lỗi API nhỏ, đã tự động phục hồi sản phẩm.\n",
            "\n",
            "--- [NOTEWRITER] Bắt đầu làm việc... ---\n",
            "--- [NOTEWRITER] Đã tạo sản phẩm thành công.\n",
            "\n",
            "--- [ADVISOR] Bắt đầu làm việc... ---\n",
            "--- [ADVISOR] Đã tạo sản phẩm thành công.\n",
            "\n",
            "--- [Synthesizer] Bắt đầu tổng hợp báo cáo cuối cùng ---\n",
            "\n",
            "--- [Reflection] Đang suy nghĩ về các bước tiếp theo... ---\n"
          ]
        },
        {
          "output_type": "display_data",
          "data": {
            "text/plain": [
              "\n",
              "\n",
              "\u001b[1;32m================================================================================\u001b[0m\n"
            ],
            "text/html": [
              "<pre style=\"white-space:pre;overflow-x:auto;line-height:normal;font-family:Menlo,'DejaVu Sans Mono',consolas,'Courier New',monospace\">\n",
              "\n",
              "<span style=\"color: #008000; text-decoration-color: #008000; font-weight: bold\">================================================================================</span>\n",
              "</pre>\n"
            ]
          },
          "metadata": {}
        },
        {
          "output_type": "display_data",
          "data": {
            "text/plain": [
              "\u001b[1;32m HỆ THỐNG ATLAS \u001b[0m\u001b[1;36m2.0\u001b[0m\u001b[1;32m ĐÃ HOÀN THÀNH TÁC VỤ!\u001b[0m\n"
            ],
            "text/html": [
              "<pre style=\"white-space:pre;overflow-x:auto;line-height:normal;font-family:Menlo,'DejaVu Sans Mono',consolas,'Courier New',monospace\"><span style=\"color: #008000; text-decoration-color: #008000; font-weight: bold\"> HỆ THỐNG ATLAS </span><span style=\"color: #008080; text-decoration-color: #008080; font-weight: bold\">2.0</span><span style=\"color: #008000; text-decoration-color: #008000; font-weight: bold\"> ĐÃ HOÀN THÀNH TÁC VỤ!</span>\n",
              "</pre>\n"
            ]
          },
          "metadata": {}
        },
        {
          "output_type": "display_data",
          "data": {
            "text/plain": [
              "\u001b[1;32m================================================================================\u001b[0m\n"
            ],
            "text/html": [
              "<pre style=\"white-space:pre;overflow-x:auto;line-height:normal;font-family:Menlo,'DejaVu Sans Mono',consolas,'Courier New',monospace\"><span style=\"color: #008000; text-decoration-color: #008000; font-weight: bold\">================================================================================</span>\n",
              "</pre>\n"
            ]
          },
          "metadata": {}
        },
        {
          "output_type": "display_data",
          "data": {
            "text/plain": [
              "\u001b[34m╭─\u001b[0m\u001b[34m─────────────────────────────────────────────\u001b[0m\u001b[34m 📑 \u001b[0m\u001b[1;34mBÁO CÁO TỔNG HỢP\u001b[0m\u001b[34m \u001b[0m\u001b[34m─────────────────────────────────────────────\u001b[0m\u001b[34m─╮\u001b[0m\n",
              "\u001b[34m│\u001b[0m                                                                                                                 \u001b[34m│\u001b[0m\n",
              "\u001b[34m│\u001b[0m  Here is the comprehensive report that combines the plan, notes, and advice:                                    \u001b[34m│\u001b[0m\n",
              "\u001b[34m│\u001b[0m                                                                                                                 \u001b[34m│\u001b[0m\n",
              "\u001b[34m│\u001b[0m  \u001b[1mLearning Report: K-Nearest Neighbors (KNN) Algorithm\u001b[0m                                                           \u001b[34m│\u001b[0m\n",
              "\u001b[34m│\u001b[0m                                                                                                                 \u001b[34m│\u001b[0m\n",
              "\u001b[34m│\u001b[0m  \u001b[1mIntroduction:\u001b[0m In response to your request, I have created a detailed learning plan to help you learn about     \u001b[34m│\u001b[0m\n",
              "\u001b[34m│\u001b[0m  the K-Nearest Neighbors (KNN) algorithm. This report provides a comprehensive guide to understanding the KNN   \u001b[34m│\u001b[0m\n",
              "\u001b[34m│\u001b[0m  algorithm, including a learning plan, key notes, and additional tips.                                          \u001b[34m│\u001b[0m\n",
              "\u001b[34m│\u001b[0m                                                                                                                 \u001b[34m│\u001b[0m\n",
              "\u001b[34m│\u001b[0m  \u001b[1mLearning Plan:\u001b[0m To help you learn about the KNN algorithm, I have created a 7-day learning plan. Here is an     \u001b[34m│\u001b[0m\n",
              "\u001b[34m│\u001b[0m  overview of the plan:                                                                                          \u001b[34m│\u001b[0m\n",
              "\u001b[34m│\u001b[0m                                                                                                                 \u001b[34m│\u001b[0m\n",
              "\u001b[34m│\u001b[0m  \u001b[1;33m • \u001b[0mDay 1-2: Understand the basics of KNN algorithm, its advantages, and disadvantages.                         \u001b[34m│\u001b[0m\n",
              "\u001b[34m│\u001b[0m  \u001b[1;33m   \u001b[0m\u001b[1;33m • \u001b[0mStudy time: 9:00 AM - 12:00 PM (45-minute focus, 15-minute break)                                        \u001b[34m│\u001b[0m\n",
              "\u001b[34m│\u001b[0m  \u001b[1;33m   \u001b[0m\u001b[1;33m • \u001b[0mReview the collected information from the web, including the introduction, working principle, and        \u001b[34m│\u001b[0m\n",
              "\u001b[34m│\u001b[0m  \u001b[1;33m   \u001b[0m\u001b[1;33m   \u001b[0mapplications of KNN.                                                                                     \u001b[34m│\u001b[0m\n",
              "\u001b[34m│\u001b[0m  \u001b[1;33m • \u001b[0mDay 3-4: Learn about the importance of choosing the value of k and its impact on the model's performance.   \u001b[34m│\u001b[0m\n",
              "\u001b[34m│\u001b[0m  \u001b[1;33m   \u001b[0m\u001b[1;33m • \u001b[0mStudy time: 9:00 AM - 12:00 PM (45-minute focus, 15-minute break)                                        \u001b[34m│\u001b[0m\n",
              "\u001b[34m│\u001b[0m  \u001b[1;33m   \u001b[0m\u001b[1;33m • \u001b[0mUnderstand how to optimize the value of k for specific problems.                                         \u001b[34m│\u001b[0m\n",
              "\u001b[34m│\u001b[0m  \u001b[1;33m • \u001b[0mDay 5-6: Practice implementing KNN algorithm using real-world examples.                                     \u001b[34m│\u001b[0m\n",
              "\u001b[34m│\u001b[0m  \u001b[1;33m   \u001b[0m\u001b[1;33m • \u001b[0mStudy time: 9:00 AM - 12:00 PM (45-minute focus, 15-minute break)                                        \u001b[34m│\u001b[0m\n",
              "\u001b[34m│\u001b[0m  \u001b[1;33m   \u001b[0m\u001b[1;33m • \u001b[0mUse online resources to practice coding KNN algorithm.                                                   \u001b[34m│\u001b[0m\n",
              "\u001b[34m│\u001b[0m  \u001b[1;33m • \u001b[0mDay 7: Review and finalize the learning plan.                                                               \u001b[34m│\u001b[0m\n",
              "\u001b[34m│\u001b[0m  \u001b[1;33m   \u001b[0m\u001b[1;33m • \u001b[0mStudy time: 9:00 AM - 12:00 PM (45-minute focus, 15-minute break)                                        \u001b[34m│\u001b[0m\n",
              "\u001b[34m│\u001b[0m  \u001b[1;33m   \u001b[0m\u001b[1;33m • \u001b[0mReview all the learned concepts and take notes on important points.                                      \u001b[34m│\u001b[0m\n",
              "\u001b[34m│\u001b[0m                                                                                                                 \u001b[34m│\u001b[0m\n",
              "\u001b[34m│\u001b[0m  \u001b[1mAdditional Tips:\u001b[0m                                                                                               \u001b[34m│\u001b[0m\n",
              "\u001b[34m│\u001b[0m                                                                                                                 \u001b[34m│\u001b[0m\n",
              "\u001b[34m│\u001b[0m  \u001b[1;33m • \u001b[0mTake breaks to avoid burnout and maintain focus.                                                            \u001b[34m│\u001b[0m\n",
              "\u001b[34m│\u001b[0m  \u001b[1;33m • \u001b[0mUse visual aids like diagrams and mind maps to understand complex concepts.                                 \u001b[34m│\u001b[0m\n",
              "\u001b[34m│\u001b[0m  \u001b[1;33m • \u001b[0mPractice coding KNN algorithm to reinforce learning.                                                        \u001b[34m│\u001b[0m\n",
              "\u001b[34m│\u001b[0m  \u001b[1;33m • \u001b[0mReview and adjust the learning plan as needed.                                                              \u001b[34m│\u001b[0m\n",
              "\u001b[34m│\u001b[0m                                                                                                                 \u001b[34m│\u001b[0m\n",
              "\u001b[34m│\u001b[0m  \u001b[1mKey Notes:\u001b[0m Here are the key points to remember about the KNN algorithm:                                        \u001b[34m│\u001b[0m\n",
              "\u001b[34m│\u001b[0m                                                                                                                 \u001b[34m│\u001b[0m\n",
              "\u001b[34m│\u001b[0m  \u001b[1;33m • \u001b[0m\u001b[1mIntroduction:\u001b[0m KNN is a supervised learning algorithm used for classification and regression tasks. It's a   \u001b[34m│\u001b[0m\n",
              "\u001b[34m│\u001b[0m  \u001b[1;33m   \u001b[0mnon-parametric algorithm, meaning it doesn't make any assumptions about the underlying data distribution.   \u001b[34m│\u001b[0m\n",
              "\u001b[34m│\u001b[0m  \u001b[1;33m • \u001b[0m\u001b[1mWorking Principle:\u001b[0m KNN works by finding the k-nearest neighbors to a new data point and using their labels  \u001b[34m│\u001b[0m\n",
              "\u001b[34m│\u001b[0m  \u001b[1;33m   \u001b[0mto predict the label of the new point.                                                                      \u001b[34m│\u001b[0m\n",
              "\u001b[34m│\u001b[0m  \u001b[1;33m • \u001b[0m\u001b[1mAdvantages:\u001b[0m Simple to implement, handles noisy data well, no need to build complex models or estimate       \u001b[34m│\u001b[0m\n",
              "\u001b[34m│\u001b[0m  \u001b[1;33m   \u001b[0mparameters.                                                                                                 \u001b[34m│\u001b[0m\n",
              "\u001b[34m│\u001b[0m  \u001b[1;33m • \u001b[0m\u001b[1mDisadvantages:\u001b[0m Computationally expensive, sensitive to the choice of k, requires feature scaling.           \u001b[34m│\u001b[0m\n",
              "\u001b[34m│\u001b[0m  \u001b[1;33m • \u001b[0m\u001b[1mChoosing the value of k:\u001b[0m The choice of k affects the model's performance, a small value of k can lead to    \u001b[34m│\u001b[0m\n",
              "\u001b[34m│\u001b[0m  \u001b[1;33m   \u001b[0moverfitting, while a large value can lead to underfitting, cross-validation can be used to optimize the     \u001b[34m│\u001b[0m\n",
              "\u001b[34m│\u001b[0m  \u001b[1;33m   \u001b[0mvalue of k.                                                                                                 \u001b[34m│\u001b[0m\n",
              "\u001b[34m│\u001b[0m  \u001b[1;33m • \u001b[0m\u001b[1mApplications:\u001b[0m Classification, regression, feature selection.                                                \u001b[34m│\u001b[0m\n",
              "\u001b[34m│\u001b[0m                                                                                                                 \u001b[34m│\u001b[0m\n",
              "\u001b[34m│\u001b[0m  \u001b[1mAdvice:\u001b[0m By following this learning plan, you will be able to understand the KNN algorithm and its              \u001b[34m│\u001b[0m\n",
              "\u001b[34m│\u001b[0m  applications. Remember to take breaks, use visual aids, and practice coding to reinforce learning. Good luck!  \u001b[34m│\u001b[0m\n",
              "\u001b[34m│\u001b[0m                                                                                                                 \u001b[34m│\u001b[0m\n",
              "\u001b[34m╰─────────────────────────────────────────────────────────────────────────────────────────────────────────────────╯\u001b[0m\n"
            ],
            "text/html": [
              "<pre style=\"white-space:pre;overflow-x:auto;line-height:normal;font-family:Menlo,'DejaVu Sans Mono',consolas,'Courier New',monospace\"><span style=\"color: #000080; text-decoration-color: #000080\">╭────────────────────────────────────────────── 📑 </span><span style=\"color: #000080; text-decoration-color: #000080; font-weight: bold\">BÁO CÁO TỔNG HỢP</span><span style=\"color: #000080; text-decoration-color: #000080\"> ──────────────────────────────────────────────╮</span>\n",
              "<span style=\"color: #000080; text-decoration-color: #000080\">│</span>                                                                                                                 <span style=\"color: #000080; text-decoration-color: #000080\">│</span>\n",
              "<span style=\"color: #000080; text-decoration-color: #000080\">│</span>  Here is the comprehensive report that combines the plan, notes, and advice:                                    <span style=\"color: #000080; text-decoration-color: #000080\">│</span>\n",
              "<span style=\"color: #000080; text-decoration-color: #000080\">│</span>                                                                                                                 <span style=\"color: #000080; text-decoration-color: #000080\">│</span>\n",
              "<span style=\"color: #000080; text-decoration-color: #000080\">│</span>  <span style=\"font-weight: bold\">Learning Report: K-Nearest Neighbors (KNN) Algorithm</span>                                                           <span style=\"color: #000080; text-decoration-color: #000080\">│</span>\n",
              "<span style=\"color: #000080; text-decoration-color: #000080\">│</span>                                                                                                                 <span style=\"color: #000080; text-decoration-color: #000080\">│</span>\n",
              "<span style=\"color: #000080; text-decoration-color: #000080\">│</span>  <span style=\"font-weight: bold\">Introduction:</span> In response to your request, I have created a detailed learning plan to help you learn about     <span style=\"color: #000080; text-decoration-color: #000080\">│</span>\n",
              "<span style=\"color: #000080; text-decoration-color: #000080\">│</span>  the K-Nearest Neighbors (KNN) algorithm. This report provides a comprehensive guide to understanding the KNN   <span style=\"color: #000080; text-decoration-color: #000080\">│</span>\n",
              "<span style=\"color: #000080; text-decoration-color: #000080\">│</span>  algorithm, including a learning plan, key notes, and additional tips.                                          <span style=\"color: #000080; text-decoration-color: #000080\">│</span>\n",
              "<span style=\"color: #000080; text-decoration-color: #000080\">│</span>                                                                                                                 <span style=\"color: #000080; text-decoration-color: #000080\">│</span>\n",
              "<span style=\"color: #000080; text-decoration-color: #000080\">│</span>  <span style=\"font-weight: bold\">Learning Plan:</span> To help you learn about the KNN algorithm, I have created a 7-day learning plan. Here is an     <span style=\"color: #000080; text-decoration-color: #000080\">│</span>\n",
              "<span style=\"color: #000080; text-decoration-color: #000080\">│</span>  overview of the plan:                                                                                          <span style=\"color: #000080; text-decoration-color: #000080\">│</span>\n",
              "<span style=\"color: #000080; text-decoration-color: #000080\">│</span>                                                                                                                 <span style=\"color: #000080; text-decoration-color: #000080\">│</span>\n",
              "<span style=\"color: #000080; text-decoration-color: #000080\">│</span>  <span style=\"color: #808000; text-decoration-color: #808000; font-weight: bold\"> • </span>Day 1-2: Understand the basics of KNN algorithm, its advantages, and disadvantages.                         <span style=\"color: #000080; text-decoration-color: #000080\">│</span>\n",
              "<span style=\"color: #000080; text-decoration-color: #000080\">│</span>  <span style=\"color: #808000; text-decoration-color: #808000; font-weight: bold\">    • </span>Study time: 9:00 AM - 12:00 PM (45-minute focus, 15-minute break)                                        <span style=\"color: #000080; text-decoration-color: #000080\">│</span>\n",
              "<span style=\"color: #000080; text-decoration-color: #000080\">│</span>  <span style=\"color: #808000; text-decoration-color: #808000; font-weight: bold\">    • </span>Review the collected information from the web, including the introduction, working principle, and        <span style=\"color: #000080; text-decoration-color: #000080\">│</span>\n",
              "<span style=\"color: #000080; text-decoration-color: #000080\">│</span>  <span style=\"color: #808000; text-decoration-color: #808000; font-weight: bold\">      </span>applications of KNN.                                                                                     <span style=\"color: #000080; text-decoration-color: #000080\">│</span>\n",
              "<span style=\"color: #000080; text-decoration-color: #000080\">│</span>  <span style=\"color: #808000; text-decoration-color: #808000; font-weight: bold\"> • </span>Day 3-4: Learn about the importance of choosing the value of k and its impact on the model's performance.   <span style=\"color: #000080; text-decoration-color: #000080\">│</span>\n",
              "<span style=\"color: #000080; text-decoration-color: #000080\">│</span>  <span style=\"color: #808000; text-decoration-color: #808000; font-weight: bold\">    • </span>Study time: 9:00 AM - 12:00 PM (45-minute focus, 15-minute break)                                        <span style=\"color: #000080; text-decoration-color: #000080\">│</span>\n",
              "<span style=\"color: #000080; text-decoration-color: #000080\">│</span>  <span style=\"color: #808000; text-decoration-color: #808000; font-weight: bold\">    • </span>Understand how to optimize the value of k for specific problems.                                         <span style=\"color: #000080; text-decoration-color: #000080\">│</span>\n",
              "<span style=\"color: #000080; text-decoration-color: #000080\">│</span>  <span style=\"color: #808000; text-decoration-color: #808000; font-weight: bold\"> • </span>Day 5-6: Practice implementing KNN algorithm using real-world examples.                                     <span style=\"color: #000080; text-decoration-color: #000080\">│</span>\n",
              "<span style=\"color: #000080; text-decoration-color: #000080\">│</span>  <span style=\"color: #808000; text-decoration-color: #808000; font-weight: bold\">    • </span>Study time: 9:00 AM - 12:00 PM (45-minute focus, 15-minute break)                                        <span style=\"color: #000080; text-decoration-color: #000080\">│</span>\n",
              "<span style=\"color: #000080; text-decoration-color: #000080\">│</span>  <span style=\"color: #808000; text-decoration-color: #808000; font-weight: bold\">    • </span>Use online resources to practice coding KNN algorithm.                                                   <span style=\"color: #000080; text-decoration-color: #000080\">│</span>\n",
              "<span style=\"color: #000080; text-decoration-color: #000080\">│</span>  <span style=\"color: #808000; text-decoration-color: #808000; font-weight: bold\"> • </span>Day 7: Review and finalize the learning plan.                                                               <span style=\"color: #000080; text-decoration-color: #000080\">│</span>\n",
              "<span style=\"color: #000080; text-decoration-color: #000080\">│</span>  <span style=\"color: #808000; text-decoration-color: #808000; font-weight: bold\">    • </span>Study time: 9:00 AM - 12:00 PM (45-minute focus, 15-minute break)                                        <span style=\"color: #000080; text-decoration-color: #000080\">│</span>\n",
              "<span style=\"color: #000080; text-decoration-color: #000080\">│</span>  <span style=\"color: #808000; text-decoration-color: #808000; font-weight: bold\">    • </span>Review all the learned concepts and take notes on important points.                                      <span style=\"color: #000080; text-decoration-color: #000080\">│</span>\n",
              "<span style=\"color: #000080; text-decoration-color: #000080\">│</span>                                                                                                                 <span style=\"color: #000080; text-decoration-color: #000080\">│</span>\n",
              "<span style=\"color: #000080; text-decoration-color: #000080\">│</span>  <span style=\"font-weight: bold\">Additional Tips:</span>                                                                                               <span style=\"color: #000080; text-decoration-color: #000080\">│</span>\n",
              "<span style=\"color: #000080; text-decoration-color: #000080\">│</span>                                                                                                                 <span style=\"color: #000080; text-decoration-color: #000080\">│</span>\n",
              "<span style=\"color: #000080; text-decoration-color: #000080\">│</span>  <span style=\"color: #808000; text-decoration-color: #808000; font-weight: bold\"> • </span>Take breaks to avoid burnout and maintain focus.                                                            <span style=\"color: #000080; text-decoration-color: #000080\">│</span>\n",
              "<span style=\"color: #000080; text-decoration-color: #000080\">│</span>  <span style=\"color: #808000; text-decoration-color: #808000; font-weight: bold\"> • </span>Use visual aids like diagrams and mind maps to understand complex concepts.                                 <span style=\"color: #000080; text-decoration-color: #000080\">│</span>\n",
              "<span style=\"color: #000080; text-decoration-color: #000080\">│</span>  <span style=\"color: #808000; text-decoration-color: #808000; font-weight: bold\"> • </span>Practice coding KNN algorithm to reinforce learning.                                                        <span style=\"color: #000080; text-decoration-color: #000080\">│</span>\n",
              "<span style=\"color: #000080; text-decoration-color: #000080\">│</span>  <span style=\"color: #808000; text-decoration-color: #808000; font-weight: bold\"> • </span>Review and adjust the learning plan as needed.                                                              <span style=\"color: #000080; text-decoration-color: #000080\">│</span>\n",
              "<span style=\"color: #000080; text-decoration-color: #000080\">│</span>                                                                                                                 <span style=\"color: #000080; text-decoration-color: #000080\">│</span>\n",
              "<span style=\"color: #000080; text-decoration-color: #000080\">│</span>  <span style=\"font-weight: bold\">Key Notes:</span> Here are the key points to remember about the KNN algorithm:                                        <span style=\"color: #000080; text-decoration-color: #000080\">│</span>\n",
              "<span style=\"color: #000080; text-decoration-color: #000080\">│</span>                                                                                                                 <span style=\"color: #000080; text-decoration-color: #000080\">│</span>\n",
              "<span style=\"color: #000080; text-decoration-color: #000080\">│</span>  <span style=\"color: #808000; text-decoration-color: #808000; font-weight: bold\"> • </span><span style=\"font-weight: bold\">Introduction:</span> KNN is a supervised learning algorithm used for classification and regression tasks. It's a   <span style=\"color: #000080; text-decoration-color: #000080\">│</span>\n",
              "<span style=\"color: #000080; text-decoration-color: #000080\">│</span>  <span style=\"color: #808000; text-decoration-color: #808000; font-weight: bold\">   </span>non-parametric algorithm, meaning it doesn't make any assumptions about the underlying data distribution.   <span style=\"color: #000080; text-decoration-color: #000080\">│</span>\n",
              "<span style=\"color: #000080; text-decoration-color: #000080\">│</span>  <span style=\"color: #808000; text-decoration-color: #808000; font-weight: bold\"> • </span><span style=\"font-weight: bold\">Working Principle:</span> KNN works by finding the k-nearest neighbors to a new data point and using their labels  <span style=\"color: #000080; text-decoration-color: #000080\">│</span>\n",
              "<span style=\"color: #000080; text-decoration-color: #000080\">│</span>  <span style=\"color: #808000; text-decoration-color: #808000; font-weight: bold\">   </span>to predict the label of the new point.                                                                      <span style=\"color: #000080; text-decoration-color: #000080\">│</span>\n",
              "<span style=\"color: #000080; text-decoration-color: #000080\">│</span>  <span style=\"color: #808000; text-decoration-color: #808000; font-weight: bold\"> • </span><span style=\"font-weight: bold\">Advantages:</span> Simple to implement, handles noisy data well, no need to build complex models or estimate       <span style=\"color: #000080; text-decoration-color: #000080\">│</span>\n",
              "<span style=\"color: #000080; text-decoration-color: #000080\">│</span>  <span style=\"color: #808000; text-decoration-color: #808000; font-weight: bold\">   </span>parameters.                                                                                                 <span style=\"color: #000080; text-decoration-color: #000080\">│</span>\n",
              "<span style=\"color: #000080; text-decoration-color: #000080\">│</span>  <span style=\"color: #808000; text-decoration-color: #808000; font-weight: bold\"> • </span><span style=\"font-weight: bold\">Disadvantages:</span> Computationally expensive, sensitive to the choice of k, requires feature scaling.           <span style=\"color: #000080; text-decoration-color: #000080\">│</span>\n",
              "<span style=\"color: #000080; text-decoration-color: #000080\">│</span>  <span style=\"color: #808000; text-decoration-color: #808000; font-weight: bold\"> • </span><span style=\"font-weight: bold\">Choosing the value of k:</span> The choice of k affects the model's performance, a small value of k can lead to    <span style=\"color: #000080; text-decoration-color: #000080\">│</span>\n",
              "<span style=\"color: #000080; text-decoration-color: #000080\">│</span>  <span style=\"color: #808000; text-decoration-color: #808000; font-weight: bold\">   </span>overfitting, while a large value can lead to underfitting, cross-validation can be used to optimize the     <span style=\"color: #000080; text-decoration-color: #000080\">│</span>\n",
              "<span style=\"color: #000080; text-decoration-color: #000080\">│</span>  <span style=\"color: #808000; text-decoration-color: #808000; font-weight: bold\">   </span>value of k.                                                                                                 <span style=\"color: #000080; text-decoration-color: #000080\">│</span>\n",
              "<span style=\"color: #000080; text-decoration-color: #000080\">│</span>  <span style=\"color: #808000; text-decoration-color: #808000; font-weight: bold\"> • </span><span style=\"font-weight: bold\">Applications:</span> Classification, regression, feature selection.                                                <span style=\"color: #000080; text-decoration-color: #000080\">│</span>\n",
              "<span style=\"color: #000080; text-decoration-color: #000080\">│</span>                                                                                                                 <span style=\"color: #000080; text-decoration-color: #000080\">│</span>\n",
              "<span style=\"color: #000080; text-decoration-color: #000080\">│</span>  <span style=\"font-weight: bold\">Advice:</span> By following this learning plan, you will be able to understand the KNN algorithm and its              <span style=\"color: #000080; text-decoration-color: #000080\">│</span>\n",
              "<span style=\"color: #000080; text-decoration-color: #000080\">│</span>  applications. Remember to take breaks, use visual aids, and practice coding to reinforce learning. Good luck!  <span style=\"color: #000080; text-decoration-color: #000080\">│</span>\n",
              "<span style=\"color: #000080; text-decoration-color: #000080\">│</span>                                                                                                                 <span style=\"color: #000080; text-decoration-color: #000080\">│</span>\n",
              "<span style=\"color: #000080; text-decoration-color: #000080\">╰─────────────────────────────────────────────────────────────────────────────────────────────────────────────────╯</span>\n",
              "</pre>\n"
            ]
          },
          "metadata": {}
        },
        {
          "output_type": "display_data",
          "data": {
            "text/plain": [
              "\u001b[33m╭─\u001b[0m\u001b[33m─────────────────────────────────────────\u001b[0m\u001b[33m 💡 \u001b[0m\u001b[1;33mGỢI Ý CÁC BƯỚC TIẾP THEO\u001b[0m\u001b[33m \u001b[0m\u001b[33m─────────────────────────────────────────\u001b[0m\u001b[33m─╮\u001b[0m\n",
              "\u001b[33m│\u001b[0m                                                                                                                 \u001b[33m│\u001b[0m\n",
              "\u001b[33m│\u001b[0m  Based on this comprehensive report, here are 3-4 potential next actions or questions that the user may want    \u001b[33m│\u001b[0m\n",
              "\u001b[33m│\u001b[0m  to take:                                                                                                       \u001b[33m│\u001b[0m\n",
              "\u001b[33m│\u001b[0m                                                                                                                 \u001b[33m│\u001b[0m\n",
              "\u001b[33m│\u001b[0m  \u001b[1;33m 1 \u001b[0m\u001b[1mImplement KNN algorithm on a real-world dataset\u001b[0m: Now that the user has a solid understanding of the KNN     \u001b[33m│\u001b[0m\n",
              "\u001b[33m│\u001b[0m  \u001b[1;33m   \u001b[0malgorithm, they may want to apply it to a real-world dataset to practice and reinforce their learning.      \u001b[33m│\u001b[0m\n",
              "\u001b[33m│\u001b[0m  \u001b[1;33m   \u001b[0mThey may ask themselves: \"What dataset can I use to practice implementing KNN algorithm?\" or \"How can I     \u001b[33m│\u001b[0m\n",
              "\u001b[33m│\u001b[0m  \u001b[1;33m   \u001b[0mapply KNN algorithm to a problem I'm interested in?\"                                                        \u001b[33m│\u001b[0m\n",
              "\u001b[33m│\u001b[0m  \u001b[1;33m 2 \u001b[0m\u001b[1mExplore other machine learning algorithms\u001b[0m: Having learned about KNN, the user may be curious about other    \u001b[33m│\u001b[0m\n",
              "\u001b[33m│\u001b[0m  \u001b[1;33m   \u001b[0mmachine learning algorithms and how they compare to KNN. They may ask themselves: \"What are some other      \u001b[33m│\u001b[0m\n",
              "\u001b[33m│\u001b[0m  \u001b[1;33m   \u001b[0msupervised learning algorithms I can learn about?\" or \"How does KNN compare to other algorithms like        \u001b[33m│\u001b[0m\n",
              "\u001b[33m│\u001b[0m  \u001b[1;33m   \u001b[0mdecision trees or random forests?\"                                                                          \u001b[33m│\u001b[0m\n",
              "\u001b[33m│\u001b[0m  \u001b[1;33m 3 \u001b[0m\u001b[1mOptimize the value of k using cross-validation\u001b[0m: The report highlights the importance of choosing the right  \u001b[33m│\u001b[0m\n",
              "\u001b[33m│\u001b[0m  \u001b[1;33m   \u001b[0mvalue of k in KNN algorithm. The user may want to explore how to use cross-validation to optimize the       \u001b[33m│\u001b[0m\n",
              "\u001b[33m│\u001b[0m  \u001b[1;33m   \u001b[0mvalue of k. They may ask themselves: \"How can I use cross-validation to find the best value of k for my     \u001b[33m│\u001b[0m\n",
              "\u001b[33m│\u001b[0m  \u001b[1;33m   \u001b[0mdataset?\" or \"What are some common techniques for hyperparameter tuning in KNN algorithm?\"                  \u001b[33m│\u001b[0m\n",
              "\u001b[33m│\u001b[0m  \u001b[1;33m 4 \u001b[0m\u001b[1mApply KNN algorithm to a specific problem domain\u001b[0m: The user may want to explore how KNN algorithm can be     \u001b[33m│\u001b[0m\n",
              "\u001b[33m│\u001b[0m  \u001b[1;33m   \u001b[0mapplied to a specific problem domain, such as image classification, text classification, or recommender     \u001b[33m│\u001b[0m\n",
              "\u001b[33m│\u001b[0m  \u001b[1;33m   \u001b[0msystems. They may ask themselves: \"How can I use KNN algorithm for image classification?\" or \"What are      \u001b[33m│\u001b[0m\n",
              "\u001b[33m│\u001b[0m  \u001b[1;33m   \u001b[0msome common applications of KNN algorithm in natural language processing?\"                                  \u001b[33m│\u001b[0m\n",
              "\u001b[33m│\u001b[0m                                                                                                                 \u001b[33m│\u001b[0m\n",
              "\u001b[33m╰─────────────────────────────────────────────────────────────────────────────────────────────────────────────────╯\u001b[0m\n"
            ],
            "text/html": [
              "<pre style=\"white-space:pre;overflow-x:auto;line-height:normal;font-family:Menlo,'DejaVu Sans Mono',consolas,'Courier New',monospace\"><span style=\"color: #808000; text-decoration-color: #808000\">╭────────────────────────────────────────── 💡 </span><span style=\"color: #808000; text-decoration-color: #808000; font-weight: bold\">GỢI Ý CÁC BƯỚC TIẾP THEO</span><span style=\"color: #808000; text-decoration-color: #808000\"> ──────────────────────────────────────────╮</span>\n",
              "<span style=\"color: #808000; text-decoration-color: #808000\">│</span>                                                                                                                 <span style=\"color: #808000; text-decoration-color: #808000\">│</span>\n",
              "<span style=\"color: #808000; text-decoration-color: #808000\">│</span>  Based on this comprehensive report, here are 3-4 potential next actions or questions that the user may want    <span style=\"color: #808000; text-decoration-color: #808000\">│</span>\n",
              "<span style=\"color: #808000; text-decoration-color: #808000\">│</span>  to take:                                                                                                       <span style=\"color: #808000; text-decoration-color: #808000\">│</span>\n",
              "<span style=\"color: #808000; text-decoration-color: #808000\">│</span>                                                                                                                 <span style=\"color: #808000; text-decoration-color: #808000\">│</span>\n",
              "<span style=\"color: #808000; text-decoration-color: #808000\">│</span>  <span style=\"color: #808000; text-decoration-color: #808000; font-weight: bold\"> 1 </span><span style=\"font-weight: bold\">Implement KNN algorithm on a real-world dataset</span>: Now that the user has a solid understanding of the KNN     <span style=\"color: #808000; text-decoration-color: #808000\">│</span>\n",
              "<span style=\"color: #808000; text-decoration-color: #808000\">│</span>  <span style=\"color: #808000; text-decoration-color: #808000; font-weight: bold\">   </span>algorithm, they may want to apply it to a real-world dataset to practice and reinforce their learning.      <span style=\"color: #808000; text-decoration-color: #808000\">│</span>\n",
              "<span style=\"color: #808000; text-decoration-color: #808000\">│</span>  <span style=\"color: #808000; text-decoration-color: #808000; font-weight: bold\">   </span>They may ask themselves: \"What dataset can I use to practice implementing KNN algorithm?\" or \"How can I     <span style=\"color: #808000; text-decoration-color: #808000\">│</span>\n",
              "<span style=\"color: #808000; text-decoration-color: #808000\">│</span>  <span style=\"color: #808000; text-decoration-color: #808000; font-weight: bold\">   </span>apply KNN algorithm to a problem I'm interested in?\"                                                        <span style=\"color: #808000; text-decoration-color: #808000\">│</span>\n",
              "<span style=\"color: #808000; text-decoration-color: #808000\">│</span>  <span style=\"color: #808000; text-decoration-color: #808000; font-weight: bold\"> 2 </span><span style=\"font-weight: bold\">Explore other machine learning algorithms</span>: Having learned about KNN, the user may be curious about other    <span style=\"color: #808000; text-decoration-color: #808000\">│</span>\n",
              "<span style=\"color: #808000; text-decoration-color: #808000\">│</span>  <span style=\"color: #808000; text-decoration-color: #808000; font-weight: bold\">   </span>machine learning algorithms and how they compare to KNN. They may ask themselves: \"What are some other      <span style=\"color: #808000; text-decoration-color: #808000\">│</span>\n",
              "<span style=\"color: #808000; text-decoration-color: #808000\">│</span>  <span style=\"color: #808000; text-decoration-color: #808000; font-weight: bold\">   </span>supervised learning algorithms I can learn about?\" or \"How does KNN compare to other algorithms like        <span style=\"color: #808000; text-decoration-color: #808000\">│</span>\n",
              "<span style=\"color: #808000; text-decoration-color: #808000\">│</span>  <span style=\"color: #808000; text-decoration-color: #808000; font-weight: bold\">   </span>decision trees or random forests?\"                                                                          <span style=\"color: #808000; text-decoration-color: #808000\">│</span>\n",
              "<span style=\"color: #808000; text-decoration-color: #808000\">│</span>  <span style=\"color: #808000; text-decoration-color: #808000; font-weight: bold\"> 3 </span><span style=\"font-weight: bold\">Optimize the value of k using cross-validation</span>: The report highlights the importance of choosing the right  <span style=\"color: #808000; text-decoration-color: #808000\">│</span>\n",
              "<span style=\"color: #808000; text-decoration-color: #808000\">│</span>  <span style=\"color: #808000; text-decoration-color: #808000; font-weight: bold\">   </span>value of k in KNN algorithm. The user may want to explore how to use cross-validation to optimize the       <span style=\"color: #808000; text-decoration-color: #808000\">│</span>\n",
              "<span style=\"color: #808000; text-decoration-color: #808000\">│</span>  <span style=\"color: #808000; text-decoration-color: #808000; font-weight: bold\">   </span>value of k. They may ask themselves: \"How can I use cross-validation to find the best value of k for my     <span style=\"color: #808000; text-decoration-color: #808000\">│</span>\n",
              "<span style=\"color: #808000; text-decoration-color: #808000\">│</span>  <span style=\"color: #808000; text-decoration-color: #808000; font-weight: bold\">   </span>dataset?\" or \"What are some common techniques for hyperparameter tuning in KNN algorithm?\"                  <span style=\"color: #808000; text-decoration-color: #808000\">│</span>\n",
              "<span style=\"color: #808000; text-decoration-color: #808000\">│</span>  <span style=\"color: #808000; text-decoration-color: #808000; font-weight: bold\"> 4 </span><span style=\"font-weight: bold\">Apply KNN algorithm to a specific problem domain</span>: The user may want to explore how KNN algorithm can be     <span style=\"color: #808000; text-decoration-color: #808000\">│</span>\n",
              "<span style=\"color: #808000; text-decoration-color: #808000\">│</span>  <span style=\"color: #808000; text-decoration-color: #808000; font-weight: bold\">   </span>applied to a specific problem domain, such as image classification, text classification, or recommender     <span style=\"color: #808000; text-decoration-color: #808000\">│</span>\n",
              "<span style=\"color: #808000; text-decoration-color: #808000\">│</span>  <span style=\"color: #808000; text-decoration-color: #808000; font-weight: bold\">   </span>systems. They may ask themselves: \"How can I use KNN algorithm for image classification?\" or \"What are      <span style=\"color: #808000; text-decoration-color: #808000\">│</span>\n",
              "<span style=\"color: #808000; text-decoration-color: #808000\">│</span>  <span style=\"color: #808000; text-decoration-color: #808000; font-weight: bold\">   </span>some common applications of KNN algorithm in natural language processing?\"                                  <span style=\"color: #808000; text-decoration-color: #808000\">│</span>\n",
              "<span style=\"color: #808000; text-decoration-color: #808000\">│</span>                                                                                                                 <span style=\"color: #808000; text-decoration-color: #808000\">│</span>\n",
              "<span style=\"color: #808000; text-decoration-color: #808000\">╰─────────────────────────────────────────────────────────────────────────────────────────────────────────────────╯</span>\n",
              "</pre>\n"
            ]
          },
          "metadata": {}
        }
      ]
    },
    {
      "cell_type": "code",
      "source": [
        "from IPython.display import Image, display\n",
        "\n",
        "try:\n",
        "\n",
        "    graph = app.get_graph()\n",
        "\n",
        "\n",
        "    png_data = graph.draw_mermaid_png()\n",
        "\n",
        "\n",
        "    display(Image(png_data))\n",
        "\n",
        "except Exception as e:\n",
        "    print(f\"Lỗi khi vẽ graph: {e}\")"
      ],
      "metadata": {
        "id": "bN9kMMGE9-Fz",
        "colab": {
          "base_uri": "https://localhost:8080/",
          "height": 846
        },
        "outputId": "6dffa456-6b21-4458-fa8b-62320e1c05f0"
      },
      "execution_count": 40,
      "outputs": [
        {
          "output_type": "display_data",
          "data": {
            "image/png": "[encoded data removed]",
            "text/plain": [
              "<IPython.core.display.Image object>"
            ]
          },
          "metadata": {}
        }
      ]
    }
  ]
}